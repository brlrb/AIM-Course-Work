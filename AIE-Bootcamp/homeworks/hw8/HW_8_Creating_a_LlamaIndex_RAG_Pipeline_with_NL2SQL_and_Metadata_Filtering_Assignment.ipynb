{
  "cells": [
    {
      "cell_type": "markdown",
      "source": [
        "# Creating a LlamaIndex RAG Pipeline with NL2SQL and Metadata Filtering!\n",
        "\n",
        "> Indented block\n",
        "\n",
        "\n",
        "\n",
        "We'll be putting together a system for querying both qualitative and quantitative data using LlamaIndex.\n",
        "\n",
        "The acitvities will be broken down as follows:\n",
        "\n",
        "- 🤝 Breakout Room #1\n",
        "  - Task 1: Load Dependencies\n",
        "  - Task 2: Set Env Variables and Set Up WandB Callback\n",
        "  - Task 3: Initialize Settings\n",
        "  - Task 4: Semantic RAG Pipeline with Metadata Filtering\n",
        "- 🤝 Breakout Room #2\n",
        "  - Task 1: Quantitative RAG Pipeline with NL2SQL Tooling\n",
        "  - Task 2: Combined RAG Pipeline\n",
        "\n",
        "Before we get started, however, a quick note on terminology.\n"
      ],
      "metadata": {
        "id": "x5TTdyIoo3i7"
      }
    },
    {
      "cell_type": "markdown",
      "metadata": {
        "id": "vcvGuykZSV_8"
      },
      "source": [
        "### A note on terminology:\n",
        "\n",
        "You'll notice that there are quite a few similarities between LangChain and LlamaIndex. LlamaIndex can largely be thought of as an extension to LangChain, in some ways - but they moved some of the language around. Let's spend a few moments disambiguating the language.\n",
        "\n",
        "- `QueryEngine` -> `LCEL Chain`:\n",
        "  -  `QueryEngine` is just LlamaIndex's way of indicating something is an LLM \"chain\" on top of a retrieval system\n",
        "- `OpenAIAgent` vs. `Agent`:\n",
        "  - The two agents have the same fundamental pattern: Decide which of a list of tools to use to answer a user's query.\n",
        "  - `OpenAIAgent` (LlamaIndex's primary agent) does not need to rely on an agent excecutor due to the fact that it is leveraging OpenAI's [functional api](https://openai.com/blog/function-calling-and-other-api-updates) which allows the agent to interface \"directly\" with the tools instead of operating through an intermediary application process.\n",
        "\n",
        "There is, however, a much large terminological difference when it comes to discussing data.\n",
        "\n",
        "##### Nodes vs. Documents\n",
        "\n",
        "As you're aware of from the previous weeks assignments, there's an idea of `documents` in NLP which refers to text objects that exist within a corpus of documents.\n",
        "\n",
        "LlamaIndex takes this a step further and reclassifies `documents` as `nodes`. Confusingly, it refers to the `Source Document` as simply `Documents`.\n",
        "\n",
        "The `Document` -> `node` structure is, almost exactly, equivalent to the `Source Document` -> `Document` structure found in LangChain - but the new terminology comes with some clarity about different structure-indices.\n",
        "\n",
        "We won't be leveraging those structured indicies today, but we will be leveraging a \"benefit\" of the `node` structure that exists as a default in LlamaIndex, which is the ability to quickly filter nodes based on their metadata.\n",
        "\n",
        "![image](https://i.imgur.com/B1QDjs5.png)"
      ]
    },
    {
      "cell_type": "markdown",
      "source": [
        "# 🤝 Breakout Room #1"
      ],
      "metadata": {
        "id": "dkLLmDFnOfOs"
      }
    },
    {
      "cell_type": "markdown",
      "metadata": {
        "id": "Msvju70DSV_8"
      },
      "source": [
        "## BOILERPLATE\n",
        "\n",
        "This is only relevant when running the code in a Jupyter Notebook."
      ]
    },
    {
      "cell_type": "code",
      "execution_count": 1,
      "metadata": {
        "id": "7VF57GcmSV_9"
      },
      "outputs": [],
      "source": [
        "import nest_asyncio\n",
        "\n",
        "nest_asyncio.apply()\n",
        "\n",
        "import logging\n",
        "import sys\n",
        "\n",
        "logging.basicConfig(stream=sys.stdout, level=logging.INFO)\n",
        "logging.getLogger().addHandler(logging.StreamHandler(stream=sys.stdout))"
      ]
    },
    {
      "cell_type": "markdown",
      "metadata": {
        "id": "6zQBPs6zSV_9"
      },
      "source": [
        "## Task 1: Load Dependencies"
      ]
    },
    {
      "cell_type": "markdown",
      "metadata": {
        "id": "WhEbxl3nSV_9"
      },
      "source": [
        "Let's grab our core `llama-index` library, as well as OpenAI's Python SDK.\n",
        "\n",
        "We'll be leveraging OpenAI's suite of APIs to power our RAG pipelines today.\n",
        "\n",
        "> NOTE: You can safely ignore any pip errors that occur during the running of these cells."
      ]
    },
    {
      "cell_type": "code",
      "execution_count": 2,
      "metadata": {
        "id": "b3oyvtl2SV_9",
        "colab": {
          "base_uri": "https://localhost:8080/"
        },
        "outputId": "370e6849-e6dc-46e2-b4f5-f49b4c5cfd61"
      },
      "outputs": [
        {
          "output_type": "stream",
          "name": "stdout",
          "text": [
            "\u001b[2K     \u001b[90m━━━━━━━━━━━━━━━━━━━━━━━━━━━━━━━━━━━━━━━━\u001b[0m \u001b[32m227.4/227.4 kB\u001b[0m \u001b[31m2.9 MB/s\u001b[0m eta \u001b[36m0:00:00\u001b[0m\n",
            "\u001b[2K     \u001b[90m━━━━━━━━━━━━━━━━━━━━━━━━━━━━━━━━━━━━━━━━\u001b[0m \u001b[32m15.3/15.3 MB\u001b[0m \u001b[31m44.1 MB/s\u001b[0m eta \u001b[36m0:00:00\u001b[0m\n",
            "\u001b[2K     \u001b[90m━━━━━━━━━━━━━━━━━━━━━━━━━━━━━━━━━━━━━━━━\u001b[0m \u001b[32m2.0/2.0 MB\u001b[0m \u001b[31m49.8 MB/s\u001b[0m eta \u001b[36m0:00:00\u001b[0m\n",
            "\u001b[2K     \u001b[90m━━━━━━━━━━━━━━━━━━━━━━━━━━━━━━━━━━━━━━━━\u001b[0m \u001b[32m75.6/75.6 kB\u001b[0m \u001b[31m9.8 MB/s\u001b[0m eta \u001b[36m0:00:00\u001b[0m\n",
            "\u001b[2K     \u001b[90m━━━━━━━━━━━━━━━━━━━━━━━━━━━━━━━━━━━━━━━━\u001b[0m \u001b[32m77.8/77.8 kB\u001b[0m \u001b[31m8.1 MB/s\u001b[0m eta \u001b[36m0:00:00\u001b[0m\n",
            "\u001b[2K     \u001b[90m━━━━━━━━━━━━━━━━━━━━━━━━━━━━━━━━━━━━━━━━\u001b[0m \u001b[32m58.3/58.3 kB\u001b[0m \u001b[31m8.4 MB/s\u001b[0m eta \u001b[36m0:00:00\u001b[0m\n",
            "\u001b[2K     \u001b[90m━━━━━━━━━━━━━━━━━━━━━━━━━━━━━━━━━━━━━━━━\u001b[0m \u001b[32m108.0/108.0 kB\u001b[0m \u001b[31m15.3 MB/s\u001b[0m eta \u001b[36m0:00:00\u001b[0m\n",
            "\u001b[2K     \u001b[90m━━━━━━━━━━━━━━━━━━━━━━━━━━━━━━━━━━━━━━━━\u001b[0m \u001b[32m1.8/1.8 MB\u001b[0m \u001b[31m64.0 MB/s\u001b[0m eta \u001b[36m0:00:00\u001b[0m\n",
            "\u001b[2K     \u001b[90m━━━━━━━━━━━━━━━━━━━━━━━━━━━━━━━━━━━━━━━━\u001b[0m \u001b[32m4.4/4.4 MB\u001b[0m \u001b[31m80.3 MB/s\u001b[0m eta \u001b[36m0:00:00\u001b[0m\n",
            "\u001b[2K     \u001b[90m━━━━━━━━━━━━━━━━━━━━━━━━━━━━━━━━━━━━━━━━\u001b[0m \u001b[32m286.1/286.1 kB\u001b[0m \u001b[31m34.0 MB/s\u001b[0m eta \u001b[36m0:00:00\u001b[0m\n",
            "\u001b[2K     \u001b[90m━━━━━━━━━━━━━━━━━━━━━━━━━━━━━━━━━━━━━━━━\u001b[0m \u001b[32m525.5/525.5 kB\u001b[0m \u001b[31m49.8 MB/s\u001b[0m eta \u001b[36m0:00:00\u001b[0m\n",
            "\u001b[2K     \u001b[90m━━━━━━━━━━━━━━━━━━━━━━━━━━━━━━━━━━━━━━━━\u001b[0m \u001b[32m30.6/30.6 MB\u001b[0m \u001b[31m17.4 MB/s\u001b[0m eta \u001b[36m0:00:00\u001b[0m\n",
            "\u001b[2K     \u001b[90m━━━━━━━━━━━━━━━━━━━━━━━━━━━━━━━━━━━━━━━━\u001b[0m \u001b[32m49.4/49.4 kB\u001b[0m \u001b[31m6.5 MB/s\u001b[0m eta \u001b[36m0:00:00\u001b[0m\n",
            "\u001b[2K     \u001b[90m━━━━━━━━━━━━━━━━━━━━━━━━━━━━━━━━━━━━━━━━\u001b[0m \u001b[32m2.4/2.4 MB\u001b[0m \u001b[31m79.0 MB/s\u001b[0m eta \u001b[36m0:00:00\u001b[0m\n",
            "\u001b[2K     \u001b[90m━━━━━━━━━━━━━━━━━━━━━━━━━━━━━━━━━━━━━━━━\u001b[0m \u001b[32m92.1/92.1 kB\u001b[0m \u001b[31m12.0 MB/s\u001b[0m eta \u001b[36m0:00:00\u001b[0m\n",
            "\u001b[2K     \u001b[90m━━━━━━━━━━━━━━━━━━━━━━━━━━━━━━━━━━━━━━━━\u001b[0m \u001b[32m60.6/60.6 kB\u001b[0m \u001b[31m8.2 MB/s\u001b[0m eta \u001b[36m0:00:00\u001b[0m\n",
            "\u001b[2K     \u001b[90m━━━━━━━━━━━━━━━━━━━━━━━━━━━━━━━━━━━━━━━━\u001b[0m \u001b[32m41.3/41.3 kB\u001b[0m \u001b[31m4.7 MB/s\u001b[0m eta \u001b[36m0:00:00\u001b[0m\n",
            "\u001b[2K     \u001b[90m━━━━━━━━━━━━━━━━━━━━━━━━━━━━━━━━━━━━━━━━\u001b[0m \u001b[32m5.4/5.4 MB\u001b[0m \u001b[31m65.6 MB/s\u001b[0m eta \u001b[36m0:00:00\u001b[0m\n",
            "\u001b[2K     \u001b[90m━━━━━━━━━━━━━━━━━━━━━━━━━━━━━━━━━━━━━━━━\u001b[0m \u001b[32m6.8/6.8 MB\u001b[0m \u001b[31m69.7 MB/s\u001b[0m eta \u001b[36m0:00:00\u001b[0m\n",
            "\u001b[2K     \u001b[90m━━━━━━━━━━━━━━━━━━━━━━━━━━━━━━━━━━━━━━━━\u001b[0m \u001b[32m58.4/58.4 kB\u001b[0m \u001b[31m7.4 MB/s\u001b[0m eta \u001b[36m0:00:00\u001b[0m\n",
            "\u001b[2K     \u001b[90m━━━━━━━━━━━━━━━━━━━━━━━━━━━━━━━━━━━━━━━━\u001b[0m \u001b[32m105.7/105.7 kB\u001b[0m \u001b[31m12.9 MB/s\u001b[0m eta \u001b[36m0:00:00\u001b[0m\n",
            "\u001b[2K     \u001b[90m━━━━━━━━━━━━━━━━━━━━━━━━━━━━━━━━━━━━━━━━\u001b[0m \u001b[32m67.3/67.3 kB\u001b[0m \u001b[31m8.9 MB/s\u001b[0m eta \u001b[36m0:00:00\u001b[0m\n",
            "\u001b[?25h  Installing build dependencies ... \u001b[?25l\u001b[?25hdone\n",
            "  Getting requirements to build wheel ... \u001b[?25l\u001b[?25hdone\n",
            "  Preparing metadata (pyproject.toml) ... \u001b[?25l\u001b[?25hdone\n",
            "\u001b[2K     \u001b[90m━━━━━━━━━━━━━━━━━━━━━━━━━━━━━━━━━━━━━━━━\u001b[0m \u001b[32m698.9/698.9 kB\u001b[0m \u001b[31m51.3 MB/s\u001b[0m eta \u001b[36m0:00:00\u001b[0m\n",
            "\u001b[2K     \u001b[90m━━━━━━━━━━━━━━━━━━━━━━━━━━━━━━━━━━━━━━━━\u001b[0m \u001b[32m1.6/1.6 MB\u001b[0m \u001b[31m72.5 MB/s\u001b[0m eta \u001b[36m0:00:00\u001b[0m\n",
            "\u001b[2K     \u001b[90m━━━━━━━━━━━━━━━━━━━━━━━━━━━━━━━━━━━━━━━━\u001b[0m \u001b[32m67.6/67.6 kB\u001b[0m \u001b[31m7.8 MB/s\u001b[0m eta \u001b[36m0:00:00\u001b[0m\n",
            "\u001b[2K     \u001b[90m━━━━━━━━━━━━━━━━━━━━━━━━━━━━━━━━━━━━━━━━\u001b[0m \u001b[32m138.5/138.5 kB\u001b[0m \u001b[31m17.0 MB/s\u001b[0m eta \u001b[36m0:00:00\u001b[0m\n",
            "\u001b[2K     \u001b[90m━━━━━━━━━━━━━━━━━━━━━━━━━━━━━━━━━━━━━━━━\u001b[0m \u001b[32m71.5/71.5 kB\u001b[0m \u001b[31m7.0 MB/s\u001b[0m eta \u001b[36m0:00:00\u001b[0m\n",
            "\u001b[2K     \u001b[90m━━━━━━━━━━━━━━━━━━━━━━━━━━━━━━━━━━━━━━━━\u001b[0m \u001b[32m46.0/46.0 kB\u001b[0m \u001b[31m5.8 MB/s\u001b[0m eta \u001b[36m0:00:00\u001b[0m\n",
            "\u001b[2K     \u001b[90m━━━━━━━━━━━━━━━━━━━━━━━━━━━━━━━━━━━━━━━━\u001b[0m \u001b[32m50.8/50.8 kB\u001b[0m \u001b[31m5.8 MB/s\u001b[0m eta \u001b[36m0:00:00\u001b[0m\n",
            "\u001b[2K     \u001b[90m━━━━━━━━━━━━━━━━━━━━━━━━━━━━━━━━━━━━━━━━\u001b[0m \u001b[32m341.4/341.4 kB\u001b[0m \u001b[31m32.9 MB/s\u001b[0m eta \u001b[36m0:00:00\u001b[0m\n",
            "\u001b[2K     \u001b[90m━━━━━━━━━━━━━━━━━━━━━━━━━━━━━━━━━━━━━━━━\u001b[0m \u001b[32m3.4/3.4 MB\u001b[0m \u001b[31m90.3 MB/s\u001b[0m eta \u001b[36m0:00:00\u001b[0m\n",
            "\u001b[2K     \u001b[90m━━━━━━━━━━━━━━━━━━━━━━━━━━━━━━━━━━━━━━━━\u001b[0m \u001b[32m1.3/1.3 MB\u001b[0m \u001b[31m70.2 MB/s\u001b[0m eta \u001b[36m0:00:00\u001b[0m\n",
            "\u001b[2K     \u001b[90m━━━━━━━━━━━━━━━━━━━━━━━━━━━━━━━━━━━━━━━━\u001b[0m \u001b[32m130.2/130.2 kB\u001b[0m \u001b[31m14.5 MB/s\u001b[0m eta \u001b[36m0:00:00\u001b[0m\n",
            "\u001b[2K     \u001b[90m━━━━━━━━━━━━━━━━━━━━━━━━━━━━━━━━━━━━━━━━\u001b[0m \u001b[32m86.8/86.8 kB\u001b[0m \u001b[31m9.8 MB/s\u001b[0m eta \u001b[36m0:00:00\u001b[0m\n",
            "\u001b[?25h  Building wheel for pypika (pyproject.toml) ... \u001b[?25l\u001b[?25hdone\n"
          ]
        }
      ],
      "source": [
        "!pip install -qU llama-index openai"
      ]
    },
    {
      "cell_type": "markdown",
      "source": [
        "We'll be using [Weights and Biases](https://docs.wandb.ai/guides/prompts) (WandB) again for today's notebook!"
      ],
      "metadata": {
        "id": "6Jifl-qHO8MU"
      }
    },
    {
      "cell_type": "code",
      "source": [
        "!pip install -qU wandb llama-index-callbacks-wandb"
      ],
      "metadata": {
        "id": "9UcQpjG9Ovlk",
        "colab": {
          "base_uri": "https://localhost:8080/"
        },
        "outputId": "b07a9764-0392-4a00-98d6-d0068912d561"
      },
      "execution_count": 3,
      "outputs": [
        {
          "output_type": "stream",
          "name": "stdout",
          "text": [
            "\u001b[2K     \u001b[90m━━━━━━━━━━━━━━━━━━━━━━━━━━━━━━━━━━━━━━━━\u001b[0m \u001b[32m2.2/2.2 MB\u001b[0m \u001b[31m13.5 MB/s\u001b[0m eta \u001b[36m0:00:00\u001b[0m\n",
            "\u001b[2K     \u001b[90m━━━━━━━━━━━━━━━━━━━━━━━━━━━━━━━━━━━━━━━━\u001b[0m \u001b[32m195.4/195.4 kB\u001b[0m \u001b[31m14.3 MB/s\u001b[0m eta \u001b[36m0:00:00\u001b[0m\n",
            "\u001b[2K     \u001b[90m━━━━━━━━━━━━━━━━━━━━━━━━━━━━━━━━━━━━━━━━\u001b[0m \u001b[32m258.8/258.8 kB\u001b[0m \u001b[31m16.7 MB/s\u001b[0m eta \u001b[36m0:00:00\u001b[0m\n",
            "\u001b[2K     \u001b[90m━━━━━━━━━━━━━━━━━━━━━━━━━━━━━━━━━━━━━━━━\u001b[0m \u001b[32m62.7/62.7 kB\u001b[0m \u001b[31m7.8 MB/s\u001b[0m eta \u001b[36m0:00:00\u001b[0m\n",
            "\u001b[?25h"
          ]
        }
      ]
    },
    {
      "cell_type": "markdown",
      "source": [
        "We'll be collecting our semantic data from Wikipedia - and so will need the [Wikipedia Reader](https://github.com/run-llama/llama_index/tree/main/llama-index-integrations/readers/llama-index-readers-wikipedia)!"
      ],
      "metadata": {
        "id": "uqTXRTrLPatl"
      }
    },
    {
      "cell_type": "code",
      "execution_count": 4,
      "metadata": {
        "id": "f9kXf7pPSV_-",
        "colab": {
          "base_uri": "https://localhost:8080/"
        },
        "outputId": "56d8a623-c026-49b8-adbc-fc246c75beba"
      },
      "outputs": [
        {
          "output_type": "stream",
          "name": "stdout",
          "text": [
            "  Preparing metadata (setup.py) ... \u001b[?25l\u001b[?25hdone\n",
            "  Building wheel for wikipedia (setup.py) ... \u001b[?25l\u001b[?25hdone\n"
          ]
        }
      ],
      "source": [
        "!pip install -qU wikipedia llama-index-readers-wikipedia"
      ]
    },
    {
      "cell_type": "markdown",
      "source": [
        "Our vector database today will be powered by [ChromaDB](https://github.com/chroma-core/chroma) and so we'll need that package as well!"
      ],
      "metadata": {
        "id": "Qq_rWHZEPrCO"
      }
    },
    {
      "cell_type": "code",
      "source": [
        "!pip install -qU chromadb llama-index-vector-stores-chroma"
      ],
      "metadata": {
        "id": "iMCA8HFGEPF_"
      },
      "execution_count": 5,
      "outputs": []
    },
    {
      "cell_type": "markdown",
      "source": [
        "Finally, we'll need to grab a few dependencies related to our quantitative data!"
      ],
      "metadata": {
        "id": "wNHDqna1P1NQ"
      }
    },
    {
      "cell_type": "code",
      "execution_count": 6,
      "metadata": {
        "id": "BrT8a3c0SV__",
        "colab": {
          "base_uri": "https://localhost:8080/"
        },
        "outputId": "0c4d77b5-caf0-4f30-8aae-a17d444c3a93"
      },
      "outputs": [
        {
          "output_type": "stream",
          "name": "stdout",
          "text": [
            "\u001b[2K     \u001b[90m━━━━━━━━━━━━━━━━━━━━━━━━━━━━━━━━━━━━━━━━\u001b[0m \u001b[32m13.0/13.0 MB\u001b[0m \u001b[31m37.4 MB/s\u001b[0m eta \u001b[36m0:00:00\u001b[0m\n",
            "\u001b[2K     \u001b[90m━━━━━━━━━━━━━━━━━━━━━━━━━━━━━━━━━━━━━━━━\u001b[0m \u001b[32m345.4/345.4 kB\u001b[0m \u001b[31m19.0 MB/s\u001b[0m eta \u001b[36m0:00:00\u001b[0m\n",
            "\u001b[?25h\u001b[31mERROR: pip's dependency resolver does not currently take into account all the packages that are installed. This behaviour is the source of the following dependency conflicts.\n",
            "bigframes 0.23.0 requires pandas<2.1.4,>=1.5.0, but you have pandas 2.2.1 which is incompatible.\n",
            "google-colab 1.0.0 requires pandas==1.5.3, but you have pandas 2.2.1 which is incompatible.\u001b[0m\u001b[31m\n",
            "\u001b[0m"
          ]
        }
      ],
      "source": [
        "!pip install -q -U sqlalchemy pandas"
      ]
    },
    {
      "cell_type": "markdown",
      "source": [
        "We'll grab some additional miscellaneous dependencies here."
      ],
      "metadata": {
        "id": "WuZM6UjePVBk"
      }
    },
    {
      "cell_type": "code",
      "execution_count": 7,
      "metadata": {
        "id": "vqPJv3jUSV_-",
        "colab": {
          "base_uri": "https://localhost:8080/"
        },
        "outputId": "4172563e-af90-4595-fca2-9ba402d7a9f5"
      },
      "outputs": [
        {
          "output_type": "stream",
          "name": "stdout",
          "text": [
            "\u001b[2K     \u001b[90m━━━━━━━━━━━━━━━━━━━━━━━━━━━━━━━━━━━━━━━━\u001b[0m \u001b[32m1.7/1.7 MB\u001b[0m \u001b[31m6.7 MB/s\u001b[0m eta \u001b[36m0:00:00\u001b[0m\n",
            "\u001b[2K     \u001b[90m━━━━━━━━━━━━━━━━━━━━━━━━━━━━━━━━━━━━━━━━\u001b[0m \u001b[32m86.0/86.0 kB\u001b[0m \u001b[31m7.8 MB/s\u001b[0m eta \u001b[36m0:00:00\u001b[0m\n",
            "\u001b[?25h  Preparing metadata (setup.py) ... \u001b[?25l\u001b[?25hdone\n",
            "\u001b[2K     \u001b[90m━━━━━━━━━━━━━━━━━━━━━━━━━━━━━━━━━━━━━━━━\u001b[0m \u001b[32m3.1/3.1 MB\u001b[0m \u001b[31m18.3 MB/s\u001b[0m eta \u001b[36m0:00:00\u001b[0m\n",
            "\u001b[?25h  Building wheel for sentence-transformers (setup.py) ... \u001b[?25l\u001b[?25hdone\n"
          ]
        }
      ],
      "source": [
        "!pip install -U -q tiktoken==0.4.0 sentence-transformers==2.2.2 pydantic==1.10.11"
      ]
    },
    {
      "cell_type": "markdown",
      "source": [
        "## Task 2: Set Env Variables and Set Up WandB Callback\n",
        "\n",
        "Let's set our API keys for both OpenAI and WandB!"
      ],
      "metadata": {
        "id": "ibtguieHP6n1"
      }
    },
    {
      "cell_type": "code",
      "execution_count": 8,
      "metadata": {
        "id": "7IBgMTPTSV_9",
        "colab": {
          "base_uri": "https://localhost:8080/"
        },
        "outputId": "b63ca370-4403-4fd7-ff81-260d375ef411"
      },
      "outputs": [
        {
          "name": "stdout",
          "output_type": "stream",
          "text": [
            "OpenAI API Key: ··········\n"
          ]
        }
      ],
      "source": [
        "import os\n",
        "import getpass\n",
        "\n",
        "os.environ[\"OPENAI_API_KEY\"] = getpass.getpass(\"OpenAI API Key: \")"
      ]
    },
    {
      "cell_type": "code",
      "execution_count": 12,
      "metadata": {
        "id": "4OHSwkDySV_-",
        "colab": {
          "base_uri": "https://localhost:8080/"
        },
        "outputId": "c98d04cf-b6ef-42b0-ad86-d26916eec05f"
      },
      "outputs": [
        {
          "name": "stdout",
          "output_type": "stream",
          "text": [
            "WandB API Key: ··········\n"
          ]
        }
      ],
      "source": [
        "os.environ[\"WANDB_API_KEY\"] = getpass.getpass(\"WandB API Key: \")"
      ]
    },
    {
      "cell_type": "markdown",
      "source": [
        "We'll also need to set a callback handler for WandB to ensure smooth operation of our traces!"
      ],
      "metadata": {
        "id": "Ut8E447rQBjY"
      }
    },
    {
      "cell_type": "code",
      "execution_count": 14,
      "metadata": {
        "id": "MoV2JINuSV_-"
      },
      "outputs": [],
      "source": [
        "import llama_index\n",
        "from llama_index.core import set_global_handler\n",
        "\n",
        "set_global_handler(\"wandb\", run_args={\"project\": \"aie1-llama-index-demo\"})\n",
        "wandb_callback = llama_index.core.global_handler"
      ]
    },
    {
      "cell_type": "markdown",
      "metadata": {
        "id": "UQwigweOSV_-"
      },
      "source": [
        "### Task 3: Settings\n",
        "\n",
        "LlamaIndex lets us set global settings which we can use to influence the default behaviour of our components.\n",
        "\n",
        "Let's set our LLM and our Embedding Model!"
      ]
    },
    {
      "cell_type": "code",
      "execution_count": 15,
      "metadata": {
        "id": "6KOy21KPSV_-"
      },
      "outputs": [],
      "source": [
        "from llama_index.llms.openai import OpenAI\n",
        "from llama_index.embeddings.openai import OpenAIEmbedding\n",
        "from llama_index.core import Settings\n",
        "\n",
        "Settings.llm = OpenAI(model=\"gpt-3.5-turbo\")\n",
        "Settings.embed_model = OpenAIEmbedding(model=\"text-embedding-3-small\")"
      ]
    },
    {
      "cell_type": "markdown",
      "metadata": {
        "id": "eiOdw7EQSV_-"
      },
      "source": [
        "## Task 4: Semantic RAG Pipeline with Metadata Filtering\n",
        "\n",
        "Now we can get to work creating our semantic `QueryEngine`!\n",
        "\n",
        "We'll start, as we normally do, by grabbing some data.\n",
        "\n",
        "> NOTE: Remember that a query engine is just a different word for a chain!"
      ]
    },
    {
      "cell_type": "markdown",
      "metadata": {
        "id": "iDEtQQWnSV_-"
      },
      "source": [
        "### Data Collection\n",
        "\n",
        "We're just going to be pulling information straight from Wikipedia using the built in `WikipediaReader`.\n",
        "\n",
        "> NOTE: Setting `auto_suggest=False` ensures we run into fewer auto-correct based errors."
      ]
    },
    {
      "cell_type": "code",
      "execution_count": 16,
      "metadata": {
        "id": "OrzzrnYMSV_-"
      },
      "outputs": [],
      "source": [
        "from llama_index.readers.wikipedia import WikipediaReader\n",
        "\n",
        "movie_list = [\"Dune (2021 film)\", \"Dune: Part Two\"]\n",
        "\n",
        "wiki_docs = WikipediaReader().load_data(pages=movie_list, auto_suggest=False)"
      ]
    },
    {
      "cell_type": "markdown",
      "metadata": {
        "id": "-6FRQ4hfSV_-"
      },
      "source": [
        "### Initializing our VectorStoreIndex with ChromaDB\n",
        "\n",
        "ChromaDB is a locally hostable and open-source vector database solution.\n",
        "\n",
        "It offers powerful features like metadata filtering out of the box, and will suit our needs well today!\n",
        "\n",
        "We'll start by creating our local `EphemeralClient()` (in-memory and not meant for production use-cases) and our collection.\n",
        "\n",
        "Then we'll create our `VectorStore` and `StorageContext` which will allow us to create an empty `VectorStoreIndex` which we will be able to add nodes to later!"
      ]
    },
    {
      "cell_type": "code",
      "source": [
        "from llama_index.vector_stores.chroma import ChromaVectorStore\n",
        "import chromadb\n",
        "\n",
        "chroma_client = chromadb.EphemeralClient()\n",
        "chroma_collection = chroma_client.create_collection(\"dune-v0\")"
      ],
      "metadata": {
        "id": "b1ut96aSEVwY"
      },
      "execution_count": 17,
      "outputs": []
    },
    {
      "cell_type": "code",
      "execution_count": 18,
      "metadata": {
        "id": "lZ5xilm1SV_-",
        "outputId": "ef45ced9-9580-491b-c22c-3658ae32d8ac",
        "colab": {
          "base_uri": "https://localhost:8080/"
        }
      },
      "outputs": [
        {
          "output_type": "stream",
          "name": "stderr",
          "text": [
            "\u001b[34m\u001b[1mwandb\u001b[0m: Logged trace tree to W&B.\n"
          ]
        }
      ],
      "source": [
        "from llama_index.core import VectorStoreIndex\n",
        "from llama_index.core import StorageContext\n",
        "\n",
        "vector_store = ChromaVectorStore(chroma_collection=chroma_collection)\n",
        "storage_context = StorageContext.from_defaults(vector_store=vector_store)\n",
        "index = VectorStoreIndex.from_documents([], storage_context=storage_context)"
      ]
    },
    {
      "cell_type": "markdown",
      "metadata": {
        "id": "6qtzVDelSV_-"
      },
      "source": [
        "### Node Construction\n",
        "\n",
        "Now we will loop through our documents and metadata and construct nodes.\n",
        "\n",
        "We'll make sure to explicitly associate our nodes with their respective movie so we can filter by the movie title in the upcoming cells.\n",
        "\n",
        "> NOTE: You can safely ignore any WARNINGs in the following cell."
      ]
    },
    {
      "cell_type": "code",
      "execution_count": 19,
      "metadata": {
        "id": "LP4INgSGSV_-",
        "colab": {
          "base_uri": "https://localhost:8080/"
        },
        "outputId": "d6f73571-4871-46fd-cf8e-ca95dca39311"
      },
      "outputs": [
        {
          "output_type": "stream",
          "name": "stderr",
          "text": [
            "WARNING:chromadb.segment.impl.vector.local_hnsw:Add of existing embedding ID: 3289edc5-55e6-44fb-b3c6-51864f0b256c\n"
          ]
        },
        {
          "output_type": "stream",
          "name": "stdout",
          "text": [
            "Add of existing embedding ID: 3289edc5-55e6-44fb-b3c6-51864f0b256c\n"
          ]
        },
        {
          "output_type": "stream",
          "name": "stderr",
          "text": [
            "WARNING:chromadb.segment.impl.vector.local_hnsw:Add of existing embedding ID: 413d0a25-7e36-44b9-b657-d5d52fdbf28e\n"
          ]
        },
        {
          "output_type": "stream",
          "name": "stdout",
          "text": [
            "Add of existing embedding ID: 413d0a25-7e36-44b9-b657-d5d52fdbf28e\n"
          ]
        },
        {
          "output_type": "stream",
          "name": "stderr",
          "text": [
            "WARNING:chromadb.segment.impl.vector.local_hnsw:Add of existing embedding ID: c43a4fd2-d59b-4931-9162-c701dc396135\n"
          ]
        },
        {
          "output_type": "stream",
          "name": "stdout",
          "text": [
            "Add of existing embedding ID: c43a4fd2-d59b-4931-9162-c701dc396135\n"
          ]
        },
        {
          "output_type": "stream",
          "name": "stderr",
          "text": [
            "WARNING:chromadb.segment.impl.vector.local_hnsw:Add of existing embedding ID: 3eb0eb55-629b-4be7-bd85-0cd707638f39\n"
          ]
        },
        {
          "output_type": "stream",
          "name": "stdout",
          "text": [
            "Add of existing embedding ID: 3eb0eb55-629b-4be7-bd85-0cd707638f39\n"
          ]
        },
        {
          "output_type": "stream",
          "name": "stderr",
          "text": [
            "WARNING:chromadb.segment.impl.vector.local_hnsw:Add of existing embedding ID: 58253778-26c9-484f-865a-918334e6db29\n"
          ]
        },
        {
          "output_type": "stream",
          "name": "stdout",
          "text": [
            "Add of existing embedding ID: 58253778-26c9-484f-865a-918334e6db29\n"
          ]
        },
        {
          "output_type": "stream",
          "name": "stderr",
          "text": [
            "WARNING:chromadb.segment.impl.vector.local_hnsw:Add of existing embedding ID: 6e3148e8-5c74-420e-bf2f-495e88b602ae\n"
          ]
        },
        {
          "output_type": "stream",
          "name": "stdout",
          "text": [
            "Add of existing embedding ID: 6e3148e8-5c74-420e-bf2f-495e88b602ae\n"
          ]
        },
        {
          "output_type": "stream",
          "name": "stderr",
          "text": [
            "WARNING:chromadb.segment.impl.vector.local_hnsw:Add of existing embedding ID: a28eb0f3-16cd-45a9-90fd-bbe1aa3d90a0\n"
          ]
        },
        {
          "output_type": "stream",
          "name": "stdout",
          "text": [
            "Add of existing embedding ID: a28eb0f3-16cd-45a9-90fd-bbe1aa3d90a0\n"
          ]
        },
        {
          "output_type": "stream",
          "name": "stderr",
          "text": [
            "WARNING:chromadb.segment.impl.vector.local_hnsw:Add of existing embedding ID: 115d95b1-0b25-47f3-8af1-284d02e2933b\n"
          ]
        },
        {
          "output_type": "stream",
          "name": "stdout",
          "text": [
            "Add of existing embedding ID: 115d95b1-0b25-47f3-8af1-284d02e2933b\n"
          ]
        },
        {
          "output_type": "stream",
          "name": "stderr",
          "text": [
            "WARNING:chromadb.segment.impl.vector.local_hnsw:Add of existing embedding ID: 52403767-1d50-46ef-8c7a-d8c3a145ff8c\n"
          ]
        },
        {
          "output_type": "stream",
          "name": "stdout",
          "text": [
            "Add of existing embedding ID: 52403767-1d50-46ef-8c7a-d8c3a145ff8c\n"
          ]
        },
        {
          "output_type": "stream",
          "name": "stderr",
          "text": [
            "WARNING:chromadb.segment.impl.vector.local_hnsw:Add of existing embedding ID: 12e190ed-54ef-43c4-bf5f-d304b9cb7285\n"
          ]
        },
        {
          "output_type": "stream",
          "name": "stdout",
          "text": [
            "Add of existing embedding ID: 12e190ed-54ef-43c4-bf5f-d304b9cb7285\n"
          ]
        },
        {
          "output_type": "stream",
          "name": "stderr",
          "text": [
            "WARNING:chromadb.segment.impl.vector.local_hnsw:Add of existing embedding ID: e3035b01-6e19-4379-b767-1079cf4f5440\n"
          ]
        },
        {
          "output_type": "stream",
          "name": "stdout",
          "text": [
            "Add of existing embedding ID: e3035b01-6e19-4379-b767-1079cf4f5440\n"
          ]
        },
        {
          "output_type": "stream",
          "name": "stderr",
          "text": [
            "WARNING:chromadb.segment.impl.vector.local_hnsw:Add of existing embedding ID: 652fcd59-e971-4af7-b06d-84c80571aa22\n"
          ]
        },
        {
          "output_type": "stream",
          "name": "stdout",
          "text": [
            "Add of existing embedding ID: 652fcd59-e971-4af7-b06d-84c80571aa22\n"
          ]
        },
        {
          "output_type": "stream",
          "name": "stderr",
          "text": [
            "WARNING:chromadb.segment.impl.vector.local_hnsw:Add of existing embedding ID: c67016fe-063b-4588-8808-f289ecdf3d60\n"
          ]
        },
        {
          "output_type": "stream",
          "name": "stdout",
          "text": [
            "Add of existing embedding ID: c67016fe-063b-4588-8808-f289ecdf3d60\n"
          ]
        },
        {
          "output_type": "stream",
          "name": "stderr",
          "text": [
            "WARNING:chromadb.segment.impl.vector.local_hnsw:Add of existing embedding ID: c0ca49e6-7945-4c3a-8762-2be938ef73a2\n"
          ]
        },
        {
          "output_type": "stream",
          "name": "stdout",
          "text": [
            "Add of existing embedding ID: c0ca49e6-7945-4c3a-8762-2be938ef73a2\n"
          ]
        },
        {
          "output_type": "stream",
          "name": "stderr",
          "text": [
            "WARNING:chromadb.segment.impl.vector.local_hnsw:Add of existing embedding ID: a44f76c0-27f9-49e0-83b6-114d1702a198\n"
          ]
        },
        {
          "output_type": "stream",
          "name": "stdout",
          "text": [
            "Add of existing embedding ID: a44f76c0-27f9-49e0-83b6-114d1702a198\n"
          ]
        },
        {
          "output_type": "stream",
          "name": "stderr",
          "text": [
            "WARNING:chromadb.segment.impl.vector.local_hnsw:Add of existing embedding ID: 55bd35a8-9751-4250-ba35-51d21a70fbe8\n"
          ]
        },
        {
          "output_type": "stream",
          "name": "stdout",
          "text": [
            "Add of existing embedding ID: 55bd35a8-9751-4250-ba35-51d21a70fbe8\n"
          ]
        },
        {
          "output_type": "stream",
          "name": "stderr",
          "text": [
            "WARNING:chromadb.segment.impl.vector.local_hnsw:Add of existing embedding ID: 5ccca6b8-61bc-45fd-abdd-1ccdb428b2cc\n"
          ]
        },
        {
          "output_type": "stream",
          "name": "stdout",
          "text": [
            "Add of existing embedding ID: 5ccca6b8-61bc-45fd-abdd-1ccdb428b2cc\n"
          ]
        },
        {
          "output_type": "stream",
          "name": "stderr",
          "text": [
            "WARNING:chromadb.segment.impl.vector.local_hnsw:Add of existing embedding ID: fed1cc79-492a-45a1-8fe0-990ce7441da8\n"
          ]
        },
        {
          "output_type": "stream",
          "name": "stdout",
          "text": [
            "Add of existing embedding ID: fed1cc79-492a-45a1-8fe0-990ce7441da8\n"
          ]
        },
        {
          "output_type": "stream",
          "name": "stderr",
          "text": [
            "WARNING:chromadb.segment.impl.vector.local_hnsw:Add of existing embedding ID: 6946a706-1fc9-4627-bfba-613ab9a92fba\n"
          ]
        },
        {
          "output_type": "stream",
          "name": "stdout",
          "text": [
            "Add of existing embedding ID: 6946a706-1fc9-4627-bfba-613ab9a92fba\n"
          ]
        },
        {
          "output_type": "stream",
          "name": "stderr",
          "text": [
            "WARNING:chromadb.segment.impl.vector.local_hnsw:Add of existing embedding ID: 1f7f7de7-6beb-44fb-bdd6-167c30096209\n"
          ]
        },
        {
          "output_type": "stream",
          "name": "stdout",
          "text": [
            "Add of existing embedding ID: 1f7f7de7-6beb-44fb-bdd6-167c30096209\n"
          ]
        },
        {
          "output_type": "stream",
          "name": "stderr",
          "text": [
            "WARNING:chromadb.segment.impl.vector.local_hnsw:Add of existing embedding ID: 385ae875-4acc-4a41-a47e-49cff791cfd2\n"
          ]
        },
        {
          "output_type": "stream",
          "name": "stdout",
          "text": [
            "Add of existing embedding ID: 385ae875-4acc-4a41-a47e-49cff791cfd2\n"
          ]
        },
        {
          "output_type": "stream",
          "name": "stderr",
          "text": [
            "WARNING:chromadb.segment.impl.vector.local_hnsw:Add of existing embedding ID: 52fe5351-90e1-485e-9007-4746c47ec0b3\n"
          ]
        },
        {
          "output_type": "stream",
          "name": "stdout",
          "text": [
            "Add of existing embedding ID: 52fe5351-90e1-485e-9007-4746c47ec0b3\n"
          ]
        },
        {
          "output_type": "stream",
          "name": "stderr",
          "text": [
            "WARNING:chromadb.segment.impl.metadata.sqlite:Insert of existing embedding ID: 3289edc5-55e6-44fb-b3c6-51864f0b256c\n"
          ]
        },
        {
          "output_type": "stream",
          "name": "stdout",
          "text": [
            "Insert of existing embedding ID: 3289edc5-55e6-44fb-b3c6-51864f0b256c\n"
          ]
        },
        {
          "output_type": "stream",
          "name": "stderr",
          "text": [
            "WARNING:chromadb.segment.impl.metadata.sqlite:Insert of existing embedding ID: 413d0a25-7e36-44b9-b657-d5d52fdbf28e\n"
          ]
        },
        {
          "output_type": "stream",
          "name": "stdout",
          "text": [
            "Insert of existing embedding ID: 413d0a25-7e36-44b9-b657-d5d52fdbf28e\n"
          ]
        },
        {
          "output_type": "stream",
          "name": "stderr",
          "text": [
            "WARNING:chromadb.segment.impl.metadata.sqlite:Insert of existing embedding ID: c43a4fd2-d59b-4931-9162-c701dc396135\n"
          ]
        },
        {
          "output_type": "stream",
          "name": "stdout",
          "text": [
            "Insert of existing embedding ID: c43a4fd2-d59b-4931-9162-c701dc396135\n"
          ]
        },
        {
          "output_type": "stream",
          "name": "stderr",
          "text": [
            "WARNING:chromadb.segment.impl.metadata.sqlite:Insert of existing embedding ID: 3eb0eb55-629b-4be7-bd85-0cd707638f39\n"
          ]
        },
        {
          "output_type": "stream",
          "name": "stdout",
          "text": [
            "Insert of existing embedding ID: 3eb0eb55-629b-4be7-bd85-0cd707638f39\n"
          ]
        },
        {
          "output_type": "stream",
          "name": "stderr",
          "text": [
            "WARNING:chromadb.segment.impl.metadata.sqlite:Insert of existing embedding ID: 58253778-26c9-484f-865a-918334e6db29\n"
          ]
        },
        {
          "output_type": "stream",
          "name": "stdout",
          "text": [
            "Insert of existing embedding ID: 58253778-26c9-484f-865a-918334e6db29\n"
          ]
        },
        {
          "output_type": "stream",
          "name": "stderr",
          "text": [
            "WARNING:chromadb.segment.impl.metadata.sqlite:Insert of existing embedding ID: 6e3148e8-5c74-420e-bf2f-495e88b602ae\n"
          ]
        },
        {
          "output_type": "stream",
          "name": "stdout",
          "text": [
            "Insert of existing embedding ID: 6e3148e8-5c74-420e-bf2f-495e88b602ae\n"
          ]
        },
        {
          "output_type": "stream",
          "name": "stderr",
          "text": [
            "WARNING:chromadb.segment.impl.metadata.sqlite:Insert of existing embedding ID: a28eb0f3-16cd-45a9-90fd-bbe1aa3d90a0\n"
          ]
        },
        {
          "output_type": "stream",
          "name": "stdout",
          "text": [
            "Insert of existing embedding ID: a28eb0f3-16cd-45a9-90fd-bbe1aa3d90a0\n"
          ]
        },
        {
          "output_type": "stream",
          "name": "stderr",
          "text": [
            "WARNING:chromadb.segment.impl.metadata.sqlite:Insert of existing embedding ID: 115d95b1-0b25-47f3-8af1-284d02e2933b\n"
          ]
        },
        {
          "output_type": "stream",
          "name": "stdout",
          "text": [
            "Insert of existing embedding ID: 115d95b1-0b25-47f3-8af1-284d02e2933b\n"
          ]
        },
        {
          "output_type": "stream",
          "name": "stderr",
          "text": [
            "WARNING:chromadb.segment.impl.metadata.sqlite:Insert of existing embedding ID: 52403767-1d50-46ef-8c7a-d8c3a145ff8c\n"
          ]
        },
        {
          "output_type": "stream",
          "name": "stdout",
          "text": [
            "Insert of existing embedding ID: 52403767-1d50-46ef-8c7a-d8c3a145ff8c\n"
          ]
        },
        {
          "output_type": "stream",
          "name": "stderr",
          "text": [
            "WARNING:chromadb.segment.impl.metadata.sqlite:Insert of existing embedding ID: 12e190ed-54ef-43c4-bf5f-d304b9cb7285\n"
          ]
        },
        {
          "output_type": "stream",
          "name": "stdout",
          "text": [
            "Insert of existing embedding ID: 12e190ed-54ef-43c4-bf5f-d304b9cb7285\n"
          ]
        },
        {
          "output_type": "stream",
          "name": "stderr",
          "text": [
            "WARNING:chromadb.segment.impl.metadata.sqlite:Insert of existing embedding ID: e3035b01-6e19-4379-b767-1079cf4f5440\n"
          ]
        },
        {
          "output_type": "stream",
          "name": "stdout",
          "text": [
            "Insert of existing embedding ID: e3035b01-6e19-4379-b767-1079cf4f5440\n"
          ]
        },
        {
          "output_type": "stream",
          "name": "stderr",
          "text": [
            "WARNING:chromadb.segment.impl.metadata.sqlite:Insert of existing embedding ID: 652fcd59-e971-4af7-b06d-84c80571aa22\n"
          ]
        },
        {
          "output_type": "stream",
          "name": "stdout",
          "text": [
            "Insert of existing embedding ID: 652fcd59-e971-4af7-b06d-84c80571aa22\n"
          ]
        },
        {
          "output_type": "stream",
          "name": "stderr",
          "text": [
            "WARNING:chromadb.segment.impl.metadata.sqlite:Insert of existing embedding ID: c67016fe-063b-4588-8808-f289ecdf3d60\n"
          ]
        },
        {
          "output_type": "stream",
          "name": "stdout",
          "text": [
            "Insert of existing embedding ID: c67016fe-063b-4588-8808-f289ecdf3d60\n"
          ]
        },
        {
          "output_type": "stream",
          "name": "stderr",
          "text": [
            "WARNING:chromadb.segment.impl.metadata.sqlite:Insert of existing embedding ID: c0ca49e6-7945-4c3a-8762-2be938ef73a2\n"
          ]
        },
        {
          "output_type": "stream",
          "name": "stdout",
          "text": [
            "Insert of existing embedding ID: c0ca49e6-7945-4c3a-8762-2be938ef73a2\n"
          ]
        },
        {
          "output_type": "stream",
          "name": "stderr",
          "text": [
            "WARNING:chromadb.segment.impl.metadata.sqlite:Insert of existing embedding ID: a44f76c0-27f9-49e0-83b6-114d1702a198\n"
          ]
        },
        {
          "output_type": "stream",
          "name": "stdout",
          "text": [
            "Insert of existing embedding ID: a44f76c0-27f9-49e0-83b6-114d1702a198\n"
          ]
        },
        {
          "output_type": "stream",
          "name": "stderr",
          "text": [
            "WARNING:chromadb.segment.impl.metadata.sqlite:Insert of existing embedding ID: 55bd35a8-9751-4250-ba35-51d21a70fbe8\n"
          ]
        },
        {
          "output_type": "stream",
          "name": "stdout",
          "text": [
            "Insert of existing embedding ID: 55bd35a8-9751-4250-ba35-51d21a70fbe8\n"
          ]
        },
        {
          "output_type": "stream",
          "name": "stderr",
          "text": [
            "WARNING:chromadb.segment.impl.metadata.sqlite:Insert of existing embedding ID: 5ccca6b8-61bc-45fd-abdd-1ccdb428b2cc\n"
          ]
        },
        {
          "output_type": "stream",
          "name": "stdout",
          "text": [
            "Insert of existing embedding ID: 5ccca6b8-61bc-45fd-abdd-1ccdb428b2cc\n"
          ]
        },
        {
          "output_type": "stream",
          "name": "stderr",
          "text": [
            "WARNING:chromadb.segment.impl.metadata.sqlite:Insert of existing embedding ID: fed1cc79-492a-45a1-8fe0-990ce7441da8\n"
          ]
        },
        {
          "output_type": "stream",
          "name": "stdout",
          "text": [
            "Insert of existing embedding ID: fed1cc79-492a-45a1-8fe0-990ce7441da8\n"
          ]
        },
        {
          "output_type": "stream",
          "name": "stderr",
          "text": [
            "WARNING:chromadb.segment.impl.metadata.sqlite:Insert of existing embedding ID: 6946a706-1fc9-4627-bfba-613ab9a92fba\n"
          ]
        },
        {
          "output_type": "stream",
          "name": "stdout",
          "text": [
            "Insert of existing embedding ID: 6946a706-1fc9-4627-bfba-613ab9a92fba\n"
          ]
        },
        {
          "output_type": "stream",
          "name": "stderr",
          "text": [
            "WARNING:chromadb.segment.impl.metadata.sqlite:Insert of existing embedding ID: 1f7f7de7-6beb-44fb-bdd6-167c30096209\n"
          ]
        },
        {
          "output_type": "stream",
          "name": "stdout",
          "text": [
            "Insert of existing embedding ID: 1f7f7de7-6beb-44fb-bdd6-167c30096209\n"
          ]
        },
        {
          "output_type": "stream",
          "name": "stderr",
          "text": [
            "WARNING:chromadb.segment.impl.metadata.sqlite:Insert of existing embedding ID: 385ae875-4acc-4a41-a47e-49cff791cfd2\n"
          ]
        },
        {
          "output_type": "stream",
          "name": "stdout",
          "text": [
            "Insert of existing embedding ID: 385ae875-4acc-4a41-a47e-49cff791cfd2\n"
          ]
        },
        {
          "output_type": "stream",
          "name": "stderr",
          "text": [
            "WARNING:chromadb.segment.impl.metadata.sqlite:Insert of existing embedding ID: 52fe5351-90e1-485e-9007-4746c47ec0b3\n"
          ]
        },
        {
          "output_type": "stream",
          "name": "stdout",
          "text": [
            "Insert of existing embedding ID: 52fe5351-90e1-485e-9007-4746c47ec0b3\n"
          ]
        }
      ],
      "source": [
        "from llama_index.core import SimpleDirectoryReader\n",
        "from llama_index.core.ingestion import IngestionPipeline\n",
        "from llama_index.core.node_parser import TokenTextSplitter\n",
        "from llama_index.core.extractors import TitleExtractor\n",
        "\n",
        "pipeline = IngestionPipeline(transformations=[TokenTextSplitter()])\n",
        "\n",
        "for movie, wiki_doc in zip(movie_list, wiki_docs):\n",
        "    nodes = pipeline.run(documents=wiki_docs)\n",
        "    for node in nodes:\n",
        "        node.metadata = {\"title\" : movie}\n",
        "    index.insert_nodes(nodes)"
      ]
    },
    {
      "cell_type": "markdown",
      "source": [
        "####❓ Question #1:\n",
        "\n",
        "What `metadata` fields will the nodes in our index have?\n",
        "\n",
        "Please write the code to find this information.\n",
        "\n",
        "### **ANSWER:\n",
        "\n",
        "Each node in our system will contain metadata fields such as `node_content`, `node_type`, `doc_id`, `document_id`, `ref_doc_id`, and `title`.\n"
      ],
      "metadata": {
        "id": "biVzC-I4UAmB"
      }
    },
    {
      "cell_type": "code",
      "source": [
        "### YOUR CODE HERE\n",
        "chroma_collection.get(limit=1)['metadatas']\n",
        "chroma_collection.get(limit=1).keys()\n",
        "\n",
        "result = chroma_collection.get(limit=1)\n",
        "\n",
        "metadatas = result['metadatas']\n",
        "\n",
        "first_metadata = metadatas[0]\n",
        "\n",
        "metadata_fields = first_metadata.keys()\n",
        "\n",
        "metadata_fields"
      ],
      "metadata": {
        "id": "mt1lhxEnUKxO",
        "colab": {
          "base_uri": "https://localhost:8080/"
        },
        "outputId": "6f329ba5-3dcb-47a6-8abd-d9d466afaef1"
      },
      "execution_count": 31,
      "outputs": [
        {
          "output_type": "execute_result",
          "data": {
            "text/plain": [
              "dict_keys(['_node_content', '_node_type', 'doc_id', 'document_id', 'ref_doc_id', 'title'])"
            ]
          },
          "metadata": {},
          "execution_count": 31
        }
      ]
    },
    {
      "cell_type": "markdown",
      "source": [
        "### Persisting and Loading Stored Index with Weights and Biases\n",
        "\n",
        "Now we can utilize a powerful feature of Weights and Biases - index and artifact versioning!\n",
        "\n",
        "We can persist our index to WandB to be used and loaded later!"
      ],
      "metadata": {
        "id": "Sfbon1BwSLFS"
      }
    },
    {
      "cell_type": "code",
      "source": [
        "wandb_callback.persist_index(index, index_name=\"dune-index-chromadb\")"
      ],
      "metadata": {
        "colab": {
          "base_uri": "https://localhost:8080/"
        },
        "id": "PHJd00J3G48_",
        "outputId": "2c6515f4-646f-4c2b-adf4-322d419171d1"
      },
      "execution_count": 32,
      "outputs": [
        {
          "output_type": "stream",
          "name": "stderr",
          "text": [
            "\u001b[34m\u001b[1mwandb\u001b[0m: Adding directory to artifact (/content/wandb/run-20240312_191552-1exvg65b/files/storage)... Done. 0.0s\n"
          ]
        }
      ]
    },
    {
      "cell_type": "markdown",
      "source": [
        "Now we can load our index from WandB, which is a truly powerful tool!"
      ],
      "metadata": {
        "id": "jvpHLt8UShKa"
      }
    },
    {
      "cell_type": "code",
      "source": [
        "from llama_index.core import load_index_from_storage\n",
        "\n",
        "storage_context = wandb_callback.load_storage_context(\n",
        "    artifact_url=\"vectorize/aie1-llama-index-demo/dune-index-chromadb:v1\"\n",
        ")"
      ],
      "metadata": {
        "colab": {
          "base_uri": "https://localhost:8080/"
        },
        "id": "FDZLmqTDHDrZ",
        "outputId": "5f789557-b9b6-4533-b7d4-83656636b626"
      },
      "execution_count": 34,
      "outputs": [
        {
          "output_type": "stream",
          "name": "stderr",
          "text": [
            "\u001b[34m\u001b[1mwandb\u001b[0m:   4 of 4 files downloaded.  \n"
          ]
        }
      ]
    },
    {
      "cell_type": "markdown",
      "source": [
        "####❓ Question #2:\n",
        "\n",
        "Provide a screenshot of your index version history as shown in WandB.\n",
        "\n",
        "\n",
        "### **ANSWER:\n",
        "\n",
        "![image.png](data:image/png;base64,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)"
      ],
      "metadata": {
        "id": "G0pwSiOxUYCE"
      }
    },
    {
      "cell_type": "markdown",
      "metadata": {
        "id": "YUa5sHMsSV__"
      },
      "source": [
        "### Auto Retriever Functional Tool\n",
        "\n",
        "This tool will leverage OpenAI's functional endpoint to select the correct metadata filter and query the filtered index - only looking at nodes with the desired metadata.\n",
        "\n",
        "A simplified diagram: ![image](https://i.imgur.com/AICDPav.png)"
      ]
    },
    {
      "cell_type": "markdown",
      "metadata": {
        "id": "Z2HQHY3pSV__"
      },
      "source": [
        "First, we need to create our `VectoreStoreInfo` object which will hold all the relevant metadata we need for each component (in this case title metadata).\n",
        "\n",
        "Notice that you need to include it in a text list."
      ]
    },
    {
      "cell_type": "code",
      "execution_count": 38,
      "metadata": {
        "id": "KoAYxbdsSV__"
      },
      "outputs": [],
      "source": [
        "from llama_index.core.tools import FunctionTool\n",
        "from llama_index.core.vector_stores.types import (\n",
        "    VectorStoreInfo,\n",
        "    MetadataInfo,\n",
        "    ExactMatchFilter,\n",
        "    MetadataFilters,\n",
        ")\n",
        "from llama_index.core.retrievers import VectorIndexRetriever\n",
        "from llama_index.core.query_engine import RetrieverQueryEngine\n",
        "\n",
        "from typing import List, Tuple, Any\n",
        "from pydantic import BaseModel, Field\n",
        "\n",
        "top_k = 3\n",
        "\n",
        "vector_store_info = VectorStoreInfo(\n",
        "    content_info=\"semantic information about movies\",\n",
        "    metadata_info=[MetadataInfo(\n",
        "        name=\"title\",\n",
        "        type=\"str\",\n",
        "        description=\"title of the movie, one of ['Dune (2021 film)', 'Dune: Part 2']\",\n",
        "    )]\n",
        ")"
      ]
    },
    {
      "cell_type": "markdown",
      "metadata": {
        "id": "NEjK7jcsSV__"
      },
      "source": [
        "Now we'll create our base PyDantic object that we can use to ensure compatability with our application layer. This verifies that the response from the OpenAI endpoint conforms to this schema."
      ]
    },
    {
      "cell_type": "code",
      "execution_count": 39,
      "metadata": {
        "id": "yixkwF8zSV__"
      },
      "outputs": [],
      "source": [
        "class AutoRetrieveModel(BaseModel):\n",
        "    query: str = Field(..., description=\"natural language query string\")\n",
        "    filter_key_list: List[str] = Field(\n",
        "        ..., description=\"List of metadata filter field names\"\n",
        "    )\n",
        "    filter_value_list: List[str] = Field(\n",
        "        ...,\n",
        "        description=(\n",
        "            \"List of metadata filter field values (corresponding to names specified in filter_key_list)\"\n",
        "        )\n",
        "    )"
      ]
    },
    {
      "cell_type": "markdown",
      "metadata": {
        "id": "Ep6ORS3FSV__"
      },
      "source": [
        "Now we can build our function that we will use to query the functional endpoint."
      ]
    },
    {
      "cell_type": "code",
      "execution_count": 40,
      "metadata": {
        "id": "y8sPThxlSV__"
      },
      "outputs": [],
      "source": [
        "def auto_retrieve_fn(\n",
        "    query: str, filter_key_list: List[str], filter_value_list: List[str]\n",
        "):\n",
        "    \"\"\"Auto retrieval function.\n",
        "\n",
        "    Performs auto-retrieval from a vector database, and then applies a set of filters.\n",
        "\n",
        "    \"\"\"\n",
        "    query = query or \"Query\"\n",
        "\n",
        "    exact_match_filters = [\n",
        "        ExactMatchFilter(key=k, value=v)\n",
        "        for k, v in zip(filter_key_list, filter_value_list)\n",
        "    ]\n",
        "    retriever = VectorIndexRetriever(\n",
        "        index, filters=MetadataFilters(filters=exact_match_filters), top_k=top_k\n",
        "    )\n",
        "    query_engine = RetrieverQueryEngine.from_args(retriever)\n",
        "\n",
        "    response = query_engine.query(query)\n",
        "    return str(response)"
      ]
    },
    {
      "cell_type": "markdown",
      "metadata": {
        "id": "Yt4BV6oISV__"
      },
      "source": [
        "Now we need to wrap our system in a tool in order to integrate it into the larger application.\n",
        "\n",
        "Source Code Here:\n",
        "- [`FunctionTool`](https://github.com/jerryjliu/llama_index/blob/d24767b0812ac56104497d8f59095eccbe9f2b08/llama_index/tools/function_tool.py#L21)"
      ]
    },
    {
      "cell_type": "code",
      "execution_count": 41,
      "metadata": {
        "id": "U4lS1NqeSV__"
      },
      "outputs": [],
      "source": [
        "description = f\"\"\"\\\n",
        "Use this tool to look up semantic information about films.\n",
        "The vector database schema is given below:\n",
        "{vector_store_info.json()}\n",
        "\"\"\"\n",
        "\n",
        "auto_retrieve_tool = FunctionTool.from_defaults(\n",
        "    fn=auto_retrieve_fn,\n",
        "    name=\"semantic-film-info\",\n",
        "    description=description,\n",
        "    fn_schema=AutoRetrieveModel\n",
        ")"
      ]
    },
    {
      "cell_type": "markdown",
      "source": [
        "####❓ Question #3:\n",
        "\n",
        "Is the text in the description of our `FunctionTool` important or not? Please explain your answer.\n",
        "\n",
        "\n",
        "### **ANSWER:\n",
        "Yes, the description tool is important. It helps with natural language descrption, helps the agent to decide what tool to use, provide references to the vector db schema and similar context."
      ],
      "metadata": {
        "id": "9YkXmlexUnP_"
      }
    },
    {
      "cell_type": "markdown",
      "metadata": {
        "id": "ZblimmXVSV__"
      },
      "source": [
        "All that's left to do is attach the tool to an OpenAIAgent and let it rip!\n",
        "\n",
        "Source Code Here:\n",
        "- [`OpenAIAgent`](https://github.com/jerryjliu/llama_index/blob/d24767b0812ac56104497d8f59095eccbe9f2b08/llama_index/agent/openai_agent.py#L361)"
      ]
    },
    {
      "cell_type": "code",
      "execution_count": 42,
      "metadata": {
        "id": "W2hafCTxSV__"
      },
      "outputs": [],
      "source": [
        "from llama_index.agent.openai import OpenAIAgent\n",
        "\n",
        "agent = OpenAIAgent.from_tools(\n",
        "    tools=[auto_retrieve_tool],\n",
        "    verbose=True,\n",
        ")"
      ]
    },
    {
      "cell_type": "code",
      "execution_count": 43,
      "metadata": {
        "id": "DBJWDBK5SV__",
        "outputId": "35a932dd-87ab-4a44-8c37-3d316117728b",
        "colab": {
          "base_uri": "https://localhost:8080/"
        }
      },
      "outputs": [
        {
          "output_type": "stream",
          "name": "stdout",
          "text": [
            "Added user message to memory: Who starred in the 2021 film?\n",
            "=== Calling Function ===\n",
            "Calling function: semantic-film-info with args: {\"query\":\"cast of the 2021 film\",\"filter_key_list\":[\"title\"],\"filter_value_list\":[\"Dune (2021 film)\"]}\n",
            "Got output: The cast of the 2021 film \"Dune\" includes Timothée Chalamet, Rebecca Ferguson, Dave Bautista, Stellan Skarsgård, Charlotte Rampling, Oscar Isaac, Zendaya, Javier Bardem, Josh Brolin, Jason Momoa, David Dastmalchian, Stephen McKinley Henderson, Chang Chen, Benjamin Clementine, and Sharon Duncan-Brewster.\n",
            "========================\n",
            "\n"
          ]
        },
        {
          "output_type": "stream",
          "name": "stderr",
          "text": [
            "\u001b[34m\u001b[1mwandb\u001b[0m: Logged trace tree to W&B.\n"
          ]
        },
        {
          "output_type": "stream",
          "name": "stdout",
          "text": [
            "The cast of the 2021 film \"Dune\" includes Timothée Chalamet, Rebecca Ferguson, Dave Bautista, Stellan Skarsgård, Charlotte Rampling, Oscar Isaac, Zendaya, Javier Bardem, Josh Brolin, Jason Momoa, David Dastmalchian, Stephen McKinley Henderson, Chang Chen, Benjamin Clementine, and Sharon Duncan-Brewster.\n"
          ]
        }
      ],
      "source": [
        "response = agent.chat(\"Who starred in the 2021 film?\")\n",
        "print(str(response))"
      ]
    },
    {
      "cell_type": "markdown",
      "source": [
        "# 🤝 Breakout Room #2"
      ],
      "metadata": {
        "id": "kbhAT68RSvnT"
      }
    },
    {
      "cell_type": "markdown",
      "metadata": {
        "id": "yJcJL7VXSV__"
      },
      "source": [
        "## Task 1: Quantitative RAG Pipeline with NL2SQL Tooling\n",
        "\n",
        "We'll walk through the steps of creating a natural language to SQL system in the following section.\n",
        "\n",
        "> NOTICE: This does not have parsing on the inputs or intermediary calls to ensure that users are using safe SQL queries. Use this with caution in a production environment without adding specific guardrails from either side of the application."
      ]
    },
    {
      "cell_type": "markdown",
      "metadata": {
        "id": "SsVcM0-4SV__"
      },
      "source": [
        "The next few steps should be largely straightforward, we'll want to:\n",
        "\n",
        "1. Read in our `.csv` files into `pd.DataFrame` objects\n",
        "2. Create an in-memory `sqlite` powered `sqlalchemy` engine\n",
        "3. Cast our `pd.DataFrame` objects to the SQL engine\n",
        "4. Create an `SQLDatabase` object through LlamaIndex\n",
        "5. Use that to create a `QueryEngineTool` that we can interact with through the `NLSQLTableQueryEngine`!\n",
        "\n",
        "If you get stuck, please consult the documentation."
      ]
    },
    {
      "cell_type": "code",
      "source": [
        "!wget https://raw.githubusercontent.com/AI-Maker-Space/DataRepository/main/dune1.csv"
      ],
      "metadata": {
        "id": "WwWOygTqlNBh",
        "colab": {
          "base_uri": "https://localhost:8080/"
        },
        "outputId": "532dd9aa-1380-460d-d485-66ce539c5a0a"
      },
      "execution_count": 44,
      "outputs": [
        {
          "output_type": "stream",
          "name": "stdout",
          "text": [
            "--2024-03-12 19:30:17--  https://raw.githubusercontent.com/AI-Maker-Space/DataRepository/main/dune1.csv\n",
            "Resolving raw.githubusercontent.com (raw.githubusercontent.com)... 185.199.108.133, 185.199.109.133, 185.199.110.133, ...\n",
            "Connecting to raw.githubusercontent.com (raw.githubusercontent.com)|185.199.108.133|:443... connected.\n",
            "HTTP request sent, awaiting response... 200 OK\n",
            "Length: 133391 (130K) [text/plain]\n",
            "Saving to: ‘dune1.csv’\n",
            "\n",
            "\rdune1.csv             0%[                    ]       0  --.-KB/s               \rdune1.csv           100%[===================>] 130.26K  --.-KB/s    in 0.02s   \n",
            "\n",
            "2024-03-12 19:30:18 (8.34 MB/s) - ‘dune1.csv’ saved [133391/133391]\n",
            "\n"
          ]
        }
      ]
    },
    {
      "cell_type": "code",
      "source": [
        "!wget https://raw.githubusercontent.com/AI-Maker-Space/DataRepository/main/dune2.csv"
      ],
      "metadata": {
        "id": "TD_9LPL9lTlG",
        "colab": {
          "base_uri": "https://localhost:8080/"
        },
        "outputId": "003a4742-cbff-4eb3-d78b-0b74feba8923"
      },
      "execution_count": 45,
      "outputs": [
        {
          "output_type": "stream",
          "name": "stdout",
          "text": [
            "--2024-03-12 19:30:19--  https://raw.githubusercontent.com/AI-Maker-Space/DataRepository/main/dune2.csv\n",
            "Resolving raw.githubusercontent.com (raw.githubusercontent.com)... 185.199.108.133, 185.199.109.133, 185.199.110.133, ...\n",
            "Connecting to raw.githubusercontent.com (raw.githubusercontent.com)|185.199.108.133|:443... connected.\n",
            "HTTP request sent, awaiting response... 200 OK\n",
            "Length: 111843 (109K) [text/plain]\n",
            "Saving to: ‘dune2.csv’\n",
            "\n",
            "\rdune2.csv             0%[                    ]       0  --.-KB/s               \rdune2.csv           100%[===================>] 109.22K  --.-KB/s    in 0.01s   \n",
            "\n",
            "2024-03-12 19:30:19 (7.20 MB/s) - ‘dune2.csv’ saved [111843/111843]\n",
            "\n"
          ]
        }
      ]
    },
    {
      "cell_type": "markdown",
      "metadata": {
        "id": "8PUg-ZuTSWAC"
      },
      "source": [
        "#### Read `.csv` Into Pandas"
      ]
    },
    {
      "cell_type": "code",
      "execution_count": 46,
      "metadata": {
        "id": "52Hd8PM4SWAC"
      },
      "outputs": [],
      "source": [
        "import pandas as pd\n",
        "\n",
        "dune1_df = pd.read_csv(\"./dune1.csv\")\n",
        "dune2_df = pd.read_csv(\"./dune2.csv\")"
      ]
    },
    {
      "cell_type": "markdown",
      "metadata": {
        "id": "fPTNyqmpSWAC"
      },
      "source": [
        "#### Create SQLAlchemy engine with SQLite"
      ]
    },
    {
      "cell_type": "code",
      "execution_count": 47,
      "metadata": {
        "id": "4lfuPKYBSWAC"
      },
      "outputs": [],
      "source": [
        "from sqlalchemy import create_engine\n",
        "\n",
        "engine = create_engine(\"sqlite+pysqlite:///:memory:\")"
      ]
    },
    {
      "cell_type": "markdown",
      "metadata": {
        "id": "iJiYiSuHSWAC"
      },
      "source": [
        "#### Convert `pd.DataFrame` to SQL tables"
      ]
    },
    {
      "cell_type": "code",
      "execution_count": 48,
      "metadata": {
        "id": "W-96asUHSWAC",
        "outputId": "be685d6c-5456-496b-e89c-2289e15deba6",
        "colab": {
          "base_uri": "https://localhost:8080/"
        }
      },
      "outputs": [
        {
          "output_type": "execute_result",
          "data": {
            "text/plain": [
              "274"
            ]
          },
          "metadata": {},
          "execution_count": 48
        }
      ],
      "source": [
        "dune1_df.to_sql(\n",
        "    \"Dune (2021 film)\",\n",
        "    engine\n",
        ")"
      ]
    },
    {
      "cell_type": "code",
      "execution_count": 49,
      "metadata": {
        "id": "ZwOi1RE1SWAC",
        "outputId": "490cf899-170a-410a-deb8-2a3fa8d5ef23",
        "colab": {
          "base_uri": "https://localhost:8080/"
        }
      },
      "outputs": [
        {
          "output_type": "execute_result",
          "data": {
            "text/plain": [
              "175"
            ]
          },
          "metadata": {},
          "execution_count": 49
        }
      ],
      "source": [
        "dune2_df.to_sql(\n",
        "    \"Dune: Part 2\",\n",
        "    engine\n",
        ")"
      ]
    },
    {
      "cell_type": "markdown",
      "metadata": {
        "id": "pibA9qT7SWAC"
      },
      "source": [
        "#### Construct a `SQLDatabase` index\n",
        "\n",
        "Source Code Here:\n",
        "- [`SQLDatabase`](https://github.com/jerryjliu/llama_index/blob/d24767b0812ac56104497d8f59095eccbe9f2b08/llama_index/langchain_helpers/sql_wrapper.py#L9)"
      ]
    },
    {
      "cell_type": "code",
      "execution_count": 50,
      "metadata": {
        "id": "yeDYpR1LSWAD"
      },
      "outputs": [],
      "source": [
        "from llama_index.core import SQLDatabase\n",
        "\n",
        "sql_database = SQLDatabase(\n",
        "    engine=engine,\n",
        "    include_tables=[\"Dune (2021 film)\", \"Dune: Part 2\"]\n",
        ")"
      ]
    },
    {
      "cell_type": "markdown",
      "metadata": {
        "id": "-7VfZBenSWAD"
      },
      "source": [
        "#### Create the NLSQLTableQueryEngine interface for all added SQL tables\n",
        "\n",
        "Source Code Here:\n",
        "- [`NLSQLTableQueryEngine`](https://github.com/jerryjliu/llama_index/blob/d24767b0812ac56104497d8f59095eccbe9f2b08/llama_index/indices/struct_store/sql_query.py#L75C1-L75C1)"
      ]
    },
    {
      "cell_type": "code",
      "execution_count": 51,
      "metadata": {
        "id": "zQWSdMtrSWAD"
      },
      "outputs": [],
      "source": [
        "from llama_index.core.indices.struct_store.sql_query import NLSQLTableQueryEngine\n",
        "\n",
        "sql_query_engine = NLSQLTableQueryEngine(\n",
        "    sql_database=sql_database,\n",
        "    tables=[\"Dune (2021 film)\", \"Dune: Part 2\"],\n",
        ")"
      ]
    },
    {
      "cell_type": "markdown",
      "metadata": {
        "id": "yu8WfwuTSWAD"
      },
      "source": [
        "#### Wrap It All Up in a `QueryEngineTool`\n",
        "\n",
        "You'll want to ensure you have a descriptive...description.\n",
        "\n",
        "An example is provided here:\n",
        "\n",
        "```\n",
        "Useful for translating a natural language query into a SQL query over a table containing:\n",
        "John Wick 1, containing information related to reviews of the first John Wick movie, called John Wick\n",
        "John Wick 2, containing information related to reviews of the second John Wick movie, called John Wick: Chapter 2\n",
        "John Wick 3, containing information related to reviews of the third John Wick movie, called John Wick: Chatper 3 - Parabellum\n",
        "John Wick 4, containing information related to reviews of the fourth John Wick movie, called John Wick: Chatper 4\n",
        "```\n",
        "\n",
        "Sorce Code Here:\n",
        "\n",
        "- [`QueryEngineTool`](https://github.com/jerryjliu/llama_index/blob/d24767b0812ac56104497d8f59095eccbe9f2b08/llama_index/tools/query_engine.py#L13)"
      ]
    },
    {
      "cell_type": "markdown",
      "source": [
        "####🏗️ Activity #1:\n",
        "\n",
        "Please write a Natural Language Description for the tables that we are using today."
      ],
      "metadata": {
        "id": "yDB2m2dnU54L"
      }
    },
    {
      "cell_type": "code",
      "source": [
        "DESCRIPTION = \"\"\"\\\n",
        "\n",
        "You function as a translator, converting natural language requests into SQL queries for tables that hold information on:\n",
        "\n",
        "Reviews of the initial Dune movie, titled \"Dune (2021 film)\"\n",
        "Reviews of the sequel, referred to as \"Dune: Part 2\"\n",
        "\n",
        "It is also referenced in the following way:\n",
        "1. Dune (2021 film)\n",
        "2. Dune: Part 2\n",
        "\n",
        "\"\"\""
      ],
      "metadata": {
        "id": "4n567cXVVCtX"
      },
      "execution_count": 52,
      "outputs": []
    },
    {
      "cell_type": "code",
      "execution_count": 53,
      "metadata": {
        "id": "y-mmcBbLSWAD"
      },
      "outputs": [],
      "source": [
        "from llama_index.core.tools.query_engine import QueryEngineTool\n",
        "\n",
        "sql_tool = QueryEngineTool.from_defaults(\n",
        "    query_engine=sql_query_engine,\n",
        "    name=\"sql-query\",\n",
        "    description=DESCRIPTION,\n",
        ")"
      ]
    },
    {
      "cell_type": "code",
      "execution_count": 54,
      "metadata": {
        "id": "feOrlq4XSWAD"
      },
      "outputs": [],
      "source": [
        "agent = OpenAIAgent.from_tools(\n",
        "    tools=[sql_tool],\n",
        "    verbose=True\n",
        ")"
      ]
    },
    {
      "cell_type": "code",
      "execution_count": 55,
      "metadata": {
        "id": "iT4G6stBSWAD",
        "outputId": "69bd7295-96de-454b-b06d-ab81549503cb",
        "colab": {
          "base_uri": "https://localhost:8080/"
        }
      },
      "outputs": [
        {
          "output_type": "stream",
          "name": "stdout",
          "text": [
            "Added user message to memory: What is the average rating of the 2nd Dune movie?\n",
            "=== Calling Function ===\n",
            "Calling function: sql-query with args: {\"input\":\"SELECT AVG(rating) AS average_rating FROM reviews WHERE movie_title = 'Dune: Part 2'\"}\n",
            "Got output: The average rating for \"Dune: Part 2\" is 8.71.\n",
            "========================\n",
            "\n"
          ]
        },
        {
          "output_type": "stream",
          "name": "stderr",
          "text": [
            "\u001b[34m\u001b[1mwandb\u001b[0m: Logged trace tree to W&B.\n"
          ]
        }
      ],
      "source": [
        "response = agent.chat(\"What is the average rating of the 2nd Dune movie?\")"
      ]
    },
    {
      "cell_type": "code",
      "execution_count": 56,
      "metadata": {
        "id": "NhsoxOpkSWAD",
        "outputId": "4081abd7-096d-4559-bd01-445ee4ff1596",
        "colab": {
          "base_uri": "https://localhost:8080/"
        }
      },
      "outputs": [
        {
          "output_type": "stream",
          "name": "stdout",
          "text": [
            "The average rating for the 2nd Dune movie, \"Dune: Part 2,\" is 8.71.\n"
          ]
        }
      ],
      "source": [
        "print(str(response))"
      ]
    },
    {
      "cell_type": "markdown",
      "metadata": {
        "id": "-2LOixbcSWAD"
      },
      "source": [
        "### Task 2: Combined RAG Pipeline\n",
        "\n",
        "Now, we can simply add our tools into the `OpenAIAgent`, and off we go!"
      ]
    },
    {
      "cell_type": "code",
      "execution_count": 57,
      "metadata": {
        "id": "uxFHM2l2SWAD"
      },
      "outputs": [],
      "source": [
        "dune_agent = OpenAIAgent.from_tools(\n",
        "    tools=[auto_retrieve_tool, sql_tool],\n",
        "    verbose=True\n",
        ")"
      ]
    },
    {
      "cell_type": "code",
      "execution_count": 58,
      "metadata": {
        "id": "mYVHuBf9SWAD",
        "outputId": "95fbb289-47c6-46a4-bab9-a9d16f5ba25f",
        "colab": {
          "base_uri": "https://localhost:8080/"
        }
      },
      "outputs": [
        {
          "output_type": "stream",
          "name": "stdout",
          "text": [
            "Added user message to memory: What is the lowest rating of the 1st film?\n",
            "=== Calling Function ===\n",
            "Calling function: sql-query with args: {\"input\":\"lowest rating of the 1st film\"}\n",
            "Got output: The lowest rating of the first film \"Dune (2021)\" is 1.0.\n",
            "========================\n",
            "\n"
          ]
        },
        {
          "output_type": "stream",
          "name": "stderr",
          "text": [
            "\u001b[34m\u001b[1mwandb\u001b[0m: Logged trace tree to W&B.\n"
          ]
        }
      ],
      "source": [
        "response = dune_agent.chat(\"What is the lowest rating of the 1st film?\")"
      ]
    },
    {
      "cell_type": "code",
      "execution_count": 59,
      "metadata": {
        "id": "k0w0VbomSWAD",
        "outputId": "1d2a87c0-b7a5-4656-fcf7-002feef062d1",
        "colab": {
          "base_uri": "https://localhost:8080/"
        }
      },
      "outputs": [
        {
          "output_type": "stream",
          "name": "stdout",
          "text": [
            "The lowest rating of the first film \"Dune (2021)\" is 1.0.\n"
          ]
        }
      ],
      "source": [
        "print(str(response))"
      ]
    },
    {
      "cell_type": "code",
      "execution_count": 60,
      "metadata": {
        "id": "BJvN-vtJSWAD",
        "outputId": "77bc0112-13b9-4496-87ef-fcd44916cb85",
        "colab": {
          "base_uri": "https://localhost:8080/"
        }
      },
      "outputs": [
        {
          "output_type": "stream",
          "name": "stdout",
          "text": [
            "Added user message to memory: What planet does the 1st Dune movie take place on?\n",
            "=== Calling Function ===\n",
            "Calling function: semantic-film-info with args: {\"query\":\"planet where the 1st Dune movie takes place\",\"filter_key_list\":[\"title\"],\"filter_value_list\":[\"Dune (2021 film)\"]}\n",
            "Got output: Arrakis\n",
            "========================\n",
            "\n"
          ]
        },
        {
          "output_type": "stream",
          "name": "stderr",
          "text": [
            "\u001b[34m\u001b[1mwandb\u001b[0m: Logged trace tree to W&B.\n"
          ]
        }
      ],
      "source": [
        "response = dune_agent.chat(\"What planet does the 1st Dune movie take place on?\")"
      ]
    },
    {
      "cell_type": "code",
      "execution_count": 61,
      "metadata": {
        "id": "F74wGv6NSWAD",
        "outputId": "f25914ea-0d4b-4d28-ffb2-8c723a2c7a5e",
        "colab": {
          "base_uri": "https://localhost:8080/"
        }
      },
      "outputs": [
        {
          "output_type": "stream",
          "name": "stdout",
          "text": [
            "The first Dune movie takes place on the planet Arrakis.\n"
          ]
        }
      ],
      "source": [
        "print(str(response))"
      ]
    },
    {
      "cell_type": "code",
      "source": [
        "response = dune_agent.chat(\"Calculate the average review of each movie - and then discuss how the average review changed over time.\")"
      ],
      "metadata": {
        "colab": {
          "base_uri": "https://localhost:8080/"
        },
        "id": "Lvat4hmkvn3N",
        "outputId": "d76e41a7-94a6-4247-c8c8-1f201ad28ebb"
      },
      "execution_count": 62,
      "outputs": [
        {
          "output_type": "stream",
          "name": "stdout",
          "text": [
            "Added user message to memory: Calculate the average review of each movie - and then discuss how the average review changed over time.\n",
            "=== Calling Function ===\n",
            "Calling function: sql-query with args: {\"input\": \"average review of Dune (2021 film)\"}\n",
            "Got output: The average review rating for the film \"Dune\" (2021) is approximately 8.34 out of 10.\n",
            "========================\n",
            "\n",
            "=== Calling Function ===\n",
            "Calling function: sql-query with args: {\"input\": \"average review of Dune: Part 2\"}\n",
            "Got output: The average review for Dune: Part 2 is 8.71 out of 10.\n",
            "========================\n",
            "\n"
          ]
        },
        {
          "output_type": "stream",
          "name": "stderr",
          "text": [
            "\u001b[34m\u001b[1mwandb\u001b[0m: Logged trace tree to W&B.\n"
          ]
        }
      ]
    },
    {
      "cell_type": "code",
      "source": [
        "print(str(response))"
      ],
      "metadata": {
        "colab": {
          "base_uri": "https://localhost:8080/"
        },
        "id": "BEOpeuAovtZM",
        "outputId": "7ea48b69-d710-4b25-b843-10c4f7959700"
      },
      "execution_count": 63,
      "outputs": [
        {
          "output_type": "stream",
          "name": "stdout",
          "text": [
            "The average review rating for the film \"Dune (2021)\" is approximately 8.34 out of 10, and for \"Dune: Part 2\" is 8.71 out of 10.\n",
            "\n",
            "Discussing how the average review changed over time:\n",
            "- The average review for \"Dune (2021)\" is slightly lower at 8.34 compared to \"Dune: Part 2\" at 8.71.\n",
            "- The increase in the average review score from the first film to the sequel indicates a positive reception and potentially an improvement in the sequel's storytelling, performances, or overall impact on the audience.\n",
            "- The increase in the average review score suggests that \"Dune: Part 2\" was well-received by viewers, possibly building on the success and quality of the first film.\n"
          ]
        }
      ]
    },
    {
      "cell_type": "code",
      "source": [],
      "metadata": {
        "id": "_QNCkqCXJ-8p"
      },
      "execution_count": null,
      "outputs": []
    },
    {
      "cell_type": "code",
      "source": [
        "\n",
        "# Try out examples\n",
        "response = dune_agent.chat(\"Based on the Dune part 1 and Dune part 2, what is the movie Dune 3 going to be about? You can give your best guess\")\n",
        "print(str(response))"
      ],
      "metadata": {
        "colab": {
          "base_uri": "https://localhost:8080/"
        },
        "id": "R0v1DKPaJ-5A",
        "outputId": "55a26a2d-b622-4f31-e67d-4548fada2098"
      },
      "execution_count": 64,
      "outputs": [
        {
          "output_type": "stream",
          "name": "stdout",
          "text": [
            "Added user message to memory: Based on the Dune part 1 and Dune part 2, what is the movie Dune 3 going to be about? You can give your best guess\n"
          ]
        },
        {
          "output_type": "stream",
          "name": "stderr",
          "text": [
            "\u001b[34m\u001b[1mwandb\u001b[0m: Logged trace tree to W&B.\n"
          ]
        },
        {
          "output_type": "stream",
          "name": "stdout",
          "text": [
            "To provide a speculative answer on what the movie \"Dune 3\" might be about based on \"Dune Part 1\" and \"Dune Part 2,\" we can consider the continuation of the storyline from the original Dune series by Frank Herbert. \n",
            "\n",
            "Given the complex and rich universe of Dune, \"Dune 3\" could potentially explore the following themes or storylines:\n",
            "1. **Further Exploration of Arrakis**: The planet Arrakis, with its valuable spice melange and intricate political dynamics, could continue to be a central focus in \"Dune 3.\"\n",
            "2. **Rise of New Characters**: Introducing new characters or further developing existing ones to navigate the power struggles, alliances, and conflicts within the Dune universe.\n",
            "3. **Continuation of the Atreides Saga**: Following the journey of House Atreides and its members, including Paul Atreides, as they face new challenges and revelations.\n",
            "4. **Political Intrigues and Betrayals**: Delving deeper into the political landscape of the Imperium, the Bene Gesserit, the Spacing Guild, and other factions vying for control.\n",
            "5. **Exploration of Prophecies and Mysticism**: Unraveling the prophecies surrounding the messianic figure of Muad'Dib and the influence of prescience on the characters' decisions.\n",
            "\n",
            "\"Dune 3\" could potentially explore these elements while continuing to captivate audiences with its epic scope, intricate world-building, and thought-provoking themes.\n"
          ]
        }
      ]
    },
    {
      "cell_type": "code",
      "source": [
        "response = dune_agent.chat(\"How did Paul Altrides character evolve from Dune 1 to Dune 2? respond in a list\")\n",
        "print(str(response))"
      ],
      "metadata": {
        "colab": {
          "base_uri": "https://localhost:8080/"
        },
        "id": "j-YWxAfJJ-Xc",
        "outputId": "85575dbf-3d7c-4cea-e666-358b0b4ebe78"
      },
      "execution_count": 65,
      "outputs": [
        {
          "output_type": "stream",
          "name": "stdout",
          "text": [
            "Added user message to memory: How did Paul Altrides character evolve from Dune 1 to Dune 2? respond in a list\n",
            "=== Calling Function ===\n",
            "Calling function: semantic-film-info with args: {\"query\": \"evolution of Paul Atreides character in Dune (2021 film)\", \"filter_key_list\": [\"title\"], \"filter_value_list\": [\"Dune (2021 film)\"]}\n",
            "Got output: The evolution of Paul Atreides' character in the Dune (2021) film showcases his journey from a ducal heir of House Atreides to a young man who undergoes intense premonitions triggered by his exposure to spice. As the story progresses, Paul faces assassination attempts, betrayal, and the invasion of Arrakis, leading to pivotal moments where he displays courage, strategic thinking, and a growing sense of responsibility. His encounters with different characters, such as Duncan, Kynes, and Stilgar, shape his understanding of the world around him and his role in the unfolding events. Ultimately, Paul's decision to join the Fremen tribe reflects his determination to fulfill his father's goals and bring peace to Arrakis, marking a significant transformation in his character throughout the film.\n",
            "========================\n",
            "\n",
            "=== Calling Function ===\n",
            "Calling function: semantic-film-info with args: {\"query\": \"evolution of Paul Atreides character in Dune: Part 2\", \"filter_key_list\": [\"title\"], \"filter_value_list\": [\"Dune: Part 2\"]}\n",
            "Got output: Empty Response\n",
            "========================\n",
            "\n"
          ]
        },
        {
          "output_type": "stream",
          "name": "stderr",
          "text": [
            "\u001b[34m\u001b[1mwandb\u001b[0m: Logged trace tree to W&B.\n"
          ]
        },
        {
          "output_type": "stream",
          "name": "stdout",
          "text": [
            "The evolution of Paul Atreides' character from \"Dune (2021)\" to \"Dune: Part 2\" can be summarized as follows:\n",
            "\n",
            "**Dune (2021 film):**\n",
            "1. Paul Atreides starts as a ducal heir of House Atreides.\n",
            "2. He experiences intense premonitions triggered by his exposure to spice.\n",
            "3. Faces assassination attempts, betrayal, and the invasion of Arrakis.\n",
            "4. Displays courage, strategic thinking, and a growing sense of responsibility.\n",
            "5. Interacts with characters like Duncan, Kynes, and Stilgar, shaping his understanding of the world.\n",
            "6. Joins the Fremen tribe, showing determination to fulfill his father's goals and bring peace to Arrakis.\n",
            "\n",
            "**Dune: Part 2:**\n",
            "1. (No specific information provided in the response)\n",
            "\n",
            "The evolution of Paul Atreides' character in \"Dune (2021)\" showcases his growth from a young heir facing challenges to a determined leader embracing his destiny and responsibilities.\n"
          ]
        }
      ]
    },
    {
      "cell_type": "markdown",
      "source": [
        "####❓ Question #4:\n",
        "\n",
        "How can you verify which tool was used for which query?\n",
        "\n",
        "### **ANSWER:\n",
        "We can use a method `response.sources`. Answer for this context is `['semantic-film-info', 'semantic-film-info']`"
      ],
      "metadata": {
        "id": "WUVzyUtKqdUf"
      }
    },
    {
      "cell_type": "code",
      "source": [
        "\n",
        "response.sources\n"
      ],
      "metadata": {
        "colab": {
          "base_uri": "https://localhost:8080/"
        },
        "id": "R0lHOsUSKbqh",
        "outputId": "7725fa90-1449-46a1-9935-2e00852ca881"
      },
      "execution_count": 66,
      "outputs": [
        {
          "output_type": "execute_result",
          "data": {
            "text/plain": [
              "[ToolOutput(content=\"The evolution of Paul Atreides' character in the Dune (2021) film showcases his journey from a ducal heir of House Atreides to a young man who undergoes intense premonitions triggered by his exposure to spice. As the story progresses, Paul faces assassination attempts, betrayal, and the invasion of Arrakis, leading to pivotal moments where he displays courage, strategic thinking, and a growing sense of responsibility. His encounters with different characters, such as Duncan, Kynes, and Stilgar, shape his understanding of the world around him and his role in the unfolding events. Ultimately, Paul's decision to join the Fremen tribe reflects his determination to fulfill his father's goals and bring peace to Arrakis, marking a significant transformation in his character throughout the film.\", tool_name='semantic-film-info', raw_input={'args': (), 'kwargs': {'query': 'evolution of Paul Atreides character in Dune (2021 film)', 'filter_key_list': ['title'], 'filter_value_list': ['Dune (2021 film)']}}, raw_output=\"The evolution of Paul Atreides' character in the Dune (2021) film showcases his journey from a ducal heir of House Atreides to a young man who undergoes intense premonitions triggered by his exposure to spice. As the story progresses, Paul faces assassination attempts, betrayal, and the invasion of Arrakis, leading to pivotal moments where he displays courage, strategic thinking, and a growing sense of responsibility. His encounters with different characters, such as Duncan, Kynes, and Stilgar, shape his understanding of the world around him and his role in the unfolding events. Ultimately, Paul's decision to join the Fremen tribe reflects his determination to fulfill his father's goals and bring peace to Arrakis, marking a significant transformation in his character throughout the film.\"),\n",
              " ToolOutput(content='Empty Response', tool_name='semantic-film-info', raw_input={'args': (), 'kwargs': {'query': 'evolution of Paul Atreides character in Dune: Part 2', 'filter_key_list': ['title'], 'filter_value_list': ['Dune: Part 2']}}, raw_output='Empty Response')]"
            ]
          },
          "metadata": {},
          "execution_count": 66
        }
      ]
    },
    {
      "cell_type": "code",
      "source": [
        "tool_names = [source.tool_name for source in response.sources]\n",
        "tool_names"
      ],
      "metadata": {
        "colab": {
          "base_uri": "https://localhost:8080/"
        },
        "id": "pr3nc1MOKoti",
        "outputId": "979de1c0-aebf-4c41-c328-ebe1fff551b6"
      },
      "execution_count": 68,
      "outputs": [
        {
          "output_type": "execute_result",
          "data": {
            "text/plain": [
              "['semantic-film-info', 'semantic-film-info']"
            ]
          },
          "metadata": {},
          "execution_count": 68
        }
      ]
    },
    {
      "cell_type": "code",
      "execution_count": 69,
      "metadata": {
        "id": "D3ELqzOvSWAD"
      },
      "outputs": [],
      "source": [
        "wandb_callback.finish()"
      ]
    },
    {
      "cell_type": "code",
      "source": [],
      "metadata": {
        "id": "0-jXPenEK6Rn"
      },
      "execution_count": null,
      "outputs": []
    }
  ],
  "metadata": {
    "kernelspec": {
      "display_name": "Python 3",
      "language": "python",
      "name": "python3"
    },
    "language_info": {
      "codemirror_mode": {
        "name": "ipython",
        "version": 3
      },
      "file_extension": ".py",
      "mimetype": "text/x-python",
      "name": "python",
      "nbconvert_exporter": "python",
      "pygments_lexer": "ipython3",
      "version": "3.9.18"
    },
    "orig_nbformat": 4,
    "colab": {
      "provenance": [],
      "toc_visible": true
    }
  },
  "nbformat": 4,
  "nbformat_minor": 0
}