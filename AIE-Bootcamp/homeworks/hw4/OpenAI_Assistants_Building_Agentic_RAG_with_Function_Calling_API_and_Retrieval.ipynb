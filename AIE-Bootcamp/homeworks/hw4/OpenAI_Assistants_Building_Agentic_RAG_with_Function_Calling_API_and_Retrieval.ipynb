{
  "nbformat": 4,
  "nbformat_minor": 0,
  "metadata": {
    "colab": {
      "provenance": []
    },
    "kernelspec": {
      "name": "python3",
      "display_name": "Python 3"
    },
    "language_info": {
      "name": "python"
    }
  },
  "cells": [
    {
      "cell_type": "markdown",
      "source": [
        "# OpenAI Assistants - Building Agentic RAG with the Function Calling, Retrieval, and Code Interpreter Tools\n",
        "\n",
        "Today we'll explore using OpenAI's Python SDK to create, manage, and use the OpenAI Assistant API!"
      ],
      "metadata": {
        "id": "RgDepNVhvzIr"
      }
    },
    {
      "cell_type": "markdown",
      "source": [
        "## Dependencies\n",
        "\n",
        "We'll start, as we usually do, with some dependiencies and our API key!"
      ],
      "metadata": {
        "id": "RNU6b3ymwOWq"
      }
    },
    {
      "cell_type": "code",
      "execution_count": 2,
      "metadata": {
        "id": "ePayyL6at6LS",
        "colab": {
          "base_uri": "https://localhost:8080/"
        },
        "outputId": "0d7e082d-a473-4493-d788-05070f9187c1"
      },
      "outputs": [
        {
          "output_type": "stream",
          "name": "stdout",
          "text": [
            "\u001b[2K     \u001b[90m━━━━━━━━━━━━━━━━━━━━━━━━━━━━━━━━━━━━━━━━\u001b[0m \u001b[32m226.7/226.7 kB\u001b[0m \u001b[31m4.9 MB/s\u001b[0m eta \u001b[36m0:00:00\u001b[0m\n",
            "\u001b[2K     \u001b[90m━━━━━━━━━━━━━━━━━━━━━━━━━━━━━━━━━━━━━━━━\u001b[0m \u001b[32m75.6/75.6 kB\u001b[0m \u001b[31m8.2 MB/s\u001b[0m eta \u001b[36m0:00:00\u001b[0m\n",
            "\u001b[2K     \u001b[90m━━━━━━━━━━━━━━━━━━━━━━━━━━━━━━━━━━━━━━━━\u001b[0m \u001b[32m77.8/77.8 kB\u001b[0m \u001b[31m9.2 MB/s\u001b[0m eta \u001b[36m0:00:00\u001b[0m\n",
            "\u001b[2K     \u001b[90m━━━━━━━━━━━━━━━━━━━━━━━━━━━━━━━━━━━━━━━━\u001b[0m \u001b[32m58.3/58.3 kB\u001b[0m \u001b[31m6.9 MB/s\u001b[0m eta \u001b[36m0:00:00\u001b[0m\n",
            "\u001b[?25h"
          ]
        }
      ],
      "source": [
        "!pip install -qU openai"
      ]
    },
    {
      "cell_type": "code",
      "source": [
        "from getpass import getpass\n",
        "import os\n",
        "\n",
        "os.environ[\"OPENAI_API_KEY\"] = getpass(\"OpenAI API Key:\")"
      ],
      "metadata": {
        "colab": {
          "base_uri": "https://localhost:8080/"
        },
        "id": "unKr3HZdu-1V",
        "outputId": "bccb0253-633c-4654-bddc-d09ecbb63c25"
      },
      "execution_count": 3,
      "outputs": [
        {
          "name": "stdout",
          "output_type": "stream",
          "text": [
            "OpenAI API Key:··········\n"
          ]
        }
      ]
    },
    {
      "cell_type": "markdown",
      "source": [
        "## Simple Assistant\n",
        "\n",
        "Let's create a simple Assistant to understand more about how the API works to start!"
      ],
      "metadata": {
        "id": "nwNE7N4HwhXH"
      }
    },
    {
      "cell_type": "markdown",
      "source": [
        "### OpenAI Client\n",
        "\n",
        "At the core of the OpenAI Python SDK is the Client!\n",
        "\n",
        "> NOTE: For ease of use, we'll start with the synchronous `OpenAI()`. OpenAI does provide an `AsyncOpenAI()` that you could leverage as well!"
      ],
      "metadata": {
        "id": "KKEwbLMFxNKs"
      }
    },
    {
      "cell_type": "code",
      "source": [
        "from openai import OpenAI\n",
        "\n",
        "client = OpenAI()"
      ],
      "metadata": {
        "id": "wF-mBZwtuavl"
      },
      "execution_count": 4,
      "outputs": []
    },
    {
      "cell_type": "markdown",
      "source": [
        "### Creating An Assistant\n",
        "\n",
        "Leveraging what we know about the OpenAI API from previous sessions - we're going to start by simply initializing an Assistant.\n",
        "\n",
        "Before we begin, we need to think about a few customization options we have:\n",
        "\n",
        "- `name` - Straight forward enough, this is what our Assistant's name will be\n",
        "- `instructions` - similar to a system message, but applied at an Assistant level, this is how we can guide the Assistant's tone, behaviour, functionality, and more!\n",
        "- `model` - this will allow us to choose which model we would prefer to use for our Assistant\n",
        "\n",
        "Let's start by setting some instructions for our Assistant.\n",
        "\n"
      ],
      "metadata": {
        "id": "0aIx4GZ2w_1c"
      }
    },
    {
      "cell_type": "code",
      "source": [
        "# @markdown #### 🏗️ Build Activity 🏗️\n",
        "# @markdown Fill out the fields below to add your Assistant's name, instructions, and desired model!\n",
        "\n",
        "name = \"coffee maker\" # @param {type: \"string\"}\n",
        "instructions = \"create the best morning cofffee. you are a wizard in the coffee making world. The best of the best barista.\" # @param {type: \"string\"}\n",
        "model = \"gpt-3.5-turbo\" # @param [\"gpt-3.5-turbo\", \"gpt-4-turbo-preview\", \"gpt-4\"]"
      ],
      "metadata": {
        "id": "Paqd6zWMyMAJ"
      },
      "execution_count": 5,
      "outputs": []
    },
    {
      "cell_type": "markdown",
      "source": [
        "### Initialize Assistant\n",
        "\n",
        "Now that we have our desired name, instruction, and model - we can initialize our Assistant!"
      ],
      "metadata": {
        "id": "WUeaDsLMzcv-"
      }
    },
    {
      "cell_type": "code",
      "source": [
        "assistant = client.beta.assistants.create(\n",
        "    name=name,\n",
        "    instructions=instructions,\n",
        "    model=model,\n",
        ")"
      ],
      "metadata": {
        "id": "6-4MgVLbu8rO"
      },
      "execution_count": 6,
      "outputs": []
    },
    {
      "cell_type": "markdown",
      "source": [
        "Let's examine our `assistant` object and see what we find!"
      ],
      "metadata": {
        "id": "QskO5n5W2X6t"
      }
    },
    {
      "cell_type": "code",
      "source": [
        "assistant"
      ],
      "metadata": {
        "colab": {
          "base_uri": "https://localhost:8080/"
        },
        "id": "nkkIC_JP2bG0",
        "outputId": "3515003c-45ea-4d9b-a315-5d1f5276acb6"
      },
      "execution_count": 7,
      "outputs": [
        {
          "output_type": "execute_result",
          "data": {
            "text/plain": [
              "Assistant(id='asst_6t5pQttxXuKplnyiLCT8QYFA', created_at=1709137440, description=None, file_ids=[], instructions='create the best morning cofffee. you are a wizard in the coffee making world. The best of the best barista.', metadata={}, model='gpt-3.5-turbo', name='coffee maker', object='assistant', tools=[])"
            ]
          },
          "metadata": {},
          "execution_count": 7
        }
      ]
    },
    {
      "cell_type": "markdown",
      "source": [
        "There are a number of useful parameters here, but we'll call out a few:\n",
        "\n",
        "- `id` - since we may have multiple Assistant's, knowing which Assistant we're interacting with will help us ensure the desired user experience!\n",
        "- `description` - A natrual language description of our Assistant could help others understand what it's supposed to do!\n",
        "- `file_ids` - if we wanted to use the Retrieval tool, this would let us know what files we had given our Assistant"
      ],
      "metadata": {
        "id": "615NK1Qj2e_Z"
      }
    },
    {
      "cell_type": "markdown",
      "source": [
        "### Creating a Thread\n",
        "\n",
        "Behind the scenes our Assistant is powered by the idea of \"threads\".\n",
        "\n",
        "You can think of threads as individual conversations that interact with the Assistant.\n",
        "\n",
        "Let's create a thread now!"
      ],
      "metadata": {
        "id": "-3HhlqtM0AhW"
      }
    },
    {
      "cell_type": "code",
      "source": [
        "thread = client.beta.threads.create()"
      ],
      "metadata": {
        "id": "iFVM39vevT5f"
      },
      "execution_count": 8,
      "outputs": []
    },
    {
      "cell_type": "markdown",
      "source": [
        "Let's look at our `thread` object."
      ],
      "metadata": {
        "id": "_Y7jelq01PoG"
      }
    },
    {
      "cell_type": "code",
      "source": [
        "thread"
      ],
      "metadata": {
        "colab": {
          "base_uri": "https://localhost:8080/"
        },
        "id": "5V8WAKDZ1Uf2",
        "outputId": "15cbb243-fa13-4bf0-90ba-b8f710409c40"
      },
      "execution_count": 9,
      "outputs": [
        {
          "output_type": "execute_result",
          "data": {
            "text/plain": [
              "Thread(id='thread_08zTUXmhqEbdocjaq2yUumQu', created_at=1709137442, metadata={}, object='thread')"
            ]
          },
          "metadata": {},
          "execution_count": 9
        }
      ]
    },
    {
      "cell_type": "code",
      "source": [
        "thread.id"
      ],
      "metadata": {
        "colab": {
          "base_uri": "https://localhost:8080/",
          "height": 35
        },
        "id": "iCplouRY_aOD",
        "outputId": "3c56299d-dd38-46cf-c246-0221e253639c"
      },
      "execution_count": 10,
      "outputs": [
        {
          "output_type": "execute_result",
          "data": {
            "text/plain": [
              "'thread_08zTUXmhqEbdocjaq2yUumQu'"
            ],
            "application/vnd.google.colaboratory.intrinsic+json": {
              "type": "string"
            }
          },
          "metadata": {},
          "execution_count": 10
        }
      ]
    },
    {
      "cell_type": "markdown",
      "source": [
        "Notice some key attributes:\n",
        "\n",
        "- `id` - since each Thread is like a conversation, we need some way to specify which thread we're dealing with when interacting with them\n",
        "- `tool_resources` - this will become more relevant as we add tools since we'll need a way to verify which tools we have access to when interacting with our Assistant"
      ],
      "metadata": {
        "id": "4k6S_e501V4z"
      }
    },
    {
      "cell_type": "markdown",
      "source": [
        "### Adding Messages to Our Thread\n",
        "\n",
        "Now that we have our Thread (or conversation) we can start adding messages to it!\n",
        "\n",
        "Let's add a simple message that asks about how our Assistant is feeling.\n",
        "\n",
        "Notice the parameters we're leveraging:\n",
        "\n",
        "- `thread_id` - since each Thread is like a conversation, we need some way to address a specific conversation. We can use `thread.id` to do this.\n",
        "- `role` - similar to when we used our chat completions endpoint, this parameter specifies who the message is coming from. You can leverage this in the same ways you would through the chat completions endpoint.\n",
        "- `content` - this is where we can place the actual text our Assistant will interact with\n",
        "\n",
        "> NOTE: Feel free to substitute a relevant message based on the Assistant you created"
      ],
      "metadata": {
        "id": "P5BvGv1N0c2h"
      }
    },
    {
      "cell_type": "code",
      "source": [
        "message = client.beta.threads.messages.create(\n",
        "    thread_id=thread.id,\n",
        "    role=\"user\",\n",
        "    content=f\"Is medium roast coffee good or light roast coffee good?\"\n",
        ")"
      ],
      "metadata": {
        "id": "R7ZNCfGivagg"
      },
      "execution_count": 11,
      "outputs": []
    },
    {
      "cell_type": "markdown",
      "source": [
        "Again, let's examine our `message` object!"
      ],
      "metadata": {
        "id": "Uc7R3Sr32P0b"
      }
    },
    {
      "cell_type": "code",
      "source": [
        "message"
      ],
      "metadata": {
        "colab": {
          "base_uri": "https://localhost:8080/"
        },
        "id": "wMLvyZDA2S_D",
        "outputId": "88f9c4c9-a707-49af-dd3c-1616778ce41f"
      },
      "execution_count": 12,
      "outputs": [
        {
          "output_type": "execute_result",
          "data": {
            "text/plain": [
              "ThreadMessage(id='msg_pORkXUl5BTtLt7tjoSod1FCa', assistant_id=None, content=[MessageContentText(text=Text(annotations=[], value='Is medium roast coffee good or light roast coffee good?'), type='text')], created_at=1709137443, file_ids=[], metadata={}, object='thread.message', role='user', run_id=None, thread_id='thread_08zTUXmhqEbdocjaq2yUumQu')"
            ]
          },
          "metadata": {},
          "execution_count": 12
        }
      ]
    },
    {
      "cell_type": "markdown",
      "source": [
        "### Running Our Thread\n",
        "\n",
        "Now that we have an Assistant, and we've given that Assistant a Thread, and we've added a Message to that Thread - we're ready to run our Assistant!\n",
        "\n",
        "Notice that this process lets us add (potentially) multiple messages to our Assistant. We can leverage that behaviour for few/many-shot examples, and more!"
      ],
      "metadata": {
        "id": "uI3Pctpk29og"
      }
    },
    {
      "cell_type": "code",
      "source": [
        "# @markdown #### 🏗️ Build Activity 🏗️\n",
        "# @markdown We can also override the Assistant's instructions when we run a thread.\n",
        "\n",
        "# @markdown Use one of the [Prompt Principles for Instruction](https://arxiv.org/pdf/2312.16171v1.pdf) to improve the likeliehood of a correct or valuable response from your Assistant.\n",
        "\n",
        "additional_instructions = \"Use leading words like writing “think step by step\\\".\" # @param {type: \"string\"}"
      ],
      "metadata": {
        "cellView": "form",
        "id": "VkvsXv5_3cyQ"
      },
      "execution_count": 13,
      "outputs": []
    },
    {
      "cell_type": "markdown",
      "source": [
        "Let's run our Thread!"
      ],
      "metadata": {
        "id": "7CuGbTrL5QEc"
      }
    },
    {
      "cell_type": "code",
      "source": [
        "run = client.beta.threads.runs.create(\n",
        "  thread_id=thread.id,\n",
        "  assistant_id=assistant.id,\n",
        "  instructions=instructions + \" \" + additional_instructions\n",
        ")"
      ],
      "metadata": {
        "id": "fpWNl3UVvdW4"
      },
      "execution_count": 14,
      "outputs": []
    },
    {
      "cell_type": "markdown",
      "source": [
        "Now that we've run our thread, let's look at the object!"
      ],
      "metadata": {
        "id": "erMGdU7y6la2"
      }
    },
    {
      "cell_type": "code",
      "source": [
        "run"
      ],
      "metadata": {
        "colab": {
          "base_uri": "https://localhost:8080/"
        },
        "id": "Kz_rfwi869YI",
        "outputId": "31f9fce9-b9b3-412b-90b8-a03e887b2a31"
      },
      "execution_count": 15,
      "outputs": [
        {
          "output_type": "execute_result",
          "data": {
            "text/plain": [
              "Run(id='run_8fTJU7WsNjY3LdVyxv6ASBVZ', assistant_id='asst_6t5pQttxXuKplnyiLCT8QYFA', cancelled_at=None, completed_at=None, created_at=1709137445, expires_at=1709138045, failed_at=None, file_ids=[], instructions='create the best morning cofffee. you are a wizard in the coffee making world. The best of the best barista. Use leading words like writing “think step by step\".', last_error=None, metadata={}, model='gpt-3.5-turbo', object='thread.run', required_action=None, started_at=None, status='queued', thread_id='thread_08zTUXmhqEbdocjaq2yUumQu', tools=[], usage=None)"
            ]
          },
          "metadata": {},
          "execution_count": 15
        }
      ]
    },
    {
      "cell_type": "markdown",
      "source": [
        "Notice we have access to a few very powerful parameters in this `run` object.\n",
        "\n",
        "- `completed_at` - this will help us determine when we can expect to retrieve a response\n",
        "- `failed_at` - this can highlight any issues our run ran into\n",
        "- `status` - is another way we can understand how the flow is going"
      ],
      "metadata": {
        "id": "-h2SH_347JJb"
      }
    },
    {
      "cell_type": "markdown",
      "source": [
        "### Retrieving Our Run\n",
        "\n",
        "Now that we've created our run, let's retrieve it.\n",
        "\n",
        "We're going to wrap this in a simple loop to make sure we're not retrieving it too early."
      ],
      "metadata": {
        "id": "HVBNagBU7kpx"
      }
    },
    {
      "cell_type": "code",
      "source": [
        "import time\n",
        "\n",
        "while run.status == \"in_progress\" or run.status == \"queued\":\n",
        "  time.sleep(1)\n",
        "  run = client.beta.threads.runs.retrieve(\n",
        "    thread_id=thread.id,\n",
        "    run_id=run.id\n",
        "  )"
      ],
      "metadata": {
        "id": "itz5_otPvfkV"
      },
      "execution_count": 16,
      "outputs": []
    },
    {
      "cell_type": "code",
      "source": [
        "print(run.status)"
      ],
      "metadata": {
        "colab": {
          "base_uri": "https://localhost:8080/"
        },
        "id": "AgGE1uUJ7z3h",
        "outputId": "8e60383a-2d02-4f1d-cfd0-bc10879615a5"
      },
      "execution_count": 17,
      "outputs": [
        {
          "output_type": "stream",
          "name": "stdout",
          "text": [
            "completed\n"
          ]
        }
      ]
    },
    {
      "cell_type": "markdown",
      "source": [
        "Now that our run is completed - we can retieve the messages from our thread!\n",
        "\n",
        "Notice that our run helps us understand how things are going - but it isn't where we're going to find our responses or messages. Those are added on the backend into our thread.\n",
        "\n",
        "This leads to a simple, but important, flow:\n",
        "\n",
        "1. We add messages to a thread.\n",
        "2. We create a run on that thread.\n",
        "3. We wait until the run is finished.\n",
        "4. We check our thread for the new messages."
      ],
      "metadata": {
        "id": "zHVTS4hD7-fv"
      }
    },
    {
      "cell_type": "markdown",
      "source": [
        "### Checking Our Thread\n",
        "\n",
        "Now we can get a list of messages from our thread!"
      ],
      "metadata": {
        "id": "DGBNpGmh-ZpW"
      }
    },
    {
      "cell_type": "code",
      "source": [
        "messages = client.beta.threads.messages.list(\n",
        "  thread_id=thread.id\n",
        ")"
      ],
      "metadata": {
        "id": "Av-OQDUPvhAd"
      },
      "execution_count": 18,
      "outputs": []
    },
    {
      "cell_type": "code",
      "source": [
        "len(messages.data)"
      ],
      "metadata": {
        "colab": {
          "base_uri": "https://localhost:8080/"
        },
        "id": "GM6cZk-GviqX",
        "outputId": "a6e38aa6-83b3-47bb-95bd-f6715c960e39"
      },
      "execution_count": 19,
      "outputs": [
        {
          "output_type": "execute_result",
          "data": {
            "text/plain": [
              "2"
            ]
          },
          "metadata": {},
          "execution_count": 19
        }
      ]
    },
    {
      "cell_type": "code",
      "source": [
        "messages.data[1]"
      ],
      "metadata": {
        "colab": {
          "base_uri": "https://localhost:8080/"
        },
        "id": "jmz5QUosAxV3",
        "outputId": "a549e127-650e-419c-c4d4-39906068c9ab"
      },
      "execution_count": 20,
      "outputs": [
        {
          "output_type": "execute_result",
          "data": {
            "text/plain": [
              "ThreadMessage(id='msg_pORkXUl5BTtLt7tjoSod1FCa', assistant_id=None, content=[MessageContentText(text=Text(annotations=[], value='Is medium roast coffee good or light roast coffee good?'), type='text')], created_at=1709137443, file_ids=[], metadata={}, object='thread.message', role='user', run_id=None, thread_id='thread_08zTUXmhqEbdocjaq2yUumQu')"
            ]
          },
          "metadata": {},
          "execution_count": 20
        }
      ]
    },
    {
      "cell_type": "markdown",
      "source": [
        "## Adding Tools\n",
        "\n",
        "Now that we have an understanding of how Assistant works, we can start thinking about adding tools.\n",
        "\n",
        "We'll go through 3 separate tools and explore how we can leverage them!\n",
        "\n",
        "Let's start with the most familiar tool - the Retriever!\n"
      ],
      "metadata": {
        "id": "XgnY16tjCmc6"
      }
    },
    {
      "cell_type": "markdown",
      "source": [
        "### Creating an Assistant with the Retriever Tool\n",
        "\n",
        "The first thing we'll want to do is create an assistant with the Retriever tool.\n",
        "\n",
        "This is also going to require some data. We'll provided data - but you're very much encouraged to use your own files to explore how the Assistant works for your use case."
      ],
      "metadata": {
        "id": "Z0NagnlZC8g9"
      }
    },
    {
      "cell_type": "markdown",
      "source": [
        "#### Collect and Add Data\n",
        "\n",
        "First, we need some data. Second, we need to add the data to our Assistant!\n",
        "\n",
        "Let's start with grabbing some data!"
      ],
      "metadata": {
        "id": "HInYwNiQEjQH"
      }
    },
    {
      "cell_type": "code",
      "source": [
        "!wget https://www.gutenberg.org/files/84/84-h/84-h.htm -o frankenstein.html"
      ],
      "metadata": {
        "id": "wvAHBszIEa1Y"
      },
      "execution_count": 21,
      "outputs": []
    },
    {
      "cell_type": "markdown",
      "source": [
        "Now we can upload our file!\n",
        "\n",
        "Pay attention to [this](https://platform.openai.com/docs/assistants/tools/supported-files) documentation to see what kinds of files can be uploaded.\n",
        "\n",
        "> NOTE: Per the OpenAI [docs](https://platform.openai.com/docs/assistants/tools/knowledge-retrieval) The maximum file size is 512 MB and no more than 2,000,000 tokens (computed automatically when you attach a file)"
      ],
      "metadata": {
        "id": "x2EpY1w_FQ3m"
      }
    },
    {
      "cell_type": "code",
      "source": [
        "file_reference = client.files.create(\n",
        "  file=open(\"frankenstein.html\", \"rb\"),\n",
        "  purpose='assistants'\n",
        ")"
      ],
      "metadata": {
        "id": "dpVoe2SMFI6s"
      },
      "execution_count": 22,
      "outputs": []
    },
    {
      "cell_type": "markdown",
      "source": [
        "Let's look at what our `file_reference` contains!"
      ],
      "metadata": {
        "id": "rBQOSGyyF2u5"
      }
    },
    {
      "cell_type": "code",
      "source": [
        "file_reference"
      ],
      "metadata": {
        "colab": {
          "base_uri": "https://localhost:8080/"
        },
        "id": "zJrVLkMpFgwf",
        "outputId": "599535b8-2c31-414e-efcc-d9d14a4d4b57"
      },
      "execution_count": 23,
      "outputs": [
        {
          "output_type": "execute_result",
          "data": {
            "text/plain": [
              "FileObject(id='file-6O05bGwN9y8oVCxDiNQaSoCt', bytes=1201, created_at=1709137459, filename='frankenstein.html', object='file', purpose='assistants', status='processed', status_details=None)"
            ]
          },
          "metadata": {},
          "execution_count": 23
        }
      ]
    },
    {
      "cell_type": "markdown",
      "source": [
        "#### Create and Use Assistant\n",
        "\n",
        "Now that we have our file - we can attach it to an Assistant, and we can give that Assistant the ability to use it for retrieval through the Retrieval tool!\n",
        "\n",
        "> NOTE: Please pay attention to [pricing](https://platform.openai.com/docs/assistants/tools/knowledge-retrieval) and don't forget to delete your files when you're done!"
      ],
      "metadata": {
        "id": "Jd4O4dpZF-eH"
      }
    },
    {
      "cell_type": "code",
      "source": [
        "assistant = client.beta.assistants.create(\n",
        "  name=name + \"+ Retrieval\",\n",
        "  instructions=instructions,\n",
        "  model=model,\n",
        "  tools=[{\"type\": \"retrieval\"}],\n",
        "  file_ids=[file_reference.id]\n",
        ")"
      ],
      "metadata": {
        "id": "jfn_MlJqFiEe"
      },
      "execution_count": 24,
      "outputs": []
    },
    {
      "cell_type": "markdown",
      "source": [
        "Let's try submitting a message to our Assistant and seeing what kind of answer we get!\n",
        "\n",
        "We'll outline the steps needed to do this in full:\n",
        "\n",
        "1. Create an Assistant\n",
        "2. Create a Thread\n",
        "3. Add Messages to that Thread\n",
        "4. Create a Run on that Thread\n",
        "5. Wait for Run to Complete\n",
        "6. Collect Messages from the Thread\n",
        "\n",
        "Let's do that below!"
      ],
      "metadata": {
        "id": "f0-mmRjQGeUR"
      }
    },
    {
      "cell_type": "code",
      "source": [
        "# Create a Thread\n",
        "thread = client.beta.threads.create()\n",
        "\n",
        "# Add Messages to that Thread\n",
        "message = client.beta.threads.messages.create(\n",
        "    thread_id=thread.id,\n",
        "    role=\"user\",\n",
        "    content=f\"What is the first words Victor Frankenstein speaks?\"\n",
        ")\n",
        "\n",
        "# Create a Run on that Thread\n",
        "run = client.beta.threads.runs.create(\n",
        "  thread_id=thread.id,\n",
        "  assistant_id=assistant.id,\n",
        ")\n",
        "\n",
        "# Wait for Run to Complete\n",
        "while run.status == \"in_progress\" or run.status == \"queued\":\n",
        "  time.sleep(1)\n",
        "  print(run.status)\n",
        "  run = client.beta.threads.runs.retrieve(\n",
        "    thread_id=thread.id,\n",
        "    run_id=run.id\n",
        "  )\n",
        "\n",
        "# Collect Messages from the Thread\n",
        "messages = client.beta.threads.messages.list(\n",
        "  thread_id=thread.id\n",
        ")"
      ],
      "metadata": {
        "colab": {
          "base_uri": "https://localhost:8080/"
        },
        "id": "jOKtb9PsGiB1",
        "outputId": "fa8d1f96-dbc3-49c5-ce2d-285edbf7d795"
      },
      "execution_count": 25,
      "outputs": [
        {
          "output_type": "stream",
          "name": "stdout",
          "text": [
            "queued\n",
            "in_progress\n",
            "in_progress\n",
            "in_progress\n",
            "in_progress\n",
            "in_progress\n",
            "in_progress\n",
            "in_progress\n",
            "in_progress\n",
            "in_progress\n",
            "in_progress\n",
            "in_progress\n",
            "in_progress\n",
            "in_progress\n",
            "in_progress\n",
            "in_progress\n",
            "in_progress\n",
            "in_progress\n",
            "in_progress\n",
            "in_progress\n",
            "in_progress\n",
            "in_progress\n",
            "in_progress\n"
          ]
        }
      ]
    },
    {
      "cell_type": "markdown",
      "source": [
        "Let's look at the final result!"
      ],
      "metadata": {
        "id": "zxJfa-saHbNQ"
      }
    },
    {
      "cell_type": "code",
      "source": [
        "  print(run.status)\n"
      ],
      "metadata": {
        "colab": {
          "base_uri": "https://localhost:8080/"
        },
        "id": "pO5DqSqlDRsu",
        "outputId": "5477dca0-b647-42e9-92df-ab5f68bb179c"
      },
      "execution_count": 26,
      "outputs": [
        {
          "output_type": "stream",
          "name": "stdout",
          "text": [
            "completed\n"
          ]
        }
      ]
    },
    {
      "cell_type": "code",
      "source": [
        "messages"
      ],
      "metadata": {
        "colab": {
          "base_uri": "https://localhost:8080/"
        },
        "id": "19nDqjRgHaNA",
        "outputId": "f8e7430d-a651-463a-fdf2-3f6a5adc6eee"
      },
      "execution_count": 28,
      "outputs": [
        {
          "output_type": "execute_result",
          "data": {
            "text/plain": [
              "SyncCursorPage[ThreadMessage](data=[ThreadMessage(id='msg_pv2Jqp6uGl8jDbaJQAm23bc4', assistant_id=None, content=[MessageContentText(text=Text(annotations=[], value='What is the first words Victor Frankenstein speaks?'), type='text')], created_at=1709137463, file_ids=[], metadata={}, object='thread.message', role='user', run_id=None, thread_id='thread_4HobDO3Tiz9IMvAlkWPwTNix')], object='list', first_id='msg_pv2Jqp6uGl8jDbaJQAm23bc4', last_id='msg_pv2Jqp6uGl8jDbaJQAm23bc4', has_more=False)"
            ]
          },
          "metadata": {},
          "execution_count": 28
        }
      ]
    },
    {
      "cell_type": "markdown",
      "source": [
        "Let's do some clean up to make sure we're not being charged anything extra by deleting our resources."
      ],
      "metadata": {
        "id": "5JdzJDvmHyNF"
      }
    },
    {
      "cell_type": "code",
      "source": [
        "file_deletion_status = client.beta.assistants.files.delete(\n",
        "  assistant_id=assistant.id,\n",
        "  file_id=file_reference.id\n",
        ")"
      ],
      "metadata": {
        "id": "01EYWyWBHaoC"
      },
      "execution_count": 29,
      "outputs": []
    },
    {
      "cell_type": "markdown",
      "source": [
        "### Creating an Assistant with the Code Interpreter Tool\n",
        "\n",
        "Now that we've explored the Retrieval Tool - let's try the Code Interpreter tool!\n",
        "\n",
        "The process will be almost exactly the same - but we can explore a different query, and we'll add our file at the Message level!"
      ],
      "metadata": {
        "id": "Pln9uYoJICno"
      }
    },
    {
      "cell_type": "code",
      "source": [
        "assistant = client.beta.assistants.create(\n",
        "  name=name + \"+ Code Interpreter\",\n",
        "  instructions=instructions,\n",
        "  model=model,\n",
        "  tools=[{\"type\": \"code_interpreter\"}],\n",
        ")"
      ],
      "metadata": {
        "id": "IC81y_VtH9lw"
      },
      "execution_count": 30,
      "outputs": []
    },
    {
      "cell_type": "markdown",
      "source": [
        "In the following example, we'll also see how we can package the Thread creation with the Message adding step!\n",
        "\n",
        "> NOTE: Files added at the message/thread level will not be available to the Assistant outside of that Thread."
      ],
      "metadata": {
        "id": "UJPHAJCQJbgi"
      }
    },
    {
      "cell_type": "code",
      "source": [
        "thread = client.beta.threads.create(\n",
        "  messages=[\n",
        "    {\n",
        "      \"role\": \"user\",\n",
        "      \"content\": \"What kind of file is this?\",\n",
        "      \"file_ids\": [file_reference.id]\n",
        "    }\n",
        "  ]\n",
        ")"
      ],
      "metadata": {
        "id": "5xVdjH6EJQrr"
      },
      "execution_count": 31,
      "outputs": []
    },
    {
      "cell_type": "markdown",
      "source": [
        "> NOTE: Remember that we create runs at the *thread* level - and so don't need the message object to continue."
      ],
      "metadata": {
        "id": "yiIYut_dJ0Cv"
      }
    },
    {
      "cell_type": "code",
      "source": [
        "# Create a Run on that Thread\n",
        "run = client.beta.threads.runs.create(\n",
        "  thread_id=thread.id,\n",
        "  assistant_id=assistant.id,\n",
        ")\n",
        "\n",
        "# Wait for Run to Complete\n",
        "while run.status == \"in_progress\" or run.status == \"queued\":\n",
        "  time.sleep(1)\n",
        "  print(run.status)\n",
        "  run = client.beta.threads.runs.retrieve(\n",
        "    thread_id=thread.id,\n",
        "    run_id=run.id\n",
        "  )\n",
        "\n",
        "# Collect Messages from the Thread\n",
        "messages = client.beta.threads.messages.list(\n",
        "  thread_id=thread.id\n",
        ")"
      ],
      "metadata": {
        "colab": {
          "base_uri": "https://localhost:8080/"
        },
        "id": "ES8laUe_Jwp_",
        "outputId": "75fed3c3-cb9c-4927-a6a3-c07dcb1a32cb"
      },
      "execution_count": 32,
      "outputs": [
        {
          "output_type": "stream",
          "name": "stdout",
          "text": [
            "queued\n",
            "in_progress\n",
            "in_progress\n",
            "in_progress\n",
            "in_progress\n",
            "in_progress\n",
            "in_progress\n",
            "in_progress\n",
            "in_progress\n",
            "in_progress\n",
            "in_progress\n",
            "in_progress\n",
            "in_progress\n",
            "in_progress\n",
            "in_progress\n",
            "in_progress\n",
            "in_progress\n",
            "in_progress\n",
            "in_progress\n",
            "in_progress\n"
          ]
        }
      ]
    },
    {
      "cell_type": "markdown",
      "source": [
        "We can check the specific steps that the Code Interpreter ran to figure out what steps the Assistant took!"
      ],
      "metadata": {
        "id": "iYPpGJz5KoDf"
      }
    },
    {
      "cell_type": "code",
      "source": [
        "run_steps = client.beta.threads.runs.steps.list(\n",
        "  thread_id=thread.id,\n",
        "  run_id=run.id\n",
        ")"
      ],
      "metadata": {
        "id": "or7iJ492KI2P"
      },
      "execution_count": 33,
      "outputs": []
    },
    {
      "cell_type": "code",
      "source": [
        "for step in run_steps.data:\n",
        "  print(step.step_details)"
      ],
      "metadata": {
        "colab": {
          "base_uri": "https://localhost:8080/"
        },
        "id": "DwbzExbmKJ4N",
        "outputId": "4fb0f4ba-d7f6-4642-816c-3d84be4c6c71"
      },
      "execution_count": 34,
      "outputs": [
        {
          "output_type": "stream",
          "name": "stdout",
          "text": [
            "MessageCreationStepDetails(message_creation=MessageCreation(message_id='msg_UBqZSmcRIIxR9j7jCBFPUW1H'), type='message_creation')\n",
            "ToolCallsStepDetails(tool_calls=[CodeToolCall(id='call_H5rjLD4yvSaKg8x4nBaAks6a', code_interpreter=CodeInterpreter(input=\"# Read the first few bytes of the file to identify its type\\r\\ndef get_file_signature(file_path, num_bytes=4):\\r\\n    with open(file_path, 'rb') as f:\\r\\n        signature = f.read(num_bytes)\\r\\n    return signature\\r\\n\\r\\nfile_signature = get_file_signature('/mnt/data/file-6O05bGwN9y8oVCxDiNQaSoCt')\\r\\nfile_signature\", outputs=[CodeInterpreterOutputLogs(logs=\"b'--20'\", type='logs')]), type='code_interpreter')], type='tool_calls')\n",
            "MessageCreationStepDetails(message_creation=MessageCreation(message_id='msg_cdCr3BnJwfkh5pHvXRxvjZ0i'), type='message_creation')\n",
            "ToolCallsStepDetails(tool_calls=[CodeToolCall(id='call_D8RT3DHeeBYlXqtwPhX2Xjwy', code_interpreter=CodeInterpreter(input='import filetype\\r\\n\\r\\n# Check the type of the file using the file signature\\r\\nfile_info = filetype.guess(\\'/mnt/data/file-6O05bGwN9y8oVCxDiNQaSoCt\\')\\r\\n\\r\\nif file_info is not None:\\r\\n    file_type = file_info.mime\\r\\nelse:\\r\\n    file_type = \"Unknown\"\\r\\n\\r\\nfile_type', outputs=[CodeInterpreterOutputLogs(logs=\"---------------------------------------------------------------------------\\nModuleNotFoundError                       Traceback (most recent call last)\\nCell In[2], line 1\\n----> 1 import filetype\\n      3 # Check the type of the file using the file signature\\n      4 file_info = filetype.guess('/mnt/data/file-6O05bGwN9y8oVCxDiNQaSoCt')\\n\\nModuleNotFoundError: No module named 'filetype'\\n\", type='logs')]), type='code_interpreter')], type='tool_calls')\n",
            "MessageCreationStepDetails(message_creation=MessageCreation(message_id='msg_PBsOzP9xUmsrb6xxdrRKOmF1'), type='message_creation')\n",
            "ToolCallsStepDetails(tool_calls=[CodeToolCall(id='call_hup7KRiIsnyFtsx36Aa0YU8g', code_interpreter=CodeInterpreter(input=\"import magic\\r\\n\\r\\n# Define the file path\\r\\nfile_path = '/mnt/data/file-6O05bGwN9y8oVCxDiNQaSoCt'\\r\\n\\r\\n# Check the type of the file\\r\\nfile_type = magic.Magic(mime=True)\\r\\nfile_mime_type = file_type.from_file(file_path)\\r\\n\\r\\nfile_mime_type\", outputs=[CodeInterpreterOutputLogs(logs=\"---------------------------------------------------------------------------\\nModuleNotFoundError                       Traceback (most recent call last)\\nCell In[1], line 1\\n----> 1 import magic\\n      3 # Define the file path\\n      4 file_path = '/mnt/data/file-6O05bGwN9y8oVCxDiNQaSoCt'\\n\\nModuleNotFoundError: No module named 'magic'\\n\", type='logs')]), type='code_interpreter')], type='tool_calls')\n",
            "MessageCreationStepDetails(message_creation=MessageCreation(message_id='msg_7Xt8n1stsTnfcGkCJkQTkZXX'), type='message_creation')\n"
          ]
        }
      ]
    },
    {
      "cell_type": "code",
      "source": [
        "messages"
      ],
      "metadata": {
        "colab": {
          "base_uri": "https://localhost:8080/"
        },
        "id": "cNJeFF6JJ62H",
        "outputId": "d54d3e26-72ce-44f6-a0f2-cb05d8b6e601"
      },
      "execution_count": 35,
      "outputs": [
        {
          "output_type": "execute_result",
          "data": {
            "text/plain": [
              "SyncCursorPage[ThreadMessage](data=[ThreadMessage(id='msg_UBqZSmcRIIxR9j7jCBFPUW1H', assistant_id='asst_L8lqnOzvkPOC5Cwp4bp3Ifdk', content=[MessageContentText(text=Text(annotations=[], value=\"The initial bytes of the file are '--20'. This signature is not sufficient on its own to definitively determine the file type. In this case, since we couldn't determine the file type with absolute certainty, I recommend using a program like a text editor or the appropriate software related to the content of the file to open and view it properly.\\n\\nIf you need further assistance or have any specific requirements related to this file, please let me know!\"), type='text')], created_at=1709137540, file_ids=[], metadata={}, object='thread.message', role='assistant', run_id='run_fLmtuChngV3Czbryr16HhEjS', thread_id='thread_BOnTwAyiUb0RdulKr3vTlAWF'), ThreadMessage(id='msg_cdCr3BnJwfkh5pHvXRxvjZ0i', assistant_id='asst_L8lqnOzvkPOC5Cwp4bp3Ifdk', content=[MessageContentText(text=Text(annotations=[], value=\"It appears that the `filetype` module is also not available in this environment. Let's try another approach to identify the file type. We will read the first few bytes of the file directly and inspect them to determine the file type. Let's proceed with this method.\"), type='text')], created_at=1709137535, file_ids=[], metadata={}, object='thread.message', role='assistant', run_id='run_fLmtuChngV3Czbryr16HhEjS', thread_id='thread_BOnTwAyiUb0RdulKr3vTlAWF'), ThreadMessage(id='msg_PBsOzP9xUmsrb6xxdrRKOmF1', assistant_id='asst_L8lqnOzvkPOC5Cwp4bp3Ifdk', content=[MessageContentText(text=Text(annotations=[], value=\"It seems that the magic module, which is used for determining the file type, is not available in this environment. Let's try an alternative method to identify the file type. We'll read the first few bytes of the file to inspect its signature, which often indicates the type of file it is. Let's do this now.\"), type='text')], created_at=1709137529, file_ids=[], metadata={}, object='thread.message', role='assistant', run_id='run_fLmtuChngV3Czbryr16HhEjS', thread_id='thread_BOnTwAyiUb0RdulKr3vTlAWF'), ThreadMessage(id='msg_7Xt8n1stsTnfcGkCJkQTkZXX', assistant_id='asst_L8lqnOzvkPOC5Cwp4bp3Ifdk', content=[MessageContentText(text=Text(annotations=[], value=\"Let's start by checking the file type to determine what kind of file it is. I will use Python to examine the contents of the file and identify its type. Let's proceed with this.\"), type='text')], created_at=1709137518, file_ids=[], metadata={}, object='thread.message', role='assistant', run_id='run_fLmtuChngV3Czbryr16HhEjS', thread_id='thread_BOnTwAyiUb0RdulKr3vTlAWF'), ThreadMessage(id='msg_Uuz0WYZ1XqhPUioIaH2eeXsq', assistant_id=None, content=[MessageContentText(text=Text(annotations=[], value='What kind of file is this?'), type='text')], created_at=1709137515, file_ids=['file-6O05bGwN9y8oVCxDiNQaSoCt'], metadata={}, object='thread.message', role='user', run_id=None, thread_id='thread_BOnTwAyiUb0RdulKr3vTlAWF')], object='list', first_id='msg_UBqZSmcRIIxR9j7jCBFPUW1H', last_id='msg_Uuz0WYZ1XqhPUioIaH2eeXsq', has_more=False)"
            ]
          },
          "metadata": {},
          "execution_count": 35
        }
      ]
    },
    {
      "cell_type": "code",
      "source": [
        "file_deletion_status = client.beta.assistants.files.delete(\n",
        "  assistant_id=assistant.id,\n",
        "  file_id=file_reference.id\n",
        ")"
      ],
      "metadata": {
        "id": "JdLC0rsvR5m5",
        "colab": {
          "base_uri": "https://localhost:8080/",
          "height": 365
        },
        "outputId": "0ddd762c-6ed6-4380-b0bb-4bf03e42e542"
      },
      "execution_count": 36,
      "outputs": [
        {
          "output_type": "error",
          "ename": "NotFoundError",
          "evalue": "Error code: 404 - {'error': {'message': \"No file found with id 'file-6O05bGwN9y8oVCxDiNQaSoCt'.\", 'type': 'invalid_request_error', 'param': None, 'code': None}}",
          "traceback": [
            "\u001b[0;31m---------------------------------------------------------------------------\u001b[0m",
            "\u001b[0;31mNotFoundError\u001b[0m                             Traceback (most recent call last)",
            "\u001b[0;32m<ipython-input-36-f147d1f60477>\u001b[0m in \u001b[0;36m<cell line: 1>\u001b[0;34m()\u001b[0m\n\u001b[0;32m----> 1\u001b[0;31m file_deletion_status = client.beta.assistants.files.delete(\n\u001b[0m\u001b[1;32m      2\u001b[0m   \u001b[0massistant_id\u001b[0m\u001b[0;34m=\u001b[0m\u001b[0massistant\u001b[0m\u001b[0;34m.\u001b[0m\u001b[0mid\u001b[0m\u001b[0;34m,\u001b[0m\u001b[0;34m\u001b[0m\u001b[0;34m\u001b[0m\u001b[0m\n\u001b[1;32m      3\u001b[0m   \u001b[0mfile_id\u001b[0m\u001b[0;34m=\u001b[0m\u001b[0mfile_reference\u001b[0m\u001b[0;34m.\u001b[0m\u001b[0mid\u001b[0m\u001b[0;34m\u001b[0m\u001b[0;34m\u001b[0m\u001b[0m\n\u001b[1;32m      4\u001b[0m )\n",
            "\u001b[0;32m/usr/local/lib/python3.10/dist-packages/openai/resources/beta/assistants/files.py\u001b[0m in \u001b[0;36mdelete\u001b[0;34m(self, file_id, assistant_id, extra_headers, extra_query, extra_body, timeout)\u001b[0m\n\u001b[1;32m    207\u001b[0m             \u001b[0;32mraise\u001b[0m \u001b[0mValueError\u001b[0m\u001b[0;34m(\u001b[0m\u001b[0;34mf\"Expected a non-empty value for `file_id` but received {file_id!r}\"\u001b[0m\u001b[0;34m)\u001b[0m\u001b[0;34m\u001b[0m\u001b[0;34m\u001b[0m\u001b[0m\n\u001b[1;32m    208\u001b[0m         \u001b[0mextra_headers\u001b[0m \u001b[0;34m=\u001b[0m \u001b[0;34m{\u001b[0m\u001b[0;34m\"OpenAI-Beta\"\u001b[0m\u001b[0;34m:\u001b[0m \u001b[0;34m\"assistants=v1\"\u001b[0m\u001b[0;34m,\u001b[0m \u001b[0;34m**\u001b[0m\u001b[0;34m(\u001b[0m\u001b[0mextra_headers\u001b[0m \u001b[0;32mor\u001b[0m \u001b[0;34m{\u001b[0m\u001b[0;34m}\u001b[0m\u001b[0;34m)\u001b[0m\u001b[0;34m}\u001b[0m\u001b[0;34m\u001b[0m\u001b[0;34m\u001b[0m\u001b[0m\n\u001b[0;32m--> 209\u001b[0;31m         return self._delete(\n\u001b[0m\u001b[1;32m    210\u001b[0m             \u001b[0;34mf\"/assistants/{assistant_id}/files/{file_id}\"\u001b[0m\u001b[0;34m,\u001b[0m\u001b[0;34m\u001b[0m\u001b[0;34m\u001b[0m\u001b[0m\n\u001b[1;32m    211\u001b[0m             options=make_request_options(\n",
            "\u001b[0;32m/usr/local/lib/python3.10/dist-packages/openai/_base_client.py\u001b[0m in \u001b[0;36mdelete\u001b[0;34m(self, path, cast_to, body, options)\u001b[0m\n\u001b[1;32m   1234\u001b[0m     ) -> ResponseT:\n\u001b[1;32m   1235\u001b[0m         \u001b[0mopts\u001b[0m \u001b[0;34m=\u001b[0m \u001b[0mFinalRequestOptions\u001b[0m\u001b[0;34m.\u001b[0m\u001b[0mconstruct\u001b[0m\u001b[0;34m(\u001b[0m\u001b[0mmethod\u001b[0m\u001b[0;34m=\u001b[0m\u001b[0;34m\"delete\"\u001b[0m\u001b[0;34m,\u001b[0m \u001b[0murl\u001b[0m\u001b[0;34m=\u001b[0m\u001b[0mpath\u001b[0m\u001b[0;34m,\u001b[0m \u001b[0mjson_data\u001b[0m\u001b[0;34m=\u001b[0m\u001b[0mbody\u001b[0m\u001b[0;34m,\u001b[0m \u001b[0;34m**\u001b[0m\u001b[0moptions\u001b[0m\u001b[0;34m)\u001b[0m\u001b[0;34m\u001b[0m\u001b[0;34m\u001b[0m\u001b[0m\n\u001b[0;32m-> 1236\u001b[0;31m         \u001b[0;32mreturn\u001b[0m \u001b[0mself\u001b[0m\u001b[0;34m.\u001b[0m\u001b[0mrequest\u001b[0m\u001b[0;34m(\u001b[0m\u001b[0mcast_to\u001b[0m\u001b[0;34m,\u001b[0m \u001b[0mopts\u001b[0m\u001b[0;34m)\u001b[0m\u001b[0;34m\u001b[0m\u001b[0;34m\u001b[0m\u001b[0m\n\u001b[0m\u001b[1;32m   1237\u001b[0m \u001b[0;34m\u001b[0m\u001b[0m\n\u001b[1;32m   1238\u001b[0m     def get_api_list(\n",
            "\u001b[0;32m/usr/local/lib/python3.10/dist-packages/openai/_base_client.py\u001b[0m in \u001b[0;36mrequest\u001b[0;34m(self, cast_to, options, remaining_retries, stream, stream_cls)\u001b[0m\n\u001b[1;32m    887\u001b[0m         \u001b[0mstream_cls\u001b[0m\u001b[0;34m:\u001b[0m \u001b[0mtype\u001b[0m\u001b[0;34m[\u001b[0m\u001b[0m_StreamT\u001b[0m\u001b[0;34m]\u001b[0m \u001b[0;34m|\u001b[0m \u001b[0;32mNone\u001b[0m \u001b[0;34m=\u001b[0m \u001b[0;32mNone\u001b[0m\u001b[0;34m,\u001b[0m\u001b[0;34m\u001b[0m\u001b[0;34m\u001b[0m\u001b[0m\n\u001b[1;32m    888\u001b[0m     ) -> ResponseT | _StreamT:\n\u001b[0;32m--> 889\u001b[0;31m         return self._request(\n\u001b[0m\u001b[1;32m    890\u001b[0m             \u001b[0mcast_to\u001b[0m\u001b[0;34m=\u001b[0m\u001b[0mcast_to\u001b[0m\u001b[0;34m,\u001b[0m\u001b[0;34m\u001b[0m\u001b[0;34m\u001b[0m\u001b[0m\n\u001b[1;32m    891\u001b[0m             \u001b[0moptions\u001b[0m\u001b[0;34m=\u001b[0m\u001b[0moptions\u001b[0m\u001b[0;34m,\u001b[0m\u001b[0;34m\u001b[0m\u001b[0;34m\u001b[0m\u001b[0m\n",
            "\u001b[0;32m/usr/local/lib/python3.10/dist-packages/openai/_base_client.py\u001b[0m in \u001b[0;36m_request\u001b[0;34m(self, cast_to, options, remaining_retries, stream, stream_cls)\u001b[0m\n\u001b[1;32m    978\u001b[0m \u001b[0;34m\u001b[0m\u001b[0m\n\u001b[1;32m    979\u001b[0m             \u001b[0mlog\u001b[0m\u001b[0;34m.\u001b[0m\u001b[0mdebug\u001b[0m\u001b[0;34m(\u001b[0m\u001b[0;34m\"Re-raising status error\"\u001b[0m\u001b[0;34m)\u001b[0m\u001b[0;34m\u001b[0m\u001b[0;34m\u001b[0m\u001b[0m\n\u001b[0;32m--> 980\u001b[0;31m             \u001b[0;32mraise\u001b[0m \u001b[0mself\u001b[0m\u001b[0;34m.\u001b[0m\u001b[0m_make_status_error_from_response\u001b[0m\u001b[0;34m(\u001b[0m\u001b[0merr\u001b[0m\u001b[0;34m.\u001b[0m\u001b[0mresponse\u001b[0m\u001b[0;34m)\u001b[0m \u001b[0;32mfrom\u001b[0m \u001b[0;32mNone\u001b[0m\u001b[0;34m\u001b[0m\u001b[0;34m\u001b[0m\u001b[0m\n\u001b[0m\u001b[1;32m    981\u001b[0m \u001b[0;34m\u001b[0m\u001b[0m\n\u001b[1;32m    982\u001b[0m         return self._process_response(\n",
            "\u001b[0;31mNotFoundError\u001b[0m: Error code: 404 - {'error': {'message': \"No file found with id 'file-6O05bGwN9y8oVCxDiNQaSoCt'.\", 'type': 'invalid_request_error', 'param': None, 'code': None}}"
          ]
        }
      ]
    },
    {
      "cell_type": "markdown",
      "source": [
        "And there you go!\n",
        "\n",
        "We've fit our Assistant with an awesome Code Interpreter that lets our Assistant run code on our provided files!"
      ],
      "metadata": {
        "id": "hi10hON2LQmc"
      }
    },
    {
      "cell_type": "markdown",
      "source": [
        "### Creating an Assistant with a Function Calling Tool\n",
        "\n",
        "Let's finally create an Assistant that utilizes the Function Calling API.\n",
        "\n",
        "We'll start by creating a function that we wish to be called.\n",
        "\n",
        "We'll utilize DuckDuckGo search to allow our Assistant to have the most up to date information!"
      ],
      "metadata": {
        "id": "EdJxt77oLzu7"
      }
    },
    {
      "cell_type": "code",
      "source": [
        "!pip install -qU duckduckgo_search"
      ],
      "metadata": {
        "id": "n5eKEC2wMMVI",
        "colab": {
          "base_uri": "https://localhost:8080/"
        },
        "outputId": "a419cdfa-a358-460c-8645-099fe6a4d376"
      },
      "execution_count": 37,
      "outputs": [
        {
          "output_type": "stream",
          "name": "stdout",
          "text": [
            "\u001b[2K     \u001b[90m━━━━━━━━━━━━━━━━━━━━━━━━━━━━━━━━━━━━━━━━\u001b[0m \u001b[32m5.7/5.7 MB\u001b[0m \u001b[31m37.7 MB/s\u001b[0m eta \u001b[36m0:00:00\u001b[0m\n",
            "\u001b[2K     \u001b[90m━━━━━━━━━━━━━━━━━━━━━━━━━━━━━━━━━━━━━━━━\u001b[0m \u001b[32m8.0/8.0 MB\u001b[0m \u001b[31m82.0 MB/s\u001b[0m eta \u001b[36m0:00:00\u001b[0m\n",
            "\u001b[?25h"
          ]
        }
      ]
    },
    {
      "cell_type": "code",
      "source": [
        "from duckduckgo_search import DDGS\n",
        "\n",
        "def duckduckgo_search(query):\n",
        "  with DDGS() as ddgs:\n",
        "    results = [r for r in ddgs.text(query, max_results=5)]\n",
        "    return \"\\n\".join(result[\"body\"] for result in results)"
      ],
      "metadata": {
        "id": "YPFZ_Uq_LawH"
      },
      "execution_count": 38,
      "outputs": []
    },
    {
      "cell_type": "markdown",
      "source": [
        "Let's test our function to make sure it behaves as we expect it to."
      ],
      "metadata": {
        "id": "D-o1TBFpMSvR"
      }
    },
    {
      "cell_type": "code",
      "source": [
        "duckduckgo_search(\"Who is the current captain of the Winnipeg Jets?\")"
      ],
      "metadata": {
        "colab": {
          "base_uri": "https://localhost:8080/",
          "height": 125
        },
        "id": "mCUr9jFCMWBw",
        "outputId": "97610865-9fec-4ccf-d417-1bdd972dc686"
      },
      "execution_count": 39,
      "outputs": [
        {
          "output_type": "execute_result",
          "data": {
            "text/plain": [
              "'NHL.com The official 2023 - 2024 roster of the Winnipeg Jets, including position, height, weight, date of birth, age, and birth place.\\nAdam Lowry, seen celebrating a goal against the Los Angeles Kings last season, has been named the new captain for the Winnipeg Jets. (Mark J. Terrill/Associated Press) The Winnipeg Jets...\\nSault Ste. Marie Toronto Vancouver Vancouver Island Windsor Winnipeg Advertisement Winnipeg News Adam Lowry named as captain of the Winnipeg Jets Winnipeg Jets\\' Adam Lowry celebrates...\\nWinnipeg Jets general manager Kevin Cheveldayoff announced Adam Lowry as the new team captain of the Winnipeg Jets on tuesday. Lowry will follow Andrew Ladd and Blake Wheeler to serve as...\\nAfter going captain-less in 2022-23, the Winnipeg Jets unveiled Adam Lowry as the club\\'s new captain on Tuesday morning. \"When I found out, I was pretty excited, almost a little...'"
            ],
            "application/vnd.google.colaboratory.intrinsic+json": {
              "type": "string"
            }
          },
          "metadata": {},
          "execution_count": 39
        }
      ]
    },
    {
      "cell_type": "markdown",
      "source": [
        "Now we need to express how our function works in a way that is compatible with the OpenAI Function Calling API.\n",
        "\n",
        "We'll want to provide a `JSON` object that includes what parameters we have, how to call them, and a short natural language description."
      ],
      "metadata": {
        "id": "FzE1nxt5Mi80"
      }
    },
    {
      "cell_type": "code",
      "source": [
        "ddg_function = {\n",
        "    \"name\" : \"duckduckgo_search\",\n",
        "    \"description\" : \"Answer non-technical questions. \",\n",
        "    \"parameters\" : {\n",
        "        \"type\" : \"object\",\n",
        "        \"properties\" : {\n",
        "            \"query\" : {\n",
        "                \"type:\" : \"string\",\n",
        "                \"description\" : \"The search query to use. For example: 'Who is the current Goalie of the Colorado Avalance?'\"\n",
        "            }\n",
        "        },\n",
        "        \"required\" : [\"query\"]\n",
        "    }\n",
        "}"
      ],
      "metadata": {
        "id": "8ElrWvBnMY_s"
      },
      "execution_count": 40,
      "outputs": []
    },
    {
      "cell_type": "markdown",
      "source": [
        "####❓ Question\n",
        "\n",
        "Why does the description key-value pair matter?\n",
        "\n",
        "#### ANSWER:\n",
        "It enhances the user experience by making the function's purpose and usage clear and helps with more efficient interactions."
      ],
      "metadata": {
        "id": "NyRmJgEQVuGs"
      }
    },
    {
      "cell_type": "markdown",
      "source": [
        "Now when we create our Assistant - we'll want to include the function description as a tool using the following format."
      ],
      "metadata": {
        "id": "tir4WySGM0x2"
      }
    },
    {
      "cell_type": "code",
      "source": [
        "assistant = client.beta.assistants.create(\n",
        "    name=name + \" + Function Calling API\",\n",
        "    instructions=instructions,\n",
        "    tools=[\n",
        "        {\"type\": \"function\",\n",
        "         \"function\" : ddg_function\n",
        "        }\n",
        "    ],\n",
        "    model=model\n",
        ")"
      ],
      "metadata": {
        "id": "4eFpwi12Mzlg"
      },
      "execution_count": 41,
      "outputs": []
    },
    {
      "cell_type": "markdown",
      "source": [
        "We need to make a few modifications to our Assistant to include the ability to make calls to our local function and pass the results back to our Assistant for further generation."
      ],
      "metadata": {
        "id": "nJCLvWZzNIXR"
      }
    },
    {
      "cell_type": "code",
      "source": [
        "import json\n",
        "\n",
        "def wait_for_run_completion(thread_id, run_id):\n",
        "    while True:\n",
        "        time.sleep(1)\n",
        "        run = client.beta.threads.runs.retrieve(thread_id=thread_id, run_id=run_id)\n",
        "        print(f\"Current run status: {run.status}\")\n",
        "        if run.status in ['completed', 'failed', 'requires_action']:\n",
        "            return run\n",
        "\n",
        "def submit_tool_outputs(thread_id, run_id, tools_to_call):\n",
        "    tool_output_array = []\n",
        "    for tool in tools_to_call:\n",
        "        output = None\n",
        "        tool_call_id = tool.id\n",
        "        function_name = tool.function.name\n",
        "        function_args = tool.function.arguments\n",
        "\n",
        "        if function_name == \"duckduckgo_search\":\n",
        "            print(\"Consulting Duck Duck Go...\")\n",
        "            output = duckduckgo_search(query=json.loads(function_args)[\"query\"])\n",
        "\n",
        "        if output:\n",
        "            tool_output_array.append({\"tool_call_id\": tool_call_id, \"output\": output})\n",
        "\n",
        "    print(tool_output_array)\n",
        "\n",
        "    return client.beta.threads.runs.submit_tool_outputs(\n",
        "        thread_id=thread_id,\n",
        "        run_id=run_id,\n",
        "        tool_outputs=tool_output_array\n",
        "    )\n",
        "\n",
        "def print_messages_from_thread(thread_id):\n",
        "    messages = client.beta.threads.messages.list(thread_id=thread_id)\n",
        "    for msg in messages:\n",
        "        print(f\"{msg.role}: {msg.content[0].text.value}\")\n",
        "\n",
        "def use_assistant(query, assistant_id, thread_id=None):\n",
        "  thread = client.beta.threads.create()\n",
        "\n",
        "  message = client.beta.threads.messages.create(\n",
        "      thread_id=thread.id,\n",
        "      role=\"user\",\n",
        "      content=query,\n",
        "  )\n",
        "\n",
        "  print(\"Creating Assistant \")\n",
        "\n",
        "  run = client.beta.threads.runs.create(\n",
        "    thread_id=thread.id,\n",
        "    assistant_id=assistant_id,\n",
        "  )\n",
        "\n",
        "  print(\"Querying OpenAI Assistant Thread.\")\n",
        "\n",
        "  run = wait_for_run_completion(thread.id, run.id)\n",
        "\n",
        "  if run.status == 'requires_action':\n",
        "    run = submit_tool_outputs(thread.id, run.id, run.required_action.submit_tool_outputs.tool_calls)\n",
        "    run = wait_for_run_completion(thread.id, run.id)\n",
        "\n",
        "  print_messages_from_thread(thread.id)\n",
        "\n",
        "  return thread.id"
      ],
      "metadata": {
        "id": "XHRfvGJ_NQnF"
      },
      "execution_count": 42,
      "outputs": []
    },
    {
      "cell_type": "markdown",
      "source": [
        "####❓ Question\n",
        "\n",
        "Outline, in simple terms, what the `use_assistant` helper function is doing.\n",
        "\n",
        "\n",
        "#### ANSWER:\n",
        "\n",
        "In simple terms, it is the function conceptually representing a way to automate interactions with an assistant, enabling users to programmatically ask questions or assign tasks to the assistant using code, rather than through manual input.\n"
      ],
      "metadata": {
        "id": "NoChJ771Uo0B"
      }
    },
    {
      "cell_type": "code",
      "source": [
        "use_assistant(\"Who is the current Captain of the Winnipeg Jets?\", assistant.id)"
      ],
      "metadata": {
        "colab": {
          "base_uri": "https://localhost:8080/",
          "height": 198
        },
        "id": "d5NR_HYINky8",
        "outputId": "2893063d-1dad-41ab-ff0e-de9fe4c05e70"
      },
      "execution_count": 43,
      "outputs": [
        {
          "output_type": "stream",
          "name": "stdout",
          "text": [
            "Creating Assistant \n",
            "Querying OpenAI Assistant Thread.\n",
            "Current run status: requires_action\n",
            "Consulting Duck Duck Go...\n",
            "[{'tool_call_id': 'call_p9dzixEIdz5WjopyCaWzLU8o', 'output': 'Winnipeg Jets Captains Team Names: Winnipeg Jets, Atlanta Thrashers Seasons: 24 (1999-00 to 2023-24) NHL Playoff Appearances: 7 NHL Championships: 0 (0 Stanley Cup) Playoff Record: 17-31 Record (W-L-T-OTL): 840-808-45-172 (1897 points) All-time Goals Leader: Ilya Kovalchuk, 328 All-time Points Leader: Blake Wheeler, 812\\nNHL.com The official 2023 - 2024 roster of the Winnipeg Jets, including position, height, weight, date of birth, age, and birth place.\\nBy Jamie Thomas @JamieThomasTV WinnipegJets.com September 12, 2023 There are not many honours in team sports bigger than being named captain. That honour was given to Winnipeg Jet forward Adam...\\nWinnipeg Jets general manager Kevin Cheveldayoff announced Adam Lowry as the new team captain of the Winnipeg Jets on tuesday. Lowry will follow Andrew Ladd and Blake Wheeler to serve as...\\nAdam Lowry, seen celebrating a goal against the Los Angeles Kings last season, has been named the new captain for the Winnipeg Jets. (Mark J. Terrill/Associated Press) The Winnipeg Jets...'}]\n",
            "Current run status: completed\n",
            "assistant: The current Captain of the Winnipeg Jets is Adam Lowry.\n",
            "user: Who is the current Captain of the Winnipeg Jets?\n"
          ]
        },
        {
          "output_type": "execute_result",
          "data": {
            "text/plain": [
              "'thread_6fbdkNC8nQ1z03Y7uiECVK4P'"
            ],
            "application/vnd.google.colaboratory.intrinsic+json": {
              "type": "string"
            }
          },
          "metadata": {},
          "execution_count": 43
        }
      ]
    },
    {
      "cell_type": "markdown",
      "source": [
        "## Wrapping it All Together\n",
        "\n",
        "Now we can create an Assistant with all of the available tools and see how it responds to various queries!"
      ],
      "metadata": {
        "id": "vY51QtkGNvQe"
      }
    },
    {
      "cell_type": "code",
      "source": [
        "assistant = client.beta.assistants.create(\n",
        "    name=name + \" + All Tools\",\n",
        "    instructions=instructions,\n",
        "    tools=[\n",
        "        {\"type\": \"code_interpreter\"},\n",
        "        {\"type\": \"retrieval\"},\n",
        "        {\"type\": \"function\", \"function\" : ddg_function}\n",
        "    ],\n",
        "    model=model,\n",
        "    file_ids=[file_reference.id],\n",
        ")"
      ],
      "metadata": {
        "id": "HaoQSB7CN74T"
      },
      "execution_count": 54,
      "outputs": []
    },
    {
      "cell_type": "code",
      "source": [
        "use_assistant(\"Who is the current Captain of the Winnipeg Jets?\", assistant.id)"
      ],
      "metadata": {
        "colab": {
          "base_uri": "https://localhost:8080/",
          "height": 270
        },
        "id": "g2GtwoGDPwp2",
        "outputId": "509fa2b2-28d6-4531-f881-61619e6471e1"
      },
      "execution_count": 45,
      "outputs": [
        {
          "output_type": "stream",
          "name": "stdout",
          "text": [
            "Creating Assistant \n",
            "Querying OpenAI Assistant Thread.\n",
            "Current run status: in_progress\n",
            "Current run status: in_progress\n",
            "Current run status: in_progress\n",
            "Current run status: requires_action\n",
            "Consulting Duck Duck Go...\n",
            "[{'tool_call_id': 'call_TfebA84A8clzla5cOPFv3naB', 'output': 'Winnipeg Jets Captains Team Names: Winnipeg Jets, Atlanta Thrashers Seasons: 24 (1999-00 to 2023-24) NHL Playoff Appearances: 7 NHL Championships: 0 (0 Stanley Cup) Playoff Record: 17-31 Record (W-L-T-OTL): 840-808-45-172 (1897 points) All-time Goals Leader: Ilya Kovalchuk, 328 All-time Points Leader: Blake Wheeler, 812\\nWinnipeg Jets general manager Kevin Cheveldayoff announced Adam Lowry as the new team captain of the Winnipeg Jets on tuesday. Lowry will follow Andrew Ladd and Blake Wheeler to serve as...\\nBy Jamie Thomas @JamieThomasTV WinnipegJets.com September 12, 2023 There are not many honours in team sports bigger than being named captain. That honour was given to Winnipeg Jet forward Adam...\\nAdam Lowry, seen celebrating a goal against the Los Angeles Kings last season, has been named the new captain for the Winnipeg Jets. (Mark J. Terrill/Associated Press) The Winnipeg Jets...\\nAfter going captain-less in 2022-23, the Winnipeg Jets unveiled Adam Lowry as the club\\'s new captain on Tuesday morning. \"When I found out, I was pretty excited, almost a little...'}]\n",
            "Current run status: completed\n",
            "assistant: The current Captain of the Winnipeg Jets is Adam Lowry【5†source】.\n",
            "assistant: The file that was uploaded is the novel \"Frankenstein\" by Mary Shelley. Let me conduct a search to find the information about the current Captain of the Winnipeg Jets.\n",
            "user: Who is the current Captain of the Winnipeg Jets?\n"
          ]
        },
        {
          "output_type": "execute_result",
          "data": {
            "text/plain": [
              "'thread_3QtKpSgT5LKPwNbp2DCDSJ4k'"
            ],
            "application/vnd.google.colaboratory.intrinsic+json": {
              "type": "string"
            }
          },
          "metadata": {},
          "execution_count": 45
        }
      ]
    },
    {
      "cell_type": "code",
      "source": [
        "use_assistant(\"Who is the author of the supplied file?\", assistant.id)"
      ],
      "metadata": {
        "colab": {
          "base_uri": "https://localhost:8080/",
          "height": 143
        },
        "id": "7QjcxpQ5P-HX",
        "outputId": "3785e87e-c5b4-427d-94a0-5e2089638b8c"
      },
      "execution_count": 46,
      "outputs": [
        {
          "output_type": "stream",
          "name": "stdout",
          "text": [
            "Creating Assistant \n",
            "Querying OpenAI Assistant Thread.\n",
            "Current run status: in_progress\n",
            "Current run status: completed\n",
            "assistant: The author of the supplied file is Mary Shelley, and the file is a copy of the novel \"Frankenstein\"【5†source】.\n",
            "user: Who is the author of the supplied file?\n"
          ]
        },
        {
          "output_type": "execute_result",
          "data": {
            "text/plain": [
              "'thread_d3F4JPbIDarg0mYPCc2eb7UI'"
            ],
            "application/vnd.google.colaboratory.intrinsic+json": {
              "type": "string"
            }
          },
          "metadata": {},
          "execution_count": 46
        }
      ]
    },
    {
      "cell_type": "code",
      "source": [
        "use_assistant(\"How many bytes is the provided file?\", assistant.id)"
      ],
      "metadata": {
        "colab": {
          "base_uri": "https://localhost:8080/",
          "height": 196
        },
        "id": "kSKL96nvQIUq",
        "outputId": "c5569139-84c3-4293-8d4e-ffe2d480efc1"
      },
      "execution_count": 47,
      "outputs": [
        {
          "output_type": "stream",
          "name": "stdout",
          "text": [
            "Creating Assistant \n",
            "Querying OpenAI Assistant Thread.\n",
            "Current run status: in_progress\n",
            "Current run status: in_progress\n",
            "Current run status: in_progress\n",
            "Current run status: in_progress\n",
            "Current run status: completed\n",
            "assistant: The provided file is 1201 bytes in size.\n",
            "user: How many bytes is the provided file?\n"
          ]
        },
        {
          "output_type": "execute_result",
          "data": {
            "text/plain": [
              "'thread_PIuICSY4pIzmNldXBunHAlfO'"
            ],
            "application/vnd.google.colaboratory.intrinsic+json": {
              "type": "string"
            }
          },
          "metadata": {},
          "execution_count": 47
        }
      ]
    },
    {
      "cell_type": "markdown",
      "source": [
        "####❓ Question\n",
        "\n",
        "Notice that our response can go through multiple paths, given that:\n",
        "\n",
        "What is \"deciding\" to use the tool?\n",
        "\n",
        "\n",
        "### ANSWER:\n",
        "The decision to use a specific tool or method to answer a question about file size is dictated by the assistant's programming, which includes logic for interpreting questions and selecting the appropriate tools or methods to provide accurate answers."
      ],
      "metadata": {
        "id": "gm0oYJu7VAjg"
      }
    },
    {
      "cell_type": "markdown",
      "source": [
        "### Adding JSON Mode for More Agentic Behaviour\n",
        "\n",
        "Finally, we have the ability to select tools - all we need to do now is set up a process to allow us to create some kind of loop and make decisions about whether or not the response is complete or not.\n",
        "\n",
        "We'll leverage the OpenAI completions end-endpoint with JSON mode to let us understand when we've adequately answered our user's question!"
      ],
      "metadata": {
        "id": "FrJWQ4XvZ20K"
      }
    },
    {
      "cell_type": "code",
      "source": [
        "completed_template = \\\n",
        "\"\"\"\n",
        "Does this response adequately answer the user's query?\n",
        "\n",
        "Please return your response in JSON format - with key: \"completed\" and either True (if completed) or False (if not completed)\n",
        "\n",
        "User Query:\n",
        "{query}\n",
        "\n",
        "Assistant Response:\n",
        "{response}\n",
        "\"\"\"\n",
        "\n",
        "def is_complete(query, response):\n",
        "  completed_response = client.chat.completions.create(\n",
        "      messages=[\n",
        "          {\n",
        "              \"role\": \"user\",\n",
        "              \"content\": completed_template.format(query=query, response=response),\n",
        "          }\n",
        "      ],\n",
        "      model=model,\n",
        "      response_format={\"type\" : \"json_object\"}\n",
        "  )\n",
        "\n",
        "  return completed_response"
      ],
      "metadata": {
        "id": "Rzrk8gn2anpe"
      },
      "execution_count": 48,
      "outputs": []
    },
    {
      "cell_type": "code",
      "source": [
        "query = \"How many bytes is the provided file?\"\n",
        "\n",
        "thread_id_for_response = use_assistant(query, assistant.id)"
      ],
      "metadata": {
        "colab": {
          "base_uri": "https://localhost:8080/"
        },
        "id": "9kCQrx03brge",
        "outputId": "cc100931-f94c-4aa1-fb63-5a63d45e3879"
      },
      "execution_count": 49,
      "outputs": [
        {
          "output_type": "stream",
          "name": "stdout",
          "text": [
            "Creating Assistant \n",
            "Querying OpenAI Assistant Thread.\n",
            "Current run status: in_progress\n",
            "Current run status: in_progress\n",
            "Current run status: completed\n",
            "assistant: The provided file is 1201 bytes in size.\n",
            "user: How many bytes is the provided file?\n"
          ]
        }
      ]
    },
    {
      "cell_type": "markdown",
      "source": [
        "Now we can observe JSON mode in action!"
      ],
      "metadata": {
        "id": "lSJs9oDIgBTK"
      }
    },
    {
      "cell_type": "code",
      "source": [
        "messages = client.beta.threads.messages.list(thread_id=thread_id_for_response)\n",
        "response = messages.data[0].content[0].text.value\n",
        "completed_flag = json.loads(is_complete(query, response).choices[0].message.content)"
      ],
      "metadata": {
        "id": "MSDsmlDBcYk_"
      },
      "execution_count": 50,
      "outputs": []
    },
    {
      "cell_type": "code",
      "source": [
        "completed_flag"
      ],
      "metadata": {
        "colab": {
          "base_uri": "https://localhost:8080/"
        },
        "id": "_-SKB6TWf_Ra",
        "outputId": "ebc11e23-da00-46d0-987b-28169c5f3e73"
      },
      "execution_count": 51,
      "outputs": [
        {
          "output_type": "execute_result",
          "data": {
            "text/plain": [
              "{'completed': True}"
            ]
          },
          "metadata": {},
          "execution_count": 51
        }
      ]
    },
    {
      "cell_type": "markdown",
      "source": [
        "## 🚧 BONUS CHALLENGE 🚧:\n",
        "\n",
        "Use the components we've constructed so far to build a loop that lets us continue to query the Assistant if the response is not completed!"
      ],
      "metadata": {
        "id": "bivIAVh0dTwA"
      }
    },
    {
      "cell_type": "code",
      "source": [
        "### YOUR CODE HERE\n",
        "\n",
        "def agent_assistant():\n",
        "    user_input = input(\"How can I help you? \")\n",
        "    use_assistant(user_input, assistant.id)\n",
        "\n",
        "# First, run the agent_assistant function\n",
        "agent_assistant()\n",
        "\n",
        "# Then, enter the while loop\n",
        "while True:\n",
        "    user_input = input(\"Continue with the Assistant? (Type 'n' to stop): \")\n",
        "    if user_input.upper() == 'N':\n",
        "        break\n",
        "    else:\n",
        "        # If the user does not choose to stop, call the agent_assistant function again\n",
        "        agent_assistant()\n",
        "\n",
        "\n",
        "\n",
        "\n",
        "\n",
        ""
      ],
      "metadata": {
        "id": "vtWh_h_WfjuS",
        "colab": {
          "base_uri": "https://localhost:8080/"
        },
        "outputId": "d6678ba4-3614-4c8a-dff4-907b3a90a62b"
      },
      "execution_count": 56,
      "outputs": [
        {
          "name": "stdout",
          "output_type": "stream",
          "text": [
            "How can I help you? how far is the earths moon from the planet venus?\n",
            "Creating Assistant \n",
            "Querying OpenAI Assistant Thread.\n",
            "Current run status: in_progress\n",
            "Current run status: in_progress\n",
            "Current run status: in_progress\n",
            "Current run status: in_progress\n",
            "Current run status: in_progress\n",
            "Current run status: in_progress\n",
            "Current run status: in_progress\n",
            "Current run status: completed\n",
            "assistant: The search did not yield any relevant information regarding the distance between the Earth's moon and the planet Venus in the document \"Frankenstein\" by Mary Shelley. \n",
            "\n",
            "Let me provide you with the approximate distance between the Earth's moon and the planet Venus based on astronomical data:\n",
            "\n",
            "- The average distance between the Earth's moon and the planet Venus ranges from approximately 38 million kilometers (23.6 million miles) to about 261 million kilometers (162 million miles), depending on their positions in their respective orbits around the Sun.\n",
            "\n",
            "Feel free to let me know if you need further assistance or more details on this topic.\n",
            "assistant: The file seems to be \"Frankenstein\" by Mary Shelley. Let's search the document to see if there is any information related to the distance between the Earth's moon and the planet Venus.\n",
            "assistant: To determine the distance between the Earth's moon and the planet Venus, we can start by extracting relevant information from the file you uploaded. Let's take a look at the contents of the file to find data related to the distance between these celestial bodies.\n",
            "user: how far is the earths moon from the planet venus?\n",
            "Continue with the Assistant? (Type 'n' to stop): yes\n",
            "How can I help you? Frankenstein\n",
            "Creating Assistant \n",
            "Querying OpenAI Assistant Thread.\n",
            "Current run status: in_progress\n",
            "Current run status: in_progress\n",
            "Current run status: completed\n",
            "assistant: The text of \"Frankenstein\" by Mary Shelley has been successfully loaded. What specifically would you like to know or explore regarding \"Frankenstein\"?\n",
            "user: Frankenstein\n",
            "Continue with the Assistant? (Type 'n' to stop): y\n",
            "How can I help you? what is the file size?\n",
            "Creating Assistant \n",
            "Querying OpenAI Assistant Thread.\n",
            "Current run status: in_progress\n",
            "Current run status: in_progress\n",
            "Current run status: completed\n",
            "assistant: The file size is 1201 bytes.\n",
            "user: what is the file size?\n",
            "Continue with the Assistant? (Type 'n' to stop): n\n"
          ]
        }
      ]
    },
    {
      "cell_type": "markdown",
      "source": [
        "# Make Sure You Delete Resources\n",
        "\n",
        "Make sure you delete all the resources you created!\n",
        "\n",
        "This function will help you do so!"
      ],
      "metadata": {
        "id": "VJjYm6gnfWrS"
      }
    },
    {
      "cell_type": "code",
      "source": [
        "file_deletion_status = client.beta.assistants.files.delete(\n",
        "  assistant_id=assistant.id,\n",
        "  file_id=file_reference.id\n",
        ")"
      ],
      "metadata": {
        "id": "62b49AleR6m_",
        "colab": {
          "base_uri": "https://localhost:8080/",
          "height": 365
        },
        "outputId": "79154b9e-f93f-4769-ac39-5c37c0994d4b"
      },
      "execution_count": null,
      "outputs": [
        {
          "output_type": "error",
          "ename": "NotFoundError",
          "evalue": "Error code: 404 - {'error': {'message': \"No file found with id 'file-L2jmIarBVvBA0EY1hgjsMkKe'.\", 'type': 'invalid_request_error', 'param': None, 'code': None}}",
          "traceback": [
            "\u001b[0;31m---------------------------------------------------------------------------\u001b[0m",
            "\u001b[0;31mNotFoundError\u001b[0m                             Traceback (most recent call last)",
            "\u001b[0;32m<ipython-input-70-f147d1f60477>\u001b[0m in \u001b[0;36m<cell line: 1>\u001b[0;34m()\u001b[0m\n\u001b[0;32m----> 1\u001b[0;31m file_deletion_status = client.beta.assistants.files.delete(\n\u001b[0m\u001b[1;32m      2\u001b[0m   \u001b[0massistant_id\u001b[0m\u001b[0;34m=\u001b[0m\u001b[0massistant\u001b[0m\u001b[0;34m.\u001b[0m\u001b[0mid\u001b[0m\u001b[0;34m,\u001b[0m\u001b[0;34m\u001b[0m\u001b[0;34m\u001b[0m\u001b[0m\n\u001b[1;32m      3\u001b[0m   \u001b[0mfile_id\u001b[0m\u001b[0;34m=\u001b[0m\u001b[0mfile_reference\u001b[0m\u001b[0;34m.\u001b[0m\u001b[0mid\u001b[0m\u001b[0;34m\u001b[0m\u001b[0;34m\u001b[0m\u001b[0m\n\u001b[1;32m      4\u001b[0m )\n",
            "\u001b[0;32m/usr/local/lib/python3.10/dist-packages/openai/resources/beta/assistants/files.py\u001b[0m in \u001b[0;36mdelete\u001b[0;34m(self, file_id, assistant_id, extra_headers, extra_query, extra_body, timeout)\u001b[0m\n\u001b[1;32m    207\u001b[0m             \u001b[0;32mraise\u001b[0m \u001b[0mValueError\u001b[0m\u001b[0;34m(\u001b[0m\u001b[0;34mf\"Expected a non-empty value for `file_id` but received {file_id!r}\"\u001b[0m\u001b[0;34m)\u001b[0m\u001b[0;34m\u001b[0m\u001b[0;34m\u001b[0m\u001b[0m\n\u001b[1;32m    208\u001b[0m         \u001b[0mextra_headers\u001b[0m \u001b[0;34m=\u001b[0m \u001b[0;34m{\u001b[0m\u001b[0;34m\"OpenAI-Beta\"\u001b[0m\u001b[0;34m:\u001b[0m \u001b[0;34m\"assistants=v1\"\u001b[0m\u001b[0;34m,\u001b[0m \u001b[0;34m**\u001b[0m\u001b[0;34m(\u001b[0m\u001b[0mextra_headers\u001b[0m \u001b[0;32mor\u001b[0m \u001b[0;34m{\u001b[0m\u001b[0;34m}\u001b[0m\u001b[0;34m)\u001b[0m\u001b[0;34m}\u001b[0m\u001b[0;34m\u001b[0m\u001b[0;34m\u001b[0m\u001b[0m\n\u001b[0;32m--> 209\u001b[0;31m         return self._delete(\n\u001b[0m\u001b[1;32m    210\u001b[0m             \u001b[0;34mf\"/assistants/{assistant_id}/files/{file_id}\"\u001b[0m\u001b[0;34m,\u001b[0m\u001b[0;34m\u001b[0m\u001b[0;34m\u001b[0m\u001b[0m\n\u001b[1;32m    211\u001b[0m             options=make_request_options(\n",
            "\u001b[0;32m/usr/local/lib/python3.10/dist-packages/openai/_base_client.py\u001b[0m in \u001b[0;36mdelete\u001b[0;34m(self, path, cast_to, body, options)\u001b[0m\n\u001b[1;32m   1234\u001b[0m     ) -> ResponseT:\n\u001b[1;32m   1235\u001b[0m         \u001b[0mopts\u001b[0m \u001b[0;34m=\u001b[0m \u001b[0mFinalRequestOptions\u001b[0m\u001b[0;34m.\u001b[0m\u001b[0mconstruct\u001b[0m\u001b[0;34m(\u001b[0m\u001b[0mmethod\u001b[0m\u001b[0;34m=\u001b[0m\u001b[0;34m\"delete\"\u001b[0m\u001b[0;34m,\u001b[0m \u001b[0murl\u001b[0m\u001b[0;34m=\u001b[0m\u001b[0mpath\u001b[0m\u001b[0;34m,\u001b[0m \u001b[0mjson_data\u001b[0m\u001b[0;34m=\u001b[0m\u001b[0mbody\u001b[0m\u001b[0;34m,\u001b[0m \u001b[0;34m**\u001b[0m\u001b[0moptions\u001b[0m\u001b[0;34m)\u001b[0m\u001b[0;34m\u001b[0m\u001b[0;34m\u001b[0m\u001b[0m\n\u001b[0;32m-> 1236\u001b[0;31m         \u001b[0;32mreturn\u001b[0m \u001b[0mself\u001b[0m\u001b[0;34m.\u001b[0m\u001b[0mrequest\u001b[0m\u001b[0;34m(\u001b[0m\u001b[0mcast_to\u001b[0m\u001b[0;34m,\u001b[0m \u001b[0mopts\u001b[0m\u001b[0;34m)\u001b[0m\u001b[0;34m\u001b[0m\u001b[0;34m\u001b[0m\u001b[0m\n\u001b[0m\u001b[1;32m   1237\u001b[0m \u001b[0;34m\u001b[0m\u001b[0m\n\u001b[1;32m   1238\u001b[0m     def get_api_list(\n",
            "\u001b[0;32m/usr/local/lib/python3.10/dist-packages/openai/_base_client.py\u001b[0m in \u001b[0;36mrequest\u001b[0;34m(self, cast_to, options, remaining_retries, stream, stream_cls)\u001b[0m\n\u001b[1;32m    887\u001b[0m         \u001b[0mstream_cls\u001b[0m\u001b[0;34m:\u001b[0m \u001b[0mtype\u001b[0m\u001b[0;34m[\u001b[0m\u001b[0m_StreamT\u001b[0m\u001b[0;34m]\u001b[0m \u001b[0;34m|\u001b[0m \u001b[0;32mNone\u001b[0m \u001b[0;34m=\u001b[0m \u001b[0;32mNone\u001b[0m\u001b[0;34m,\u001b[0m\u001b[0;34m\u001b[0m\u001b[0;34m\u001b[0m\u001b[0m\n\u001b[1;32m    888\u001b[0m     ) -> ResponseT | _StreamT:\n\u001b[0;32m--> 889\u001b[0;31m         return self._request(\n\u001b[0m\u001b[1;32m    890\u001b[0m             \u001b[0mcast_to\u001b[0m\u001b[0;34m=\u001b[0m\u001b[0mcast_to\u001b[0m\u001b[0;34m,\u001b[0m\u001b[0;34m\u001b[0m\u001b[0;34m\u001b[0m\u001b[0m\n\u001b[1;32m    891\u001b[0m             \u001b[0moptions\u001b[0m\u001b[0;34m=\u001b[0m\u001b[0moptions\u001b[0m\u001b[0;34m,\u001b[0m\u001b[0;34m\u001b[0m\u001b[0;34m\u001b[0m\u001b[0m\n",
            "\u001b[0;32m/usr/local/lib/python3.10/dist-packages/openai/_base_client.py\u001b[0m in \u001b[0;36m_request\u001b[0;34m(self, cast_to, options, remaining_retries, stream, stream_cls)\u001b[0m\n\u001b[1;32m    978\u001b[0m \u001b[0;34m\u001b[0m\u001b[0m\n\u001b[1;32m    979\u001b[0m             \u001b[0mlog\u001b[0m\u001b[0;34m.\u001b[0m\u001b[0mdebug\u001b[0m\u001b[0;34m(\u001b[0m\u001b[0;34m\"Re-raising status error\"\u001b[0m\u001b[0;34m)\u001b[0m\u001b[0;34m\u001b[0m\u001b[0;34m\u001b[0m\u001b[0m\n\u001b[0;32m--> 980\u001b[0;31m             \u001b[0;32mraise\u001b[0m \u001b[0mself\u001b[0m\u001b[0;34m.\u001b[0m\u001b[0m_make_status_error_from_response\u001b[0m\u001b[0;34m(\u001b[0m\u001b[0merr\u001b[0m\u001b[0;34m.\u001b[0m\u001b[0mresponse\u001b[0m\u001b[0;34m)\u001b[0m \u001b[0;32mfrom\u001b[0m \u001b[0;32mNone\u001b[0m\u001b[0;34m\u001b[0m\u001b[0;34m\u001b[0m\u001b[0m\n\u001b[0m\u001b[1;32m    981\u001b[0m \u001b[0;34m\u001b[0m\u001b[0m\n\u001b[1;32m    982\u001b[0m         return self._process_response(\n",
            "\u001b[0;31mNotFoundError\u001b[0m: Error code: 404 - {'error': {'message': \"No file found with id 'file-L2jmIarBVvBA0EY1hgjsMkKe'.\", 'type': 'invalid_request_error', 'param': None, 'code': None}}"
          ]
        }
      ]
    },
    {
      "cell_type": "code",
      "source": [],
      "metadata": {
        "id": "TwaU8g22yWOx"
      },
      "execution_count": null,
      "outputs": []
    }
  ]
}