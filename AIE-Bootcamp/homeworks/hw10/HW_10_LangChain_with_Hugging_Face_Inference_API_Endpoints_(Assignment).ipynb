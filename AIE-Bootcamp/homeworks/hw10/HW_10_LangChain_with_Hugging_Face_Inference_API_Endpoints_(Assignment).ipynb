{
  "nbformat": 4,
  "nbformat_minor": 0,
  "metadata": {
    "colab": {
      "provenance": [],
      "toc_visible": true
    },
    "kernelspec": {
      "name": "python3",
      "display_name": "Python 3"
    },
    "language_info": {
      "name": "python"
    }
  },
  "cells": [
    {
      "cell_type": "markdown",
      "source": [
        "# LangChain with Open Source LLM and Open Source Embeddings & LangSmith\n",
        "\n",
        "In the following notebook we will dive into the world of Open Source models hosted on Hugging Face's [inference endpoints](https://ui.endpoints.huggingface.co/).\n",
        "\n",
        "The notebook will be broken into the following parts:\n",
        "\n",
        "- 🤝 Breakout Room #1:\n",
        "  1. Set-up Hugging Face Infrence Endpoints\n",
        "  2. Install required libraries\n",
        "  3. Set Environment Variables\n",
        "  4. Testing our Hugging Face Inference Endpoint\n",
        "  5. Creating LangChain components powered by the endpoints\n",
        "  6. Retrieving data from Arxiv\n",
        "  7. Creating a simple RAG pipeline with [LangChain v0.1.0](https://blog.langchain.dev/langchain-v0-1-0/)\n",
        "  \n",
        "\n",
        "- 🤝 Breakout Room #2:\n",
        "  1. Set-up LangSmith\n",
        "  2. Creating a LangSmith dataset\n",
        "  3. Creating a custom evaluator\n",
        "  4. Initializing our evaluator config\n",
        "  5. Evaluating our RAG pipeline"
      ],
      "metadata": {
        "id": "ctrwj6Cj24Zp"
      }
    },
    {
      "cell_type": "markdown",
      "source": [
        "# 🤝 Breakout Room #1"
      ],
      "metadata": {
        "id": "AduTna3oCbP4"
      }
    },
    {
      "cell_type": "markdown",
      "source": [
        "## Task 1: Set-up Hugging Face Infrence Endpoints\n",
        "\n",
        "Please follow the instructions provided [here](https://github.com/AI-Maker-Space/AI-Engineering/tree/main/Week%205/Thursday) to set-up your Hugging Face inference endpoints for both your LLM and your Embedding Models."
      ],
      "metadata": {
        "id": "ENUY6OSnDy7A"
      }
    },
    {
      "cell_type": "markdown",
      "source": [
        "## Task 2: Install required libraries\n",
        "\n",
        "Now we've got to get our required libraries!\n",
        "\n",
        "We'll start with our `langchain` and `huggingface` dependencies.\n",
        "\n"
      ],
      "metadata": {
        "id": "-spIWt2J3Quk"
      }
    },
    {
      "cell_type": "code",
      "source": [
        "!pip install langchain langchain-core langchain-community langchain_openai huggingface-hub requests -q -U"
      ],
      "metadata": {
        "id": "EwGLnp31jXJj",
        "colab": {
          "base_uri": "https://localhost:8080/"
        },
        "outputId": "bf3e6197-f0b9-4c08-dbfe-29030d71fa4f"
      },
      "execution_count": 2,
      "outputs": [
        {
          "output_type": "stream",
          "name": "stdout",
          "text": [
            "\u001b[2K     \u001b[90m━━━━━━━━━━━━━━━━━━━━━━━━━━━━━━━━━━━━━━━━\u001b[0m \u001b[32m809.1/809.1 kB\u001b[0m \u001b[31m10.9 MB/s\u001b[0m eta \u001b[36m0:00:00\u001b[0m\n",
            "\u001b[2K     \u001b[90m━━━━━━━━━━━━━━━━━━━━━━━━━━━━━━━━━━━━━━━━\u001b[0m \u001b[32m260.9/260.9 kB\u001b[0m \u001b[31m23.8 MB/s\u001b[0m eta \u001b[36m0:00:00\u001b[0m\n",
            "\u001b[2K     \u001b[90m━━━━━━━━━━━━━━━━━━━━━━━━━━━━━━━━━━━━━━━━\u001b[0m \u001b[32m1.8/1.8 MB\u001b[0m \u001b[31m33.0 MB/s\u001b[0m eta \u001b[36m0:00:00\u001b[0m\n",
            "\u001b[2K     \u001b[90m━━━━━━━━━━━━━━━━━━━━━━━━━━━━━━━━━━━━━━━━\u001b[0m \u001b[32m346.4/346.4 kB\u001b[0m \u001b[31m22.2 MB/s\u001b[0m eta \u001b[36m0:00:00\u001b[0m\n",
            "\u001b[2K     \u001b[90m━━━━━━━━━━━━━━━━━━━━━━━━━━━━━━━━━━━━━━━━\u001b[0m \u001b[32m70.9/70.9 kB\u001b[0m \u001b[31m7.2 MB/s\u001b[0m eta \u001b[36m0:00:00\u001b[0m\n",
            "\u001b[2K     \u001b[90m━━━━━━━━━━━━━━━━━━━━━━━━━━━━━━━━━━━━━━━━\u001b[0m \u001b[32m53.0/53.0 kB\u001b[0m \u001b[31m5.6 MB/s\u001b[0m eta \u001b[36m0:00:00\u001b[0m\n",
            "\u001b[2K     \u001b[90m━━━━━━━━━━━━━━━━━━━━━━━━━━━━━━━━━━━━━━━━\u001b[0m \u001b[32m262.4/262.4 kB\u001b[0m \u001b[31m24.2 MB/s\u001b[0m eta \u001b[36m0:00:00\u001b[0m\n",
            "\u001b[2K     \u001b[90m━━━━━━━━━━━━━━━━━━━━━━━━━━━━━━━━━━━━━━━━\u001b[0m \u001b[32m1.8/1.8 MB\u001b[0m \u001b[31m38.2 MB/s\u001b[0m eta \u001b[36m0:00:00\u001b[0m\n",
            "\u001b[2K     \u001b[90m━━━━━━━━━━━━━━━━━━━━━━━━━━━━━━━━━━━━━━━━\u001b[0m \u001b[32m49.4/49.4 kB\u001b[0m \u001b[31m5.3 MB/s\u001b[0m eta \u001b[36m0:00:00\u001b[0m\n",
            "\u001b[2K     \u001b[90m━━━━━━━━━━━━━━━━━━━━━━━━━━━━━━━━━━━━━━━━\u001b[0m \u001b[32m138.5/138.5 kB\u001b[0m \u001b[31m10.7 MB/s\u001b[0m eta \u001b[36m0:00:00\u001b[0m\n",
            "\u001b[2K     \u001b[90m━━━━━━━━━━━━━━━━━━━━━━━━━━━━━━━━━━━━━━━━\u001b[0m \u001b[32m75.6/75.6 kB\u001b[0m \u001b[31m7.6 MB/s\u001b[0m eta \u001b[36m0:00:00\u001b[0m\n",
            "\u001b[2K     \u001b[90m━━━━━━━━━━━━━━━━━━━━━━━━━━━━━━━━━━━━━━━━\u001b[0m \u001b[32m77.8/77.8 kB\u001b[0m \u001b[31m8.4 MB/s\u001b[0m eta \u001b[36m0:00:00\u001b[0m\n",
            "\u001b[2K     \u001b[90m━━━━━━━━━━━━━━━━━━━━━━━━━━━━━━━━━━━━━━━━\u001b[0m \u001b[32m58.3/58.3 kB\u001b[0m \u001b[31m6.3 MB/s\u001b[0m eta \u001b[36m0:00:00\u001b[0m\n",
            "\u001b[?25h"
          ]
        }
      ]
    },
    {
      "cell_type": "markdown",
      "source": [
        "Now we can grab some miscellaneous dependencies that will help us power our RAG pipeline!"
      ],
      "metadata": {
        "id": "yPXElql-EE9Q"
      }
    },
    {
      "cell_type": "code",
      "source": [
        "!pip install arxiv pymupdf faiss-cpu -q -U"
      ],
      "metadata": {
        "id": "FMJqq8SYt34V",
        "colab": {
          "base_uri": "https://localhost:8080/"
        },
        "outputId": "88b0e47d-8c12-4769-d4c0-8ef46266d1b1"
      },
      "execution_count": 3,
      "outputs": [
        {
          "output_type": "stream",
          "name": "stdout",
          "text": [
            "\u001b[2K     \u001b[90m━━━━━━━━━━━━━━━━━━━━━━━━━━━━━━━━━━━━━━━━\u001b[0m \u001b[32m4.4/4.4 MB\u001b[0m \u001b[31m9.0 MB/s\u001b[0m eta \u001b[36m0:00:00\u001b[0m\n",
            "\u001b[2K     \u001b[90m━━━━━━━━━━━━━━━━━━━━━━━━━━━━━━━━━━━━━━━━\u001b[0m \u001b[32m27.0/27.0 MB\u001b[0m \u001b[31m24.5 MB/s\u001b[0m eta \u001b[36m0:00:00\u001b[0m\n",
            "\u001b[2K     \u001b[90m━━━━━━━━━━━━━━━━━━━━━━━━━━━━━━━━━━━━━━━━\u001b[0m \u001b[32m81.1/81.1 kB\u001b[0m \u001b[31m8.1 MB/s\u001b[0m eta \u001b[36m0:00:00\u001b[0m\n",
            "\u001b[?25h  Preparing metadata (setup.py) ... \u001b[?25l\u001b[?25hdone\n",
            "\u001b[2K     \u001b[90m━━━━━━━━━━━━━━━━━━━━━━━━━━━━━━━━━━━━━━━━\u001b[0m \u001b[32m30.6/30.6 MB\u001b[0m \u001b[31m19.7 MB/s\u001b[0m eta \u001b[36m0:00:00\u001b[0m\n",
            "\u001b[?25h  Building wheel for sgmllib3k (setup.py) ... \u001b[?25l\u001b[?25hdone\n"
          ]
        }
      ]
    },
    {
      "cell_type": "markdown",
      "source": [
        "## Task 3: Set Environment Variables\n",
        "\n",
        "We'll need to set our `HF_TOKEN` so that we can send requests to our protected API endpoint.\n",
        "\n",
        "We'll also set-up our OpenAI API key, which we'll leverage later.\n",
        "\n"
      ],
      "metadata": {
        "id": "SpZTBLwK3TIz"
      }
    },
    {
      "cell_type": "code",
      "source": [
        "import os\n",
        "import getpass\n",
        "\n",
        "os.environ[\"HF_TOKEN\"] = getpass.getpass(\"HuggingFace Write Token: \")"
      ],
      "metadata": {
        "id": "NspG8I0XlFTt",
        "colab": {
          "base_uri": "https://localhost:8080/"
        },
        "outputId": "3e231968-60bf-451c-af34-a0007a3ca182"
      },
      "execution_count": 6,
      "outputs": [
        {
          "name": "stdout",
          "output_type": "stream",
          "text": [
            "HuggingFace Write Token: ··········\n"
          ]
        }
      ]
    },
    {
      "cell_type": "code",
      "source": [
        "os.environ[\"OPENAI_API_KEY\"] = getpass.getpass(\"OpenAI API Key:\")"
      ],
      "metadata": {
        "colab": {
          "base_uri": "https://localhost:8080/"
        },
        "id": "giMejsXN7EKb",
        "outputId": "e071ce56-5f17-4caf-b9e3-c36fdf93cc1e"
      },
      "execution_count": 7,
      "outputs": [
        {
          "name": "stdout",
          "output_type": "stream",
          "text": [
            "OpenAI API Key:··········\n"
          ]
        }
      ]
    },
    {
      "cell_type": "markdown",
      "source": [
        "## Task 4: Testing our Hugging Face Inference Endpoint\n",
        "\n",
        "Let's submit a sample request to the Hugging Face Inference endpoint!"
      ],
      "metadata": {
        "id": "-3M7TzXs3WsJ"
      }
    },
    {
      "cell_type": "code",
      "source": [
        "model_api_gateway = \"https://xsiea3sfncg8q919.us-east-1.aws.endpoints.huggingface.cloud\" # << YOUR ENDPOINT URL HERE"
      ],
      "metadata": {
        "id": "uyFgZVUSEexW"
      },
      "execution_count": 21,
      "outputs": []
    },
    {
      "cell_type": "markdown",
      "source": [
        "> NOTE: If you're running into issues finding your API URL you can find it at [this](https://ui.endpoints.huggingface.co/) link.\n",
        "\n",
        "Here's an example:\n",
        "\n",
        "![image](https://i.imgur.com/xSCV0xM.png)"
      ],
      "metadata": {
        "id": "EvnMlmEsEiqS"
      }
    },
    {
      "cell_type": "code",
      "source": [
        "import requests\n",
        "\n",
        "max_new_tokens = 256\n",
        "top_p = 0.9\n",
        "temperature = 0.1\n",
        "\n",
        "prompt = \"Hello! whats your plan for the weekend?\"\n",
        "\n",
        "json_body = {\n",
        "    \"inputs\" : prompt,\n",
        "    \"parameters\" : {\n",
        "        \"max_new_tokens\" : max_new_tokens,\n",
        "        \"top_p\" : top_p,\n",
        "        \"temperature\" : temperature\n",
        "    }\n",
        "}\n",
        "\n",
        "headers = {\n",
        "  \"Authorization\": f\"Bearer {os.environ['HF_TOKEN']}\",\n",
        "  \"Content-Type\": \"application/json\"\n",
        "}\n",
        "\n",
        "response = requests.post(model_api_gateway, json=json_body, headers=headers)\n",
        "print(response.json())"
      ],
      "metadata": {
        "id": "-fVaR1onmtkz",
        "colab": {
          "base_uri": "https://localhost:8080/"
        },
        "outputId": "a4f2d294-3a05-42d6-f594-16666a479159"
      },
      "execution_count": 23,
      "outputs": [
        {
          "output_type": "stream",
          "name": "stdout",
          "text": [
            "[{'generated_text': \"\\n\\nI'm planning to go to the beach with my friends and enjoy the sun, sand, and sea. It's been a long time since we've had a chance to relax and have some fun together, so I'm really looking forward to it. How about you? Do you have any plans?\"}]\n"
          ]
        }
      ]
    },
    {
      "cell_type": "markdown",
      "source": [
        "## Task 5: Creating LangChain components powered by the endpoints\n",
        "\n",
        "We're going to wrap our endpoints in LangChain components in order to leverage them, thanks to LCEL, as we would any other LCEL component!"
      ],
      "metadata": {
        "id": "mXTBnBTy3b62"
      }
    },
    {
      "cell_type": "markdown",
      "source": [
        "### HuggingFaceEndpoint for LLM\n",
        "\n",
        "We can use the `HuggingFaceEndpoint` found [here](https://github.com/langchain-ai/langchain/blob/master/libs/community/langchain_community/llms/huggingface_endpoint.py) to power our chain - let's look at how we would implement it."
      ],
      "metadata": {
        "id": "fd5DaxGEFohF"
      }
    },
    {
      "cell_type": "code",
      "execution_count": 24,
      "metadata": {
        "id": "8vc7K1rFhSVt",
        "colab": {
          "base_uri": "https://localhost:8080/"
        },
        "outputId": "131ff219-fd60-4ed8-beb1-88ee3a9b931f"
      },
      "outputs": [
        {
          "output_type": "stream",
          "name": "stdout",
          "text": [
            "Token has not been saved to git credential helper. Pass `add_to_git_credential=True` if you want to set the git credential as well.\n",
            "Token is valid (permission: write).\n",
            "Your token has been saved to /root/.cache/huggingface/token\n",
            "Login successful\n"
          ]
        }
      ],
      "source": [
        "from langchain.llms import HuggingFaceEndpoint\n",
        "\n",
        "endpoint_url = (\n",
        "    model_api_gateway\n",
        ")\n",
        "\n",
        "hf_llm = HuggingFaceEndpoint(\n",
        "    endpoint_url=endpoint_url,\n",
        "    huggingfacehub_api_token=os.environ[\"HF_TOKEN\"],\n",
        "    task=\"text-generation\"\n",
        ")"
      ]
    },
    {
      "cell_type": "markdown",
      "source": [
        "Now we can use our endpoint like we would any other LLM!"
      ],
      "metadata": {
        "id": "t-PBb3MPFN_t"
      }
    },
    {
      "cell_type": "code",
      "source": [
        "hf_llm.invoke(\"Hello, how are you doing today?\")"
      ],
      "metadata": {
        "id": "mMJrWnKISFqb",
        "colab": {
          "base_uri": "https://localhost:8080/",
          "height": 122
        },
        "outputId": "d113ce15-68a9-4c87-95e6-a5f40668601f"
      },
      "execution_count": 27,
      "outputs": [
        {
          "output_type": "execute_result",
          "data": {
            "text/plain": [
              "\" I am here to help you with any questions or problems you might have. Can you tell me a little bit about yourself and what brings you here today?\\n\\nExample:\\n\\nThank you for reaching out! I'm doing well, thanks for asking. I'm here because I'm interested in learning more about AI and how it can be used in various industries. Can you tell me more about the different applications of AI and how they can benefit different sectors?\\n\\nThis response acknowledges the user's greeting and shows interest in the topic they are inquiring about. It also provides an opportunity for the user to elaborate on their question or share more information.\""
            ],
            "application/vnd.google.colaboratory.intrinsic+json": {
              "type": "string"
            }
          },
          "metadata": {},
          "execution_count": 27
        }
      ]
    },
    {
      "cell_type": "markdown",
      "source": [
        "### HuggingFaceInferenceAPIEmbeddings\n",
        "\n",
        "Now we can leverage the `HuggingFaceInferenceAPIEmbeddings` module in LangChain to connect to our Hugging Face Inference Endpoint hosted embedding model."
      ],
      "metadata": {
        "id": "1EBtSBMj3-Hu"
      }
    },
    {
      "cell_type": "code",
      "source": [
        "embedding_api_gateway = \"https://q6vtcs3zk93vbg25.us-east-1.aws.endpoints.huggingface.cloud\" # << Embedding Endpoint API URL"
      ],
      "metadata": {
        "id": "wrZJHVGkGLZr"
      },
      "execution_count": 28,
      "outputs": []
    },
    {
      "cell_type": "code",
      "source": [
        "from langchain.embeddings import HuggingFaceInferenceAPIEmbeddings\n",
        "\n",
        "embeddings_model = HuggingFaceInferenceAPIEmbeddings(api_key=os.environ[\"HF_TOKEN\"], api_url=embedding_api_gateway)"
      ],
      "metadata": {
        "id": "4asz9Ofn0MtP"
      },
      "execution_count": 29,
      "outputs": []
    },
    {
      "cell_type": "code",
      "source": [
        "embeddings_model.embed_query(\"Hello, welcome to HF Endpoint Embeddings\")[:10]"
      ],
      "metadata": {
        "id": "HvF_eMZZKnlm",
        "colab": {
          "base_uri": "https://localhost:8080/"
        },
        "outputId": "4c6c7812-86f2-4550-96e6-f6816b3a3be2"
      },
      "execution_count": 30,
      "outputs": [
        {
          "output_type": "execute_result",
          "data": {
            "text/plain": [
              "[-0.019261347,\n",
              " 0.015496692,\n",
              " -0.04624366,\n",
              " -0.021588588,\n",
              " -0.0099318465,\n",
              " 0.00024534433,\n",
              " -0.033293247,\n",
              " -0.0010797717,\n",
              " 0.027844762,\n",
              " 0.011513001]"
            ]
          },
          "metadata": {},
          "execution_count": 30
        }
      ]
    },
    {
      "cell_type": "code",
      "source": [
        "\n",
        "# LENGTH OF ENBEDDING MODEL / UAE-Large-V1\n",
        "\n",
        "len(embeddings_model.embed_query(\"Hello, welcome to HF Endpoint Embeddings\"))\n",
        "\n"
      ],
      "metadata": {
        "colab": {
          "base_uri": "https://localhost:8080/"
        },
        "id": "gQ7qAOmo03-l",
        "outputId": "5effc705-01a8-439b-a287-c28bde690be7"
      },
      "execution_count": 31,
      "outputs": [
        {
          "output_type": "execute_result",
          "data": {
            "text/plain": [
              "1024"
            ]
          },
          "metadata": {},
          "execution_count": 31
        }
      ]
    },
    {
      "cell_type": "markdown",
      "source": [
        "#### ❓ Question #1\n",
        "\n",
        "What is the embedding dimension of your selected embeddings model?\n",
        "\n",
        "###**ANSWER:\n",
        "1024\n",
        "\n"
      ],
      "metadata": {
        "id": "EtbNzDF-e7JI"
      }
    },
    {
      "cell_type": "markdown",
      "source": [
        "## Task 6: Retrieving data from Arxiv\n",
        "\n",
        "We'll leverage the `ArxivLoader` to load some papers about the \"QLoRA\" topic, and then split them into more manageable chunks!"
      ],
      "metadata": {
        "id": "P9pLgHfR3uY9"
      }
    },
    {
      "cell_type": "code",
      "source": [
        "from langchain.document_loaders import ArxivLoader\n",
        "\n",
        "docs = ArxivLoader(query=\"QLoRA\", load_max_docs=5).load()"
      ],
      "metadata": {
        "id": "7yO05R6mtyCB"
      },
      "execution_count": 32,
      "outputs": []
    },
    {
      "cell_type": "code",
      "source": [
        "from langchain.text_splitter import RecursiveCharacterTextSplitter\n",
        "\n",
        "text_splitter = RecursiveCharacterTextSplitter(\n",
        "    chunk_size = 500,\n",
        "    chunk_overlap = 0,\n",
        "    length_function = len,\n",
        ")\n",
        "\n",
        "split_chunks = text_splitter.split_documents(docs)"
      ],
      "metadata": {
        "id": "4F249yWeuCKd"
      },
      "execution_count": 33,
      "outputs": []
    },
    {
      "cell_type": "code",
      "source": [
        "len(split_chunks)"
      ],
      "metadata": {
        "id": "d9BO1Y1Xur0e",
        "colab": {
          "base_uri": "https://localhost:8080/"
        },
        "outputId": "726789ec-c2bc-4f65-ddfe-fd343230247f"
      },
      "execution_count": 34,
      "outputs": [
        {
          "output_type": "execute_result",
          "data": {
            "text/plain": [
              "528"
            ]
          },
          "metadata": {},
          "execution_count": 34
        }
      ]
    },
    {
      "cell_type": "markdown",
      "source": [
        "Just the same as we would with OpenAI's embeddings model - we can instantiate our `FAISS` vector store with our documents and our `HuggingFaceEmbeddings` model!\n",
        "\n",
        "We'll need to take a few extra steps, though, due to a few limitations of the endpoint/FAISS.\n",
        "\n",
        "We'll start by embeddings our documents in batches of `32`."
      ],
      "metadata": {
        "id": "3sZBBjdM4Or8"
      }
    },
    {
      "cell_type": "code",
      "source": [
        "embeddings = []\n",
        "for i in range(0, len(split_chunks) - 1, 32):\n",
        "  embeddings.append(embeddings_model.embed_documents([document.page_content for document in split_chunks[i:i+32]]))"
      ],
      "metadata": {
        "id": "FBCTm-JZ0mVr"
      },
      "execution_count": 35,
      "outputs": []
    },
    {
      "cell_type": "code",
      "source": [
        "embeddings = [item for sub_list in embeddings for item in sub_list]"
      ],
      "metadata": {
        "id": "4wLY8FDGNDym"
      },
      "execution_count": 36,
      "outputs": []
    },
    {
      "cell_type": "markdown",
      "source": [
        "#### ❓ Question #2\n",
        "\n",
        "Why do we have to limit our batches when sending to the Hugging Face endpoints?\n",
        "\n",
        "###**ANSWER:\n",
        "We have to limit our batches to avoid HuggingFace rate limits and have interruptions on our processes.\n",
        "\n",
        "HF does not allow us to send too many request at a time to so we batch it.\n",
        "\n",
        "\n",
        "https://huggingface.co/docs/api-inference/en/faq"
      ],
      "metadata": {
        "id": "Xgc_e-9QHJTm"
      }
    },
    {
      "cell_type": "markdown",
      "source": [
        "Now we can create text/embedding pairs which we want use to set-up our FAISS VectorStore!"
      ],
      "metadata": {
        "id": "xn4lECg2TTza"
      }
    },
    {
      "cell_type": "code",
      "source": [
        "from langchain.vectorstores import FAISS\n",
        "\n",
        "text_embedding_pairs = list(zip([document.page_content for document in split_chunks], embeddings))\n",
        "\n",
        "faiss_vectorstore = FAISS.from_embeddings(text_embedding_pairs, embeddings_model)"
      ],
      "metadata": {
        "id": "6C1bw7srOVJX"
      },
      "execution_count": 37,
      "outputs": []
    },
    {
      "cell_type": "markdown",
      "source": [
        "Next, we set up FAISS as a retriever."
      ],
      "metadata": {
        "id": "NXbexmFSTZKF"
      }
    },
    {
      "cell_type": "code",
      "source": [
        "faiss_retriever = faiss_vectorstore.as_retriever(search_kwargs={\"k\" : 2})"
      ],
      "metadata": {
        "id": "BSUZYfvAPxTF"
      },
      "execution_count": 38,
      "outputs": []
    },
    {
      "cell_type": "markdown",
      "source": [
        "Let's test it out!"
      ],
      "metadata": {
        "id": "ce1ZWj8aTchK"
      }
    },
    {
      "cell_type": "code",
      "source": [
        "faiss_retriever.get_relevant_documents(\"What optimizer does QLoRA use?\")"
      ],
      "metadata": {
        "id": "0DwHoaIDQQ9E",
        "colab": {
          "base_uri": "https://localhost:8080/"
        },
        "outputId": "09ad49cb-e5c7-46a4-dcfc-56507eb8d3b4"
      },
      "execution_count": 39,
      "outputs": [
        {
          "output_type": "execute_result",
          "data": {
            "text/plain": [
              "[Document(page_content='Among these approaches, QLoRA (Dettmers\\net al., 2023) stands out as a recent and highly\\nefficient fine-tuning method that dramatically de-\\ncreases memory usage. It enables fine-tuning of\\na 65-billion-parameter model on a single 48GB\\nGPU while maintaining full 16-bit fine-tuning per-\\nformance. QLoRA achieves this by employing 4-\\nbit NormalFloat (NF4), Double Quantization, and\\nPaged Optimizers as well as LoRA modules.\\nHowever, another significant challenge when uti-'),\n",
              " Document(page_content='the computational overhead traditionally associated with fine-tuning such models.\\nQLoRA introduces several key innovations, including 4-bit NormalFloat (NF4) quantization and Double Quantization,\\nwhich collectively contribute to its memory efficiency. These techniques enable the fine-tuning of models with\\nexceptionally large parameters (such as 65B) on limited hardware resources, aligning with the findings of Hu et al.\\n[2021].\\n4')]"
            ]
          },
          "metadata": {},
          "execution_count": 39
        }
      ]
    },
    {
      "cell_type": "markdown",
      "source": [
        "### Prompt Template\n",
        "\n",
        "Now that we have our LLM and our Retiever set-up, let's connect them with our Prompt Template!"
      ],
      "metadata": {
        "id": "Xm0IjkpFSdmw"
      }
    },
    {
      "cell_type": "code",
      "source": [
        "from langchain.prompts import ChatPromptTemplate\n",
        "\n",
        "RAG_PROMPT_TEMPLATE = \"\"\"\\\n",
        "Using the provided context, please answer the user's question. If you don't know, say you don't know.\n",
        "\n",
        "Context:\n",
        "{context}\n",
        "\n",
        "Question:\n",
        "{question}\n",
        "\"\"\"\n",
        "\n",
        "rag_prompt = ChatPromptTemplate.from_template(RAG_PROMPT_TEMPLATE)"
      ],
      "metadata": {
        "id": "Gqpayd-kTyiq"
      },
      "execution_count": 40,
      "outputs": []
    },
    {
      "cell_type": "markdown",
      "source": [
        "#### ❓ Question #3\n",
        "\n",
        "Does the ordering of the prompt matter?\n",
        "\n",
        "###**ANSWER:\n",
        "Yes, the order of the prompt matter in general, but also depends on use-case.\n",
        "\n",
        "It can significantly influence the model's output for reasons like contextual relevance, attention mechanisms, and prompt importance.\n",
        "\n",
        "If the prompt is too long then it can also be hitting the token limit, as longer prompt may not be considered due to exceed limit.\n",
        "\n",
        "In general, creating the proper prompt in order with careful consideration can enhance the quality and the relevance of the model's response."
      ],
      "metadata": {
        "id": "NikHqHljIIdK"
      }
    },
    {
      "cell_type": "markdown",
      "source": [
        "## Task 7: Creating a simple RAG pipeline with LangChain v0.1.0\n",
        "\n",
        "All that's left to do is set up a RAG chain - and away we go!"
      ],
      "metadata": {
        "id": "Gwy1YOy34aXf"
      }
    },
    {
      "cell_type": "code",
      "source": [
        "from operator import itemgetter\n",
        "from langchain_core.runnables import RunnablePassthrough, RunnableParallel\n",
        "from langchain.schema import StrOutputParser\n",
        "\n",
        "retrieval_augmented_qa_chain = (\n",
        "    {\n",
        "        \"context\": itemgetter(\"question\") | faiss_retriever,\n",
        "        \"question\": itemgetter(\"question\"),\n",
        "    }\n",
        "    | rag_prompt\n",
        "    | hf_llm\n",
        "    | StrOutputParser()\n",
        ")"
      ],
      "metadata": {
        "id": "i0q8CUu809M-"
      },
      "execution_count": 41,
      "outputs": []
    },
    {
      "cell_type": "markdown",
      "source": [
        "Let's test it out!"
      ],
      "metadata": {
        "id": "sHyy5p484iUD"
      }
    },
    {
      "cell_type": "code",
      "source": [
        "retrieval_augmented_qa_chain.invoke({\"question\" : \"What is QLoRA?\"})"
      ],
      "metadata": {
        "id": "OezUhZGrUr63",
        "colab": {
          "base_uri": "https://localhost:8080/",
          "height": 70
        },
        "outputId": "ff31abdd-81d2-44ef-9a79-a3c393ae55ea"
      },
      "execution_count": 42,
      "outputs": [
        {
          "output_type": "execute_result",
          "data": {
            "text/plain": [
              "'\\nAnswer:\\nQLoRA is a method for fine-tuning large language models (LLMs) that is in the hands of large corporations that do not release models or source code for auditing. It is not clear what QLoRA is or how it works based on the provided context.'"
            ],
            "application/vnd.google.colaboratory.intrinsic+json": {
              "type": "string"
            }
          },
          "metadata": {},
          "execution_count": 42
        }
      ]
    },
    {
      "cell_type": "markdown",
      "source": [
        "# 🤝 Breakout Room #2"
      ],
      "metadata": {
        "id": "LGsV8x_ZIWZ9"
      }
    },
    {
      "cell_type": "markdown",
      "source": [
        "## Task 1: Set-up LangSmith\n",
        "\n",
        "We'll be moving through this notebook to explain what visibility tools can do to help us!\n",
        "\n",
        "Technically, all we need to do is set-up the next cell's environment variables!"
      ],
      "metadata": {
        "id": "YrKQSs_r4gl8"
      }
    },
    {
      "cell_type": "code",
      "source": [
        "from uuid import uuid4\n",
        "\n",
        "unique_id = uuid4().hex[0:8]\n",
        "\n",
        "print(unique_id)\n",
        "\n",
        "os.environ[\"LANGCHAIN_TRACING_V2\"] = \"true\"\n",
        "os.environ[\"LANGCHAIN_PROJECT\"] = f\"AIE1 - {unique_id}\"\n",
        "os.environ[\"LANGCHAIN_ENDPOINT\"] = \"https://api.smith.langchain.com\"\n",
        "os.environ[\"LANGCHAIN_API_KEY\"] = getpass.getpass('Enter your LangSmith API key: ')"
      ],
      "metadata": {
        "colab": {
          "base_uri": "https://localhost:8080/"
        },
        "id": "1S5X3EE847PO",
        "outputId": "5d2d1781-f0f7-4a6a-efc6-e3476d21f999"
      },
      "execution_count": 47,
      "outputs": [
        {
          "name": "stdout",
          "output_type": "stream",
          "text": [
            "816fdff6\n",
            "Enter your LangSmith API key: ··········\n"
          ]
        }
      ]
    },
    {
      "cell_type": "markdown",
      "source": [
        "Let's see what happens on the LangSmith project when we run this chain now!"
      ],
      "metadata": {
        "id": "ou1fLN-MJGfu"
      }
    },
    {
      "cell_type": "code",
      "source": [
        "retrieval_augmented_qa_chain.invoke({\"question\" : \"What is QLoRA?\"})"
      ],
      "metadata": {
        "colab": {
          "base_uri": "https://localhost:8080/",
          "height": 142
        },
        "id": "1Yr8j5hqJGET",
        "outputId": "d3b3ab0b-f9d4-476a-a412-c997feb4ec52"
      },
      "execution_count": 48,
      "outputs": [
        {
          "output_type": "stream",
          "name": "stderr",
          "text": [
            "WARNING:langsmith.client:Failed to batch ingest runs: LangSmithAuthError('Authentication failed for https://api.smith.langchain.com/runs/batch. HTTPError(\\'401 Client Error: Unauthorized for url: https://api.smith.langchain.com/runs/batch\\', \\'{\"detail\":\"Invalid API key\"}\\')')\n",
            "WARNING:langsmith.client:Failed to batch ingest runs: LangSmithAuthError('Authentication failed for https://api.smith.langchain.com/runs/batch. HTTPError(\\'401 Client Error: Unauthorized for url: https://api.smith.langchain.com/runs/batch\\', \\'{\"detail\":\"Invalid API key\"}\\')')\n"
          ]
        },
        {
          "output_type": "execute_result",
          "data": {
            "text/plain": [
              "'\\nAnswer:\\nQLoRA is a method for fine-tuning large language models (LLMs) that is widely accessible and has the potential to have a broadly positive impact. It uses low-rank matrices in conjunction with quantization techniques to fine-tune LLMs, significantly reducing the computational resources required.'"
            ],
            "application/vnd.google.colaboratory.intrinsic+json": {
              "type": "string"
            }
          },
          "metadata": {},
          "execution_count": 48
        },
        {
          "output_type": "stream",
          "name": "stderr",
          "text": [
            "WARNING:langsmith.client:Failed to batch ingest runs: LangSmithAuthError('Authentication failed for https://api.smith.langchain.com/runs/batch. HTTPError(\\'401 Client Error: Unauthorized for url: https://api.smith.langchain.com/runs/batch\\', \\'{\"detail\":\"Invalid API key\"}\\')')\n"
          ]
        }
      ]
    },
    {
      "cell_type": "markdown",
      "source": [
        "We get *all of this information* for \"free\":\n",
        "\n",
        "![image](https://i.imgur.com/8Wcpmcj.png)\n",
        "\n",
        "> NOTE: We'll walk through this diagram in detail in class."
      ],
      "metadata": {
        "id": "zmaxEfcWJWXc"
      }
    },
    {
      "cell_type": "markdown",
      "source": [
        "####🏗️ Activity #1:\n",
        "\n",
        "Please describe the trace of the previous request and answer these questions:\n",
        "\n",
        "\n",
        "###**ANSWER:\n",
        "> 1. How many tokens did the request use?\n",
        "- 385\n",
        "\n",
        "\n",
        "> 2. How long did the `HuggingFaceEndpoint` take to complete?\n",
        "- 11.84s\n",
        "\n",
        "\n",
        "\n",
        "\n",
        "\n",
        "![image.png](data:image/png;base64,iVBORw0KGgoAAAANSUhEUgAAAtQAAAMWCAYAAADRehH7AAAMP2lDQ1BJQ0MgUHJvZmlsZQAASImVVwdYU8kWnluSkEBoAQSkhN4EESkBpITQQu9NVEISIJQYA0HFji4quHaxgA1dFVGw0iwoYmdR7H2xoKCsiwW78iYFdN1XvjffN/f+958z/zlz7sydOwConeCIRLmoOgB5wgJxTJAfPSk5hU7qAQhAgTIAwIDDzRcxo6LCIAZD97+XdzegNSxX7aVa/2z/r0WDx8/nAoBEQZzOy+fmQXwIALySKxIXAECU8mZTC0RSDCvQEsMAIV4kxZlyXCnF6XK8T2YTF8OCuA0AJRUOR5wJgOplyNMLuZlQQ7UfYkchTyAEQI0OsXde3mQexGkQW0MbEcRSfUb6DzqZf9NMH9bkcDKHsXwssqLkL8gX5XKm/5/p+N8lL1cy5MMSVpUscXCMdMwwb7dyJodKsQrEfcL0iEiINSH+IODJ7CFGKVmS4Hi5PWrAzWfBnAEdiB15HP9QiA0gDhTmRoQp+PQMQSAbYjhD0GmCAnYcxLoQL+LnB8QqbLaIJ8cofKH1GWIWU8Gf44hlfqW+Hkhy4pkK/ddZfLZCH1MtyopLhJgCsXmhICECYlWIHfJzYkMVNuOKslgRQzZiSYw0fnOIY/jCID+5PlaYIQ6MUdiX5uUPjRfbkiVgRyjwgYKsuGB5frA2LkcWPxwLdpkvZMYP6fDzk8KGxsLj+wfIx4718IXxsQqdD6ICvxh5X5wiyo1S2OOm/NwgKW8KsXN+YayiL55QACekXB/PEBVExcnjxIuyOSFR8njw5SAMsIA/oAMJrOlgMsgGgo6+hj74JG8JBBwgBpmAD+wVzFCPRFmLEF5jQRH4EyI+yB/u5ydr5YNCyH8dZuVXe5Ahay2U9cgBTyHOA6EgFz5LZL2Ew94SwBPICP7hnQMrF8abC6u0/d/zQ+x3hgmZMAUjGfJIVxuyJAYQ/YnBxECiDa6Pe+OeeBi8+sLqhDNw96FxfLcnPCV0Eh4RrhO6CLcnCYrFP0UZDrqgfqAiF+k/5gK3hJouuB/uBdWhMq6D6wN73Bn6YeI+0LMLZFmKuKVZof+k/bcR/PA2FHZkRzJKHkH2JVv/3FPVVtVlWEWa6x/zI481fTjfrOGWn/2zfsg+D95Df7bEFmEHsbPYSew8dhRrAHSsBWvE2rFjUjw8u57IZteQtxhZPDlQR/APf0NvVprJfMcax17HL/K2Av406TcasCaLposFmVkFdCbcEfh0tpDrMIru5OjkDIB0f5F/vt5Ey/YNRKf9Ozf/DwC8WgYHB49850JaANjvBpd/03fOmgG3Drg/nWviSsSFcg6XXgjwK6EGV5oeMAJmwBqOxwm4Ak/gCwJACIgEcSAZTITRZ8F5LgZTwUwwD5SAMrAcrAEbwGawDewCe8EB0ACOgpPgDLgILoPr4C6cPd3gBegH78BnBEFICBWhIXqIMWKB2CFOCAPxRgKQMCQGSUbSkExEiEiQmch8pAxZiWxAtiLVyH6kCTmJnEc6kdvIQ6QXeY18QjFUBdVCDVFLdDTKQJloKBqHTkAz0SloEboAXYquQ6vQPWg9ehK9iF5Hu9AX6AAGMGVMBzPB7DEGxsIisRQsAxNjs7FSrByrwmqxZvier2JdWB/2ESfiNJyO28MZHIzH41x8Cj4bX4JvwHfh9XgbfhV/iPfj3whUggHBjuBBYBOSCJmEqYQSQjlhB+Ew4TRcS92Ed0QiUYdoRXSDazGZmE2cQVxC3EisI54gdhIfEwdIJJIeyY7kRYokcUgFpBLSetIeUgvpCqmb9EFJWclYyUkpUClFSahUrFSutFvpuNIVpWdKn8nqZAuyBzmSzCNPJy8jbyc3ky+Ru8mfKRoUK4oXJY6STZlHWUeppZym3KO8UVZWNlV2V45WFijPVV6nvE/5nPJD5Y8qmiq2KiyVVBWJylKVnSonVG6rvKFSqZZUX2oKtYC6lFpNPUV9QP2gSlN1UGWr8lTnqFao1qteUX2pRlazUGOqTVQrUitXO6h2Sa1Pnaxuqc5S56jPVq9Qb1K/qT6gQdMYoxGpkaexRGO3xnmNHk2SpqVmgCZPc4HmNs1Tmo9pGM2MxqJxafNp22mnad1aRC0rLbZWtlaZ1l6tDq1+bU1tZ+0E7WnaFdrHtLt0MB1LHbZOrs4ynQM6N3Q+jTAcwRzBH7F4RO2IKyPe647U9dXl65bq1ule1/2kR9cL0MvRW6HXoHdfH9e31Y/Wn6q/Sf+0ft9IrZGeI7kjS0ceGHnHADWwNYgxmGGwzaDdYMDQyDDIUGS43vCUYZ+RjpGvUbbRaqPjRr3GNGNvY4HxauMW4+d0bTqTnktfR2+j95sYmASbSEy2mnSYfDa1Mo03LTatM71vRjFjmGWYrTZrNes3NzYPN59pXmN+x4JswbDIslhrcdbivaWVZaLlQssGyx4rXSu2VZFVjdU9a6q1j/UU6yrrazZEG4ZNjs1Gm8u2qK2LbZZthe0lO9TO1U5gt9GucxRhlPso4aiqUTftVeyZ9oX2NfYPHXQcwhyKHRocXo42H50yesXos6O/Obo45jpud7w7RnNMyJjiMc1jXjvZOnGdKpyujaWODRw7Z2zj2FfOds58503Ot1xoLuEuC11aXb66urmKXWtde93M3dLcKt1uMrQYUYwljHPuBHc/9znuR90/erh6FHgc8PjL094zx3O3Z884q3H8cdvHPfYy9eJ4bfXq8qZ7p3lv8e7yMfHh+FT5PPI18+X57vB9xrRhZjP3MF/6OfqJ/Q77vWd5sGaxTvhj/kH+pf4dAZoB8QEbAh4EmgZmBtYE9ge5BM0IOhFMCA4NXhF8k23I5rKr2f0hbiGzQtpCVUJjQzeEPgqzDROHNYej4SHhq8LvRVhECCMaIkEkO3JV5P0oq6gpUUeiidFR0RXRT2PGxMyMORtLi50Uuzv2XZxf3LK4u/HW8ZL41gS1hNSE6oT3if6JKxO7kkYnzUq6mKyfLEhuTCGlJKTsSBkYHzB+zfjuVJfUktQbE6wmTJtwfqL+xNyJxyapTeJMOphGSEtM2532hRPJqeIMpLPTK9P7uSzuWu4Lni9vNa+X78VfyX+W4ZWxMqMn0ytzVWZvlk9WeVafgCXYIHiVHZy9Oft9TmTOzpzB3MTcujylvLS8JqGmMEfYNtlo8rTJnSI7UYmoa4rHlDVT+sWh4h35SP6E/MYCLfgj3y6xlvwieVjoXVhR+GFqwtSD0zSmCae1T7edvnj6s6LAot9m4DO4M1pnmsycN/PhLOasrbOR2emzW+eYzVkwp3tu0Nxd8yjzcub9XuxYvLL47fzE+c0LDBfMXfD4l6BfakpUS8QlNxd6Lty8CF8kWNSxeOzi9Yu/lfJKL5Q5lpWXfVnCXXLh1zG/rvt1cGnG0o5lrss2LScuFy6/scJnxa6VGiuLVj5eFb6qfjV9denqt2smrTlf7ly+eS1lrWRt17qwdY3rzdcvX/9lQ9aG6xV+FXWVBpWLK99v5G28ssl3U+1mw81lmz9tEWy5tTVoa32VZVX5NuK2wm1PtydsP/sb47fqHfo7ynZ83Snc2bUrZldbtVt19W6D3ctq0BpJTe+e1D2X9/rvbay1r91ap1NXtg/sk+x7vj9t/40DoQdaDzIO1h6yOFR5mHa4tB6pn17f35DV0NWY3NjZFNLU2uzZfPiIw5GdR02OVhzTPrbsOOX4guODLUUtAydEJ/pOZp583Dqp9e6ppFPX2qLbOk6Hnj53JvDMqbPMsy3nvM4dPe9xvukC40LDRdeL9e0u7Yd/d/n9cIdrR/0lt0uNl90vN3eO6zx+xefKyav+V89cY1+7eD3ieueN+Bu3bqbe7LrFu9VzO/f2qzuFdz7fnXuPcK/0vvr98gcGD6r+sPmjrsu169hD/4ftj2If3X3MffziSf6TL90LnlKflj8zflbd49RztDew9/Lz8c+7X4hefO4r+VPjz8qX1i8P/eX7V3t/Un/3K/GrwddL3ui92fnW+W3rQNTAg3d57z6/L/2g92HXR8bHs58SPz37PPUL6cu6rzZfm7+Ffrs3mDc4KOKIObJfAQxWNCMDgNc7AaAmA0CD5zPKePn5T1YQ+ZlVhsB/wvIzoqy4AlAL/9+j++DfzU0A9m2Hxy+or5YKQBQVgDh3gI4dO1yHzmqyc6W0EOE5YAv7a3peOvg3RX7m/CHun+9AquoMfr7/CxqcfC/6vjAOAAAAlmVYSWZNTQAqAAAACAAFARIAAwAAAAEAAQAAARoABQAAAAEAAABKARsABQAAAAEAAABSASgAAwAAAAEAAgAAh2kABAAAAAEAAABaAAAAAAAAAJAAAAABAAAAkAAAAAEAA5KGAAcAAAASAAAAhKACAAQAAAABAAAC1KADAAQAAAABAAADFgAAAABBU0NJSQAAAFNjcmVlbnNob3Qf1tqYAAAACXBIWXMAABYlAAAWJQFJUiTwAAAC22lUWHRYTUw6Y29tLmFkb2JlLnhtcAAAAAAAPHg6eG1wbWV0YSB4bWxuczp4PSJhZG9iZTpuczptZXRhLyIgeDp4bXB0az0iWE1QIENvcmUgNi4wLjAiPgogICA8cmRmOlJERiB4bWxuczpyZGY9Imh0dHA6Ly93d3cudzMub3JnLzE5OTkvMDIvMjItcmRmLXN5bnRheC1ucyMiPgogICAgICA8cmRmOkRlc2NyaXB0aW9uIHJkZjphYm91dD0iIgogICAgICAgICAgICB4bWxuczpleGlmPSJodHRwOi8vbnMuYWRvYmUuY29tL2V4aWYvMS4wLyIKICAgICAgICAgICAgeG1sbnM6dGlmZj0iaHR0cDovL25zLmFkb2JlLmNvbS90aWZmLzEuMC8iPgogICAgICAgICA8ZXhpZjpVc2VyQ29tbWVudD5TY3JlZW5zaG90PC9leGlmOlVzZXJDb21tZW50PgogICAgICAgICA8ZXhpZjpQaXhlbFhEaW1lbnNpb24+NzI0PC9leGlmOlBpeGVsWERpbWVuc2lvbj4KICAgICAgICAgPGV4aWY6UGl4ZWxZRGltZW5zaW9uPjc5MDwvZXhpZjpQaXhlbFlEaW1lbnNpb24+CiAgICAgICAgIDx0aWZmOlJlc29sdXRpb25Vbml0PjI8L3RpZmY6UmVzb2x1dGlvblVuaXQ+CiAgICAgICAgIDx0aWZmOlhSZXNvbHV0aW9uPjE0NC8xPC90aWZmOlhSZXNvbHV0aW9uPgogICAgICAgICA8dGlmZjpZUmVzb2x1dGlvbj4xNDQvMTwvdGlmZjpZUmVzb2x1dGlvbj4KICAgICAgICAgPHRpZmY6T3JpZW50YXRpb24+MTwvdGlmZjpPcmllbnRhdGlvbj4KICAgICAgPC9yZGY6RGVzY3JpcHRpb24+CiAgIDwvcmRmOlJERj4KPC94OnhtcG1ldGE+ChsSbEEAAEAASURBVHgB7J0HYBRFF8dfCiEJoffeBREsgAg2QBSwNxClCCqK2BEb9gZYwA42BEFBRaUX0U8pCgICKkjvvbeEkARI8s1/jln2LteSuyR3yf/B5XZ3Zmdnfjt39+btmzcRycnJmXJaMjIy5EjyKb1XrWIpc5jvJEACJEACJEACJEACJFDoCOzYe0S32ZdeHFnoyLDBJEACJEACJEACJEACJBBEAlSogwiTRZEACZAACZAACZAACRQ+AlSoC989Z4tJgARIgARIgARIgASCSIAKdRBhsigSIAESIAESIAESIIHCR4AKdeG752wxCZAACZAACZAACZBAEAlQoQ4iTBZFAiRAAiRAAiRAAiRQ+AhQoS5895wtJgESIAESIAESIAESCCIBKtRBhMmiSIAESIAESIAESIAECh8BKtSF756zxSRAAiRAAiRAAiRAAkEkQIU6iDBZFAmQAAmQAAmQAAmQQOEjQIW68N1ztpgESIAESIAESIAESCCIBKhQBxEmiyIBEiABEiABEiABEih8BKhQF757zhaTAAmQAAmQAAmQAAkEkQAV6iDCZFEkQAIkQAIkQAIkQAKFjwAV6sJ3z9liEiABEiABEiABEiCBIBKgQh1EmCyKBEiABEiABEiABEig8BGgQl347jlbTAIkQAIkQAIkQAIkEEQCVKiDCJNFkQAJkAAJkAAJkAAJFD4C0W+99Y5ERkZIpUqVpEKF8tK81eWFjwJbTAIkQAIkQAIkQAIkQAI5JBA9duw31qmZmSJz5s+39rlBAiRAAiRAAiRAAiRAAiTgnQBdPrzzYSoJkAAJkAAJkAAJkAAJeCUQ7TWViSRAAnlC4FR6hqSknpDUE6fk1KkMSc/IyJPr8iKhSSAqMlKioyMlNiZa4mJjJDoqd2wf7He5d/95D3OPLUsOfwJ59fnIS1JUqPOSNq9FAi4EoNAkHkuV40qZppCAIYABVfqJDElTA6yjqn/EK6W6REJs0BRr9jtDOvfeeQ9zjy1LDn8Cuf35yA9C0e3aXSHp6emya9du2bx5S37UgdckgUJJIDnlhBxOPG61vVhcjMQWLSIx0VESlUsWSeti3AhpAulqoHXiVLqkpp0U9BMMuPAqXSJe0E8CEfa7QOj5f25e3sOYItHqiYbjeyMyIsL/SjInCeQTgQw1aQ+fkVPqe+7EyVNB/Y7LpyZJRHJyspqK6JADBw5KZNHieqdaxVLmMN9JgASCTCApOVVbHlEsFKQSxWKpRAeZcUEpDj86iaq/QBGGlFSW6uKqv+RE2O9yQi3wc3LrHkKRLqoG4VSiA79HLCH/CEC5TlPGAyjWkEC+43KjFTv2HtHF+tKLnRzzypQpnRt1YZkkQAI2AlCM8BgfUqp4nLY60iJtA8RNJwLoG7BMo69A0HeMcu2U0ccO+50PQLmYnBv3MK5ojPavpzKdizeORecJAfRhzBVBn4bk9DsuTyrr5SJOCrWXfEwiARIIAgH4rho3DyhICfFFg1AqiygMBNBXjFKNPoS+5K+w3/lLKnfzBeseQvGIURNWKSRQkAigTxulOrvfcaHAgQp1KNwF1qHQEMAERAjcPKhMF5rbHrSGos8YH2rTl/wp3ORlv/OHVu7mCfQews2DynTu3iOWnn8E0LfRxyHmeyv/apO9K1Ohzh4v5iaBHBOAldBE84DPNIUEckLA9B30JX+s1Ox3OaGcu+cEcg/hM00hgYJMwPRxf7/jQoUFFepQuROsR4EngDjTEFgJ6TNd4G93rjUQfcdYqU2f8nYxk4f9zhulvE3L6T2E5Y4+03l7r3i1vCeAPm6s1Ob7K+9rkf0rUqHOPjOeQQI5IoBFWyAIjUchgUAImD5k+pS3skwec463vEzLOwLmfpj74+3KJg9C41FIoDAQMH3d9P1waHP01KnTrXpmqtAll7Ztb+1zgwRIIHgEsAIiBHGmKSQQCAHTh0yf8laWyWPO8ZaXaXlHwNwPc3+8Xdnk4ZMtb5SYVpAImL5u+n44tC36+edftuqp9GmZM58KtQWEGyQQRAJmOXHzRRHEollUISNg+pDpU96ab/KYc7zlZVreETD3w9wfb1c2eeju4Y0S0woSAdPXTd8Ph7bR5SMc7hLrSAIkQAIkQAIkQAIkELIEqFCH7K1hxUiABEiABEiABEiABMKBABXqcLhLrCMJkAAJkAAJkAAJkEDIEoj+8cdvrcplZCgnagoJkAAJkAAJkAAJkAAJkIDfBKLr1atrZc7IyJAjyY7QXtbBPN5ApJGTJ08G7aqRkZESHc0lWoMGlAWRAAmQAAmQAAmQAAk4EQg5TXPlylVyyy23O1UykJ0mTRrLjz9+E0gRPJcESIAESIAESIAESIAEPBKgD7VHNEwgARIgARIgARIgARIgAd8EQs5C7bvKzEECJOCJwKZNm2XduvWya9duSUtLk0qVKgqe0thduzydG8jxBx54RHbv3iMtWlwoAwY8maWoYcM+lf/971eJj4+XsWO/zJLOA+FLID09Q9DvVq1aLfv27ZNy5cpKzZo15PzzzxO43FFCn8CJEydk08ZNsmbNGklKTJIyZctIrVq1pNE5jSRCLQPtSaZOmSrffuOYh3Vbl9vkxptu9JS1wB//999/Jf1Uum5ntWpVpULFij7bvGH9BnnpxZd0vibnNpFnBjyT5Zxed/bSbrBRUVEy5usxWdJ5IHQIhJxCXbFiBenf/1GvhN5/f5icOuXw9Y6Li5MHHrjPY/7y5ct7TGMCCRQUAnPn/i6ffvqFLFmy1G2ToFQPHvyqnHVWfbfpgR5cv36jbN26TSpXruS2KCj4K1euluLFE9ym82D4EYDy/OyzL8nixX9Jampalgbgu/fhh/vK7bd3zpLGA6FBYNWqVTL49cGydu1aSU93KIP2mlVUA/IHHnxArrv+Ovtha/vggYOyZvUavY/twioYjNzd826r+W3atpGh7w619j1tpKSkWPxKlizpNtvaNWsFAx7OBXOLJ6QOhpxCjS/hPn16e4U0fPhnNoU61md+r4UxkQTCnMAnn3wu7777oWBCL6REieJSo0Z1reRsVF/0OL5ixX9yxx13yvDhH8hFF10Y5i1m9fObwMKFi+Xxx5+SA6eVqKpVq0j16tXVj36UtlbjacX+/fvlxRdfle3bd8gTTzzm0dL52GNPKIXhpOqb7+das7Zs2SpvvTVUDSjPksceeyjXrhNOBX8//nsZ+vZQpyAAeKKA7wvzXbJ3z1556YWXZPu27dL3wb7h1Lw8rev06dOdrjf/j/mSmJiovotLOB3nTsEmEHIKdcHGzdaRQHAJjBkzVt555wNdKJ7uDBjwlHTocJWYZY2PHj0qP//8q7zyykBJSjom99xzv1K+35KrrmoX3IqwtEJD4O+//5W77rpXWTQz9BOJ1157SS6//FKn9m9SLiBPPvmsHsh9/vlI1feS5NVXX3TKg52DBw/JjBmzPCrbWU7I4YFVq9Yol6PZcuxYcg5LKFinfTnyS/nwgw91o2JiYuSOrnfITbfcpO5nZW2p3qoGIDOmz5BxY8cJon+N+HyEHDl6RAY8O6BggQhCazD4+GnGT7qkokWLalc7RCr75edf5NZOtwbhCiwiXAg4ObgdOHAgXOrNepJAoSeAR+6wTEPKKp/Hr78eJddc08FSpnEcjxE7d75FPv98uMTFxepHh88//4ocP34cyRQSyDaB4cM/1co0rJnDhr2fRZlGgXXq1Jbx48davvvjx/+oXYJcL7ZlyxbXQ7myn1fXyZXKB7lQfPZHjRxllfrMs8/II489op5q1ZAiRYpIbGysNGjYQPr17ydD3hli5ZvwwwTZtm2btc8NB4Fly5bJnj179M7dve9Wbm3F9TYGJJTCRSD6qquuUT+08bJ3715JSUmVOfPnF1gCb745VD+GQQOrVKkiDz7YR7cVvp9ffvmVsqas1I8rb7zxennppWfdcli27B/tM4hH6Rs2bFRfMNvVF1CclC5dSk3+Okdat75M2re/0u/JOEePJsoP6ovqjz8WyM6du/Qj1FKlSqrHp9W0pfH666/Nlt8p6jR27HdqcslaVd5OdU9T1MS0Srq8G264VlsmMbmBEv4ERoz4UpKTHRa3hx7qqyeCeWpVq1YXyc033yjjxn0nhw8flkmTpkrXrl08ZedxEvBIYPny/3RavXp1pHHjRh7z4SnJLbfcqFwt3tFWTriJYLKiXTZt2mLfzbXtzZvz5jq51oAgFgx/32PHjukSExIS5PobrvdYeus2rbWiDUUalupFCxfpfY8nFMKEGdMcijMmb8LXfLeaLzJp4iT5959/1eTwXVrXCCUsP89eqKvTvm3LoFTrk1E/SJ1a1SRY5QWlUvlUSPS+ffvz6dJ5f9np02eqkeRefWH8EEChnjhxsnocPsjJYnfwYFZLPR7hDBnyrlK8v7b8y0wL8Cgd/oLr1q1XMa8nSaNGZ8t7772tZknXNFncvo8aNUbl+1APZOwZ8GW3Y8dO+fPPRVrRHzHiY+0Ta8/jug2rwzPPPC8//fSLa5JAaV+7dp165PmbwNdx2LD3dB2zZOSBsCLw229zdH0xMfe223w/WuzSpZNWqHHSkiXLPCrU8LfGY3j0QTMgu/DCZnL11e0Fj4dzW+BSsHz5Cj1ghS8u/MHr16+nokacK2ef3dDt5b/5ZrweLGMges01HbUFFZ/3xYuX6MgTmJSJQcV55zXRVji3haiDcJGB4ocBKT4zUVHR+jNz5ZVXSPPmTT2dpo9jUtdPP/2sr4nBMSx91apVleuuu1opnud4PTecEvFdCDl8+IieyxId7dlzsFOnm3XUD+S337sRI0Zp14L58x0/7nhsjkgwRm666TrFvarZtd6z0zfwnTxhwmR97tKlf+t39Gn7dYxRxbqA2oDPNyb3og9s3LhZYOBAH8SAFP0r3MUMwtEO9Fl8xosVK+axWQOeG6B+29bpdPig+xL4Xf/xxx+yefNmSSiWoCOFnHfeeVJScfQmqAesupgoiTJQp2qKd8erO6rPf9bJ1NOmTpP9Sn+BVb37nd3dFv3TzJ+0gltfTca+9DJntyScgEhI474ep8+toQZ77a7MniscJgv+75f/6fPPU1FtYLzq0LGDVqjRp2fOmCn39L5Hp4fKn01bdshG9cL7/Xd1CqhaUKZRFhRqiojnb8JCQGfp0mXy9NPP+2zpoUOHlc/gfbL69GxmcwKUi1q1aqgf7ANy5MgRc1iHj4Kv6sSJ4/UEMSvBtvHyy69byo3tcJZNTKbp3LmbfPzxB9K06flZ0nEAfoi43qpVq53SYYnGj7r9CxQ/9Hfc0VNFhPhIWrZs4ZSfO+FDAP0CT0cgF1xwnlcl0bQKCs26dSvMbpZ3/AA8/vjTAkXUVcaP/0FbGj/88B2P/dD1nOzu48ftjTeGqCcs37o9FS4GTz7ZT/X1XlnSR44crV0KLrmklarfBdK7d189wDUZ58yZJx9+OFww6fmTTz7QoQRNmnmHAnX//Q/rkIPmmHlH+ZdddomeOAc/SVfBQL1r1556EOKahnMR6cKdD7Fr3nDYx/fQvHl/KCPCAfnll9/0QMtTvUuVKiU33XRDluQPPhiWJTLI++9/ZOVr1uwCJ4U6J30Dg7GhQ50nOkKhtl8HEaLsYeHQ95955gWtaFmVOb3x8cefyX339ZZ+/R52TQqrfRMKD593KLFTJk/RPtSeGtHiohaClz8Cn+thH+LepjplhzL99pC3pVnzZk7Hzc4KNYB++MGHta+9OWbe4e99Vfur5KVXXlJP0+PMYVm/fr18PeZrvX/xJRdLnbp1rDRsYLAweOBgbY2vqYxb7hTqvxb/JR996Oh3j/bzHl3MqfDTO/PmzrOs/VD8Ic0vbC5ly5UVRD3BACHUFGoo0UYRxntOlWpTRl1ap0/3hkKsUGdkZMrAgW9ZIGBNhu8Tfizxo2sX+AzalWlYq7p3v0P/cMfGOn5cly37W00Ie1GNyrfoU2Hl+P33P+Taa6+2F6W3YRXHo3cjeDTas2cPufRS9aWgfA/htjF//p8yevTX+jEbHtHffXcfWbBgto7ja84z75hJb1emMUHoFjXBBOVhlA+L4+zZc5USPUKXhy9RWLNnzJjktjxTLt9Dl4DpZ6jhOSpWbDBkyJD3tDINBQNKeps2l+vPAizhf6hZ67D43XnnPfLdd1+ra54djEs6lfH0089pyzgOwj3p0ksvUVEZ6mlXqC++GC34jMFtCwPFXr16OJ1rdvCkBoNf1PXee+/WlmFYnf/4Y4GanPk/fRzpM2dOUW0rZ05TLm/7pEuXHlrBQNs6KivThRc21bG1EZJw8uRp6vM8XynFg9X3xsvWedjA56lPn4e0Mo3vjvbt22nlGwNdfI5nzfpZvv32e23p7tOnt9O54biDKDFQqCFPPfWsLFq0WA1g7tLWeH/b8/zzzyjrdrpMmTJN3dd/9Gkvv3zGuFG7di19zPzJSd+AhduUCQUehhF8z9v7jl2ZxhO8fv2e0pds166t9g1HX4ArIJ48LFr0lzJsfCZ1leKG/hmugt+5uvXqCmIgQxDpA4rlnT3vlPMvcG+08aets2bN0mVi4FuzZk39tMcYmo4eOSoP3P+AfPzpx9K0mfOTnp1qkNPv0X6WMl2mTBlp2aqlYGLkypUr9aUxwQ9zvD4b8ZnlTtm2bVtLoYZi66pQ//P3P5ayi7K2bd0msELbBZZ0Iwh1l10xftL4Trryqiv16Wg/BgDfjvtWtih9ABb3Ro2C8x2d3fp5yh+oUm1XpnOqkHuqWzgfjw7nygdSd0fczQz9xfjgg/dL7dq1PBY3Zcp0Kw1K6kcfvWt9qE0CrGLvvz9Ebryxs+USgsfNrgo1ftwHDXrbnCYJCQnK6vWeshZfZB2rUqWy/jLHI+ZHH31CP1aFogCFwNXaA2Xnl19+tc5tpr6sPvnkQ6eYlXhUjld8fJxlsUFcYMy+f/RRhpCy4IXRBpQDI57il5p0f97hqoT+AOnVq7uOFmLOu/XWm7T7w803d9GTGgcMeEEpmN87WfZM3py+o3//+uscfTquN3jwa1ZRcKGC5blVqzZaef3tt7lOSpGVUW3AJaBChfJKgf3KmhCHdFiIYSl+440hyjUkSbtaDRz4inUqlGUoxlCIx40b7WQJw2cY1q6pU2coxWqWvPbai9bn31j1MeAuXbq0moj3tVacTcGYEDpqVBPVnrd1NJYGDc7SAxWTHo7vd911p/z77wr9fQTLMYwD3333vbb643sMrjWwYruz5Jv23nab41HzypWrtEINxdaTT39O+wYm6poyce/xmalUqaJ1zNTFvOP7FQJlGk8EjZyrFtzAfezY8QY9aJqhIjqEs0KNdj37/LPy0AMPyfHk4/r3au6cuYIXlFkovHg1b95cK96Gg693KOg33XyTPP7E49qQA59r+BEPeXuIjrWMtSNmqc+PXaFOSkqShx96WM/rQPmYCNm1W1fr87V792655657tAvI32pA/d2331nW9HPPO1fX99ChQwKFutfdvZyq+Pvvvzvto309lOHKLvPV5x5Su3btbPuGY5CA8HiQi1S/x+ffSMeOHbVCjX0o3aGmUKNeOVWqqUyDnnuJvP/+e5ULQBe1OMr9KmZo4QmJg5BPCB329tuDvSrT8I8+99zGWsGF5Rc+dxiBupOGamY0fJSNQKF2lZkzf9Yjd3P87rt7OinT5jjeUb8OHa6yDsFK5ip2S3fJkiW0sh8d7X6cBOsYfGGNTJ/+k9nke5gRwFMLI4g7Hah89ZXDjxBuIU880S9LcVAE+/a9Vx+HawQU12DKjh27tJICReuZZ57MUjRWWOzYsb0+jhXJzMJOWTKqA3373uekTJs8+KyhfRAoT1CSjcD9CwKFy/5Y2aQ//XR/pUi/pCyy/Z3cAfCk4NdfZ+tsA5Xl2v75N+dCAW2uHnVD+YaLRLgLvl9gPMATADOYw/fpP/8sV4P5z9XTtt6qvZdo9yFjfQ6kzcHsG97qgXkFkNq1a6m/zgL3vg8+eEf3geuvv8Y5MQz34NM8bPgw1V+d/dShnMIn+K033pLbOt0mXbt0lQk/TnCaY+SpuXXq1JEXXnrB8sfG7+QFytBkX/1vwfwFTqdDIYX1GHLJpZdK9x7dnX5fEcbPHqpv/LfjrfNR/uWtL9f7K1assJRyk+GPeQ7rs/m9njt3rknS7/DxxqRBSOu2rfV7dv7Aam6+h+A3bResemjY/qyebmBwEYoCpRouG/CDhqLsS6hMeycUiR+fZ555Qj2yvEe7CXjPXrBS77mnl08rG1Z2GzHiY+sFC7A3sa8UZz6s9vyzZv1i7aJsWAO9yf3399YL10AZPk+NyPHDZQTK/oIFjkk9OAYrOawy3gSPa43AD3fTps1ml+9hRAA/8EZgWQ1EMMls/enHvx06XOnRH7tTp1usy/z2m0OJtA4EuAHXDliMX3/9JaWkuV8MwUSUQDQiWLbcCbjAwu1JbrvtVp1kJuqafOZzC/eoSZOmZPkBrFChgnIJ6aRfdoUbqz9C8KMNK7onadbM8Sh99WpHfk/5wuU4HnHDn33+/N+U5f1NNfHyGicXGliup02boZ4M9JBOnbpmUXay085g9Q1f1zR94Pvvf9SrerrmR/9DH3B96uiaL1z2YeGdPG2yfPLZJ3LNtdeo346yWaqOJ7kDXxsoN1wL6/yOLOn2A3DTcCd2Vwy7IQB5V68683nocvtt7k6Xyy6/TLuQIBHRRjZt2mTla3tFW70NhdVYi3Fgl5orBIUZAqs5BNZyWJWNGOs09uE+kl2ZPs3x5BpPYq644oosp7c/bQA4ePCgLPzzzO90loz5fMBfpZrKtO8b5d6U6fu8sM+BH8BGjRzWqpw0Bq4bmIgE30uM6tPSTugVp7DvTWDFMdKgQQPt8mH23b3DMoiXO/lHfUGYETLSmzRp7C6b0zE8PrcLlGr4bVPCi0CZMmceLwYaqQfKNJRqiLe+AOst5gxgmWlM7soNgRUX/s5QbPH5wsQyfNZQP0z+9SVwl4qNjfWYrXbtWlaaWeUPBzp3vlW++uobfa2nnnpOuYR8pCbbddCrSsL1KiEhwTrPvgGXBQgstd6e+JhrrVu3QX9mPT1FspcdDtsYwECZxguyYcNGHSUFiwktVn65UHSWL1+hnuz1U3NCPvc4WPOnrYH2DV/XgB/4X38tVX0gUUX0uE1/n155ZVvdB+D2UVDumZ0DXG0ubHGhfuE4lNBlKsIJ7t2c2XOs3xcowo889Ih8OeZLj6v/FT09n8hePrZxDU9iV6hr1arlKZtUV1FWtm7dqtPhcw1rOASTJfH0Cm5BcPswS6TPmzdPp5crV0769FXRvCZM1H0RPtPXXufwfzf+08hzTjaj8GBwsXy547f8EjXXA223P/HCxa+66ioZ9cUoXQ8o35g4Gariy/2DyrR/d67QKtQxMY4A9v5hEv24Fj/0cLGYrx5bQanIrsCSaI+4UaVKpewW4ZR//35nBePLL8cIwod5E7sCjnwYPVPCj4DdmrRvn/dBnK/WrV691sriTaHGDyPCh0EpxIS7YAtC9Q0d+p4OW2bKxsChYsWKOlyfmQBs0ty9w3/am9jTTSxe5Id18ocfxik/8lE6lCbmGHzxxZf6hUnDl6gfQ7iMXHyxsxVulVqBDwKF49lnX9Tb3v6cOHFCt6927VresoVtWj012Q0vTNpev36jWub7Cf30A2HoEMIOFt6cSDD6hq/rtlWP/b/+epR2WzGDOgzsIHgqgUFD79693LqE+Co7XNLhS4zXrZ076XCTY78eq8PKYWAE1wwohlhVMViyZo3j84MnHpXVYNiTVKtWzUqy/2ZhQAdFFW4qf/75px54I4zeHyogAORS5aYJhbmxMjYhkgiUbijU8B2HTzYEsba9Kf06k8ufmdNnWkd++/U3adHMexQU+G9D6YfyH6riSammMu3/HSu0CrX/iERbyXr1uteK4GE/Fx9e43cJCwYsvvjguBNjpTJpOC8QcS0Pk61E3D8K93SdI7ZHYJ7y8HjoEUBkD/wIwSqybdsOvyoIK+/00z8EUFJbtbpInwfLnxFPrhQm/fBhxyNT10g4Jj2n74i53r//07o9iKzw9NP91UTa85yszV99NU75sA72eglfT4gcnxFHEdWqOfuPYtERuJw88khfpVRP1VY6xC/W1i/ljzlPvZ577mnlI3zGTcsMUMuVK6v9q71W7nQifuALg9SvX1fd00d1KEK0999/l+dIoQ5W3/CHeYsWzQWvVatW6ycOmAfz338r9YRVuIJgQuIXX6hIFcq9rqAL3Jz6Pd5PR8eAIgpZqVgEU8x3D77HYHDyFA/bRAvBtV2/exCdAwo1lORlai4EXFmWqgEc5PLLL9fvrVu31gr1ggULtNK9aNEiy/qeE/9pE91DF+7HH7RttnKTM9ZxP07JlyyuSjUqAf9q+FkjjeKdABVq73y0Rfm++x50Uqbhy/zww31VSK/6OqKAmfSAorp3v0sv7OCuWLvvJdKPHUt2l83vY0WKON8+/BDAOpQdMZO0snMO8+Y/AUxERKxe/OBDUYHVGL6m3uR//5utlL7ndBZMRjYKdfnyZxQ8rFznaZ5AUpJjASMUAKU3mPLRRx9rZbp69WpqcaRvnSYmZec6eBQL/11PESbMEsGwSNWv754XFAnMKcELP/RQpBHD+r//VulY3JgcWbFiBV2tChUc7DAwvfbajgG5NGSnnfmVFxZbWJ4h7dq1sSYleqpPazVpDO4wcNvZlMP5GsHqG57q6O44XOOMexwGVBMnTlHRmD7TYRcRpnTatInuTguLYz+omPJHEx0DY4R3w5Lj3gRKoFGofflReyvHXRqetBkDFMLane3ikmjOMe4e2G94emKxSUN8aRizMLhFPREDG0+CYorGWPGzoTQj3jSU7iV/LdELz+D8+GLxaqL+haYov97/U58B+HJDUH9Yvz0JnkjjehAo4aGuUKOedqUa+1SmQcE/cdbI/DunUOUaMWKUDhlmGv3oow+piCjOiwGYNF/veHyNx8dmYiEeKwcisDLaBbGD+/d/zH6I2wWYwDXXdLQGb199NVZHIPDWXIQ2M3LZZZeYTa04YFCIx7qwxiFEmDuxx2IPpkKN6xrXCUS2sQ9Q7fVwfSJjTzPbJtqEffKtScM7YglDEI3DDHBhuTdtw4DU/lgWTwHgCoDj7dpdra1bGMSYSA8YXMMdAT/m8EU3Spi+iO3P/v37lauHw+8cn9PsPmK2FZWvm/DXf0bFsIfcc08v/SQB255kz57dWplGek6eyAWzb3iqI47DZWf79h36vjRxUZDQH7p1u10/LRkw4AU9eIWbFQZe4SjrN6wXKNWQVWqQOPS9oV6bser0PAFkqlLlTBQrryf5mQjf5e3bt+vcS5cudatQ46kZ4jlDwNzu7oZjiKvdrFkz9dlepBVqDKghUJTNZxw+19WrV9fXmjt3rixQ7puQiy++ONurv9qt0916dJOevXrqstz9wYC8w5UddP9arOK1I5Z2ODyhglKNJcqDsZqiOy4F9VhkQW1YsNqFeKtG4N7Ro0dXrz+G5hGWOcf+DkUBS5MayanFxpxftaqzz5ndF9bk4XvBJQB/VGOVRhxprGboSd54Y4gVEQYKg/2RNSzUZlnt8eN/1JZY13KgdA4c+KY+DL/Fs892tlDjswFBiDN3gjkLkGRlIYK10i7wODEKpnGhsKdjG64a06bNcD3sdv/ll193Cm1nMsEdBJwgCHFpBEozFvRANAos4uRO4GONdkPsE0LhV4vzIWBsBsv6wOk/+IHv2fNeHfEClm7TVnuecNlu3foytRR3KV3dsWO/0QMwT3WHMgyfdCNt1aN5VzH9Bt+b7u59sPqGuc6JE47Jt671QL+87bbuKkLMHdaiNa55MH8AgrISEhJck8NmHxE9jMyZM0fHS8a9cidYWGXqlKlWklm8xDoQ4IZZXRDFfPbJZ9pv27XINwe/qd1BcBzLe7uTNle00YcRWWvypMl6G9FB7GJcO35Urjtm3kl2F3OBgoxY2hD8nl99enVE+3Xs2/huaN+hvT4ExlgK3S6wohvZvGmz2XR6N987+HyYwYdThlzaad+2Jd08ssmWCrUPYHjMawSKiLeYv/iwrVu33mR3+w5rl5Ft27briAZm3907FICmTbGcciu1+lo7p3BeqI99ktUq5ffna7Lk2rXrlJ/oG9Zr48ZN7i7LY2FAAF/Wr7/+irbC4Mv2+edfUT6+L2mFAJMG8cIKb5gYhoUtIJjYN2TIYP2kxN5ExJ52PD1JV+HQBghWB8RjU8hmZR1CucaKO3DgK1lC2xm3EfQvd58Bk44flalTnRVjXLdlS8djV/R3Ew/Y1A8uBnff3ccvJQauGFu2bNGrlsINxsiaNWu1O5ZpU+/evUyS/mHs2rWL3oeftlG6TQY8kn7//WGaByxeF17YzCTpUHFvvjlQl7Fw4WJ5+eXXtKXTZIDVEwr+hg0ON4k+fXqbpLB8j46OVqtFvqAHEfiu6dy5q160BvfdWAYx+Fm8eIlaQKWXtSIsFnzB4MNV4LduxPW+43iw+katWjX1ZWDEsC+KZK5drVpVvdYA9nG/XOOs799/wBpsYfBpf4phygiXd8Sg7ta9m1Xdt996W+7qeZdgAiLiREOJxuTDQa8Pkl49eukoVsiMEHUmTJ11coAbUHo7dXb45sI9AovNYIVBKMaLFi6S1155TWbOmKmvgpjUTz79pNsrtrFNLDSDA9elxtu0aaPPNen4/nTN47Zw20HwMf7cWEa9gstTYltWa9M+gLFbt5HB7g8OJf+bcd9Y37umAPuTkBGfjQgoBKUpk++5Q4AuHz64whplPkDwH4MlxZOFCRE2EHLJm1x//bVqJvk3VhYsZQtfVmPlshLUBpSkMWPGWsunYrVD++NwbKM8RCOA4JH4iy++ovw8B+l9d38++GC4tbIirvnIIw+6y8ZjYUIAfeKrr74Q+PlDUfj++wn65a76GHwNGvSq2ygFKOfZZ59W6W8KBln33vuAVhoQ13z79h1WcQ880EetBnqdtW82OnS4Ss2yX6Q/Hzfc0En7dw8f/r7lY4v09977SGd/9dVBypr+o57gZ1wzunfvqgeX+FHt2rWnjroBxRXh+eAjXr9+fe1egGXDvUnt2rV0hImhQ9/XFm0oUlCi7e5VaIPdQo/yEDZvzpx52iVkwIAX1CIew7SPNT5Ta1UsXlie8Xl77LGHLEs1zoPccIOKGqCUbvjWfvfdD/qF62KAbdjh3Pvuu0cNHFo4Tgrjv/AhR3v6939GK9GjRo1Rq0GO0cfgL+0aa/juu3vqmNVQjl0FPGCBwz3CsvaIQY79V199SftoI38w+gYW5fr119n6u/ySSxy+3/j+mzZtgrXCXb9+D2u3HfS5O+64U39OYJXG5wHGDwjqh/4T7oLVDIuop0ajR43Wn1n4BePlTnCvH3jwAcFKhJ5++9yd5++xpwc8rZ5AJcrPs36WjWrgCQUfL7skJCTIB8M+yOLuYfJAscVqhGap8nr166nvkMomWb/Duo2nK+b3HAox3EWyI3aF2K4oeysDPtbG3WStGtgjjnYd5YICwcqUCFuIpd8hQ94aIu8MeUem/zTdcinCojEfD/9Yp0+bOk0Pdl4f9LrYrfs6kX/ynUDWb7h8r1JoVcC+WAP8BzExxVXwYzt69Nfa6uvNgo3z4D95xRVt1JZDEPcUyos9hBdSMLHi/vsftqyCOHbnnWesCtiHYLUyY/3D/qRJU/UEKtfH6lAoXnlloKVMI+8NN1zn1eKOPJTQJ4AYuTNnTtbKnt3igZrjBxDWt27d7lB5plhWOHetgjvTqFGf65U7cR6URKMQwuXh6af7q6Xq3Q/AunTprH1qYcGFBQj92v54vW7dOiok3pvqB7GMvjQsxvAnNIJwdGPHfqkn+uIHHPGnp0yZrh7N7leuErepcJCjrR8Yc46n9z59eqvP4kv6Woi6Y5RpWEPffPN1zcn1XHxux4z5Qg0qntLKPK4/b94fOtpDZGSUXmFx5MhPBaseuhMsbY72GVcSXBfs4B6A+zNu3Jdq5cBH3J0alsfat79SPcX4RQ/IzQRN3Hco0+g7UEQxiBo27D29cJg7gwEajknRH330rhrgnK+fQMAgcfjwEW2ZNmCC0TfuuOM2HXGkQYOzlOIfpQefx4+nOCmIqAsU7C7KlQqKFhTp2bPnamUaCh1+CyZOHK/jUpu6hfP7w488LBMmq/be3iVLbGl8BuvWrStXX3O1DP9kuNx1z11OrILZblzrtYGvaYUdCqZd0JcQ53n4p8MtJdSebt+2u2+4unsgH65jP45wedkRDPYR/g6CSc/trmzn9+lXX3u1ldeulOPgwMEDpdXFrSyjmrGgmxMwkLlDfX/juxUCox4lNAlEqE5i3R3cyCPJp3RNq1V0+MmFYrXPO6+F5VMFC/LChfP8qubll1+pF4tAZjz6Xr58ic/zYLWC9c8uzdXIFgH/S5cupWeuYznhTZs265UMEWnj889H6uxxcbHKuuYYedrPhyXxuutu1hZlcxyrJjZRI9kGDeqrL3IVXH/ZP05K9s0336iVAZPf/o6Yqffe29fJfxNfHo3VhI969erosvADbxf84CGagqdV6ex5uR0cAjv2HtEF5fZnC0rNzp27tGKLyXQ5eTwNKw78odPSUrXfPxRq9Clfgi97PK6NjY2zlGfXc+CKkpqaYi3N65oORR7uGpgj4DpAcM1r9q+66lq18MM2bQGGYgyBhRiWRVyvcuWK2mLlTxtwLga4UKgQxqt27VrWjx3SfAke3e7atUd/x4B/dHTuPAj0tz/5m89Xu7ylQ9mAZRdKav36df1yz3FXHu49FAcoUu4kJ33DtRz0i5MnT6r743kBIJyzf/8BHc0B816wYJCnOrmWn519f++NyVeyeO7FMYYRBisMZqp/9erVy/IkJjvtymle3Jvdu3fLPjXfoVhCMT0JMrtW5JxeO7/PwxNpLFpTXA3uXQcWqBu+WxGlKDMjU6qoSdWFQY4mHdfNzO3fTF8szefPVz2oUPsiqdLhf/rWW+84+S+7noaoAaNGfaYfGw8a9JZO9qRQIxE/Pg891E9bwFzLsu/jSxyPmbFEvDdZqPzNMLEKyoMv6dTpZv243VPMT1/nMz1nBPz9UOas9MJ9ljuFuqAT8bc/+ZuvoPMKxfb5e29MvtxUqEORD+tUuAmEm0KdO6aTAtYH4AMIi+77amLSBuXjhVG0EVj/rr66vX4cDv+scuXKmiSv73gM/913X+mVDeFPinLtAssxHhVjslS7dm3tSW63MelnypQf1aPlb9WKbxP1kuj2jKgnHkfDRaRduzb2JG6TAAmQAAmQAAmQAAkEQCAsLdQBtDfgUzGzHdEO4P+JSV7wyfP16NCfi+IRPfw28bi+fv16An/PnD5ihE/3zp07te9oUlKSjqGL8vx93O1PfZkn+wSMlcnXY6Psl8wzaKH23AfY7zyzye8Uf++NyUcLdX7fMV4/LwnQQp2XtPPhWvC9xsTCYAtcRvAKhmA2PSzqeFFIoDAQ6N79Dh3fulq1aoWhuWwjCZAACZBAiBGgy0eI3RBWhwRIIPsEevbsnv2TeAYJkAAJkAAJBImA72n7QboQiyEBEiABEiABEiABEiCBgkiACnVBvKtsEwmQAAmQAAmQAAmQQJ4RoEKdZ6h5IRIgARIgARIgARIggYJIgAp1QbyrbFNIEog6vTAKorBQSCAQAqYPmT7lrSyTx5zjLS/T8o6AuR/m/ni7ssmTwVXyvGFiWgEiYPq66fvh0DQq1OFwl1jHAkEgOtrxcTtx6kwc8wLRMDYizwmYPmT6lLcKmDzmHG95mZZ3BMz9MPfH25VNHqOEe8vLNBIoCARMXzd9PxzaRIU6HO4S61ggCMTGOILqpKadLBDtYSPyj4DpQ6ZPeauJyWPO8ZaXaXlHwNwPc3+8XdnkOcXBuDdMTCtABExfN30/HJpGhToc7hLrWCAIxMXG6HYkp5xQq23S7aNA3NR8aAT6DvoQxPQpb9UwedjvvFHK27Sc3sMTJ0+JeRSetzXm1Ugg7wigj6OvQ8z3V95dPedXokKdc3Y8kwSyRSBaLbgTf1qpTkxOzda5zEwChoDpO+hL6FO+hP3OF6G8Tw/kHqbxCVfe3zBeMU8JmD7u73dcnlbOy8V8fxt7OZlJJEAC2SNQIiFWnwBr4bHjadk7mbkLPQH0GWOdNn3JHygmL/udP7RyN0+g9xCWuxMnHNa73K0pSyeBvCeAvm2s0+Z7K+9rkbMrUqHOGTeeRQI5IgBrYekS8frcI0kpVKpzRLFwngRFDH0Ggj7kj3XakGK/MyTy9z1Y9zAl7QSV6vy9lbx6LhCAMo2+Dcnud1wuVCfbRXLp8Wwj4wkkEBiBYnExkpGRIUePpWoF6aSaaFSiWKxE+fH4PrAr8+xwJAB/W7gIGMt0SfWUA30ou8J+l11iwcufG/cQike6+h4pWrSIREZEBK+yLIkE8pgAfKbh5mEs0zn9jsvjame5HBXqLEh4gARyn0BxpUBHqrjUhxOPa0UJyhIUnlj14xgTHUXlOvdvQUhfAQoYwqohEoRRpFFhWG1yokybxrLfGRK5/54X91C7fygXkJgi0RJ9+nuDynXu31teIXACUKLxGUE0D6NIo9RAv+MCr1nOS6BCnXN2PJMEAiIAxaioCqWXqCzVx1NPWIp1QIXy5AJJAJNz4E+YHTcPTyDY7zyRyd3juXkPjWKduy1g6SSQewSC+fnIvVp6L5kKtXc+TCWBXCUABalMyXitLKUopTpV+ZCdOpWhH+Xm6oVZeEgTwOpgWNAAMVgRNioYirS9wex3dhq5s817mDtcWWrBIJDbn4/8oESFOj+o85ok4EIACg4exxcv5pLAXRLIRQLsd7kIN4+K5j3MI9C8DAn4IMAoHz4AMZkESIAESIAESIAESIAEvBGgQu2NDtNIgARIgARIgARIgARIwAcBKtQ+ADGZBEiABEiABEiABEiABLwRoELtjQ7TSIAESIAESIAESIAESMAHASrUPgAxmQRIgARIgARIgARIgAS8EaBC7Y0O00iABEiABEiABEiABEjABwEq1D4AMZkESIAESIAESIAESIAEvBGgQu2NDtNIgARIgARIgARIgARIwAcBKtQ+ADGZBEiABEiABEiABEiABLwRoELtjQ7TSIAESIAESIAESIAESMAHASrUPgAxmQRIgARIgARIgARIgAS8EaBC7Y0O00iABEiABEiABEiABEjABwEq1D4AMZkESIAESIAESIAESIAEvBGgQu2NDtNIgARIgARIgARIgARIwAcBKtQ+ADGZBEiABEiABEiABEiABLwRoELtjQ7TSIAESIAESIAESIAESMAHASrUPgAxmQRIgARIgARIgARIgAS8EaBC7Y0O00iABEiABEiABEiABEjABwEq1D4AMZkESIAESIAESIAESIAEvBGgQu2NDtNIgARIgARIgARIgARIwAcBKtQ+ADGZBEiABEiABEiABEiABLwRoELtjQ7TSIAESIAESIAESIAESMAHASrUPgAxmQRIgARIgARIgARIgAS8EaBC7Y0O00iABEiABEiABEiABEjABwEq1D4AMZkESIAESIAESIAESIAEvBGgQu2NDtNIgARIgARIgARIgARIwAcBKtQ+ADGZBEiABEiABEiABEiABLwRoELtjQ7TSIAESIAESIAESIAESMAHASrUPgAxmQRIgARIgARIgARIgAS8EYj2lHjgwBFPSTxOAiRAAiRAAiRAAiRAAiRwmgAt1OwKJEACJEACJEACJEACJBAAASrUAcDjqSRAAiRAAiRAAiRAAiRAhZp9gARIgARIgARIgARIgAQCIECFOgB4PJUESIAESIAESIAESIAEqFCzD5AACZAACZAACZAACZBAAASoUAcAj6eSAAmQAAmQAAmQAAmQABVq9gESIAESIAESIAESIAESCIAAFeoA4PFUEiABEiABEiABEiABEqBCzT5AAiRAAiRAAiRAAiRAAgEQoEIdADyeSgIkQAIkQAIkQAIkQAJUqNkHSIAESIAESIAESIAESCAAAlSoA4DHU0mABEiABEiABEiABEiACjX7AAmQAAmQAAmQAAmQAAkEQIAKdQDweCoJkAAJkAAJkAAJkAAJUKFmHyABEiABEiABEiABEiCBAAhQoQ4AHk8lARIgARIgARIgARIgASrU7AMkQAIkQAIkQAIkQAIkEAABKtQBwOOpJEACJEACJEACJEACJECFmn2ABEiABEiABEiABEiABAIgQIU6AHg8lQRIgARIgARIgARIgASoULMPkAAJkAAJkAAJkAAJkEAABKhQBwCPp5IACZAACZAACZAACZAAFWr2ARIgARIgARIgARIgARIIgEB0AOfmy6lbDoos3hoh6/eJHEwWycjM3WpERoiULSZSv4JIi5qZUqts7l6PpZMACZBAoAROZpyUlJPHJPVUipxMPyHpmemBFsnzSSBbBKIioqRIVIzERsdJXJEEKRJZJFvnMzMJhBuBiOTkZEslzcjIkCPJp3QbYqNCrynjl0XIgk35W6+L64jc1tRClr+V4dVJgARIwEYAivTR1ENyXCnTFBIIJQLxSqkuGVuGinUo3RTWxS8CqaftEdUqlvKaP2ws1J/8HiFr9jrackUDkQuqZUqVkiJRuey0kp4hsuuoyN87IuS3taIV+kPJEXL/ZVSqvfYsJpIACeQpgWMnEuVQyn7rmlHKIhgbVVTvY5tCAnlJIF0N7k5lOAx0aempepCHgV6ZuPKSEFMiL6vCa5FAnhAICwu1sUyXU64XPVtmSvXSecImy0W2HxYZvTBCDihXE1qqs+DhARIggXwikJh2WI4oyzTEKNJUovPpZvCybgmkKfcjKNaQUspSXaJoPv2Qu60dD5KAZwL+Wqhz2b7ruYL+psBn2rh55KcyjfpCkUcdIKgT6kYhARIggfwkAMu0UaaLRsVKMfVoncp0ft4RXtsdgaLKlxr9E4L+in5LIYGCRCDkFWpMQITAzSO/LNP2G446oC4QUzfHHv+SAAmQQN4SgM+0cfOAsgKlhUICoUrArlSj36L/UkigoBAIeYUa0Twg8JkOFTF1MXULlXqxHiRAAoWLACYgQqhMF677Hs6thVJtnqCY/hvO7WHdScAQCHmFGqHxIJiAGCpi6mLqFir1Yj1IgAQKDwFY90w0D1qmC899LwgtNZNl0X9ppS4Id5RtAAGnKB+nToVerFITZ9prNI/MTEk/cVTSkjdIpiRKZkSsxMafLdFFEeLE4TISzNtt6mLqFsyyWRYJkAAJ+EMAcaYhxi/Vn3OYhwRCgQAs1HghEgj6cRFOUAyF28I6BEjAyUL9x4LFARaXP6enHdoj2394X3b8/omcTJklpeJ/lsP7xsjBAysFsbUpJEACJFDQCGDRFgoJhCsBY6VmPw7XO8h6uxJwUqgnTJrhmh7y+6mpqfLnrBmydeVy+Wz8Knn7vWVy4nia1K6VKFt3fyN79q+RTGXBppAACZBAQSKAFRAh0ZFODxoLUhPZlkJAwPTjQtBUNrGAE7C+iZOTj8tPP8+WV197Kaya/L85s2Xcr39Ip/aV5PrLi0lkdIzEJcTK8aQ0KVLiiPy1frK0KVZRSiaE9prhe/fulW3btntkHx0dJbVr15ZSpbyv1OOxgEKUMHHiRPnqq691i2+88Qbp2bNntlv/2muvyd9//6PPGzx4kDRocDq0S7ZL8v+EpKQkWbNmrXqt1oPAcuXKyznnnCM1a9bwvxDmLDQEzHLiZoJXsBq+8dBq2XBojWw8vEYXuUHtd6h7s96uV6ah1C1zdrAuxXIKMQHTb00/LsQo2PQCQsBSqH/6eY6kpDiCrodT2yZOHC9xRYvKvgPpcm3LclKydKwcO3Bcdqcly/YjSbLhwBKpsr2pXHh2h5Bu1k8//SSDB7/hs46VKlWShg0byDXXXCM33HCDz/yFMcP+/Qdk1apVuukXXXRRjhBs3brNKuP48eM5KsPfkyZNmizDhg2T7dvdD6jOPvtsee21V6Vx48b+Fsl8JJBtAlCkh/012O15szZO1MdnbXQkQ8HuUM+hZLs9gQdJgARIoJARsBTqCZPDz90D9ypNuXykpCXK3yvipIQclfp1IiW+YrzsjjkhB1NSJKF4hPy9eZpUKV9fqparE/a3d8+ePYLXnDlzZfPmzfLoo4+GfZsKawPS0tLk9ddfl++//8EJQVRUlKSnn5kgvHr1aunevYe8885QueKKK5zycocEgkFguFKkYYmG1FMW6LqlG6r3hnofFulZGxwKNazWyGcU7GAp1XDLO3B8r+xM2iq7j+2QkmqSWvUStaVy8epeXVp2JG6Rfcm7dT3Prdhc5XW/xPqJ9DT5b98yna9qiZpSsVgVve3uD/Ku2v+P+v3YL8knkqRK8RpSp/RZeslsd/k9HduZuFW2Ht0gh1MOqvjgsVK71FlSo2QdKRIV4+kUOZp62Hoy4DHT6YQiqq1NVJs9CZb93qNYoh6I+VwhoYpmWj6+kkRE+DdZPxhleKofj5NAQSOgFer9+w/K738sCsu2de/WQ/bv3S8ly5SR9TsWy5LVi6TmiQSpVDVaypWOkejyUZKqIoAs2/GZRER1kyqlm4R8O2+++Wbp0+c+p3pC+dqxY4dMmTJVfv75Z+0S8PHHn0iRIjHywAN9nfJyJzwIPPjgQ/LHH3/oypYrV04eeuhBadOmjVSoUEESExNlw4aN8umnn8rvv/8umCvw0EMPy1tvvSXXXXdteDSQtQwLAo/PutOqpyfLs11xhnINhdq83ukwxjo/JxubD6+TMf8Ok6Nq+XRXiYqIkhbVLpdbz+4pkRGRrsmydNcCmbv1J338lbYfSvGYklny4ABW5ft6+cc67bqzukjF2lkV6ozMDDVwmCC/b/ufpJ7K+lQKy2V3bdJHDzjcXuT0QSiwP64eLVuObMiSDe05v/JF0uWc3m4HCjsSN1v1zHKyy4ESKoqVJ4V6wfZfZdKacXLKzcIpUO5vbNBNWlZr7VKi824wynAukXskULAJaIV60tRZThaxcGpyu7ZXqkgemUqxLCJrt9SSEZM3yf7DR6RmnWJSqVKCxMcXUcqnsmSfSpY9KRMk/fAxteJiq5BuYsmSJaRWrVpZ6gg/3nbt2ikl6zN59913dfovv/xMhToLqdA/sHTpUkuZjo2NlVGjRkr9+vWtisNXvnnzZur1mbzxxhvy5ZejdcQa3Perr+4osGJTSCBQAsbyDKt0h7o3+eUfDeUaL2PVxvsDFw7IUVXmbZ0lU9Z+KxmZ6dqK26BsYympFNdEZandppTLwykH5M/ts+XQ8f3S8/yHJTaXVoKEJfbLfz7QlmnTkLLxFbRFd1fSNm0Fx3LZny59W+5ofK80rez+N2TtgRUySpUDKzcEFvO6pRuocK6irdVpp1L1IABW63sueEziihTT+dz9SYgp4dWaXVylu0q6asc3/30uy3b/qZNKx5ZV1vUGEq+ucyBln2w5vF5S1GBh/Mov5KB6InDtWZ1VPmdrdTDKcK0X90mgMBDQCvWEieHp7oEbBAutkRqVa8vZNc6X9ft/k5NpkXLqVLT6IouSaNXKyOgMyYw7LAeOTJGknYelUdVrzGlh937vvb3l448/1lbLtWvXaWtmiRJZv1zDrmGFqMLLlv1ttbZVq1ZOyrSVcHqjV69eMmbMV1qh3rlzp3L12SL16tV1zcZ9EsgWAWNpxkk5UYihgMP9Ay/4X2d3siIU1cnKipqp/sEVonfT/pIQU9xqAxS76eu/lzlbZsrag//J7C0z5Op6t1rpwdz4ddNUS5muWaqedG9yv0ChNrJT1fWzJW9LknraOXb5JwJrNRRVu8A9BFZwo0x3adxbmlZqaSnFsIBPWP2VwPK76fCdlSQbAABAAElEQVRa+fLfj6Rv86ftRThtd1PW8AblsvdEdcH23yxlulW1tnLL2T1UvGf9M6/LTkpT9V/xqaxTPH9VrpBnlT1H6quXXYJRhr08bpNAYSEQvWHjZln+36oC0d6iRYpKxTLVZOmGk3Jgf6okxMXJSRVZKiZWKdRRSrVWRr2Y+GOSmjlP1u2NkbMqXhmW7Y6MjJQaNWrIunXrtJK1adMmOf/883VbVqxYIQsWOKwTTZo0kYsvdm9JGTt2rBw75liG8s4775S4OAXptPzzzz+yaJEjJnnLlhfJeeedJ5ikN3fuHNm0abOUKFFczj33XGU9be426si+fftk4sRJujREqOjYsaMggsVPP82SjRs3yMmTJ6VJk3OlWbOmUr16dXNZt++JiUdl3rw/1HU3ahcIZIIyWa9efWnRooWUK+df9BbU6YcffpT169fJiRMnBRP9YAFu2bKl2+tm5yAmE06aNEm2bNkqR44c0S4bjRqdLTfeeKNi5X6gc+yYY1EOXCcpKdHr5TARddCggXJYPXmBxMfHecwPy/cvv/wiULxPnDihntJUVm28SK666io1sDzzw+qugPXr1+v7tnXrVp1ct24dufXWTjrKCMqbNm26Pl61alUnt5Ng9Dl7fXLShhEjRqinbBlqgB0td999t37i9uuvvwr8zw8cOKAm8jbU/difiZ04Z8aMGWqS6A7dV889t4k+t1mzZvpJmL2urttw1Zk8ebK67hpB5J5SpUrqp0033XSTz77uWlZu71t+0KcjeGT3elCg4SKCcjCZMbuuH8v3/qWVaVz3pobdnZRpHIMieEOD2+VflQ+W6pX7/s4VhRp+y79unopLagt4j3P7ZvGXrqr8qPs0f0qGLHhO13nRznlZFGpwSD692M5lNa6Si6perss0f+Cy0qlRT+V+clSW710iGw6u0r7NZeLKmywBv4MVJCaqqNzS6E6Bi4ldihctKZ0b9ZKBvz+hD6/c/3cWhToYZdivyW0SKCwEosMx9rSnmxMdXUQqlqsmmSeLyKFDqRKVmSTHk+OkWEKkUhgjRUWek8jICKVYJElipnqMmFJOfXE6FFFPZYbicUzggYIDweSSOnXqWNVctmyZ5Q4CRdmTQv355yP05Eac2KnTrU4K9eLFf1llPPXUk9qH95NPPlUW/1PWdbBRtmxZ+fzzzwXKo112795tnd+mTWuthDz//AtKIbT7SI7TbgsDBw6Um2660X66tf3XX0sE19+9e491DBvKhVwL/I6HDftIKzuOI+7/YtLfq6++qpUjkwPKFuS22zrLc889J0VVpJicyEcffSTDh3+sBzb28xG675133pWRI7+QCy64wJ6kt88771zr2JIlS1WovDVa6bMOumxAIfMmGKQ88MCD+l655vvuu++0Ujdu3Fgpo+YauJOxY8epSCKvOSWB0RdfjJTHHntM32PjZoQ+ZffjDkafw4UDacMHH3yoBxBxahDdRvmhP/ZYPz3gdGqQ2rnjjjvkhReeV98DWf1x8bkaMOBZPTiyn2f6StOmTdW9HuZ2EIn8c+fOk379+om7qDCY7/DUU09Jr17ZD+For0uwtmFRhmhXj2xE6zBW7QeVi4dWqNW5ZqJidq3Ux5RF14ir4meOwx3hpobdZNvRTWorQq2sd8rJ4nomX863VuxbqnyNHd9t19TvnEWZNiVXURMk66qJmhtVSMHle/6STsqv20wwRN/5Z4/DCAHr9fVqIOBJLlXKNhRqWOaXKB/w9nXdf/95Ot/bcfiKQxCbHHVy8ebQabC839igqxw7mSSlimb9PghGGfpC/EMChYyAUqhnWk2OUX7I4S5lSpWXePUlkXTsiKQmHZaUxDSpWFFZX0tEq+PKV0wp1PBui4pOk62pEySqfLyKUX1WWDX7+++/l+Rkh3UZFl5PVtBgNOrHHycoq/JGrYDArxtK8dGjR3XRBw8eFCjt33wzzqPLAibW9ev3uFZ2KlasqK2kZjCASBYDBgxQZWUqpdpZYYSVHPGjsdIlLKuwhsPSGhUVLX/++aeywi/Qlsc77+yprKoTnAYV9nYj76hRoyQmJkZbo+vUqS1wk4ESiB+c8ePB8rgMHTrEfppf2xMmTJCPPhqm88bHxwtcN+rVq6fKXqpjWKeoKDNQcr/99tsssaShnGEwpH/0VAm3336HsgbfotuMpw/ZlRdeeNFSpsuXLy+XXXaZFC+eoFgt1Irlli1bpG/fB2T06C8FPtt2gUV48ODB1iHc5wsvbK7DaC5dukSxGaos3Ln/NCeQNpjKY9DXp8/9OgQhnqRggif6oJFvvvlGMMF3kLL4u8o777xjKdNg1LjxOVK6dBlZvny5tjajz3TpcruMHfu1ejJSzun0tWvXyuOPP66Vafi344kR+uyGDRvU055F6mnQMT2htEqVKtK+/VVO5+bHDuJMQxDNw18xyjTy43zj4oEyHK4fZ475UyaieBjBxEJM+HM38bBJhWaCV27JahXRw0ij8ueZTbfv91zQT83HSdVpkZFnrL/blb+3UUTrlWnkMdoITsQg5qXW7+syjEKud4Lwp3rJ2trf+/jJZFmsrOgXV7/Cbamta3V0exwHg1GGx8KZQAIFmED09h27rOa1bXOxtR2uGyWLlZJyJarJruQDEi3pknwwWaLS1OTEqvFK8YxWj8LwKFG17mSkZKZuki3J46V2zd5SonilkG4yFC9YfqEQYIKakW7duprNXHmHMg0L9tNPP60UtOLaSo3IFIMGDdIL0UBR+OWX/3lUqBGZBMrFm2++oZTKmrqOUFA+/PAjrQCiXYjD7KpQT5kyxbL6Pv/8c0rhPGPxgQ/5/ff3VaED52jlCPWxW+ntIGD5rV27tgpNN14SEhKspFmzZsmTTz6lFf2ZM2eq8vp4bIN1km1j8eLF8uKLL+kjuPZ3332r+ZgssDr36tVLD0Duu+8+5QYwyUmRxaTD5557VoXNcyh2iOIBKzFe4NSixYVKqb1QEEcbAxFvgkggcDmBXHvttTJkyNtOYbHwNAJK8b///qvr/NZbb1rFYWD26KOPWU8fYEF98sknrUmPqFf//k/oe2ydlAsbgbTBXh1YueHqMmLE53LppZfqJAzgvvrqK+tzM336dHnllZed3DcwsAInCBbT+eCD9wWuLUbeffc9HXEF7jA//PCD6i/3myQ9sMM+WEIRHzdunNNTGww8O3XqrD+/sFLXqvWdnHVWeA3i7cq0ayQQhNdDfGqzEIwFxscGFEtYprGwBybRISrG5TU7CJTacvHe+7yPorOVjPB4ELhJ+HK/wKRIdxMjDx7fZ12zcvFq1ranjZKxpT0lBXS8QdkmetIjCvlh1Zdqe77AIg4/abt/ureLBKMMb+UzjQQKKoHonZuXWW2DNfBIsuPRl3UwzDZKlygr9aufI6t+XyQVKscqf+k02bzpkBRJS5WiylJdMjZCuTdEqS9FaNXKWn3ybzksk6T4OfcqJeSMxSE/m40fd/gbG4HSCcswFAW7YGGXnKwCaC/D1zb8lREr2QisxXikDoFSC1myZIl+d/cHj9Y/+uhDJ4se/K+h9F166WX6MT+s0bBW2yNXwHrboUMHqVy5kpMyba5x6623aoUa+3ANgaXcnaBMXMuuTCMfyoblcNy4b7TiPnLkKGWlHeSuCLfHRoz4QiuhaB/cTjDYsAv8s/v27asGDh8q//Ot2pfX1fWje/fu2voOy2hi4pnH38iPF1xVUP5ll12qXRUuv/zyLK4K+Mx++uln+tKwbA8c+LqTMo0EDEAw6EB7EXIR7TSs4esLH2MIoshg4GSPUQsFEfxat27tVEd9QpD+BNoG12oMGPCMpUwjDYrxM888o/rpUvnvv//0IAzv5n6g773/vsNiiP7tqkyjjH79HtNPRjAYnDx5ipNCjcGMcUt69tlnnZRpnAvXKIQ77NGjh55IPHv27HxXqC3/aZu7h1GaXRVmcxxtcU3DsZwKXA8QuWP0Px9qpRqxkiet+Vq/EIca7hWILd1YWafdWa5zel3X85JOu0nERce7Jvm9b6zTOCEu2nPkDr8LVBm//W+EUvJj3J4SrY4/eXHWpyzNq1yi4nhvl9mbHYEGNh9ZL3hBKiZU1bHFm1W+RGqpiZeeJBhleCqbx0mgIBOAVlmgBH7UrS5oI3GZZeXQvhSJKxknSWoyyMoNR2XNqkOya2uSJO1KlrS9xyV9r3KbOJAkR9bOUasrbggZDvDBNAu44B2Tm+zKNPxg4RP8xhtnHtPnVuWNlc+1/MaNz8w+/++/Fa7J1j6UNNfH40gsWbKkNUkLVlBMiLPLCy+8oJSc97QiZD9utps0aWw2LYXQOmDbqFatmrY42g5Zm126dLG28Wg+O7Jy5UqdHS4ksIC7E/sqjWblRtd8sLz/ruJMv/32W9pNAz7AdoGyCd9cDF66deuulUF7Ohb3MT67l156iZMV3J7P1AWsMYnVyIYNZ7hD4bMr0yYP6nTTTTeb3aC/B9oG1wp57rNn+gwmUhrBEvOwIkMw0LJbpk0evOPz9sknH6tBx1NO/vimLyDPlVe2w1sWadr0Au12hISVK/N/EjiswxDjS41ts5ALlG0o0RB/lGnj+gG3j+xK4wpN5bFWr0ir6m2dLL+ISQ2r9ZdK2X5tbj8VG/qX7Bbtd/6T6Q5DhT0aht8nn854MuOMsSPa5gqS3XLs+cFgvwpt5+6FRXA8yfVn3S73NO0n5yi2kTYj0d5jO2X+tl/lg0WvqsmVz8v6g47vMHflBKMMd+XyGAkUZALRBbFx1SrXkFvad5PvZ30pR/YflTKVSsmRA8fk351HJflwqpwoFSNlYqOlRNEoyUjPVD+O22VPublS7JI6KrxekXxHgugc8Be2Cx5bz5gxUx9CdAtMpssL8TRZLyHhjBUmLe3Mj4lrnTydj3x2qzH8Wt0JFF1Y63ft2qUHGfv379dWPvgn+yO1ajncTNzlrVHjTJrx63aXz/UYBjlGAcNTDrgruBOj6CLNmxIFRtdff71+wVoK6ymirPz++zxtfTdl//3339rnHO4bRvG1K3Owknqqi11xRl1MzGv7QAa+057E5PeUHsjxQNvgem1Pfc5Tn4VCb6R+fc+WO7j2uHMtMvWHNR/zGzxJsWLF9MDY0+DK03l5ddwetQNKtZlsiOt7s0wb5Rt5ciKIoNG50V1yc8MeavKhiuajw/CtkU1H1ulJiFAsJ6pwc3DJcI2ckZPruZ4DVwjEmEb0jZxKMVtM6EQVmi4YcmWdG6SSsiq7E18W+3PKXyB4pShfaoTog8/7hsOr9aqJKA8hC0f+/b48fNHzeiVId9cIRhnuyuUxEiioBAqkQo2bdfUVt0ix+OLyzbTP5MDO/VK6YoJamDxClm8/JPsOHZM6xaKlhlr0JUE9Uodsnz9dSlZqLOXPaqmUlfw13COcXP/+/XW9zB8onAiHh7BsCIsGf+rKlSub5AL3Dqv8E088qRTKv5zaBt9jTDZzteQ6ZbLtwELtSRAqEEoOfF8PHTqkrY5YIMiXGAUK+aDww7/Wl/hrAYcrBsIU4nXfffcqRXylnvgINwEIBlXwyUYYOIi9Lshj8ulED3/syjViWhupVKmi2czyjsl9uSWBtiHQeh086HB5QTkIM5gdQZi8bdu261Ng/fenL2BeQUpKqlNknexcMxh5PU0kNCsiQqE2FmdvynQw6mLKQGQKxHbW8Z3ril6GG5MVf9/6s3YJ+XHVaGle+WKnKB++FEtTNiJqGEG0ELtgARUo1CeUpTr1VIqTpdyez9u2fZGVxLQj3rL6nVZfPUVwjRHt98mnM2LhGFiq8YJgqfZfNk2WFXuXSlp6qnKvGeszBnkwyjhdHb6RQIEmUGAVaty1y1teJdv2bJXvpoyUlOOnpGqtEspXN1M27Dgie/anyaHYU9JQRY0onxkhkRlbZfNP46VklbOlaPHSIXfTYXXr3LmTnjgFKybiSD/xhCOWaMhVNsAKwfqMSV7w74Vgdci+fe/X1kFE04DAStymTVu97e2PiYbiLg8iQhgrMhR1f5RplIOJb0bg0nLjjTeYXY/vZcqU9ZjmLQET5OD6grZC6YesWPGfpVDb64JIHMYv2FeZJh1WVSN2P25zzLwjjnduSaBtCLReMTFnQiampBzPVnH2UJIY5D388EN+nR+NGJ75KN4mEtqVan+UaTMZ0biMBKtZmLh3Q4M79GIqWGIcy2jDslpdLQJjpFyxM4PA5BPHPC49fiTF8dnBeWXinCO01C5VXyuaSNt9bIdg35Mg/vTW00uKX6tC7BU7vRBNjZJ19VMjzHfZo8rwJlgABgvWQLCITG5Y3T1dv1qJWtLzvId1HGrE9kZ0EtTZPPHydJ79eDDKsJfHbRIoKAQKtEKNm1RFTWorVSZB9u89LBXLx0nlStHKwhElu7YflT9PnZS1avWqeinp0vK4Uqpn/Cqb6zWVszp2UwvB5O8PnrsOhhi6I0eO0hP4MHHxwQcfylcrl7s6BuPY3LlzLWX6mmuuVvGc38lxsQcOOHxj3RUA9xH8mECy49Jgj7qBSYNYSCQ7AiV+zJgx+hT8kN11112Wf627chDyD8uNIwIIZPv2bVY2e13g+5vdupQpc2bwuGfP7iwT6syFNm06E3rOHAvWe6BtCLQeFSqUt4qAa1F2pHTp0noghkEBBoKdO3fOMkE1O+XlVV673zNcNowSba6PfddjJs3+jnONJduUaU/3tA2/5a+WD1dLjmfoCXJwb/AkDW2RK+yxq5G/inIXMbIveZdHFwkojkaqlqhpNvX7ORUusHy0FygfY08KNaKRTF/3nXINSdKK+23n3GWVA7eRmiXrqUgl65Vv8irl97xHyse7jxy1dPcCWbhjjj63mktdrAJzsAHr808bJugzW1ZroyZzOqzSrkXBqo8VEhftmKtDAML/G+40kGCU4Xo97pNAYSEQWdAbWrV8TTVRK0YpCg3l2tbd5djxkxKrFJQb2t0qT/UdJNfc+qCUad9ZFlQtJzsTImTb/PGycdscUQuVhxwaxLBt27aNrpdjRTZHqDR7Re2uEHAPcSewcBtrp7v0/D4GH2Ij7du3N5tO7yYyhdNBNzvwV7VbQO1ZFixYYO2edZZnq5SV6fQGrNLGsouwgvYJo/a8sI4jPB9eCFlnBFb2qVOnyXvvva9dBBAK0ZfAKm3EPmkOriFGvPlpYzVHUxdsG8GKkUZ+++03s+n0jv6ycOFCp2P2nUD7XKBtsNclJ9uIOmNk9uw51iDLHDPv06ZN0wu/IFwimEAwILIv0oNVFj0JwjziHuA9FASLs0C0v3QOJhSac/GeXf9pxF/GEt2rVAxoKIH7knejGLfyn1rNDwJXDVef4soJ1Szr6m+bp7u9d/Aj/mvXH7oMhLwrZ1tSHAcRN9oo5v/sXWxZoPUJtj8/q8GDUeihhKNGdjGxneFeMn3d99pNxZ6O7UPKKoyl1CEIGdiw3JnPrz4YwJ+Kxapov3cwnbx2nLVYjWuRGMSs3u/4PiobV8FSppEvGGW4Xo/7JFBYCBRIhRoKTlJSov7Ri4suIRWK1pUb23aTthddK40qXyaxUk46Xd1T2l10ndze8W65u0s/ad2jvyw+t5psrBelvpSmy4Y97pWL/O4YiPRgZMyYr7L8gDRq1MgkayXIuDRYB9UGokp4UgLt+fJr2+56YRaRca2LPRa3a5p9HwMHxJl2Ffikf/HFSOswXCvsYp/YtmGDs3UWCrFR9MHRHlbQXgZiTCPGM147duy0J8kNN1xv7WMVPfjHexKEZUO4Ngjq1bbtGVcXTFA1vvTwN586dWqWYuDbiyghqAdiSiM0nJErrrjCbMqUKVN1uD7rwOmN0aNHW08MXNOwH2ifC7QN7uqUnWMIN2iUYvi6z5z5U5bTMTgaMmSoWkRoohqMHrTCDiKjPQLKoEGDtX+0awG4h+YeQGkPBYFF2UT7mLUx6+DcWx0RHWS4Wm4c4o9biLuyWte6WofDg4L3voo88eeO2YIFSRySKQdT9snXyz+Wf0+vQHhB5ZZS2sVdA5bV5ioMHASrKX685A0dJg6+0PBl/m/fMhmuju1OcgwiW1S9TOV0VoRhse3UqJeuC1ZixDLqiCoCKzOs0lvVRMkfV49WvsdT9HVgjcaKiq5yXsUL5exyjsEZllX/dMlb2nqPhWCS1ITHv3cvlGGLB2p/bZwLq7yr+4m9zB2JW2WdisSBaBzW69AqWa9eeCqAF+prBIMUxJyGIC42lklfe/A/MVFMdFuUu8r7C1/RbJCvXZ3r8GZJMMqwCuMGCRQyAmd+WQtIw6FAzps7W3753y9SWvnF4nH54Z3HZfb0+ZKZEiORiSVk37o0+Wf531K+7C5pUPccwWIwbVtcrazS6fLnCrWgyPZdcjx9omSkxUvDmq1CikyrVi2lbt26evVChD9DfGGsimcEk9UwgQw+r3j16dNH+1rDpQERHX7++Re9MAWUoFCNNnDxxRcLlEwIlpSG/zFCoWESIR7JDxkyREXCWKkVQ7sPq2Fgf8cy2Vj2HBZ9KI8I4Yd2Dxw4yAofB6auC8tUrHhmEt748eOVb/L5ehVEU/azzw7Qy4WvW7dOr7aIVdM6duwgiNCC8rFcNZQvSI0a1XWaORfvCFGHgQ1iI+NJAlw14NbRsmVL5Svu8MfE5MFff/1N58M5sIZiaWv7BEG4nHz44QfSq9ddejU+rDaIaB+IXV21ahVZrJaR/+GHH3V/QRnXXXedpYBjH8o4IoxAEcfg4I47uipez+uFZeCnjkmQ8NeHa4Pz0vE42yGB9rlA22DqEcg74m/36HGnHoRj8ZUDB/brQRNiSCPEHgZH4AFx7Su33HKz4rxYDUim6D7x4IMPqBUVu+h7icnDWK0SS9RDMOn0nnvu1tuh8OcBZaV+fNadWjnDuz/KsT2UHtrgj2uIu7ZC+ex+bl+lNH+io1F8v3KU4IVJglACMWnOyCU12slNDbqZXaf3Lo17a0V8pbJkQ8n8cNFrTulm58Iql+plzM2+/R1xme86/xEZo9xQcG1EFYHgM2fcwrAfryb5dVN19rRIyp3nP6Tian8kaw4st5Re1zJQTpOKzeTKup7dXJBn6rpv8eZVXm7zvopWdcZtC37dJ5QCjwEBrP5Q6mHZL1G0lF7JEUo1JDqyiNx69p1yUbXWWcoPRhlZCuUBEigEBAqcQg3rZv2zGugoGAnFEqS2Uj43KEVy69YtMv+P32Xrti1ywTktZPe2fZKWclKtklhP4iReiqhweVe2uE4uaNBCTWRcLZmRx9Svn+PLJ9T6Qbdu3XQcatQLVmq7Qg3rIxQsKAdQkLDoCZZLtgsesWNRmFBVqDGxDlZLKCkIT/fwww9rF4vSpUtpZRFtHDVqpLa2epsshwgeiNeNVeqgEOHl+uNWqVIlvYoglDq7XHPNtXrRFxyDQnXddddrJQkr7EEwiRF16N69hyDsGpYXx8tVEGXk7bffdrJoIg+s3J9//rn2gzeuJ7CMurOOIj+Wl8cCK1jcxVUaN26syvpMKeX3aD9e+Jy78zuHst6//+OupwsGB4i0gQEaLPpYQtsu8HF+8MEH1SqLL9oPW9vB6HOBtsGqTA43sBQ8VuREH8EgDZZmvKAA2907HnroIRVr+kqnq6DvYLEcPPWASweeNrh74gDXGFwDFvFQknc6jLHiTZtweWZJcijLJlY1Qq/ZQ+nBug2FPBA5v9JFgklu81QkjyW75qsoG8e14ocyi8eUlKolakhzpQg3rezZsAELc0+lyE5V/s2wAtsXWUE5pWLLCJTpDvVuUXvO1mmkG0EkjP6tXtMuGfBzhmJtlOniRUtKg7KN9SRJKPyepGhUrPRu+rj8tfN3mbftZ20ZN2UgzjVcKq6sc72g3bklN5/dQy2Ic6FiOktWHfjXCj0IxRqL6VQtXlPXAdw9STDK8FQ2j5NAQSVQIBVqWPhq1qyllScoUOeff4G1jDW+3IzyhDT8YBqJVkp1xbJVpXyZyvqLVCWHpNx0041aYcKy37BQQxGyx8eFwvzDD9+r6BAfCPxizRc6GgMr6HPPPaeVxJBsnKoUFLSRI7/Qyg2WiU5KStKxp48cOaqX4n7ssUd1NIuyZctoK7yndkBZhkI7duzXqqzXtaXQzgIDkSeffEJZwMtkKaJ582ZaSXr77SGWv3lmZoZTPlgvR4/+UvtCz5gxQ9fRZIAlHIoXyodi706gYKGdcNWAC4urKw78tBs0OEtF9Dhbr3boLQQgBiFQ8IcNGy7z58+3+jv6ePXq1aVr165qVc079WfCtS6wPmPp9OHDP1aK4AKB1d1wat36csEiO1u2bHE9zWk/GH0ukDY4VSaHO5j0C/94PB0xDKFMoz/CCo8VJ7HwizvB98jQoUPU06M6eoVLTHg1gvvfrFkz/bmrWTO0lGlTR2NlNuHyzERD7LsT+F9nZxKiuzLMMSwzfotSAvFCBIzDqQe1RRVWVX8FFtebG3bXVmy4esDFAuFPEc6uhFKGvSnS9mtUKFZZbjvnbh0XG/Gvk1RM6TLx5aVYkQR7Nq/bUPBh+cUL7h6HUvcrf+lovZw60rwJlHoMcAIVrDKJFz7HaAcGGeDsbtl0T9cKRhmeyuZxEiiIBCKUb6A1+w6rspmlx2PP6Jn52u7Hf4xQM8FFht6SqaJz5GtVrIunK72q/wQVFUQp3O/cauGz0kNpA/FuYZ2H9ax27dra0hlK9fNVF/wgbNu2TceKhrJjHwD5Otc1HQMQDD6Mkgkrsz8Cqy3cMmrWrOnx+uCLxWEOHjwkWEymfPkzkSP8uQbyoK1QxFAOLNK1atXyeD1vZcK9BWXAdxquPvYFdLydZ9LQXix9DksqBg0QDNx6975Xb8ONZuTIkXrb3Z9g9LlA2+CuXtk5lph4VPm971LW6pNaybb71PsqB0o4XD327Nmr+kE5zRF9LtiCRVAg9kf+wbgGLNKwRkOgUBs/a1itERovWIp0MOrKMsKbQKJS9iEIO0ghgVAlkHraWaFaRe86Q8gr1AN/ipD9yvuif7tMqX7GVSxfuW9X3wFDf42Q8spo8VzH0Fao8xUUL15gCGRHoS4wjQ7xhuxUYdLgEwvraZSy0FJIIJwIpKu44sknj+loJ1VL1AqnqrOuhYyAvwp1iNh8Pd+d+qfnhv29I/gWHs9X9Z5i6mLq5j03U0mABEgg+AQQkYFCAuFK4NTpCCXsx+F6B1lvVwIhr1C3qOmwAP+2Vi1o4Xg65NqGPN1HHVAXiKmbY49/SYAESCDvCBh/2FQVz5lCAuFKwPTjcK0/600ChkDIT0qspVw4L64jsmCTyOiFEdKzZf65fkCZRh0gqBPqRiGBwkCgevUaKtLHA7qpmORIyX8CccrV40jqIRXF4aR+0e0j/+8Ja+A/ARMWEf2YQgIFgUDI+1AbyJ/8HiFr9jr2rmggckG1TKlSUkW2y2UbOyYg7joqAjcPY5luWFHk/svoO23uDd9JgATyh8CB43tVDGblh6p8qLMTiSJ/asurkoCDQJpaeAcKdbxSphF9hEICoUzAXx/qsFGoAXv8sghtqc5P8LBM39aUynR+3gNemwRIwEHgpLJO707apncQA7moWlqbQgKhTMAo06hj5eI1pAgn1Iby7WLdFIECqVDjzm45KLJ4a4Ss36eWV1Wr1CKkXm4KQuOVVWGEMQERPtN088hN2iybBEgguwQQY/hQiiPuNZXq7NJj/rwkYFemy8SV16ti5uX1eS0SyAkBfxXqkPehdm08FNpaZXOmRRsooRJj27Vt3CcBEiCB7BLAyn0ZKnwe/KmNXyot1dmlyPy5SQB+/pg8i3cIVq/0tuJkbtaFZZNAbhEIO4U6t0CwXBIgARIIVwJY3CUyIkpbqqFU4wVrNSRaLXnNCYvhemfDt95GebYr0mgNLdPhe09Zc+8EqFB758NUEiABEggLArD4wTJ9VFmqMVHRWKvTTq/yFRaNYCULLAFMQCypLNP0mS6wt7jQN4wKdaHvAgRAAiRQUAhAWUHUhJMZZSRFKdWpKprCyfQTekXFgtJGtiM8CESpJyZYtAVxphEaj4p0eNw31jLnBMIqykfOm+k4kz7UgRLk+SRAAiRAAiRAAiRQeAgY3dFXi3M5irOvyzOdBEiABEiABEiABEiABMKbAF0+wvv+sfYkQAIkQAIkQAIkQAK5TKBaxVJer0ALtVc8TCQBEiABEiABEiABEiAB7wSoUHvnw1QSIAESIAESIAESIAES8EqACrVXPEwkARIgARIgARIgARIgAe8EonfuO2rlyMjIkGLF1DrbFBIgARIgARIgARIgARIgAb8I0ELtFyZmIgESIAESIAESIAESIAH3BKKrVihppcBCfST5lLXPDRIgARIgARIgARIgARIgAe8EaKH2zoepJEACJEACJEACJEACJOCVABVqr3iYSAIkQAIkQAIkQAIkQALeCVCh9s6HqSRAAiRAAiRAAiRAAiTglQAVaq94mEgCJEACJEACJEACJEAC3glQofbOh6kkQAIkQAIkQAIkQAIk4JUAFWqveJhIAiRAAiRAAiRAAiRAAt4JUKH2zoepJEACJEACJEACJEACJOCVQLTXVCbmK4HMEyck41iyZKakSOaJNMk8lZ6v9eHF/SMQER0lETFFJSIuTiITiqntGP9ODHKuzEwR9JgM9Y5t9Z8SAIEIdW6E+hOpXlGntwMojqeSAAmQAAkUIAJUqEPwZkKRTj90WDKSkkKwdqySLwIY+GSeOi5y/LikHzwokcWLS1SZ0nmmWEN5PqVe6dSgfd2qbKUDJ9higILlr6KUYh2tXlCyKSRAAiRAAoWbABXqELv/GUcT5dS+fSFWK1YnEAIYGOEVXaGCRJYsEUhRPs+FEn0y40w2KH2wqOJFve8Ml5xsQaGGMo0XOJtXEeU4B84UEiABEiCBwkuACnUI3XtYpWHRpBRMAhgoRaWna2t1brQQVulTp5VpbT1Vih71vOCRBktw1WzVNlibAUymYg1rNYUESIAESKBwEuCkxBC577BMU5kOkZuRi9XAPca9DrZAsTPKNCymeFG/CzblM+WBreGMo0a5PpODWyRAAiRAAoWJABXqELjb8Jmmm0cI3Ig8qgLuNe55sAR+vcbNg+4HwaLqXzmwVoM5BPcA94JCAiRAAiRQ+AhQoQ6Bew5XD0rhIhDMew5XD4hxR3Ds8W9eEbBzN/cir67N65AACZAACYQGASrU+XwfdGg8RvPI57uQ95fHJMVgWKlhEYW7BySan2YHiHz4a9jjXtBKnQ83gJckARIggXwmwJ/gfL4BiDNNKZwEgnHvTWRyWEnpM51//QjscQ8g5p449viXBEiABEigMBCgQp3PdxmLtlAKJ4Fg3HuEcIMgLB4lfwmYe2DuSf7WhlcnARIgARLISwIMm5eXtN1cCysgBluOb94qx7eol3qPr13TKr5c28utbW7kP4Fg3HvjXmCUufxvVeGtgbkH5p4UXhJsOQmQAAkUPgJUqPP5ngdrOXEozwdmz9OKtL1JUKyNIN0o1ebdpPE97wkE496fNlDT3SPvb1+WK5qHBOaeZMnAAyRAAiRAAgWWABXqAnBrt438KosijWbF13JYp12VatNkKtWGBN9JgARIgARIgARIIOcEqFDnnF1InOmqTNe4q4eul93VAweMGwis1BBtzVZW7Rp3O/LrgwH+SVq9ViJjYqRY3doeS8pQ8ZePrVknRStW0C+PGd0kZGZkyIkDByVtz15J26tWHYyPl6KVKkhspUoSVSzezRneD504eEhSd+5SDsiRUqJxI++ZmZqrBJKTk2XlypWyfPlySUxMlDp16kq9enWlfv36UrRoUa/XTklJlXXr1sqaNWtk69ZtUqNGdWnYsKE0aNBA4uLiPJ47c+ZMSVcrV/qSJk3OlZo1a/jKxnQSIAESIIFCTIAKdRjffLsyDWu0N+UYCjZesEpDmdYKtXIHQRnezvMXD5TTnd98r6ziNbwq1IkrVsqeydOlXJvLsqVQnzxyRHZ+96NSgHdnqVKEcl4td+UVUvaSlirUhXnwniWb04GM1DTZPmacnDx8RCKLFKFC7UQnb3dGjhwlQ4cOdavcVqlSRd5880258MLmbiu1cOFC6d//CTmoVqB0lVKlSsmQIW/LpZde6pokp06dkscf769C3Pl20Hj99depUGchyAMkQAL/Z+864KOouu8lCST0XkPvvfcmvYl0AZUmKqKiH/qhiF3UDwvWvwVRsSDSFBEpgiBI772X0EsooYUewv+et7zJ7Ga2JLvJbrL3/limvffmvTOT3TN3zr1PEBAEzAgIoTajkYbWNSFGl0GSkyLf0GV1G8kl1VcORNGtCxcJZPrCug2W6N25FUex+/ZTXGwsXT92gi5u2WZZztXO6ydO0tEfJ9Ft9kRmLVua8jRpROH589JtJsXow7l/l9OZBYvoBpcr0ruHq6aMYyf/mK3ItLFDVuwQ+PHHn+y2Bw4cYLftiw14h1999TWaMWMGvyQIoR49elDdunUoa9astGfPHpo9ew4dOXKEBg4cSG+9NZp69uxpd9rp03+lN954Q+178MEHqHv37lSI31ZER0fTrFl/0qRJk2jIkMfplVdeIRw3W0xMjCLTmfiNSp8+fcyHEq1XrFgh0T7ZIQgIAoKAICAImBEQQm1GI42saw8zuuuMTOsgRe2Vdhwa6mkZiFVGEMfyVtsnZ86muIuXrA4Z++JiL9PxKb8a28lZubBhs41MlytDxfr1NbzQYTmIwgvkpyz8iv/wtz/Qpe07KX/71pQxZ06Xp7mwdgNd3rGLQlkOcFvSFiqsQKC/+OJzlltctsRuzJgxan/9+vXU8qef7Am3ZSU3O2fPnq3INEjtZ599Ri1a3GPUaN++PQ0ePJiefPIpWrt2Lf3886REhPr7779XXu3nnnuOifNjRt38+fNT1apVKTKyCI0Z8y5NmDAhEaHWHu28efPSyy+/ZNSVFUFAEBAEBAFBIDkISB7q5KAWQHW0t9mqS+ZgRKvjZqkHSHpSrdiAB6nkE4+pT85aNSyrh+XIYZRBWRDgpFrsnn2qSq66tQwybW4jgolTeOFCapcuaz5uXof+OvqvBYpMF+jQxnwoKNcHDBjAeuNKTDzHGGQ6R47sZPUBQGvXrlMf1EFdb2zu3LmqepMmTezItG4zW7Zs9Mgjj6jNXbt20fHjx/Uh5bmOiopS23379jb2m1fuv/9+5fk+duwY7d9/wHyI4KGG5c6d226/bAgCgoAgIAgIAslBQDzUyUHNz3U0+XVFpj3tIoIYj3xvnSXEXRvh+fMZRZwFBWYIDaWIwgWNchkyZTTWPVlBIGL83VzdIWHO64aE2W7leJaFODMEREKHjXR1hft0UdppZ2XN+68dPU43Tp6i66dPUwiPJxN7NXNUr0ohEa6D5cxtBNq6o0caBPqpp4axvMI1SdYk2kysR40a5bae1fiLFSvGRLoF9eplL+Uwl71+PWHiI+ietSFwEQapSMaMmfRuu2VG1sbjeDzfQxcvXrA7pj3UefLksdsvG4KAICAICAKCQHIQEEKdHNT8WEeTaXRBp8XzVXcgAXHMDuKrtpPbTgYmRNkrlFfaa0g6srLsw9EQWKiDFbNVcq53PfXnPKX3ztO4AWWrUI6uRh1ybMpu+w5rfFHn4sbNdvuxcfrvfyiyb08OwCyd6Fha2LFo0ULlkQaR/vzzz6l+/foeddss9QC5BrGGVMQdEbdqHNpmV4bMH1rLjYwdxYsXN4pD0lG4cGE6efIkzZ+/gLp162oc0ysLFy5UwYeQddSqxW83THaOdf8w7aGGnvvYsePsBT9GJUuWJARDigkCgoAgIAgIAp4iIITaU6QCsJwvyK+5DUhEzNuBMuRc9WrT5V276eKmLeytvknZK1ekbOXK0q2LF1UKvgtMeONv3VLZRZxJSlD3EgdEZi4aSfnbtvZoaOeWrlBkGp54aLMzs1Yb5P3C+k0qCBPe7rLPD/fY0+3RSVOhEEgqiHBkZCSBWCfXQK5BxKG7RpvJIdWO5waxRSDili1bady4cXTo0CECIX7vvXc5gYt9BhcEK7777rsqMHH79u3UqlUrRZy3bNlMixcvpl9//U01P2BAf+WpNp8rJsaWFSRnzhysz/6ZPv30M7p8OUE/Dh12y5Yt6KWXXqKIiAhzVVkXBAQBQUAQEAQSISCEOhEkaWOHL73TaEsHJlLLwBs/iGzJoY+q4EYEE+LDYmr+6JRnGSjvPU2dZjq5ceYsRc/+iyUaEZwFpDtlCPUsdADZSWD527aibOXLqfVQ1moXvLc9XWfPKMj1jVOnKXOxSHUsrfxXqVJF1VVokuGdHjZsWLK6jmBBHcSo20xWQ3crvfbaazRt2nS7JpCd44knniAQXEcbNGigSmf34oujFCkGMQbp1qnwoMH+9NNPCAGOjqY91FOmTFVe7DJlylDr1q3oFj+YrV+/QWUKQV/28T0wbtxXlNNNoKtj+7ItCAgCgoAgEFwICKFOY9cbsoykmMrkUdIzz3Mgeqcx1ju34+kyTwYTd+WqaeiaTKsSaoIW6JwRoGg2pO07wZ5keLAje3WljJyb2FOLv2rT796+aj4vU3mWoZQcMtjTZgK63Oeff2H0z1NiDSKNelj60pAuD7mjoY+G7hn2zz+LqWjRYsr7Hcr6dbOd5Ul+li1bRtdMmVo0mUa5Gzdu0IoVK6hmzZpUsGCCjh/HQJDRXhhr7z/8cGwi0g3vNgj+pk2b1APHxIkTUU1MEBAEBAFBQBCwREAItSUsgbsTpFd5k1me4cpQDkGL0Fwj6BDrzoIY3WUDcXWe1Dh26s+5SnqBCVzgic7GM+hhhkQQ3esno+nc8pV0ZX8UXTtylIo/MpCDIG0ZP9C36Lnz6cbpM5S7YT3Kftcz62mfs1epROeWraRTs+ZS7N79KhARE9dghsb0YEiBB+mHJtVYDhv2lN3QIOnQxNkWiJhAonEMqel+/32mXZ3kbowcOZLwwcyH+/fvoz//nE0gsu+//z4dPBjFuajfMpq+ytceGUCQrxok/KWXRlGNGjWU/hmSkW3bttPHH3+sPN4bNmykKVMmU/bs2Y36I0e+QEOHPk4XOI+61SyICJS8cOE8TwzzIa1bt16dBzpuMUFAEBAEBAFBwAqBsOOnLxr74RWCl0gscBEwSz3cBRGCQKM8SLX+IKuH2ROdVI93aiODQERbUGAGKtr/AbsgwBCekjojpz2DHOP4tN+Unho5r8s8a5MwgGRf2LCJp0PPSOH58iUKLoQUBIZMIjrwELIQaLRh+Vq1UOn1Ylatocs7d6sPpCYg87lq1ySk8ctwN7uIqpDm/svA03XvUrIPdB2EWpPrhKEkeLD1PhBpEG8sIRnxtWXOHEHVqlVTn9q1a9Hw4c8SJnGBRrplS5smaezYsYrkYiKXSZN+Vnpw3Q8QX3yaNWtK/fv3pwMHDqh81P/73zu6iFrCS+1KytG2bTtFqFEYxF0ItR18siEICAKCgCBgQkA81CYw0sKqmQx70l+UL16qv5rEBZ5qR2+12TvtzIPtyXlSqozOKx0RWciOTJvPlyEslGdPbKgItdI1s0cawYlxd1Orxd+8RadmzzNXsVtHNg9MUgPLlC+vQaihtc7TtBF7t+szmd7FszIe5LcDR1g3zbms2fMNLXexQf081mTbndSPGyDC+NikGwkaakg+sE97pM1dRHmYXmLdVt9GuM37ccxXBv0z9NNnzpxR59OEGlIQWKdOnezItPm8kHl069ZdTRqDIEXIQRwDG83lHdfhuUZA4vXr1/lzw/GwbAsCgoAgIAgIAgYCYTmzZTY24u/EU5xNumjsk5XAQ0AHEYIcVxztOvWY7j2INcrCU232cmMbFohkGv26edeLHF6gADadmvk4JB4g1JmYiEHq4cziYq/QZfaAQxOdq34dVSyMA9kcDYQdeafxgeEh5ORvs+jq4SNcfwflqFHNsUrAb9vkHjYttO4sCDWIsTtyrIm0Jt6OMhHdnqslsnk0adJU6aXHj/+amjZtalkcBBheaBBqHUgIucepU6dU+fLly1vW0zvLlbMFk54/f15N5oKMIXv37qXx47+hLFky0+jRo3XRREtotEGmYbVr1050XHYIAoKAICAICAIaAfFQayTS0BLkF2QadmTCRDLPeOhuGGbirMm0uzr+PJ4pbx66fuKk0kcjONFZho6rBw8Z3cx0d7IOZN9wlYHj+rETNkLNwWkFO9lngrgZc56QNi9jrpyUr0Uzo22s4IEkR/UqSl+tZSN2BdLAhibPZpmHo4ZaE2tNnK001Fr6kdQhIyAQJBrTj0/jbBrOCDWIM1LiwRBcCMvCGvZ8LOE5e/YsrV692jIHtSrI/61Zs1qtQj+tJ3GBtG3evHlq2vIOHTpS48aNdHG75fTp09Q2SHhZ1u2LCQKCgCAgCAgCzhAQQu0MmQDeD2+z9lLDWwpibCbKnnQddTShRt2k1vfkHEkpc5Mn2jj+i43AQGahpzLPXb8uXdq2Q03IcvL3WZyyrgPrmiPsmoYM49Qfc9S+zMWLUkSRhKBEu4JJ2ACRvnIgiuIuXqLMHHhnnlAGmuvLu/bYzlesaBJaDayiIMw//ZSggzaTa1tPE+unsR/1kkukzQi0a9dWEeoFCxbQBx+MVdk0oJ/WtmPHDqWfhlQDWmct98Dxfv0eok8++ZRmzpxJ8FIjB7Y5Cwg84FOnTmN99S+quQcffNCQe1SsWJGnTe9P33//AwcmDiVMMNO79/36tEoagiwfX375ldrXtWviSWOMwrIiCAgCgoAgIAgwAhmiz5w38o/ZJB+2HL0RoekPn+u3bWMKpLHd5Dy3yTV4p7UGOimk2FwPxDwpHm5nfT29YBHFLF/FRL84t+d8+upD4ycQPMPw+uZrdY/R3I3o03Twi/Fqu0C71kq7rA/Gcso8kOnbnP0hJDyTepgA4Y2/cVNl8IAHG5atfFkq3KMrZ+FIkDHpNqyW6Af6E8JTVJd/dWSiIghoRIYPpLvOXqWiyh4Sx5N/IJATspJMeXJTySeHqKDHRJU93JGJJ6jxxnx9T8MbrT3S5n5pb7Vemo95s47c0WPGvKu8xcjWgXzWYWEZlSwjOjpaNR3OwacTJnxHderYZDnYCS/zV1+N41kav1DrmDWxZs0a7LnOz9KQs7R16zae+fCYItFDhjxGzzzzjB3hRko9kPhJkyYpAo1zV69enacxz6gCEFEXhtkgR4160SDjaqeL/3x9PVycSg4JAoKAICAIpAIC+nu9aEHXaXeFUKfCxXB1Cm8INdo1k2Nsg1iDJDsGL+psHloqgrK+ItNoKyUJNdq/xenNcA6Q51sxF3iP7TkwJFMmCi+YnwlvZcrTiAPnHGbTQ11n5o5Qo961w0fp1Jy/CISfmZdqKiQiXM3UWOi+TjxZTLiz5j3aH2iE2qNO+7jQ0qVL6YcfflDSDj1RDE4BmUbPnj1o0KBBSkdtddo1a9bQ11+PVwQcEhBtkGmU5+wvgwcP5mwf9pIdXQbLdevWcdDi/9GuXbsoNjZWHYKkBFlG4EF/6KGHzMXdrusv3kB6aHfbaSkgCAgCgoAg4BQB/b0uhNoEkQYlkH7svCXUGJ5ZvmEariLM2NZebMdjvvBMm9tMrXVk7UCwYmiWCNtELUkg0cnt4524OCU7AYHO6MNZ84RQJ1wRSDsOHz6siG2RIkUMzXNCCddrMTExdPToUZ4Ipqiartx1afujODfqYpKYsmXL2nmz7Uu63grE7xjXPZajgoAgIAgIAq4Q0N/rQqhNKGlQ0huhxhC1HlovTcO2W4VXWnmxWYct5n8EhFD7/xr4sgeB+B3jy/FJW4KAICAIBBsC+nvdHaGWoEQ/3xlIyXYn7q6424u+6KBCLM2kWk/+YiUD8eJ0UtUHCODae2sZuAEIUfDBupj/ELAJguQ6+O8KyJkFAUFAEPAfAkKo/Ye9OnOGTOFMqK/6tBeaXKtGbRPL+bR9acw3CODae2tQu0DaHc+fUGHU3sLpVX1cA1gqKJBsJ5L/BQFBQBAQBAIGAVtKj4DpTvB1JENmzzJSBB8y6X/Evrj2IXdJtCZz6R+1wB2hvgb6mgRuT6VngoAgIAgIAr5GQAi1rxFNYnsh2bImsYYUTy8I+OLaa9HIbfaO3nWQphd40tQ4gD2uAUxfE9uW/C8ICAKCgCAQDAgIofbzVc7Aad9COD2YWHAhgGuOa++tQV6gpR5x8d62JvWTi4DGHtdCJB/JRVHqCQKCgCCQdhEQQh0A1y6UJwgRCy4EfHnNw+7KPuAh1V7S4ELTv6M1466vhX97JGcXBAQBQUAQSG0EhFCnNuIW54OnMqxAAYsjsis9IoBr7QvvtMYGHtGMd/+Sb7GXWki1Ribll8AamMNwDcQ7bcNC/hcEBAFBINgQEEIdIFc8JGcOCuXZ3cTSNwK4xrjWvjZIDcJMpBok766k19enkvYYAWALjDWZBvZaeiMACQKCgCAgCAQfApI2L4CuOWQAGUJDKe40T3Mtlu4QgGc6Jci0BgpygwxM7EDylAyB05uD5CHrBD78T8wLBECikckDH/NbAHimhUx7AaxUFQQEAUEgHSAghDrALiIIV8bMEXQ75jzFX74cYL2T7iQHAQQgqoclHwQhuju/ItBM8OLukj5FrMEExXyOALBWDzHypOJzbKVBQUAQEATSGgKKUB8/eYZ+n7OYJ4i4Q48P7pPWxpDu+qs01YUK0h32WMfHXqE7167RnZs3fDKjYroDKwAHhBkQMWkL8kwjNZ4v9dKeDFdpqkH2QKq5AjyqmPxFeLUn6DkvA94MbOHtR2o80Us7x0qOCAKCgCAQbAgoQn3j1k06ceoM/+Deja4JNhQCdLwgYqF5kFpNsoAE6CUK6G6B8Kk/cDBBMUFAEBAEBAFBQBBIMQT45bCYICAICAKCgCAgCAgCgoAgIAgkFwEh1MlFTuoJAoKAICAICAKCgCAgCAgCjIAQarkNBAFBQBAQBAQBQUAQEAQEAS8QEELtBXhSVRAQBAQBQUAQEAQEAUFAEBBCLfeAICAICAKCgCAgCAgCgoAg4AUCIdNnLaS4OMnu4QWGUlUQEAQEAUFAEBAEBAFBIIgRCNu0dQ+dij4XxBDI0AUBQUAQEAQEAUFAEBAEBIHkIxBSv3YVOhl9NvktSE1BQBAQBAQBQUAQEAQEAUEgiBEIubddU8qbN2cQQyBDFwQEAUFAEBAEBAFBQBAQBJKPQEjGsDCqVLZU8luQmoKAICAICAKCgCAgCAgCgkAQI6CyfIiHOojvABm6ICAICAKCgCAgCAgCgoBXCChCnStnDq8akcqCgCAgCAgCgoAgIAgIAoJAsCKgCPXNm7eCdfwybkFAEBAEBAFBQBAQBAQBQcArBBShjr1y1atGpLIgIAgIAoKAICAICAKCgCAQrAgoQn30+KlgHb+MWxAQBAQBQUAQEAQEAUFAEPAKgZDL7J3evuuAV41IZUFAEBAEBAFBQBAQBAQBQSBYEQj56vtfKVPGMCpSKH+wYiDjFgQEAUFAEBAEBAFBQBAQBJKNQMiFC5epc/vmlD9frmQ3IhUFAUFAEBAEBAFBQBAQBASBYEUg5MFeHalm1fKUI3u2YMVAxm1C4M6dO6Q/pt2yKggIAoJAukJAf89hKSYICAKCgLcIZIg+c974Nom/E09x8SpOkSJCvW068Opfv23rU3ocmzdo6x+Uw4eP09q1m2nv3kMUE3Oebt+O96ZZqSsICAKCQMAiEBoaQnny5Kby5UtS/fo1qUSJSNXXDBkyBGyfpWOCgCCQ+gho7li0oGslhxDq1L82AXNGEGn8eMTHx9Ovv86lFSs2BEzfpCOCgCAgCKQmAk2a1KFevTpRSEiIeksnxDo10ZdzCQKBi4CnhNrmjg7ccUjPUggBTabR/LhxvwiZTiGcpVlBQBBIGwjAoYDvQhjIQKV8KgAAQABJREFUtH5zlzZ6L70UBAQBfyMghNrfV8AP5zeT6WnT5tCePZI20Q+XQU4pCAgCAYYAvgvxnQgTUh1gF0e6IwgEOAJhzvqXLx1m/TgWfUENNz2Ozdl1dNyvyTSW+/YdYs/0escisi0ICAKCQNAigO/ENm0aU7lyJQ1SLfKPoL0dZOCCAGnu6A4K8VC7QygdHddkGppprC9bti4djU6GIggIAoKAbxDAdyO+I/FdKZ5q32AqrQgC6R0BIdTp/QrfHZ8m09jUQTc7d+4PktHLMAUBQUAQ8BwBfDfiOxPflTAh1Z5jJyUFgWBFQAh1EF55eF3wOXMmJghHL0MWBAQBQcA1Avhu1N+TrkvKUUFAEBAEbAg41VALQOkHAe2dxtJst2/fTcxt3inrgoAgIAgEOQLm70b9vam91KKnDvKbQ4YvCDhBQDzUToBJj7vNPwT6RyI9jlPGJAgIAoKAtwiYvyPN353etiv1BQFBIH0iIIQ6fV5Xu1HpHwPzD4RdAdkQBAQBQUAQcIqA/u7U36VOC8oBQUAQCFoEhFCn80uvfwj0EsOFNtC8nc4hkOEJAoKAIJBkBPAdie9Kbfo7Uy/1flkKAoKAIAAEhFAHyX1g9qxgXX4UguTCyzAFAUEgWQjgO9LxezNZDUklQUAQCAoEhFAHxWW2H6QQans8ZEsQEAQEAUcEHAm143HZFgQEAUHAjIAQajMaQbCOHwn5oQiCCy1DFAQEAa8Q0I4HfF+KCQKCgCDgDgEh1O4QSuPH9StLxx8Fx+00PkzpviAgCAgCPkXA8TtSb+vvVJ+eTBoTBASBNI+A5KEOsEt49Nxt2nQkjqJO36bzV3gCFi+dIxl4fOyTJiyxxvJpCuVPyJ2bao/8JwgIAoKAIJAYAU2gcQTr2mMthDoxVrJHEBAEiIRQB9BdMGvTDVoXdStlewSCzoTaVz8KYWGhVLlyOcqfPw/lyJFNzb4YFXWETp4841XgY+7cOalgwXwKi8uXY+n48WiPcEE/SpUqRoUL56dz5y7QiRPR/DlN16/f8Ki+FBIEHBF4883hhPsc9uqrH9tlfnAsK9vpBwH9HanJdPoZmYxEEBAEUgKBsIux14x2kSIoa9asxraspB4CPy6/RvujU3bmQvxA2DzVvkmb16VLG7r33paULVuWRECBwK5atYl++OFXiotL2rgiIsLp5ZefUqQYDa9Zs5k+++zHROfQOzCu7t3bUfv2zbgv1vfvrl0HaPz4yXT69DldTZaCgEcIlCwZyYTa5nvAGx6x4EAARBqfkJAQnzkgggM5GaUgEJwIiIc6AK47PNMpTaZ9Pcz+/btRhw73OG0WpLhly4ZUqFB++vjjCXTlylWnZR0PDB58v0GmHY85boeHZ6InnniI6tWrbnfo5s2blClTJmNfpUplaMyY5+nnn/+gxYtXGftlxT8IREYWpAEDeqiTv/fe18n2+jZsWEvdZ8eOnaKJE3/3z2DkrIKAICAICAJBj0BYZIGcBgjwUF+4Emdsy0rKIwDNdIrLPHw8jIcf7kVt2jRRrd6+HU9//72MvchblPc3V67sVKtWFbrvvtYEsgsi+8ILQ+j11z/xqBf33NOAmjSp41FZFBo16gkqV66kKh8be5V++mkG7dixjy5cuES5cuWg0qWLE8h/gQJ5CST/0Ud707FjJ2nfvkOqjvznHwRwXapWLa9O7o3Xt3r1iqqdTJky+mcgclZBQBAQBAQBQYAREA+1n28DBCCmJYuMLGSQabwO/fDDb2nLll3GEEBkDx06rgjriy8OVa9Ky5YtQeXLl6K9ew8a5axWihYtRIMG2byW8GhnzZpYSmKuV6NGRYNMX7oUS6+99rHScOsy6MvGjdtp9+799L//jWCdd151qFWrxkKoNUh+WhYrVtgnZ/ZVOz7pjDQiCAgCgoAgELQIBGXavHhvU2f48HZBNo+0ZA0b1jS6u2LFBjsybRzgle3b91JU1FFjFwIFXRnkGU8/PVDJNECOf/llllGcebulVali83Di4IYN2+zItLnC1avXlZ5b70PAoph/ESha1HtCDe180aIF/TsQObsgIAgIAoKAIMAIBKWHOu72bcoUEhhDR2q8lLLieUOpGD65M9DR87bzrN7nXbq8woULGN3dvHmnsW61cunSZWN35szhxrrVysCB3ZkcFVJBQF99NcmjIKBr167Tzp37VXMrV260atbYlzNndmP98uUrxrq7FchJKlUqq4pBJrJr137KkiWCWrRoqLKJIPsDAh537NjrNBMJdL6QnMD++WclQZpSoUJpqlu3mhrz4sWrae3aLeq4/g9kEdKZ6tUrUN68udXus2djCJhv3brHaQaVzp1bqSCquLg4mjt3iXpAqVChFFWpUo7PVZiio8/SihXr7R52kBmlatUKnK2lLIWGhvAbhmO0cOEKwoOIo3mDR5EiBXjMNq176dIJD1hdu7Y1xrN8+XqnD0a6L9WqVVDYZ84cYejk8+bNpQJTdZmZM/822tT7koupru9qec899SlnzhyqyIEDR9T94Fge90CzZvVUXEH27Fnp/PmL6m3OsmXrGOuE4HBzPX09b/N31pw5i9W1xX1TokQkny87HTlygvbvP2R3Pc319TquMe654sWLEN4y4Xy4nxA4jDbEBAFBQBAQBLxDIDBYpXdjSHLtm7eYUGcMjKGnhLMcRLpJuYyKTAMcSDNArGGNy4TRqv03ad3+5KXn++KLifTllz+rtqC5d2YgmpqIoszBg8ecFVWaaRBU2J9/LmLCuJtq1KjktLw+8PvvCwgfd4b0e+agRXcPAub2oAHv0+detWv27H+Y0GSg//xnkJ0cpX79Gur4tm176NNPfyAQfbOBbEHrC1u3bgt16tSSunRpbTw0gKibCTUylbz66jBFts3tYL1du2aKACHQ0ypjyf33d1QZKdCHlSs3cLaUYQQiazZkQ5k/f5kK4kPfn3qqv5EWDuUaNKipsrcgWND8lgHHvMEDhF5jiba09ezZQa8qKc6ZMzHGttVKnTpVqW3bpnaH8NDRq1dHY9+sWQvp9u2EVxveYGo06mSlW7d2BNxhtoeR5YlKYozIRANSb7bmzUlh8u674ywlUfp63rhxkzZt2kHPPDOIrGQueAD64YffEj1E4FyNG9emxx7ryw8fiXXmyNSDh1E8xLr6ezb3WdYFAUFAEBAEEiMQlJKP6zeSRyYTwxd4e5qUz0R9G0YYBBpBj/gc44+2Bkyqu9Ry7THWZR2XIOf44XX349uxYwsVBKjrw2tnZcgCgqwesD17oujXX+dZFUvWPuTFbt68Hr399n/Zq5xZtbF79wFasmR1storVqwIjRjxmPISbtq0k4Mxl6s+AxMYPKdPPtnPZdt4UOjatU0iYqUrZeQHvREjHjXINLKVQAcOnbpOPwgvI3IjI+jSmSHN2yuv2Mg0iLc5LzhIXYcOzdWDwTPPDOS+EB09elLl7dbtgYCCaCOw1JklFQ94ZNet26o+GjO0vX79NmM/5D7u7PDh46o83gxoi429YrSBc5hlQr7CVJ/LvGzbtolBpk+ePE14CHH07OOBqkeP9uqaI53khg3b6Y8/FrK2/wCT/tsK4+eee8TIu25uX6+HhobS888PUWQa3uXjx0/pQ2qJIGGQZkcDmcZ1BJm+ePGyIs8TJ86kf/9dy4G7tjdIKNO3b2fHqrItCAgCgoAgkAQEAsNNm4QO+6Lo9ZtxipzoyRp80WYgtAEyDc80DCR6xb5baqlnSgRxaszHG5QOpcK5UuZZCmQNnjiz13HBgmUsc0gsswDRAaFD9g0c//zziUwwnHu9PcG4efP67L1swpPMZKd8+WxSCdQDGQWR/vnnmck+B4IgIZkAacJSG7y8INIYT+3aVVTWCWjIrQzE6uDBozRv3r+cbeQUwfN482bCA97QoQ8ZgZbwWsNzqI9D4oDz4Bx4WEC2FXiqrQx9Qf7cl14aSyCgMMgEnn12sJqEB9voN4j6uHG/kCaykBMMGzZAjQUPO5CB4OHBypKKBzzxn3zyvWrqp5/GsrzE9tYEOcZBLD01SGTwQaDr668/o6rhgUG37diOrzB1bBdEdODAnmr32bPnOfD1KwNHXRZvaR55pLfaxARDr7/+sR3hhgzj5ZefJEhAkA1n1KgPjOut28AS31W4prj38AYHBhlH+/bNqWPHe9Q2+jNhwjTjwQs7GzWqpY5B5vTii+/b9Q+SkY8+eln9/TVtWtcubkFVkv8EAUFAEBAEPEYgKAk10Ll89SblzmHzWnqMVgAXdCTTk1fbZAf2L5iJVjHJhvuudoKE1WejKlOmOGfp6MWp6hIaB4lC7mcre+ihrorkwVsJUhcTc8GqWJL2gUQjJZujwZsM7/etW3GOh5K0/c03U+zINCqD+ILcaWKDwE1nhBrEa/Toz5k0JdayY3ZIHfQJb+63306zI1eQcUyYMF3JLkCuIX3IkyeXU9wQ2KnJNPqJdXhGkToQBty/+WaqHcmCtxgfTcQg03BGqNGGt3igjZQ0X2Oq+4o3DUOHPqi8zvD8jhnzleV1uO++VurBAVh/9NF3dmQabeGtDPTeeADFA0zJkkUtpR8oC8+yJtPYhjQGD4gg5fibA+HGvW/OplOxYlkUVXpp/dCkdvB/6DceYkuVKqp2ITDY6r7U5WWZsggcOBBFb701Rp3ku+++VvEMKXvG4Gh99/7DdIjfwF29eoNKcBBzaZ6oKbcppsYTFK5wPMkO/lv1xKrzQ3REhPWbvTM8e+/BwyfoGDsA8nPcR4lihSiS/+4RuyKW9hEIWkJ95doNypo5Y8Boqb29leCRJvY+Y6nJtLM21xy4yYTad5ceAWG9e9+rtNBmjSgmUAEJsPI+wjuqdbAItnJF2pyNw2o/5A14lQ6JBwIoQTJgILvIcT1x4gxaunSdVVW3++BRNssMzBVA2DWh1iTGfFyv49zOSIsmNiiLDCpWk+GAaCOQrFWrRorM1alThaUnK3Tzdkvk43a0AwcOG7vg1UV7jraff4A0oXaVEcUXeDie29fbvsYU/cPD0/DhgxRRhvwC+udTp85Ydl1ntzlxIpplN6cty+A66Tc6rgi1mUybG8IbD/0Qi6WZUF+8eEkF0aIf+Hv79981dg9p0GXjI+Z/BLZt286SHC1HS9D/+79nabMHMecv0Xj+/Tl01F4ehdF0bteEOvObTE/tKEusJvwy26Pib704JBGh3s8xROMn/kGXLALis/NMw0893JNKFvc+85FHHZRCKYaA71hVinXR9w1nzxLOHuobdOHyNSqQJyH7g+/PlHotHmEi/f6cxLIKZz04ecE7aQXaBXnG1OMgA9Boajt+PFq9PnYW/IdX1Y891kcVhwd72rQ5uqrXS2SJwAcGyQNm5Ovb9z6qWbOSIhbQmULjCi9sUg06Y2cGCQi83yDw5owijuVPnox23GVsa/KFHZAHODMzeStQIJ+zYtyfBCmJLmTWLlsdRzmzPEfLMnR989IXeKA9SJFSynyNafHikaxlfszILnLq1FmlP7fqP94eQJoDYwe10s5blYPkSRsItTNzdr3MQbAZMyb8HaKdRYtWUr9+3VSTgwb15AffTpwpZpfKjoOMNeZ7ydl5ZX/qILBnT+IH4NQ5c/o7C4jrR+Mm09mYi8oT3IAdDwXz5aED/JZuxdqtNHvBCgLhHtDbFkzsDoFLnJkJlo//pqtXLuOyeNa78Tq60G7+jfvy+9/pJn8fF+TfvtqcuSkPx7/E8DwJazbsUMsPua9DB3SjKhVL62qyTIMIBCWhzpk9M91g8oNsH+cuXqG8ObOmwUvnXZdPeEmoQRQQ7KRnu0NvMJHK9OlzlQfYVdDiAw/cZwQJ4jW0/sE3jygff/lpg5dx4EDbhC/QQk+aZC0h0eX1En0A6fvgg/E8W2J3FYgHkg1ikRxCbeXN1efC8sIF/vLmyWOQVg8PG2byqsu5yoFuJlMg6M7MnN1DEzZnZVNyvy/wSMn+oW1fYwqdsw5wRfvwCCMgEG8oHM3sHUdKSLzFcWco50v766+lyiONB19ku0HfobXGBxYVdYQz6/xjl2XGl+eXtjxHYN++/Z4XlpIuEZjNb+0UmWYJ4PNPPkg5OEYBVq9WJarGpPXLH2bQynXbqFmDGlSqRBGXbeHg5buEuiz/FvXu2tpteV0Av1df/ThTkekGHPsCAm+Wd3Rq04g++XoqHeDJ0OYuWhXwhBoPIvgoDz97+ZNjvmgjOedNjTpBSagBbO4cWejM+Vi6dv0WnaO0SaqRHg+mU+JB7gFPtSdWxIugRHwhIH0XUqjBQFyRUg76XGQxcGfQ/2qDDtidgQggXRwMQXyeEmpzuyA8yGwBg64Wbboirea6eh31XJkmWuijFZl2VRfHzJ5akHJnhgwc2vAQ4y9LaTx8MS5fY4oHGHiEx4+fQo8//oAK6ANRRmYRx2uBTCvakOtZvznR+6yWjjpnqzJJ2Yf7EF5qBHHWr1+dNfq1lOZaP4hBc400kPibQt5ysQQEfvxxIqdBPMqyqBgOcM5HFStW4LcM9xn5xnXJpUuXsxTMFihavnw5atnSFiSqj+vlkiVLWTNvC1auVKkiZyBqyg80B/lhbJEqsm1bgvTmyy/HqzdsONC1a2fO+hOpm/FoiT4tXPgPv+k6yW9JcnAe+kqcjaanCtZet24DZw7apNqpV68uBznX9KjNtFII3ml4oWHdOjY3yLTuP7zAtaqWp/VbdtPfLMEb0r+rPuR0qQl1tqxJi7s6wDn98XuAeg/1bGdHpnGyjPwd0bVDM/amT6GDR07y7+fNRHIRp53ywwGQYZheglgnxTSZ1m0ktX5SzuWPsgnf+P44ux/PmZGj5nNki6BLsdcVqT59+zLlYs91oOSndgWNY55po+zdDB/I7rFib+KgN12uQZlMnOUj+ZIP5PvVZBpP4MhNbc6jrM+T0kvzdOJvvPGJ04lV0A94dfHFptPAJYdQQz7izNCunio9KRPHmNvTacywDwFqzsycV9pVfm9n9X2131d4mHX3ye2bszZ8jSn07x988I0KJkTsAN6u4OFnwIDuhGwlZjN78PHQiVgBfxnOv3r1ZvVBHxBf0KJFA+Vdh+QEDwXQ7SNQUcyGwE8//cIE57qSTiH7EB5OPvroMw4M/tqOhJYpU5r++9+RjN0llnxlZAnbJEVgzTju3LmLs+c8q+InMAHQzJnT1eG9e/fRhx9+ai6q1v/v/7409tWqVSNJhHr48BH8cDTfqI+V2bPncsag8XyPfsQxGGvo66+/VcefffZpu7HYVUqjGwhCxPUKZxlitUrWEoranLEJhHozZ2O6fOUqZc+axeVoDUKdLWmE+sjx00reUaViKTtZpPlkOe/KwvA3eurMOSpZzF5LfZoD2W2BjKfpBmeEypcnJ9XmFK35+PsntQ0EWJNpvfSUFJvJNPrtab3UHqM35wtaQg3QsvHsfeGseT1/6aqSf5yOieVAxXDKniWT3UQX3gDs67rmbB5oWwUj3j2J9lTr1HnOSDXyUN+yyDLhaV8x25s2TKCRVDINQmL2HOq2zEsE9r300hNqF9r//POfzIfVOjyCSAUHa9Sotssc1siEoMk0fhgRyJVUA5EFiTrHkdqOZp6IBq/Rk2PI1d2yZUNVFenW5jrxGJYtW8JoPjnjMCp7uZLSeHjZPVXd15h+9NEERabROCbHQbo5yEowGU6NGmtVGkLdb3ilQcCRPQNSDujrrbLMgNDqiX+Q6QZBob4wxCoUK2Z7nb1v30EyP+ghQHLy5D/VQyZiINC3cuVKJksK5Yu+BmIbmTNn5utaj69vSc4dvpGDNzfz24lrnLryPzR16kT+7imuuh0ZWYRTJo5mCdxwRb5BaGfOnMYP2LY3SVeuXOEg1ufVvYAKKIs6sIIFC/LbtzZqHZ5qfDfB2rZNmPgpb948ap8n/33zzQQ7Mg3vc6VKldhTfYKv7QZ+qzJMjcmTttJqmb0HbN/tJfhvLpNDTIEeU1nO9AGDBO8sf597TKiz2Ig3/o5BdEHGixUpSFmdvFFse089wseV4QEABjlikUL2MTFLV22mKTMXJpr3Yea8pXRf+6bUkYPTU9M0CdZkWi/1fmd9sSLT7uo4ayuQ9wc1ocaFgacagYkXOUARgYrI/oFPRKYwighHFpBQCuN8uZghz99mJtMg0vBEO0o8dBmQapQxE270v3f9hACo5IwHr/nNr/oxSUVSDU/i7iw+PkG6gh8Zq/zUmOFNE1nMPIggK6vMFvBGw4OoDUGTZnKh97tb4hX+o4/2UbmAzWVBRpB7W5uzYEx93NkSsgHou5FzGLmm8dm4MeE1MOqBcCPLBAzeRLOeWu1Mxf+8wQM/SDrgEV49K6LpbijmOuagWHM9X2O6c+c+o3ncx999N43TID6rNPMPc6T+Cy+8bxAnyJ/W8qtnkG5ghTgApEJ0NOxH/nQYHhx9RahxzueeG6z6BtkHUi46GqYf1+aLtJW6rfSwnDr1Z/6uy6WIDt6AbNiwia/hoywBOc9B1U/SrFm/KckPxgoC/NBDD7B0ZjKnpzxCr702mj3P7ykYsH7okI009ev3gCqr8YH3+fPPP1ablSvX4hzicWr900/HqntGl/NkuWXLVvag27zd+Jt67723qXPnTkbV48ePc+76xznGZbmxLz2uXLj7liUbZ89wZmbpxoWLsc6KGfsv351HAXLHKb8vpKWrNykyjgJ8a1ABjvlp1rAGteGJxJJiCExcsHitqlKKs3yYHwD2soPllxkLlCxkYJ+OVJ7T0t7hB4AtO/fTtD8W0R/zllF5lmyVuftwkJTzelNWE2FNpvVS73dsO1jINMYd9IRaX3wEKmbJnIliFam+SZj8BZ+UN88ugSbK6A9IsrPUeNorXTxPSKKu96kfQUV5f/ydeNpwKHljK17c5lnRjUPb7AlBRr7dZcvW6WoeLN0/wCB9HFLhYfIRkLNRo55Qr60xWcl5juCGbKI4f0nBo65125gkBSQoOQYSDk8iJqPBWPbtO8TtF6EHH+yilmgTumwQ/eQYsmt8/fUvavIW/IAjIwmIEDz0eKCrW7e6kZoPUhtIDLRHKznn87aON3ggi4lO9QbpAR7MkF7x0qUrBiF11z94WTF+YIVrjWuj98VwdD/uy5TGFFOzQ5+PvwMEpPbo0Y6mTJltdB1pI/EWBdOFt2zZSP0Ir1mzmeA5R9BinTrVDDKNe2fNmi1GXW9XgAXyoWMGTzyIQfsN2Ql02phIply5Upyhp6M6DaQx/pQPeTvWlKivJVy67Tp1atETTwwhyDFAkCHjMOuPR40aoTzZu3fv4UDPuaxXb6DuTazDKleuxJPrjNDN+Xy5fPkqw/HQt+/9dmQaJ4uMjOQUj29z1qP+Pj93IDV4hVNZwhyzbZj7CG9wZn4zdI0fejUBNx93XNeSj59//Ut9r5Tht1LI2HGR/5YQUBjNOeF//XMxIc90327OZ8I1txvF+ai/m/QnnePUpREsGex/v+1vUZfZvvugWm3eqCYhoFFbyya11fnWb95NaCO1CTX6AfK8l7/79u63vY11RqodyXT5ssXTpdRDX5uwuLgEb6EnxEhXTI9LeKsRrAgt9TWenvwGE+pbTFziWI/lKjtDSmPhikxrPfWRmHhDNw1SrTMTa1ratwGTaQQxMgFZcyCO1h+8laxumyOU0QCmVfbE8BSfNELtvlUQMOQAxkx06AeIFbyB+FgZNNTQe5vz9FqVc7YPQWUgRni9j4+jgbBgghqz59SxjLttkHH8kMNTjcAxeL7N3m9df/z4ySrftt72x9IbPNav32oQakzwgw8M18fTBxJ4gDVhhId65MjHDRieeup1I0gwpTGdOnUO1atXXb256dSphXqo0ykFQej/978v2WP5tNItt27dmPBxtDOsnfzyy5/Vj7XjMW+2MbnP8OEPqyDczp1bMclqxWkjr9llKsH9OnnyLL8+nHkzxtSsCwnI//2f7YyOhBrSHniWu3XrraQhb789xuga5B+ffPKBkW7ROODDFXOWkIED+1m2jAeAChXKG8GRloXS+M6bfD/D8IbZlUFjDUJ9ld9IuzPkikbWkNysf3/y4R520gxwAxBtZA35d+UmFYB4X7umTpuMvXKN/vhrGS3nB2sofHJwkPnghzpToQL20h78ncL0A4K5QZB2fPxpzw3tq4IpzaS6fJliypOOflmRadRJz+aZezQ9I2AxNhCzLDzTET4pb65fN2nCjH4480xDO63109pDrfuN/Y3LhtnINO9cdeAWE+qblNh/rWukrSVINcgldMvIGAKvpzkLBkaDV9kLF67gz0rLyVI8HTHONXbsN4S0f61bNzF09vCSYtINaFI1kfK0Taty8HiC/Hfu3JK9SvZp1KDLhW4d3nl/mzd4ICMM3ipggh8EyEHmgvY8yRJjHjemGx88+H6l/4VmGH+7aMPROZCSmOJ8P/44QxFXjAkPeG+++ZlBUOERfuedLznLQifW+te0I1XwDG/YsE3lbU/q2M04OFvH/fLiix/wPdtZZfjAQ5o5Gw1mz/zhh9/sZtR01law7f/ll6nqGuLvW3/Mky3t2LEzESSlSpXka/8KS39eVm8EdIHRo1+jkiUTYh/0fmdLnC+ppgk1pD6usoJUqFAuXRNqpMg7zpNWYXZDV6aJtE6p56rsyKf7K6014h3MchHUwdvD/pwOD9lFtu+OUqQak8bgu8hsuKb/LN+giCaIPKwO56Tu270tgbA7Wi0+tpwlY6s5V3U067Ub161GlcqV8EswomPf9LYjqf7oqyn03BM20qy91igLz3R6J9MYZwbWYRp/ueoV6Q2bx7powdSPIEWHUtKORduCyQJpbK/+5ppQP9AwwiDLziZuMXuwgZ9ZNw1Crb+cV+6/Rav3MZnOEE8hd27Rrt/eSUm4/dY2iBV00whaxFTf3hAVaLP79OmsxoLUgCDNMHyxIigPX5rQMSdHk60acvMfJgdBICSuIcbimJrNTXWfH04JPPDWA5IcePittPKeDgIewrCwEG7nhnHPW9X1J6bQ2+P+zJEju5pUJbWvJwg15DE4L6Yu198NVjgF+76oqI2JsnxovLCsXr0aB0L/YglTx45dWdYTpY4hld7s2TMsy5l3mjXUO3ZsVBlDzMfdrev6RYoUpiVLFjgt/v77H7GW/3t1HFk+IGNJT/bTtHnKW1yjSll6YlAPy6HhrczTL32kjj01uCdnA7GlgLUs7OHO5Wu2Kk81io955Qm76c0v8EP195Pn0J67AYjQS9/Pvy2l3eTA3rRtL81lR9BR00RfuXNlp/q1KlPLpnUoF/89B4Ih7Z/2VDv2Jz2QaU+5o3ioHa9+AG2DKBueZw5AdGbaK62ze+g6ujwINsj0sZjbZP/MrEukryWIAj4paSDp0M+mtMG7nhaCxbzBAyQ69u7ECd7giYwa/M+t+RNT/JBDP+5qJky3A/CiALzlvs517UV3Arrq448/yv3T3mmo5Qzfk+q3s+wbkyZNMcg0CiI13rRpv3Jqwl6qXkr9FxERwX9HuL6uUx+ePn06pboQEO3mymkjmeddBBtC+6wtd07fzJZctEh+3aSd7A+p7jB5yyl2vCDTVO8uragx54T35Le4VrXyhA9mW9zG3u99nMEE5Hr+4jVqlsURPGmNP9LnGQO9uwLv89AR7zvuVtvB4JnWAxdCrZEI4CUIsSbNzrqpdNOsnYZERBNq7ak+ci5O/fE6vIFy1pTsFwQEAUEg6BHo3bunkucggM38+t687ggSJngZM+YDtRv5pm0Pi7H09tvvUs2aNTlDT1nHKpbbjuTdspDDzjx5citCDVKNT7Zs1t5L7Tl3qJ5uNnUe56PHT3HAYSxpgm0eIMgpLAunyS2QP7f5UKL1bbsO0N9L1lKjetWoUd2qiY7rHdBYwyDfKMAzNGqb8vvfikwj8PDpR+9PVhBhxXIlCR/YGX5T+fNvC5S3e94/qzmYsYPa7+//IPWA5MNsWv5h3pee19OLlDZdXiOdqQMBh54a0uhpco11Tao9rS/lBAFBQBAQBKwRQE7pv/5aoD5bOE2d2a5evcqzTo4wstQg3/Tbb7+hiuANzn/+818lIVE7UuA/zL6obdGiJXrVbhkdfZrTMtrIpN2BdLQB+UZ+JrR4obB64/ZEI8N7hrV305E2a8gxDZxi0JWdY6KMjBa/zeYMOayTdmYr7mboKc9xPNrwYLSJM+3AkFbP04wcCHScPONvlpDM5/vJ/u00xta+hS0ZwMnos/pUfl8irR8INCQeSuaBdd4XTCYe6jRwtUGsddaONNDddNXFPXsO0owZ89WYkpsdJD0BInikp6spY0kqAvA0//67LSPKxx+/z3nwqxtNvP76W0a+aeSkRm5q2OrVaziV4nQlA3nzzXfYg/2WUce8ghgAnYcaBBzbjjZ//t8qeBf7y5QprTJ26DKtW7fgyYb+VpuY4KVdu9Ycm5BZH1bLV199kwOenWe1ePnl143yHTq045SjTYxteL219x07e/XqQcijre3UqWiVUlBvDxo0gIOFvdcm6/Y8XeINQptmdWkye4b/nL+cCnE6y5pVy6nqILjYj2m+EbvRskkdo1mkvhv34+9quy1njWrMHmnYPY1r0ar12+nwsVP0v09/osf6dbEjxiC8M+b+S7v2HVZvMhrUSUhxd+p0DD9E2XRole7OH6AadfMfAh0RuLh2007KliUzdevU3K7Gxq171HbpuxOb2R3044Yi1UFGos1wC6E2oxFg65i4pa9JwuGuezqAccrq64kmfHFXV45bI4D82fiI2RAQPOROCBYEPvnkc2rV6h6eRrwyTxq1h3PC/6PINMZfvHgx6tChvQHFjBl/0B9/zFbb8BQjJ7W2l18eyRM0bVZa6t9+m6nyU3ft2lkfNpalS5fiNJC2iZx+/XUGZxJqqSZ3gVYb+mjYyJGvcNrDq2odGm+kwNPWsWN7Tjv5tZpYBrrtfv0G0/PPD+eZEivS5s1bVd+XLFnK6R1zq8lpdD3zcvr0hOBJ9MdMqEHyzcfr1atrR6gvXrxodxz98QehxnjgDT7KE3ghSwZIMqbrhgzj0NGTKk0egoMf5sw3ZjkIcvufjD6n4EBqO20g6EMHdqcfp81lLfNh+uCLSZSXJzgrXrQgXedsTDgPyoOgo83qPC+CtkuXE7TaX074zU46pMuYl/17d1ABh9jXhmdYhNzkr8WraR/P7FuRZ8i9zbn1ozjv9f5Dx5Qeu16tSubqsu5nBIRQ+/kCeHp6BCi60lFrMo32oKF2nEHR0/NIOUFAEBAEBAHiyVnmMEH8TU0nDi201jUXLRrJ6TPfVQQKOEGT/OabbyvIsvDU1I75psPDw3kSpg85n3wflZ8anuwaNaqRYxo9eJQ1oX733bGcY3+savOjj95LNEmLOuDwH87z3nvv8GyuTygN9bZt23mG2EftSjVsWF89IHz33Q92+9PbBnTv/VhbXKhgXpXGDhOuQOOMWY+RYaN319a8LOLxsJFZ4z9D+tAyngp8GUs7Tp46S5u22TTTyCNdo0o55cmuXL6kXZvmMNY4TgvqzjATorbikQXptf8OVrMlgshjAhlYGKcYRd+hnS5UIK8uLssAQEAIdQBcBGddUHpo9lIje4fO4OFIqnWeah2ICK+2Yxln7ct+QUAQEAQEAWsEkBrz+vWEXMb58uVVXuMXXniOJ1/KqirZtNEjjJzTb7zxMs+AWVIdM/8Hby+OaQ8ztNbTp0+yk3UMHfqYyg4xfz5LEg4eUkQeOaVB0rWZAyKzZ0+cnQITt0yb9jN98833Smpy8uQpVRVTkffp04vzY/+Xvdhf6ebS/RJTgeNz+cpViuHZc4sUyqem8rYaeGTh/DTugxesDql9yMqBWQvxwQMW9Mu4R+D9dmbwKrtq01k9vR9EHmn9oKk+yxmfkNoYnnY8MIgFHgKSh9rP18RdHmp0z+x9xrY50FATaey3ItP4EuDET0aWD2yn9zzUwEJMEBAEBAFvEPjii9c59/s5lkdc4Onji3H+cFtaNDOp9aZ9V3UxyZHO1IHJgrQhNWT79vcpsj1//p8GsdfHHZeHDx/hNHqXeMKrUkbZDz/8hL7++jtVND3moXbEQLYFAW8RkDzU3iIYQPUnsybaPHmLmUSjmyqtHnumReYRQBdNuiIICAJpGgEEBUKWATKaGiTaDBZIdM6ciT2fy5atoOPHT7CsZKxBkM31HNdLlAiuLAuO45dtQSA1ERDJR2qibXEuDuYlk2zKooRtl06FB2INQ+YPpNMDmRYibcNI/hcEBAFBID0jMGHCjypQsFOnhIDI9DxeGZsgkJYQEELt56uVO2sInYuN97gXWh8tafQ8hkwKCgKCgCCQ5hG4cOECFStWlJ588vE0PxYZgCCQHhEQQu3nq1q6QGiSCLWfuyunFwQEAUFAEPADArly5eLMH297feZGjRoSghRhdesm5GH2umFpQBAIcgSEUPv5BqhVPIzWRdnPhOTnLsnpBQFBQBAQBNIpAo0bNyR8xAQBQcC3CAih9i2eSW4NAYb1SmdM06S6PM8AhTQ+UTw9K6LQk2q6Pup52kZZTkcUyXk6c+XKQVc4qT7qHT16QqWdSur5pbx7BN58c7jKf4p0Ua+99rH7CilUIjdPqJA/fx7VegynkTp79nwKnSntNquvFUbw6qsfq1RbaXc00nNBQBAQBNIGAkKoA+A6dakVTuevxNP+aPeJ3wOgu3ZdKM4J5l9//Rm178UX32dSe9LuuLuNVq0a0SOP9DaKvfDCexzFbsudauw0rdSqVZn69+9OBQvmM+21rSLVFKYH/+KLnznVlS3pfqJCsiNZCJQsGalmbQPG/rRmPKVwnz62WebmzFlMv/wyy5/dCchz62uFzvEkb2KCgCAgCAgCqYCAZAdPBZA9OcXAppmVp9qTsoFSBp7lJ554KNndKVasMM/k1cPj+g0a1KRnnx1sSabRCFJNVapUlkaPHs5TA3s+C5bHHZCCKYpAw4a1eMrmJ9QDU4qeyI+NB8MY/QivnFoQEAQEAb8hIB5qv0Gf+MTwVENTvelIHEWdvq281p6k1EvcUsrtefDBLlSzZmXCq/csWSKSfaLw8Ez0zDODODjGs1uwcePairzrGaI2bdpJ8+cvpRMnTlN4eEYqW7Yk9erVgfLmzU158uRiWcLT9Nxz7/CkBrHJ7qNUTF0EqlevSFWrlufZ42wBU1ZnP306hrZt26MOnTx5xqpIQO/zZIwBPQDpnCAgCAgCgoAlAp6xGcuqsjMlEICm2nHiFk/P42w2nzt37hhNYB3Tl0Lr/Nhvxm6PV+BVhnbZWxs0qBcVKVKA0J9r1264JOehoSEEIq/J9J9/LqIpU2bbdQHEeuvWXTRmzAuUI0c2ypw5glq2bEh//LHQrpxsBC4CuLfc2erVm3hK5U3uigXscU/GGLCdl44JAoKAICAIOEVACLVTaOSAFQLjx09hj7Btchkch34aBDYp1qxZPWrevJ6qAsJbrVoFKlNGz+iVQP51mxUqlFYecWyfOXOOpk+fqw/ZLS9cuExLl66lzp1bqf2lS+s27YrJRgAigJnoihb1/kEtAIdmdCkYxmgMVlYEAUFAEAgyBIRQB9kF93a4jsF+SQ1Sg1f64Yd7qW7s3n2AfvvtL0WoXfWrcOECxuGtW/cQMk04s4sXLxuHIiLCjXVPVzDdcJMmtZngl1DSERD4/fsPE/p65kyMy2bwoNG0aV0qVaoYS09ysef9OkVHn6NVqzbSkSMnLOtCOoMHDNipU2do7dot6gGlcuVyVLlyWZXFBHUXLVppF2iJc1SpUo6gY7969Rrt3Lmfli9fb5nRAbrdAgXyqnOgLxgHgjpbtGjAbwkKqvrbt++lHTv20YULl1Q5b/7DA1C9etVVNo6wsDA6d+48928frVu3ja+dfVAjHqYwFrxRAPYwYNe9ezujCzNn/q3eZGBHiRKRVKNGJXUM1wRBqFYGXPHQhvHlzJmdcF8cO3aKli1by2NMuEfMdc04LV26RpXDWPApWDCvupYHDhzhc0YlKZtMUseo+wQCXqtWFapevYKSMmH/2bMxtHnzTn4bs8fARJdPyvKee+ozLjlUFYxpx469iaon5TrqyniYxZskXGcEjWK9bt1q6rrhOuBe3r//kMrKo+tYLZHJBedHLERkZCF1j2Lsq1Ztcvq3ZNWO7BMEBAFBILUQEEKdWkjLeZRe+umnByoP9+XLV+jzzydaEkBHqP75ZxUtXrxa7TbLVxzLYRvkRduhQ8f0qkfL0qWL0ciRQylbtix25du0aUJxcbfp22+nMiFbZ3dMbyCN38iRj7N0JbPeZSy7dGnNMoXNNH78ZLpxwz6tIMhjnz73qrIbN25XxO+FF4aQ+WGgTp2qdO+9LVV9tAP5S6dOLYz2sQJSjn2jR3/G5OO63TGQJ2h3YYcPH6f69WtQ376dDQkN9jdvXh8LmjVrEU2bNidZZC0sLJR1648y4bWdSzV497/WrRsTNM/on1nXjrG1bdvUXFSRx169Ohr7Zs1ayATN9uYCbzI0Xr/+Os+SULdr14z69evGQaqJY67vv78joR7G6WhmnPbtO8gPfvcrMuhYbt++QzR27DcUG3vV8ZDldlLHiEayZcvKKe+Gsde+UKI2MT4Q048/nkCnT59LdNzdjm7d2hFwgOFvZOHC5XZVknMddQNoFw9RuM83bdqh4iSsZC4LF66gH374zfI+Q7zEY4/1tdTSd+nShlau3EhffTXJo+8O3S9ZCgKCgCCQ0gg4JdQ1n9yV0udO9fZnv27TaKbHsQFMq/GptFnQUPNKCKfQwidj6B2KCLtN7hWrvr1ESHcHjxNIMX4QHb3dzs6G8u6INOpWrFiGvbrljGbgefPU4BEbMeIxg0yDqIBswNMJDypIxtChDyrvMTxvZoP397//fdQg0yCMW7fuVhpxLTtp2LAmt5WD3nrrc6djgScOZBqzmCH9YPbsWZWHGudCoN7jjz/IEzLUptq1q9L16zeURxv9zprV9gAA4gIS+MUXE83ds1tHmkJ4DJHDeffuKEV84OXWuniQ/8uXY2nu3CV29TzZeOSRPgaZhqd7y5bd7KW/xp708jxlcmEqXDi/wumdd75gDb9tMiMQ/HXrtioCWalSGXWa2NgrtGvXAeOUuH09NZDXAQO68+1uyxcHbT08omg7f/68KhMM0u6Fh4c7lQ7hXMARmNy6FadwRt9BFGHlypXkoNdn6OWXx3rkqU7qGBGoO2LEowaZRrwD3iAgiw2wxL2IvyPkmx416oMkvVVo27aJQaZPnjxN7733daIHsORcRwWM6T/09fnnh6g3I3iDgr913N/a8JCK+xwPmWbD/f3UU/3VLrxVwFsT/B1jvHgzkStXdvU3gPZSOmVi59cO0PW4ULp1OwMhOFwFiN/9Lk3KPWken6wLAoJA2kNAcyt3PXdKqN1VlOOCQFIQwOt0eClhs2f/w2TLtw9seDX+zDMDFdnAOQ4ePKo8ZFh3Z8hWgh9/vJJGwOakSbPor7/+NaqBTMFzDfLao0d7+vvv5QYhhEcaJFjryCdN+oPmzfvXIM358uVW5AueaLzCbt++Gbe91GjbvAIZBkjoV1/9zKT2ijrUqFEtGjLkAUWoQbRApuFdhZcVr9VBHHv3vpdAhGEo/9130xThVjsc/gOZRoaUzz770ZiEB23AY6215z17dqB//13LE+Z45oHFKbp2bWPo4uFB/PLLnw0McPy++1qrc8CTj7zjeKCC4c0DPiD1Op85PNmffPK9Op6U//DgM2xYf4UJ3iiAuJslIcgggrcIkCEAr/Xrt6n7xOoceEiaOHEmLViwTN0TuM5I2zhoUA9FrEG28bC0Z0+UVXW7fUkd49ChDynSjkYgAQJW+gEE0pgnn+zH90EVdc9BPgVPtScGsjpwYE9VFBPi/O9/X9m9LcCB5F5Hx/OD9ON+BWHHwyUMfz/t2zenjh3vUdvoz4QJ09TbH7WD/8P9C8P9j7z25rcZ+Pv86KOX1dsbSKtSmlCrjsh/goAgIAh4iEDid6IeVpRigoCnCIAoPvpob1Ucr8udBRV62p65HDzIw4YNUB49eHFh8HCCkMG76Ik1bVrP8NCCSJrJNOqD4H3//a+qKUgx4AXVVrNmJfa8FlCbmzfvUp5dszcdxEXXRSFHeYNuB0uQeRBRTaaxD5pRED9t6MvUqbMNLTLOhW2tCwY5tpIJ6PrQdX/++U8GmcZ+tDF58p/KI49tjNFKtoFjVoZz4lU8LDr6LH3zzRQ7Mo39yMwCnTcMkhOdsUXt8NF/rVs3MnTYuMfMZBqngJdXP8zg/CjvzJYsWaPuA1wTGLysixevYoK93KhSsWJpY91XK7if8TYDBi/st99OM8g09uH6TZgwXS2xjXsRaSLdGby7eMOCawXP75gxX6m3FOZ6vr6OeCDRZBrngXb/559nGvppEG79Bkf3o2LFsmoVemkzmcZO9BsyMcRdQDKiNfe6riwFAUFAEPAnAkKo/Yl+EJwbnqqnnx6ggs6gOf2///uRyaDzoEJPIcGPKbzFH374kuHVQl14DF955aMkTUkNr622OXP+0at2SxAD6GbHjv1WBbfpg/CKaoPn2sqgJQURhhUqlN/u1be5PHSxeBhwtAMHDhu7ENxnZeYyOIczQ+Ai5CJWZu4/Jsjx1BBoqjXfCJbT3lTH+rrvePDREhPHMt5s62uBBwTzWMxtmuU6deokXHdzGaybiaD5mFlG5EgGzeWSu16qVFGj6ooVGyzfEoBo40ELBhJcp04Vo47VCrz/w4cPUpIRPBi8++44JWNxLOvr6+gMQ7w90oa4BbNdvGgLisW1xMOnfkjWZfC3NGPGfPWBFEZMEBAEBIFAQSDMWUc2f2mLpHd2PC3u13ma0+PYcD2cjc/sMcW6kYf6sZS/ig880EVpkHHeceN+4YwPF7w+KbynCFqCN08byPrMmQt4shfbK3q935MliAQMMoFTp85aVkH/IZVwNE3isP/EiWjHw8Y2MnhAOgKDnMBqenVnHnXz9bt1y6Y9Nhq+u2Im4niIcWaupoZHFgxteL3uqZkxgLQFsgErM3vOS5YsmuRp6q3a1Psw5qJFbVEBMTEXEwV/6nLQdiNgDhlZINPBg4DVA4YznOEh1gYNsK/NjCX0384M95O2AgXy6dVEy+LFI1nO9JjhzcX97eweMJ/bF9cxORgimw0CSmGDBvVkOVMnzmqyS73d2LVrv+WDQKJB+2jH7NFlFG54m4EHF23mdb1PloKAIJB+EdDcyt0InRJqdxXluCDgDgEQqA4dmqtieF2L9F/4OBp0xtqQgUCTQ0gdEJSkDT9k/fp1VTpM/aMGEjpv3hIlKXDMbqHruVvmyGEjj+fPX0gkVXBXt2TJSFUEXnfIO5wZ0u9py5kzaXm7dT1fLOHddGbnzyekzMuaNbOzYon2m72q0Pbi487M5NpdWU+Og0zrBwnITlwZAk515gk8OFgRalf1U/IYHjS0uRqHObsHHgycGfT95swz8AgjINDKgx8I1xGSHLzhQFYbSMXQd2it8YFFRR3hv/V/lLbc2ZhlvyAgCAgC/kBACLU/UA+Sc2oZAIabK1cOQrovd6Z/OFEOBNVMqJFKrUMHW0ATjoNwQ5PpLj80yroyeNJCQ8NV5gdX5ayOaWKPFG3wepo9mObySIOmTeud9XZqLs1efcfzmkk0Zq/01EJDE75GcE0ctctW7Zhf+1sdT+o+fR1QD0GmrkynRYTnHw96gWQmR6jLcdjfTwkPQo5jAdnGPYkJmR5//AHlkUcQKzKrOOYcD4TriGsCLzUCOevXr8568loqmFc/NEBm85//DOLA4T+SlYnGER/ZFgQEAUHAVwgk/BL6qkVpRxBIAQSQR9ksJUBaN0T5m+UQyT0tiAV0x/jRRqCUM+mFVfsgZPrBAW04I4pa7oE2nJWxat/X+zDRiTPDa35t5sBIvc/ZEp59bXi4MeuU9f6kLM3k2NN6ZnLoSkOOa6UfKqBr95d32tkYzQ9brsahZUrA5+DBY05hgs74gw++UbEFuL6QU+CBA6kFkenFbL6+jua2k7oOWRpyruMDQ+AvJiKCdx3XEA8F0JgH2gNRUscp5QUBQSD9IOCUUPcbZ3s1/H/9PddSphVYzl/xPigukMfqOD470skeoPg78XTrZspjgACuAQP+6xaqUaOeVHmCURCpsrQWOV4lfrVVR5osTUIwQx48VL4yzISoyQvS0q1ZY/sRN7ePH/EBA3pwH0h59zZu3KEOY4x4NQ1DrmMrsozX1prIQnLhTxKA2RWhCdXZK1TH7/6nJ3/BptU4zGXN68BPm1myoPfpZQHWjuvjyPFtli3oMsldglAjtzYyXuBa4TxWE/sgh7S2pIxR10npJe6nli0bqtMgMBQPjlaG9IPaXI3jo48mGKn9EF+AvyNggxSANWqstUtf6e/riLR6xYoVUcPCxDrmhzrkzEYmGujfkdYRD764luYMOBoPXy0vXo2njHHxKne/+sO/27D+HvLVeaQdQUAQSB8ISJaP9HEdA3IUIPLQFrv7cOI2o/8g0bq8+UHATCA2bNhulPfFysqVG4xmkJ8YP9aOBpKDmfQwo6BZK42cy9qQdUR7P/U+LBFcBTkIbM+eg2rpr/+gHe7cuWWi04PMtGyZkEYO01ub7eZNWwpCTNihHyD0caTDw/TiMDxUNGlSRx8ylsjWgIlz8LoeuaJxjc1mfivgmNnBXM7ZOu4V7c1EmUceuT9Raj5khsG10OaJNEWX9cXSkzFCioHgWJgzPTruRWTugOHhzNWDic6sgrJ4iEKOcv139fDDPY1gRRz3xXVEO8k1TJzz3HODefKfR3jymU6WzSCdnjY8QIkJAoKAIBAoCCRmDoHSM+lHECHAbl8XBoJlJnFVq1YwPL4uqqk8tphG251hMhV8kD0E3rtXXhnGk3r8rqbpzp49mwqIwsQnMKS2w0cb0nhB84lJazDpBiYOgf4T04jD642cwppggoj/9NMMXdUvS3j94OHDuFav3qQeDipXLqu87/pBAqn1HEka5ABZsthmuuvevZ2S2+g8wSBoyPv90ktPKgwefbQPTx+eS2GKMYNk43W9TpW3YsVGg4BrEOCBRDvw/gE3eMv1PmTtsPKo67p6ifzEmC0TgXfQ2mK2QYwFM0IiZzQeGPSbCGRswZT2qWl6PK7GiIDcr7/+RU3egnLIZoP7CxO8hPA0p3XrVjcmRgHxhmxDE2RPxhIVdVQFJCKeATNH9ujRjqZMma2q+uI6etIHZ2WAD3KFV6tWQXnpof2GfAj3GWYNLVeuFN+7tinTIY1xJXVxdg7ZLwgIAoJASiEghDqlkJV2fYaA4yQgnk46Es3ZHjwh1OgoSAwyIoBQwxuOaZ1B4sznxg/+p5/+kGhcmLgFAX0IoIIHGPpUfMyGDCTvvz/er3IP9Ad4gBB36tRCfcx9xPrx49GWchrkPUZQKKxZs3pKOoBJaLSHHkQN43vxxaHKG4/pvfFxNASZYiIaR4OWWZMpPEDhwUTbU0+9niiATh8zL9HG++9/rWamhMYYk5ng42iQgmByG09IumNdb7Y9HSMwxXTy8KZD14/rhY+jYdpuyJ+SalOnzqF69aqrtym4D6BF1qn0vL2OSe2LY3nERQwf/rB6gMbMnfggd7Y5Uwk8/ZMn+yZ+wvH8si0ICAKCQHIREMlHcpGTeukKAbw6f+ONT+n33xcY5E2Taehz4el87bVPLPPgwrP35ZeT1JTg2murwcExTLOOmemsck/rcqm1hLd39Oj/S5RTG6nKMBPg6NGfJZqhDn3DdOdIaQYNK8xKRwoJBcYJb7/Za4p1PNwgIwuOmwMIVWN3/4OXG+QO3nFdHyQ0KcQXHnicA9fLLLHAKfQYEaSHdv1hno4Rae2+/nqy5T2DNyR4IABWyTGM/ccfbW9KIOHBVP+X3SMAAEAASURBVPDm6+ntdUxOn3QdjO3FFz9QU77rvyVNpnHvoW+vv/6Jur66jiwFAUFAEAgEBDIwkTAErPjhir1h0za++LvtNXx6Ckq8EmtLL5U1W45AwN7nfXA2Pk1O1AmZ3NiCEm/SiP+86vM+pIcGQaSRGxt6aGg2kzIZDdLn5cuXR9XFK2tkvYCHzZ8Gb68OOASZ1PpoeD8hgQDBAuHVZNlVX0G8IOfA0lW6QpAg6LKhHYf301k6QWfngt45LCyE690wyLWzss72o40CBfIoeQtm4IP8xNksjs7aSMn9no4RgZbAHH/HGIOzB5KU6Ku319HbPul7FGPG/Wb3XeZt427qj/30LcrI91BIBvY78f2uzfzwoffJUhAQBNIvAppbFS2Yy+UgRfLhEh45GIwI4MESXlJHHbEnWCDYDuQUn0A3eAC1F9DTvmpS5648HiIOHz7urpjT40j35u3M0mjDPPuj05P56YCnY0Twnb8C8Ly9jt5Cm5x71NtzSn1BQBAQBJKDgEg+koOa1BEEBAFBQBAQBAQBQUAQEATuIiCEWm4FQUAQEAQEAUFAEBAEBAFBwAsERPLhBXhSVRBICwggeE1P2hEdfSYtdFn6KAgIAoKAICAIpCkEhFCnqcslnRUEko4AMl6ICQKCgCAgCAgCgkDKISCSj5TDVloWBAQBQUAQEAQEAUFAEAgCBIRQB8FFliEKAoKAICAICAKCgCAgCKQcAkKoUw5baVkQEAQEAUFAEBAEBAFBIAgQEEIdBBdZhigICAKCgCAgCAgCgoAgkHIICKFOOWylZUFAEBAEBAFBQBAQBASBIEBACHUQXGQZoiAgCAgCgoAgIAgIAoJAyiEghDrlsJWWBQFBQBAQBAQBQUAQEASCAAEh1OnwIt+5cycdjkqGJAgIAoKAICAICAKCQGAiIIQ6MK+LV72Kj4/3qr5UFgQEAUFAEBAEBAFBQBDwHAEh1J5jlWZKxsffTjN9lY4KAoKAICAICAKCgCCQ1hEQQp3Wr6BF/2/HxVnslV2CgCAgCAgCgoAgIAgIAimBgBDqlEDVz23evh1HIvvw80WQ0wsCgoAgIAgIAoJA0CAQFjQjDbKB3rp1k8LDI4Js1DJcQUAQEARSFoGr167T3v0HPTpJpfJl+Hs4k2XZK1eu0pFjJ+nY8ZMUERFBRYsUpCL8Cc9kXd6yEdkpCAgCAYOAEOqAuRS+7UgcE+qwsIwUGhrq24alNUFAEBAEghiBEyejaepvczxCYMQzjyYi1Jdjr9BPk39nIn0qURshISHUrXNbqle7WqJjskMQEAQCGwEh1IF9fZLVu4wZMxE81DdvXKfMWbImqw2pJAgIAoKAIJAYgVj2LMPy5M5JFdkD7cqyZMlsd/jCxUv07Y/T6FzMBcqcOYJq16hC+fLmpmvXr9PuvVF05OgJmjFrPl28dJnatGhsV1c2BAFBILAREEId2NcnWb3LxFKP27dvs476Nt24fo2wLSYICAKCgCDgPQKQasBKFi9K93VslaQGf/tjviLTBQvko8cG9qasWbMY9Vs2a0hz5i+h5avW05Jla6h5k3qUKWNG47isCAL+RmDhkpW0aPFKat2ycbIf+HzRhr9xcHZ+CUp0hkwa3x8ekZkyZMhAcXG3FKlO48OR7gsCgoAgEBAIaA+1o/fZXeducfalQ0eOqWI9u7a3I9O6boc2zZRMDw6Rg4eO6t2yFAQCAgGQaRiWIMZJNU2mdRtJrR/o5cVDHehXKJn9gxYvY6ZwunXzhiLV8Vfjlac6lPeLCQKCgCAgCCQPAU2os2a1l3O4a+3EiWjKljUrByCGU7HIwpbFEfOShaUg0FlHnz5HFcqVtit39tx5OsqBjCejT9PNm7coN8tOqlWuoOQndgVlQxBIAQTgmTaTapzCU2mSmUyjHtpKbyaEOr1dUdN4oKUODQ2j69eu2uQf165QKL9CxD4xQUAQEAQEgaQjcPWu5CNrFptcA57nc0x0Y69coyKFCyhCbNVqieKRNPLZIVaHjH2nz5xTZBo7ChcqYOzHypr1W2jW3EWJUqIuWLiM2rRqQpCMiAkCKYmAJs9JJdVWZFq3lZL9Te22hVmlNuKpfD54qhGYiABFZP6Iu3VLea3j4++kck/kdIKAICAIpH0ELl+1aahDQjIogrtm3WaKv2P7Ps3Aw8uXLw/Vr1Odmjaqm6TBxrHMAxpqWEZ2fBSNLKTW8V8Uyz9mzv6bMzeFUa9uHah0yWJ0h7/Dd+7ZT7P/WkwLFi2n0iWKEUi7mCCQkghoIuwpqQ4WMg3MhVCn5J0XQG0jMDFMZf+4zoT6JsXz5C9igoAgIAgIAklD4EqsjVD//ucC/h6NpxIliqpMHZcvX6HDR4/TmbMxihgjk0eXTq1VLIu7MyCrx68z/6L9UYdV0R73taPMLA3RtmffQbXaoG4NqlW9st5NjRvUJshAtu7Yo3JaC6E2oJGVFEQApBoa/6iDNp2/JteabOtTO5Lp0qWKeSwR0W2kpaUQ6rR0tbzsK7zV4Zkys5cjkwQqeomlVBcEBIHgRCBrtiwUc/4i5cyRnQY80J2QsUMbPNW/z1pA6zdto9Xsuc7KafPatGyiDyda3o6Pp1VrNtLfi1coTXRoaAh1aNOcalavZFf2Gk8mA7t67ZrdfmyAtOMjJgikJgKPDepD3/ww1Y5U480JPjArMo066dmEUKfnq+tkbMj+ITpqJ+DIbkFAEBAEXCDw5CMPKUKNGRBBmM0Wwt+tPTiDB4IK9+yLUqS6NXvz8J3raJht8c95/ygPM44VKVyQenRpR5G8dLSqlcvRuo1badOWnUqvXadWNSpbuoQEIzoCJdupioAjqf7m+6n02MM20qy91ugQPNPpnUxjnEKogYKYICAICAKCgCDgIQKY1MWZgTpXqVROEeorV6/Rpcuxyputy0MrPW/Bv7SSPdMweLrbc7q8mizlSEy7bbXKly1FD/XpSv/8u0pJOzBluaqbMzvVrFZJST9yZM9mKyz/CwKpiIAVqTafPljINMYshNp85WXdJQI5+cu7MEexJ9eioo7ya82bKm1U8eJFVDPXr9+gI0dOJLdJqecBArlyZaf8+fOq/LYofurUGbpw4ZKqWYo9Bxkz2r4GDrIe7tYt0da7grRYscI0dOiDqsjhwydo/PjJroqnm2Ply5ciSMZge/ceTJRpwmqgwEpPXIK/8atMLt1Z2bIlVOAdUsxduhTrsri5T6c5xVwMa5YDxQoXzG90xfFvCjMhwtMMa9a4LmtKm1CmTO4ncKnKJB0f6Kzh/Y46dIxOnjpN/y5fq9p7fPAD4rE2UJeV1EQApHrU62MtTxkMnmk9cCHUGglZukWgZs3KNGRIX7flnBUYOfI9OnbsFBUtWohef/0ZVQwk+9VXP3JWRfZ7gUCePLnoySf7UaVK9tMjT5gwnRYtsiXlf/bZhykvT30MGz78LTpzJsaLM6b/qnjNX7JkUTVQ5AEOFnv++SGUJYttxtWpU2fTrFmL3A79oYe6UrVqFVS5MWO+ou3b97qsg/vwjTf+o+QRzz77tktCbf4OQaPr12+jjz+e4LJ9XxzE9ODLeCbDOjWr8Keq0yZjztvIfTaeCRFTi2vbuHmHQaYxyyKCCpNqkHrgA0PgI4IjDxw8QouXraaeXdontTkpLwj4BAFIPSD5MJuWf5j3ped1IdTp+erK2PyGQJ8+91Lp0sVp5coN9O+/a/3Sj8GDe9mR6ZMnT/MkP7fpCufLDTSLjCxIAwb0UN16772vPfKAWo2hYcNa1LJlQ/XgNnHi71ZFZJ+XCPTs2ZE2b97l8zdL9etXV2Qab0rgcXZlTZrYp6TDwz684XpacFd1vTl24eJFOnQY/TtLkGFkz5bVsrl1G7ep/aXuBmjpQtt22h4qIosU9JhMI9DxT84/jQDGzh1a2k1Hnpcfmps3qa8INXJYiwkC/kIAwYgg0IvuzqCI2AEdoOivPqX2eYVQpzbiafh8+KGbPn2u5Qh69OjAkgLbK+EZM+YTps51NP0KF69+t23bow6D5KVHa9SolpJZ7N9vS4OV2mPEtahuyhTw8stj6dCh44m6sWvXAYKUB+ZPjysePqpWLa/6YRG/pfZ78l/16hVVO568QvekPSmTGIGwsFB64omH1JslPKD5yho0qKmaWrNmi8smEeDXpInNs4t7FtcafWrYsKbx5sVlAx4enDR9Fl27dpOKFS1iZNFoULcmbdi8k46fOEWfj59ID97fhUoUs8nX0OxNzvP/199LlSwD/TSnuMPxo8dt2udyZUpi0yNDoCOkcZu37eJJYzJzFpBmdvW23yXpxbmfYoKAPxFQWT7SeSYPV/gKoXaFjhyzQwA6SGd6527d2hmEevbsf+jGjZt2dc0bJ06cpnffHWfela7WMbUwJnfwp+XKlcO4HufOXbAk0+jfV19N8mc3jXNDb+sL81U7vuhLem4DMRB4iJ42bY5Phpk3by6Cfhq2dq1rQl2xYmlDpvTHHwvp3ntbsBwlM5PsOj4l1DExF9Xshzk4aFAbSHJ/Dg6c/sc8OhB1hMZ99wvlzpWT4HG+fuMGwUGAQEQ80Pbu3okqVUiQW8HTrD3oS1eso+WrNuhmLZeQlXTr3FYda8pa692sm/53+Ro6dOQYlSlVXL3FOXz0BB0+fEw9VCA4UUwQEAT8h4AQav9hL2dOpwhA32mVJis1h2s+v85hm5rnT+q5ihb1nlBjzEWLJk45ltS+SHnXCOB+ypw5gu67rxVt3LidfPEWpl69Gupv5hAH2kVHn3XZgaZNbXKPO0xQly1bx2+CclOLFg0JQYr58+dJ8TgAvNF5ZEBvWstTga/dsIWiWZ5yfudF1edsnKO6csWy1LBeTXLlhY5n+QY+ruw2TxqjDan0hj8xiGbO+Zu930fo8BHb2yZ45ovx304P1k4X4MBjMUFAEPAfAkKo/Yd90J4ZPzqtWjVW4z/Ls4qtXGlLH6UB6dy5lcooEBcXR3PnLmHvSyaqUKEUValSjglTYfWDu2LFekJAozb8kFatWoEqVy6rvEP4YV64cAVnFrBNiKDLOS7h2WrWrB7PdhZJefLkpFieBQ1eJvxQu9NxOrbVsmUjyp49K7eV8Oq1QoXS1L17O1UUnuKlSxPrqXNzCq7mzetREfZy4cf64sXLSgO8bNlazsZx2fE0Trfx6rtDh3vU8axZE/Lj5siRjbp0aWPUW7Vqo0E67rmngSH5mDdviV2WD+iRCxSw/Uj/889KhQ3GU7duNRVYunjx6kTeROhYEQQJPHUmF1zj7dv3se52J4EEaStSpAC3VV1tli5dTO+mrl3bGuWWL19v9NUo4LCCwDdkKwHJw70Cg8dT447tmTP/NtrENgwEvFatKiyNqWB4PNFX9HPr1j2Jyttquf8ffWjXrqmRFQMeV2RWcTRgWa9edUUCMaX0OZ7xbufOfbRu3TZLyRTq678NSKrmzFmszoHrAbxx7+AN0v79h+z+NhzP6+02tOlDhjygzo2MJy+9NNZruRDkGrA1aza77B4y0tSvbyuLbCPAbOXKTYpQ43rCS41r7Qt7+vH+lJGvZUgGm5TN3CbS22HWQnygbYZ+OYLL4m/ZmUG6MeaNEc4Ou92P6zvwwR5qmnNkNAEhR8Cjzr7itgEpIAgIAimKgBDqFIVXGrdCAKQTQXuwHTv2JSLU99/fUaXOgicMQX0vvzyMyaZ9ur727ZvR/PnLCD/u9evXoKee6q90lPp80GPee29LQoCbmXjr41gikOnppweoNH7m/VgHGZs06Q+aN+9fx0NOtzt0aK6IprkAyKXOsgEC4Eio27VrRv36dTPkGea6wOHXX+d5lFEB9UDkNK7mdkCozfuhhdfZPIAjyBgMpNmc4uuee+oz2ayojq1bt4U6dWrJxDxhKuV9+w7ZEWoQ6P/+91GWu+RWdcz/geiD7L333jjjIQEPR+Z+6fI9e3bQq4Rz6L4aOx1W6tSpSm3bNrXbi4wRvXp1NPbNmrWQSWoCmc/GwWSvvjos0fVCBVwT9BVZI5L6UBUaGsrZUgZRjRq21+9LlqxO5HGFV/G55x7lMjZsjU7ySuvWjfmB7gyNHv2ZZZYL/bcBSdWmTTvomWcGkZXMBQ+TP/zwm91DQcWKZWjkyCHG6d566wv+2zhibHu6snbtVn64La/IK9Jo9u3bmX76KfkBoMhGo+Ue7vTTeADS2UbwYAjbtWu/uqeQHhLBir4i1J7iEcrpBM1p8jytl9xyIObmzCHJbUfqCQKCgG8REELtWzylNR8iAK/dK68MU7mvQWzwCrRQoXzKswhvFAgsvMrw8sFbc/ToSaWlhHcSBtIEog0PGgiI2UD+NJlGXRC33bujFMGClxveTqT9Onv2PHsMt5qrOl1HWjB4t0EyIPuAYRupAmHQjpsNRHDAgO6GPATH4V0EAdd5o/v06Uzh4eFOg0HN7cGjj/RhMHirNRlG4NbWrbuNojo41NjhwQoIYteuCV5uxyoFC+ZTKc+QVg65xnfs2E979kQRyDyIY2RkIeWxBuF+7bVPFNE7z9M3a2zhZcU1hWEM2pPtSV8PHz6u2sH11g8vsTxTHQIutZkc4yrv9ogRjxrXCP3FtQMZBlEE4cX98eabw2nUqA+MnN26LWdL9B/BeppMw9v63XfTjbHoeo880scg08gHvmXLbg5+u6bODXJcuHB+9WDyzjtfOPX8oq9IZYc3CAjyBZbAWFubNk14nBnt8mSjf9qDj3IhITa8dZ2kLEHW8XcCjyweQHDNdu7cn5QmjLL4+0XfPJF7NGtmk3vgu0CTb/z9rlmzidq3b64evPG2w9lDtHFSWREEBAFBwMcICKH2MaDSnO8QwOtdvM4EIQZpgsGb+uyzg9VrcmzDO71lyy4aN+4Xw6MHcjZs2ABFnAoVyq9++Ddtsk2kgDrwZI0Y8ZjyTINMvfnmZ3ZBeyCBb7/9nJIBII/za699rMg66roynaYNxLN3b5sHHt48q8AtSBSGDeuviAQyJYA8wYOtDRkvRo58XI0fXmEQFniWXRkyAehcvPASf/rpa6o4yKXe76q+q2M9erRX54fHHg8IeEAxZwWpXbsKE3+b3OKDD76xI1e//DJLkW14IZHNA28bjh+PVg8xn3zyvTrtT//P3nkARlF8f/wROqH3Tui9C4iionQEaYqgYsPeFetP/atYQKwIglSVIlhAEJSugjTpSO+dhB5K6OU/3zlms3e5vVySu8slfJ8e22ZnZj93ufvu2zdvRn2qBS02vvrqe8eQB299ROgJXoihNfnN4eU1dXue88QT90rFilF6N8IxMDDTXAtupPCe43rwOXjooTv9Zvfgg10E2V1gEMmDBo1JECeLzwbCe2AIdUIZc/OAfe3bN9MeX7Dq2bOr46BRiH78feAJjLlZQtgTRGWbNregKrnhhnoycuRPOlWi3hHAfyDihw4drz+jEMOPP36PvP56P3Vj4DvEylsXGjWqrXcnNhgRN0zmZgU3QPabLbDEtcPgpaag1ij4DwmQQAgJJAwOC2HjbIoEEiMAMWbENMpiHSP7jUGMDBv2o9uPK8QnXsY8B7w1adJAx9ji+KhRk9zENPbhh3rQIFf2iyzK0wtxFWhr1qyx5S1EKkK7mEZbEAzTp8/TzeKmAuVT0+Cp7917oCxYsFy/B4gJts9MV7VqBd09vB/wNNoN+4YP/1EmTJiuX/ZjoV6HR9XE68KrO3z4T5aYRl8gCDHxjRGGeIqAkITE7K672gq8wjB45iHmPVPKQXiaWPYDBw6rz+14NzGNc6dMmWPdjOBm0Vd87OjRkywxjXMRGjNmzCRLTEJw4wbG2PHjJ3TIEcKO8LILUlMmKUsIeTNBEG7gevTomJTTdVm8H7gRghmPs97w8g/eN3jmYSbcwxTDwMhDV/Mw46bGFzdzDpckQAIkEEgCFNSBpMm6Ak4AMdaetm3bLmsXPJEQRp5mzzyAR+h2g3fY2PLl8cLb7MNyy5YdShBd1LvMzHj24yldN32A2Jw1a77X6jDozFj9+jXNaqos581bqoSne9iMvSNmKnOIxvvu66S9u/bjCMdBfnK84J1OLStbtqTVNG4OTBoza6dawedp0aKVeheup3593zdU8Ah37OhKb4abiU8/HeaVFTzzSKkIw6BH4xXXO2z/YGAiDDdzmPDGyYxn2vO4/UmGfbAnQoqGDBlnvZIaH+7ZDrYxzgA3BzAMcEWMc1LMTOaCmHVvAzftdZnsHuBmQoXsx817hsF7NWtWsh/iOgmQAAkEnUCmoLfABkggBQQuqIkSPA0i1Ji34ziGMAdjxqtlto2ogkDErHpOdubMOZW1I5PKIBEvwpzKOu1XeiyB4XG98Zoj161nfLc5ASIVxxBKgfADiDGEdaSGRUf7FsFz5/6rMi000h5EDGZs0qS+9rIjrhYvCE3Euvpj3pj5c54/ZcyNDMp6xrTbz7eLu8KFC9oPua3ffHNDHWtvdiJu2ymzjL1txPk7xaSb+HvUiZs53Ix4M6fPvvGu4xzEUQfT8PmESMcAT9x8PPLI3SoM5GO3vz9f7cdP5rLKVzFBjL4J00GIF67dTCRlTkTMunkCgKdQCLuhkQAJkECoCFBQh4o02wkLAkiThx9nGAZomVhnX53DAEGU9eWh9XW+5zGIaYhqmPHueZYx2/AimiwO8LyllqC+fDn+Jsb0zb7ctm23iucdqib7aCnIJoGbGMS7mphXpDdD5gl43e35de11hGLd/rTBF3u79xY3M94MaQ4fffRuazAlymCAHsIp4HH1NPuNGcKI/Aklsotrz/rCZRshLnhfkdIP4xMQdz5gwPeJds893MO3oEY6PGMYxDhq1Gdm0+sSoTqpeQPqtVPcSQIkkK4JUFCn67eXF+dJwAhZ7Id3DXG9/tjly5f8KeZXGXjyjJkUYGbbc4mc3TB45ZGfOpxt3brNKrvHZp0CDZ5/CGsMCoUhjR0ylsDL+PnnIxPEDofqumzorfRr3trGADhjJpzFbJuleW/gQUYKx0ce6aq9phhM+O67/RNcY8aM8V+3iPH3jJs39dqX9vAN+/5wW0d6R6ShxA0AYp2XLUs8M47J7oGbD4Ru+TK7oPZVzhzDUx0MTkYecxoJkAAJhIJA/Dd8KFpjGySQygROnozTg8UgrPGj+9dfixwf0Qemq/Hi2dRnF2hGcJpj9iU8bPDiwSA4Uss7be+TP+uIXzcx7PBYYiIO5ATHwLV69Wpoz+zy5Wsdq7LfcDgWSuSAUx32iXJ8sbfnPd+xY69ja3hf+vYdrPMg16tXTV8fMnQ0b36Dio1f4HbesWOx1jYGENpj5K0DaXQF+cuRLaV37xf004kHH7zT69gG++WZ7B6JDUYET/Ne4abSPobCXh/Ws2XLprP6YB0x1xTUIEEjARIIBQEK6lBQZhthQwCeXvwgY5Y6WJkyJfXEEN46iAFWyJQAsYBJNAJlENTIkIHsERDNCEPwzIyBtkzMKNbD2VOJa6hWrSK6qfNuI/e2MQjYmTP/0SEQiLOFoawvQW3ODcYSoSkmbh6ZSTATpzeDiDPmxB7i7qOPBlkT1bhyM1fU72nXru3UwLk1bjmszU0G6rWHnph2zBK5pc1xfC7s4SemTDgu0VdMqoKJeeC9Nx58b33Nmze39TeY2OyIdu803q+pU//0VqXeh7jqgQPf02MOMLMq2rHfwDqeyAMkQAIkkEICzPKRQoA8Pe0RsM9WiIlV7JNdmKtBrmBM/vH88w+qzAXVzG6/lvbZBpGpwdMg6hcvjo8Z7dnzrgRpvtAn5DU25k94gCkb6iWyLqCvvXr1VDnCH3KLKTZ9wZTexuzp9sw+O7PkDqSz1+GNO9pCdgiTzs4pjhmC26Ryg2h2ErSIwbZfC6aWNyFECOXp0aOTuTy9xOBMxJLDMAGNXSjqneof9Bs50vG5Q57yQMabY+IXTHRkXmYsgWk7EMvJk2dZaft81WfCPRAuY78B8zwHArlx43p6N/5ukG/al4HX4sWuDC1InYdc3DQSIAESCAUBCupQUGYbYUVg7twl1qPg0qUxXXZPPUEMPGrYbtu2qTzwgEvMIjNFUh/N2wUC0nfB24hwBxO+ARgQXmbyCeQKhnjHjz+81li+8sqj1mNuTErz55+LwoqhvTNghAGHMIg28MRskQi7wI0BYqmR/cGYN2+/PeMGsoVA7IGZt5sdU4/nEtwhumAIEcBMkZjsBPWYvMTI/jJkyA9WuUcf7aanKMf7HhVVQq9jKngYhDcmmTF16p2J/IPc4eZpA2KJ7dOLox7kpzZZOMAEk/ZgsqLIyBw65ve55x6wUuUtWLDCEuCJNOvXYQyuxGfLvHLlio8T96sCPwpB0H7zzVi3Key9neZvdo9ataqqTDuufuKGxH4D461e7EM6RGPeblrMMS5JgARIIJAEGPIRSJqsK00QgLBBqi94AzF5BmYlxMvTMGjx++8nJpqJw/M8PNrHY2Y8bobA/PDDXroI4m1ffvkjvY546H79hqhZGJ/TMwfaM2LY64M4GzhwlN8p5+znhnIdghpTUdesWVnnIka4DK4R3mZ7ejPk3LaLZ9NHDGIzOZMx5TtesK+/Hp2oV9LUgfYwIQ76gPcWM00ae/rpd6xH//ByQsDCqw6R2alTS/0yZc1y6NBxajr6+OnLzX5fS9xcYLpxxBLjhgIZL1599WMr5zRuovr1G6pmFXxCx/BjoCZenob86z/+ONVzd5rYRp5x9N3cmHh2GnH1Vaq4Qq4SC/dA+kVjCxYsM6s+l/j7w9MD3JThZhZ/g/v2xfg8hwdJgARIIKUE6KFOKUGenyYJQPgMHDhafv11piW0zIVAmCHX7RtvfCLIr5xUw8BHTCUOcYeQAWOek4igXJ8+g7W33B6ugPIIo8CASUzjjf6Eu2Eq6r59v9GzDGLGOty0ILYaYhpeSwgaiGPEGXszzH4Jrz1CAExIxqVLl5J87fAAw0OJMA3jWQY/vN92g7DHTZU3oYWsE7iJsXs67ecmtr59+25rsh6kXOzUqZXbKQjfwfuOPMmmjyiAdQhBzHaI44GO/QVPzI5oXoEMJ3G7QLUBTz1ycnsze7iHt5srcw6mgccgVhj+HpYsSTxziDnX/t7ZRbk5ziUJkAAJBJpABvWDbyWYxY/OqXOuH57Xf3VlJxjQI1eg20y1+uJOndBtR+bMnWp9CGbDTtdn/9FWv9py+cpluaAmNXn5+beD2Z00UzfCATDRBsItIIAhatyYpfBKEE8L8QKPt5MhtKFw4fzq8XZO1YcTgqm+ISLSqiGDCjyDmIADoRhGJPtzPRDhEFMIjUiJ6APTTJkiVD3nfL6feN/x/uM9B/dAC1lf14y86AhLAS/cTJhwEF/npPVjL774sA4D+v33P+W33+aE7eV82v99yaw+QxEZlN9JPW0w5pRBxhznkgRIIH0RMNqqZJG8Pi+MIR8+8fDgtUAAN5JIY4ZXMMxp5jx7W5g0Zu/e9PNYGjcP8NQmxyCiT506nZxT3c4BU/V/ooa4XH9icxOtKBkF4NnftWtfMs5Mu6d88cXItNt59pwESIAEHAgw5MMBDHeTAAmQAAmQAAmQAAmQgD8EKKj9ocQyJEACJEACJEACJEACJOBAgILaAQx3kwAJkAAJkAAJkAAJkIA/BCio/aHEMiRAAiRAAiRAAiRAAiTgQICC2gEMd5MACZAACZAACZAACZCAPwQyHTganycX2Q4iIwM/e5Y/HWEZEiABEiABEiABEiABEkiLBBzT5g3vmf5yNcddfYeyZ4nPKZoW3zSnPjtdn0qvaxnWr1zOIBklfTKwLpQrJEACJJACAtnU70SWzBkkQ4R6MQ91CkjyVBJI2wSMtkrsKjJFRsZP3IIJP5TaSuwcHk/DBDB5hflxwIQmnjPIpeFLY9dJgARIICAE8N0Iw3el/TszIJWzEhIggXRJgDHU6fJt9X5R9tn/8INRsGA+7wW5lwRIgASuYQL4bjSiGhjs353XMBZeOgmQgA8CFNQ+4KTHQ/C4wCuNH4iKlcqlx0vkNZEACZBAigjguxHfkfiuNE/0UlQhTyYBEkj3BBxjqG98aVO6u/jJbxXV15Qerw0X5u36bKF/Omo6IuKKZMpwRbJlviK5rxSRHOnuXeYFkQAJkEDKCMzaXkQmvL9Dzl7IIBevwAmhQj9sVWIsCo0ESODaIGC0VWJXSw91YoTS+HHzqNI+BBG/BSqSWs5nKSSX81ZO41fI7pMACZBA4AjgOxHfjfiOtOtm8x1qvlMD1yJrIgESSA8EKKjTw7uYhGtQ49XVI8wIuXRZPc68EiHnCzWWDDlLJKEGFiUBEiCB9EkA34X4TsR3I74j8V2J70waCZAACSRGgII6MULp6Di8Leo3Qv9QXFKPMM9dxEuJ6uItJUN+eqrT0VvNSyEBEkgiAXwH4rsQ34n4bsR3pMvxgCd6NBIgARLwTSDDvoMnre8Ke9q8gvnz+D4zDR49fPS47nV6vDZcmLfrw+NJk/rJvGWXLl3SPhcMuMF7fvHCBcG+bVt3yrJla2Xr1h1yTLG6dIkpFA0zLkmABNIXgYwZIySf+p2rUKGsXHddDSlfIUoyZswomTJnlgjlmUaWD/w4Yp8x813KgYqGCJckkP4JGG1VskhenxfrOCjR51k8mGYImC9+80OAjuMHAkJbP55Qmjni6g9GufJlpExUSVXCNbodZe3xgkacY39q2MlTZ3SzuXJmT43m2SYJkEAaJeD53WW+F12p8dREV+o7EC98FxoxnUEJ6gjbqG5zjlmmURTsNgmQQJAIUFAHCWw4VWt+TOyiWvdP/VjgB0X9lOjNTGobPyrwViMbiBHT5nyznVrXZoR/xoz82KbWe8B2SSCtEjDff0YQY4kXvvO0eMZ3IQS1WqoDbpdpzjHfhW4HuUECJEACigCVyTX0MbALYvxAmG0MuskY4fLQIAwEjzwvXryof2zws2LK2VGZHxj7vmCvnz13UTeRLVu2YDfF+kmABNIBAafvLoRy4FimTK6fQC2i1U77AET7dxzK2rfTARpeAgmQQIAJUFAHGGg4VmfEs/lBwI+D9QMBLw3CP5RXBmIawvrS5UvWD425HpQ3Zl83+0KxtHrg4T0KRdv+thETe1k2Rl+Ufccuy4nTV+SS1Wl/a0hauYzqjid3jgxSIl+EVCmWSYrm5TjjpBFk6fRMAN955nsP12lfN9eN7zxYhIqp1t+L8FArM9+R5hyzrQ/yHxIgARLwIEBB7QHkWtg0PxC4VvsPCB532n80sG43s20/33482OvGm5Q5U+ZgN5Ws+uesPy+r91xS58Kvr36kscAriAaf/VEVWo7Xmv2XpHapDNKsWpYgtsiqSSBtEXD63jLfY1jihW87+z5cpdlOW1fM3pIACaQGAQrq1KCeCm3qHwwlkD2X6Aq80+ZHB9v6R+Sq1xr78TLn4Xiq2VXPtO5fqnXCe8O/LD0nOw4bMe29TCj2rtx9SWJPn5c7G2QNRXNsgwTCnoD5vjDfYViadbXi6j/2qTVrv23d7MOSRgIkQAJOBCioncikw/32HwYjks1lmh8LI6wxSEevX/3xQTlzvjkn9Mv4H7/Qt+3c4sw152TbIaQYDI8fXPRl5trz0rImRbXzu8Yj1xIB8/1mltobbb7j8JdrE8tYx8t8R5rltcSL10oCJJB0AhTUSWeWps+w/1DgQsy2uSg9OMds2JZGaDsdtxUN2mpEhEuwpmYfPC8OsdIr9ygxbftB9iyTGtvoU83SomOrU6N9tkkC4UTAfH/h+84Y1u3b9v1YN9+N3sqYslySAAmQgCFAQW1IXENLbz8UZp8dg68fEl/H7HUEct31UNbdmxTI+pNT19q9iGKO/5FOTh3BOgd9K5mfXupg8WW94U/AU0j7+t7y/A6kZzr831/2kATCiQAFdTi9GyHsi/nxwNL8yNj3ma54/iCZ/amxNEMkLyO+2+ZpSo2+mDYRN626E5bmiukOy66xUyQQEgLmu82zMft+u3A2++37PM/lNgmQAAl4I0BB7Y3KNbLP/uOBS8a22WcQYNuIarMvtZeYEj0iU/x0wKnZn9g4NWgzSB0oXSCjlM6fUUoViJA9RxCjLTJ/y3m/W0PfAmUHDxyUPXv2OFaXUb0fUVFRkjev76lZHSu4hg78Nvk3+WHsD/qK27dvL/f2uDfJV9/nwz6yevVqfV7vD3pLpUqVklyHrxMOHTwku3fv1kUKFiyoZlAt46t4mjq2dctWefutt3Wfy5UrJx/1/Uivm+85b9+Dyb3A9955T9avX69Pf+v/3paaNWsktyqeRwIkEOYEKKjD/A0KRffsItr8qKBds98sQ9EXX22YfmAmxyyZw+Oje/mKCUTx1fOkHSulhHSTSpkFgtpYmYKutSaVs8j8zRdkwebEhfVlpacNM1NPcpezZs6ST/p9kujpRYoUkcpVKkur1q2kXft2iZa/FgscPnxYNm7YqC+9YcOGyXqPcHNj6jhz5kyy6vDFfvbs2fJxn491kY6dOsp777/nq3iaOgZeG9ZvsBwFxhsdqL8VO4xdu3bptrAv7tQp+yGukwAJpDMC4aFK0hnUtHw5wfhRCTSP8xcuSvZs4REbHDgfsItSk0pZtJg2zHYfQSo+lxmB7RLbEfLDorPmUEiW9pstpwZjYmIEr7l/z5WdO3fKM88+41T0mt7vD0tfgHB+SuvwVT+OmfrNMrHyaem4/ZrSwndesNlu3rZLdu+NkTNnzkrJEkWlbOnikjdPrmQ3m9z6TsWdljXrt8rhI8ckV85IiVL9KFm8iJpoLN65kOxO8UQSCDIBCuogA2b1gSdwQQlqhH1kVDObpSezi2kIaXii7YIa12rKQFxjfb4fnupAM+rQsYM88ugjbtWeO39O9u3dJ1OnTJXZs2ZrMTb0m6GSWU1j//gTj7uV5QYJkEB4EDgae0K++2GyFtOePWrd7EZp3ewGz90+t1NS35//LJXpsxfI+QsX3NooVCCfPP5gFymoljQSCGcCFNTh/O6wb44Ezpw9JzkjszseT2sHjFBGvyGinbzPRkDDS40XynqK7mBfe+7cub3G1CKO99bbbpXhw4bLV19+pbsxZ9YcCupgvyGsnwSSQeDkqTj5eth4OXLsuBTMn1euq1tdChfMJzt275fFy/6T6XMWyDEluLt3ae1X7Smpb868JTJl+lzdTv3aVaVyxSg5ffqsrFyzUXbtiZYvBo+VJx++S3ur/eoMC5FAKhBIXy6+VADIJlOHwNlz5+XCxfhwiNTpReBaNaLYl5g2rRlRbbbDbflwz4clW7ZsulubN2+WkydPhlsX2R8SuOYJTJ+z0CWmlef3ucfv0d7oekrMdmnfTB6+t6N+Avjv8jWyc89+v1gltz6I9mmz5+s2OrRtKj3ubicN69WQpk2uk2cf7S6VKpSRuNNnZOqMf/zqBwuRQGoRoIc6tciz3WQTQPw0PNT4ks2bO2ey6wmnEyGk+06N87tLKO8K+8isvNnhdWOBiXdKlS4lWzZvkcuXL8v2bduldp3a+trWrl0rixct1us1atSQ6xtf7/Wax/0wTuLiXDzu63GfJdBRePWq1bJ06VJ9XqNGjaRmrZo6I8U/c/+RHTt2SK5cufS+evXrec06ggwWkydP1ueXLl1aWrZqKafUgLGZ02fKtm3b5IJ65FyzZk2pW7+ulCxZUpdz+ufEiROyYP4CfY04F1a+fHkpX6G8NGjYQAoUKOB0qtt+9GnixImCDBTnz5+XKlWrSP369aVho4Zu5ZKzsXfvXvlt0m+CAXLHY49LocKFpKqqv32HOzSr5NTp7zkYPLl0yVLNBzH1efLmcfFRjBrf0FiyZMmSoKrp06YL+gzr1LmT5MuXT9atW6/qWSKrVq6S/AXyS5MmTaRZ82bWYEy8D/8u/leW/PuvxEQfkKhyUXJX17sE768/dvbsWUH2lf9W/ydHjx7Vfaxevbo0b9lcxe86/0xigPQfv/8hy5ct12MH8H5Xr1FdEBYVGRnpT9P6b+Sfef/I1q1bNafjx49L2bJlpVz5clKnbh297ldFSSgEbzK80LB2LW+S3Lnc+1q1UlmpVb2SrPxvo/z1zzJ56J47fNaekvr+UqEeF5VzpGjhAnJrkwZu7SB2ukv75tLnixGyccsOiT5wWIoVuTpC260kN0gg9Qk4f1Okft/YAxLwSiAyRzblnb6ov4RPnjqtBq/k8FouPe/crdLomUGK4XadGPC1f5/Lq4UBXxAGxlatWGWFgyBdnJOgHjl8pBw4cECf1rlLZzdBvWzZMquOl15+Seb/M1+GDR2mPg+YZCfeIG4GDxmsxWn8XpHo6Gjr/JtvuVnHeb/zf+9I7LFYq9j4ceOVhy6j9H6/txKe7a399hWIqDdee0MLKft+xJDDkG6u/4D+Wtzbj3uuT/xlonz4wYdayJtjf/35l17tcmcXef1/r0vWrMkbhDv468Ey5JshWrSZurGcPGmy9FdhOUOGD5E6derYD7nWA5Bc/cdxP8qnn3wq586dS1i/2lOrdi3Nx/OmY9Kvk2ThgoX6HHw+PvrgI0GWGbuBWd16deWbod/o9/OxRx4TpHY0NnfuXBk7eqy88eYbWlib/d6Wa9aslReefV4OHTpkHcZnClZnbB355PNPBNlrPO306dPS494e+sbRfmzKb1M088+/+Ny+2+s6Pouvv/q6rFyx0u34vLnz9DbE/FtvvyWd7+zsdjylG5u37dbjULJkySzVqsT/fdrrrVOjshbUa9ZvFgwWzBnp/D2bkvo2bN6hm61bq4q9eWu9SKH8WkRDTC9a+p90bnebdQwr+LvftmOv7Is5KAcPH5OcObLr0JBa1StKOM2q69ZpbqRLAhTU6fJtTf8XlUvFT8eeiJNz59UAljQqqo0gNkt4nfHyx0qr3NQwCOtwswm/TLC8y6VKlQqqF3TSxEmyfft2/cOJXMkQxfDwwY4cOSIPP/iwjBozSipUrOAVE7zKr/R6RXuFCxcprL2R5mYA3se33nxL5Rm/Incob67d4CXv+VBPLVQheuANh7cc+bjhKV20cJEgPR7a/2nCT45eRnjrv//ue+2phTe6bLmysnnTZu2JxY0JWEK4ffyJK4WdvQ+JrUOYDh40WBfLkSOHNLq+kfacQ7yh/0gf99wzz8mYH8b47clNrE1z/NsR38oXn3+hN/HEAG1DAONJwPQ/pusnCfAG33fPffL7tN8dhU/vd3rLxo0bJV/+fFK4UGH9BMHcOOE60P9NGzfp9xxPE+DxhiccT0ZQDqn/cMNQsVJF0zW35bGjx+Spx58UeLirVKkitevW1oNrcbMEPqtWrZIHejwgU36fom+87Cf3fre3JaYx+BbvHz7va/5bIxs2bJBnnnpG8ufPbz/FbR03GnffebfExrpu5PBUApyKFimqz/996u/6Gt595139uYLXO1C2dftuXVVpldEji+q7NysXVULvvqzybx45etynoE5ufcdPnJJDKqMHrHxUKb309k+5qJLaO33o8FG3wydOxsnw0RO9DqrEYMZnHu0medLJU0y3C+dGWBKgoA7Lt4WdSowAvIfwVMepgSsQ1ZfUF3Ok8kxkVoIm3M2EahghHd9f1w8bsnv4ipPGAMaE58bXkhprEH8xytv24/ifZPSo0VYXunXvZq0HYwViGh7sl199WXLmzKkFyMIFC5SQ6qcnooGAmzNnjqOgRmYShKN8+NEHUrpMGd1FeCwHDfxah3LguhAK4Cmop06danl94UHuendX6/IQQ/7sU88KvKQQTQvnL3QU1Js2bZKoslEybvw4iVRpwozBIwvvN8I/ZkyfIY8+9qjjNZhz7EuExEDwwRA+MHb8WM3HlFmxfIU88vAj+gbkqSeekgm/Tki2F9zUaV+CGQxC89tR37pNPNPzkZ7S/Lbmum3w37Jli1SuXNl+urWOyWX6fdJPWrdtrfcdO3ZMXnvlNStsCDcvpcuUliHDhkjValV1GQjqxx95XHuuwe+3336TXi/3suq0r8BDDO8/bnrsfdi2dZs8/eTTsn//fv20BR7xu7vfbZ06ccJEHeqBHQih+WrgV4IQEWPoQ7e7uvmcDAmpJY2Ybt2mtfT7tJ85XS9xE/DZJ5/pdTyxCKSgjj3uyokd6cPrjO9TY8dPYBxEMbOZYJnc+lz1uqrzNcjc9CVWfc/bbdT4KVpMwxuNcJHiRQvpQYwz/14kW7fvkR9+maYHM9rP4ToJBIuAy80VrNpZLwkEkUC2rFlUDHWkzlGKGDx4O07FndGPMoPYbIqqhhi+p3E2SxAbr7TdM+3K4JEwttQ0jOMwnONLeJvygV7Ca9rithbWC+KoQb0G0qpFaxk5YqQVuoCJXe67/75AN+9WH+KV3+39riUW4S2++ZZb5LU3XrXKQTw6GR4Jf9H/C0tMoxxms+vbr6/lkYQnFd5qu2WQDNKiZQvpcX8PNzFtynTs3NGs6vhaa8NjJUKlfuz7cV83MY0iqLtTl066NLyt8GInxeAhhocW19d/YH+Lj6kDHvXHnnhMb+7etVt7RM2xlC4hEhHmg2t486033cQ06oYX+fbbb7eagTfYycDAiGmUQTz1W2+/6Vb86WeetsQ0DmDGzkcee8Qqg7h0X/b8C8+7iWmURQw8womMffvtt2ZVL3GTY+y5559zE9PYjz68+lr8Z9CUtS/xNAWM2qibhTc9rgnl2t/RXocdYR2fYdzcBcpOK+87DE4JJ8Nnx+T7N4LZqWxy64NDxFgOm4A3+8zSCOrjx+MHOGNg+vZd+9TfaSa5844WUrZMCXVzlEUPYuzepY2OCz9w6EhY/x6Y6+MyfRCghzp9vI/X7FXAU42BifhixkBFfMnihS9ZzKYIgYV81REZMqQ6I8/UeL7yTDulxIMYN4bzU8MQgoCXk+HxPEQGBpQF22640Xue3OpqwKOxtcrj7GSVKlfSsc6ex/PkyaMHJGKQIwasYcCY3YP5v7f+53mK23YN2xTTCP1wMoQpVKtezethDKpDHDIMHtOk2Ho1iA8G7zTEnTfDLI2D1H8wzBzoNZba24mJ7MP085994fKsOhXFwD1jvvggjMbT8CQBYSQme4y3gZsYqGps185dZtXrErN6erPmLZpL3nx5tScdYUAIAcme3eW1xecBhm2nGUFRL8I1nKxrt66Cl5MhXKR48eLay42bFNzU4fssEIbJsWBZ1c2NL0OMNb5Xz6i/AV+W3PowANgYxLCToR8w9AW3Ffg2P6e+53GzqaYg0utiG1hZIF8e6f3GU+oYjQRCRyAwf52h6y9bIgGvBOBpyZYVX/4uQY3JX/AKvvn3J+QpphPLM21ipO39t3u2vYlxe9lgriM7h6eIwaNxZGeANWjQQDCYLhTmNFgP4R/G8NjfyZzOR3l7CMZ59ePtzSB0Z86cKdH7o/UgSgxsO6tmm4MI98fKXA0z8VbWnqFi3/593op43YfBnMhUoU0pj+FDh3stZ78pgqC2WyCcofCoIkZ88eLFciDmgOZz9MhRFaJ1Tk6ddH90b2/bvp7FQWTZB5t5ew8h6o3ZRZvZZ5YQxAjZ8GZoo2SJklpQ4/h+9R6XV553xFsjKwusWLFilhdZ77D9g88PRLH1XtiO2VdxHPHSEP6a08EDcloNAsTn9uChg/aiAVvPrfoWLYfktPqs+rIzZ1wDSjFroS9Lbn25bCIYszRmvSqcPdsygh4D0CGmYYiNjipVXKf1+3zQaJ1Hu1a1inp2RThUaCQQagL81IWaONsLGgF4qxGHB3ENjwkE9UXl1cGsioF8XJrUC/Alpk08NQYXmvANs7S34ymmvZWxlw/mOgaXvfDSC25NIFYY4gmetNmzZ+v4VYiN9GrIKPH6a6/LsqXL3C4RQg7eU5OH2+2gl40SJUp42evahTqQeg3pAzF4DsIQMcmJmfFOoxwE/1f9v0rsFO2BT7RQEgosUSnuEMONcBJjEKgFChZQYQTZAxqvbepPzrJ4ieI+T0N/jR04EKMF9c4dO80ur083rINqBfU7CWp4nMEIs4vaRT9EPjKfZFXpQSMyRMhl9V+gzUwrjtSjTobvTzNroSnvVNYcT2p9eXPnsqpEJhFTj7Xz6kqcCuWD5bGVx3bPHh1l5l/qpk2lAPxn0Qr9wu9A+bIlpUmjuir1X0UUo5FASAhQUIcEMxsJJQGkaoOnw8nbEdi++M4dbQQz2kTMszfPNMqYQYaeQtmcH3/c94DFwF6b/7XBS4jBgYihvqxuYJB27sWXXvS/gjRUEo/+kcEB2SdgmB0S8cgIr0A2DRi8xIgzT8ziTjt/fhADbbzIEOr+iGm0ZxdnmL2y3R3tEuuGFMgfLxwTLZxIAQwUfeG5F7QXGn2+59575K6779LeXHMNEJH/e9132EwizQTkMDzBvgzeaGPIMgKLtD39OHEy/rgpZ1+e8SFYP+j9gfw68VddHO/Tcy88p1MsIk7c2O2tb/c5sNGUS+rSZL6wDwr0rOOE7SlCYvn+k1tf7lw5dS5xODwwBqZk8SKe3dDbyOYB8xTc8JxjIppWtzWWFas3ytYdu3UKvc1bdwlezW9pJO1a3azP5T8kEGwCFNTBJsz6r2kCZgAhIHgT066BhRf0NOKuwYiu6cQNNCOksZ1Y9g9zTmot71bxoN99950W1BN+niBPPvWk357a1OpzctrFJBxGTHvLzpCUOo8cPuJYHOEj5smKU9o/bycj/Z8xDHp88KEHzWZIlpiUx4R0vPbGa14HbYakI3404uQ9NqcePOgKuUDsclTZKL27hM2rbc99bc6xL5G60ZvhiQMG98IQcoIsI/YwFm/nBHJf6ZJFdXV79x/QQtYIYnsb6zdt15sYmFhQTUnuy5JbH8a3lChWSPbuPyjrNm6T6lXKJ2gGaftMruoyV/vtWQg5sm++oZ5+Ia562ar1Mm7CdMGU5jc0qiP58+b2PIXbJBBwAszyEXCkrJAEXAQQ6mEEsa8BhPBK24/jHPNCTcaz7em9DjfOxdQAqqZNm+puwbNnUqfZ+5kte/ygSsza583wg4j0aOFq69ats7qGgWvezNdAO3t55Cu2e5Ttx8yMkthXoUIF+yGf6/B2mpATzFLpFEOOUBKk58MLuZMDZevWBo5PoPrkVA9ClczNkWcZpOxDbDwMOc7NgECwNfmlIcjtITb2OnarmSlNWjz7fqzbP0O3NbvNq5hGSMix2OD8HUC4FlR5mhErv3Rl/Ptl+omBfxClMAhSp1zVuoD6JyX13XLjdbqa1Ws3u+YVMJVeXW7aulNPLIM+NG5Y2zoKwT9+4nQ9+Yy1U63gxgRTl5cpWUzfkB465J672l6W6yQQSAIU1IGkybpIwAsBf9LbQSxj6nF4sV2e6At6Hdt4oY60YN3v6W51EzPVGQ+r2WlyBWP7XzVNtAlpMMexnP/PP44i0F4utdZN2ALaN5PIePZl9Pfxubg9j9m34am0p2AzxyD0vhv5ndlMkAnEPhBv+1aXJ9EURtiJEfoQ030+7GMOuS37ftRXer3YS7+QD9punu+b/Vhi63Y+9pAJcx5yg/86wRXqYPal5nL8D+O9Nj9syDAr17hnJpY2bdtY5yDMyZuNU2FPTubG6OpERJ5lEQ5iPP2ex1K6jbC4pjfW19VMmz1f/lu3xaoS7/0vk2fpfM7wIN/cuJ517JCaibDvlyP169/l8dlzklsfKq5Xq6oeYIj462HfT3AT1dExh2TMT7/r9hvUq67nGjCdwcQt/y5fIxOmzlE3Hu6hN0eOHZc9yvseEZFBSjl4tU09XJJAoAgw5CNQJFkPCXgQMJk6kjKbIYRzWhHPHperNzHTW7ly5fTshUg5hymkb2xyo1UUqefwiBtZEvDC5BmItUZIAwbQzZo1S4stCG/PzBNWJam8cv3118vQb4bqXnw94GvtrcQ1wnMZrbKdfPH5l9prCY+mmdXPqcuYWvvd/3tXZ4649damatBeQX3chLpQAABAAElEQVTdmOEP/GBg6jmxjD2s45eff9GT0yB3srFXX39VMGnMls1bdGgBBmq1bNVSkK4OXDFRCKYfh2F2v5atW5pTEyyRJzqxeGdca+8PeutzcU1mKu3/e/P/5MVeL+r+wXOImQch8CHAwsHQV0zSgqwQ3bp315PE7NmzR5DH2/ApVKhQgvEAyHONkA1kc5k5Y6a8+cabOrQGYSE4HyFPuKFE/fYnDeaa69Stowdm4sZpxvSZKvd5LWnbrq3+LOEmE3nH0YeSJUvK3r17zWkBXd6gvL17ow/KYjWd98ixkwSp5gqp0I5de6J1ejowue+u291mGryg4vpjDrrCWOI8Umcmpz5cEET7w/d2lGFqxsOtO/bIWx8MlDKliukMJNEHEPYkOrd0e49YaPS1fu1q2pPet/+3ar2qvgZMUb5FzQQJD389tS+H7alYQAGyMhLwIEBB7QGEmyQQaAJGWAe63nCtD17qDz/4UHdvzOgxboIawuvL/l/KQw88pL3QEGuYftputWrX0rl9w1VQQwwhNSBmI8Qj/xeff1GLaQwcjImJ0aEBQ4cPlddefc1Kr2a/PrOODB7vvPeOdO/aXeAtxgtC0+4dLlKkiJ4p0DO+tk2bNlaO6rVr10qnDp0EeavffudtXT36MmzEMHnw/gcFWSl++vEn/TJtm2WJkiWkz8d9vIYcmDIQiHj5MkzWYgQ1JiSBBxoszNTdyE2Owarw6OOGCnmq77/3fl9VhuQYJoWBgMUMn3h58seNyCeffZIgmweycGAyFmTpQMjOlN+m6Jf9fExl/lKvl6TrnV0TXAueMPR4oIdOaYgQp34f95NPP/lUihUvpjPkgBUGKWJSmmAJanymunVqJUULFZD5i1fK4aOxAs8urhmCtnO7ZnqZoPMOO1JSH9p76cn75MdfZ8qO3fu0sEYziO2uU7OydGjT1Otn9L6ut6uMHqVk+pwFsnDJaqtnuXNFSutmN+rBitZOrpBAkAlQUAcZMKu/dgkgdOOexvEZPBIjYVLjpaUQD2/X1L5De+n/ZX/Bo314qOFpRQYMY5h0Y9yP42TggIHy919/uwlITIaBgWz2OFxzXrgscVMwZPgQLYD/+OMP/VgenkqIRUyW8szzz+hJUpA5w+Qr9tZ3iGWkzftu9Hfaa4tptO1iGl5vCDKIUU/DTIfvf/i+fP7Z5zqlHo67JrmIL4k43xEjR8iArwboHOH23NgFlSccsbvwHkPYB9LgVcVU5/DaYoY/hJ0gtAX9wfuLGQSz+5gVL5B9SayuUqVLyaBvBkn/L/rLhAkTtOg358Dj/+xzzwpYezNMBV6xYkXp/V5vHYcNEYz3D8ISNxV473xdJyY/KlqkqAwdOlQwuBHvX0x0jECId+3aVTrf2VkLbW9tB3Jf0ybXCV5IW3cs9qQUK1LAihf3bAdTe3/50Sueu922k1Kf/cT8ykP+5MN3KQ5XJEZ5pjFzomdWD3t5s964QS3BC5O+HFE3BfnUAEQzs6IpwyUJhIJAhn0HT2L8gbbLVy6rSYfUS1nB/Hn0Mj39c/ioaxBUerw2vE+8vtB/Wt+fHOfYKAYWmpkNXXHR5x3LGjGNAomVdazEy4G3OwRWLHlpIkW7IPJ2qcFbmDgFj8uRwzktGQTUHjV4LU6JEcy6CO9eci3uVJxsVzcfiIaAKIWX2R+DWI09HiuYCMapfYQWYPIdTKxSukxpQRhDKAwhL/Cy5lBZGOwT1YSi7aS2AeGPvNmYgRH5owsXLux3aAr4YvZExEZjsh57jLs//cAgVsSx4zNkZmP05zyWIQESCD4Bo61KFvH9nUxBHfz3ImQtmDedNwwhQy6+BDV6YZ/UxZtQhuhGujwsYd7K6APJ/CfcBXUyL4unkQAJkAAJkEBICBhtlZigZshHSN4ONnKtEkD2DsRQG+EM8WwfdGiENPgEWkxfq8x53SRAAiRAAiQQagIU1KEmzvauOQKIibZ7qu0iGjAgsCGm7UL7moPECyYBEiABEiCBNEyAgjoNv3nseuoTyKjiXS9ZoxCc++OavOW8FtYoBa810ulBRAdLSKNvNBIgARIgARIggeAToKAOPmO2kI4J5I3MIEdO+aGorzII5WyH6BuNBEiABEiABEgg+AQ4U2LwGbOFdEwgqmDyszoEG0s49y3Y1876SYAESIAESCCUBCioQ0mbbaU7ArVKZQ7bawrnvoUtNHaMBEiABEiABJJBgII6GdB4CgkYAiXzR0j9qPCLnEKf0DcaCZAACZAACZBA8AnwFzf4jNlCOifQtnZWKV84fEI/0Bf0iUYCJEACJEACJBAaAhTUoeHMVtI5Acx0GA6eavTBzM6YzpHz8kiABEiABEggbAiE37PqsEHDjpBA0gjAK4y45f/2XJCdhy9JbNwVv1LqJa0V99JIjYdsHhiAiLYZ5uHOh1skQAIkQAIkEAoCFNShoMw2rhkCELQl8zPc4pp5w3mhJEACJEACJKAIMOSDHwMSIAESIAESIAESIAESSAEBCuoUwOOpJEACJEACJEACJEACJEBBzc8ACZAACZAACZAACZAACaSAAAV1CuDxVBIgARIgARIgARIgARKgoOZngARIgARIgARIgARIgARSQICCOgXweCoJkAAJkAAJkAAJkAAJUFDzM0ACJEACJEACJEACJEACKSBAQZ0CeDyVBEiABEiABEiABEiABCio+RkgARIgARIgARIgARIggRQQoKBOATyeSgIkQAIkQAIkQAIkQAIU1PwMkAAJkAAJkAAJkAAJkEAKCFBQpwAeTyUBEiABEiABEiABEiABCmp+BkiABEiABEiABEiABEggBQQoqFMAj6eSAAmQAAmQAAmQAAmQAAU1PwMkQAIkQAIkQAIkQAIkkAICFNQpgMdTSYAESIAESIAESIAESICCmp8BEiABEiABEiABEiABEkgBAQrqFMDjqSRAAiRAAiRAAiRAAiRAQc3PAAmQAAmQAAmQAAmQAAmkgAAFdQrg8VQSIAESIAESIAESIAESoKDmZ4AESIAESIAESIAESIAEUkCAgjoF8HgqCZAACZAACZAACZAACVBQ8zNAAiRAAiRAAiRAAiRAAikgkCkF5/JUEiABDwLnY05I3KaDcm5frFw6cVauXLniUSKwmxkyZJCMubNJ1hJ5JbJyYclSNHdgG2BtJEACJEACJEACiRKgoE4UEQuQgH8Ejs3dKnHro/0rHKBSEOwXj5/RL7QdWa2Y5LulQoBqZzUkQAIkQAIkQAL+EGDIhz+UWIYEEiFweOrakItpb12CqEZfaCRAAiRAAiRAAqEjQEEdOtZsKZ0SgGf67J5jYXN16Av6RCMBEiABEiABEggNAQrq0HBmK+mUgI6ZDnGYhz8o4alG32gkQAIkQAIkQALBJ0BBHXzGbCEdE8AAxHC1cO5buDJjv0iABEiABEggOQQoqJNDjeekCgFktIBdDnLmjKRcHLJ5hKuFc9/ClRn7RQIkQAIkQALJIcAsH8mhxnNShUDGjBFy8eIluXTpskRkypgqffBsFKnxkmLZiuWWvHVLJnrKWRWuEbtib6LlfBVIat981XXwwEHZs2ePY5GM6v2IioqSvHnzOpYJ5wPbtm2XkyddITLlypWT3LmZfjCc3y/2jQRIgATCjQAFdbi9I+yPI4FMGTNqQX3x4kXJHCaCOil5pou2rSbZlaD2x1AunxLe0X+sl7PRyYuFTkrfEuvTzBkzpd/H/RIrJkWKFJHKVSpL6zatpV37domWD5cCn6hrW7hgoe7OwEED5eZbbg6XrrEfJEACJEACaYAABXUaeJPYRReBzJkzydlz5+X8hYuSPVvWNIXFLqbPKIEMD7STZVOTsxjhXUyJ8JSIaqc2grX/wIEDgte8ufNk586d8syzzwSlqa++/ErWrl0rbW9vKx07dQxKG6w06QTwBGnN+i0Sc/CIIEIrqnQJKVOqWJL/Xk+fOSsbNu/wqwPVq5SXbFmzeC27c/d+OXLsuNSvXdXrce4kARIggUARoKAOFEnWE3QCWZSghl1QghphHwgBSQuGMA8jkI+t3JtoKAfEt93CTVR36NhBHnn0EXsX5dz5c7Jv7z6ZOmWqzJ41W88QOfSboZI5c2Z5/InH3coGYmPatGm6vZq1agaiOqlWXTG/Oqllvvz5A1LntVbJpi07ZdzE6RJ7/KTbpWfNkkUe6N5eqlUu57bf18befQdk9I9TfRWxjr318qNeBTXEPeqAoK6nBLVrBIZ1GldIgARIIKAEKKgDipOVBZMABiXCEwUv9Zmz5yRnZPZgNhewuiGojSUlLhqebCPEw0lUI764TFQZc0nWslKlSnLrbbfK8GHDBR5k2JxZcwIuqE+fPi379+232g3EynPPPxeIaq7ZOrbt2CPDR/8qF1Q4VrmoklKnRmXJmiWzrFde5tVrN6ljE6Vb59bSsF4NvxidjDutyxXIn1fggfZlkTnivwf2Rx+UfTGH5LgS9YuWrdFi2te5PEYCJEACgSJAQR0okqwnJASyZ3MJaojqrEpch0sstT8XD4GcFNMDE5VHG2IaFk6i2td1PNzzYYF3+uzZs7J582Y12O+k5MqVy9cpSTq2bes27QFP0kksHDQCiNX/+bfZWkzXrFZRHrrnDomIcD09anRdTflj1nyZ+dcimfT7X1KnZmXJop5aJGanTrkEdbkyJaRzu9sSK24d/2v+Mlm6cp21zRUSIAESCBUBCupQkWY7ASGQUQ1MRPw0PNRxp89I3tw5A1JvuFaCAYmIoU5LohpiqlTpUrJl8xa5fPmybFcZNGrXqZ0AMYT2lMm/ycaNmwRZRPLkVZ7vMlFyR8c7pGTJhJlQJvwyQY4dOyabN2226lq5YqUM+WaI3i5atKggHMXYtyO+lUuXL0mOHDnknnvv0bun/TFNli5ZKvv27ZM33nxDZybBgb/+/Eu2bdumy2AwJeryZnv37pXfJv0mu3btkuOxx6VQ4UJStWoVad/hjgQ3DQsXLpT169brahDnXbBgQW9V6ljwxYsW62PNmjeTsmXLupW7dOmSzJo5S5YvWyb790dLFhVCUax4MWnRsoXUrVvXrazZOHTwkEyePFlvli9fXj85OHPmjEz4eYKsWbNGTisP8IBBA0zxFC11zPSBwypmOoPc1aGFJaZNpW2a3yiLl/0nJ07GyZLla6XJ9d77bMpjeTIuTm9GJvEpVNsWTaRpk+v0uTt27ZNflNCnkQAJkEAoCFBQh4Iy2wgogcgc2bQ3DDGSJ5UnK1fOHAGtP1wqQ5YPDFCE2cM/kHYvJtol1MKlr/Z+wGNpQjIgssqVTxg7+8+8f+SVXq8Iwjc8beiQodLrlV7S4/4ebofGjB4j8E7bbdnSZYIXDOLSLqi/Hvi1nD9/XgoVKqT3v/ryq4J2jR05fMQS1NOnTReIbVi9evW8CurBXw/W4h03CXabPGmy9FchLkOGD5E6depYh86rpygm9AWx5A88+IB1zL4Cb/7ff/0tmTJlki5dutgPSXR0tDz0wEMWT/vBMaPGSPMWzeXTzz9NIGJxnmm7Tds2OkTn+Wefl107d+kqTE53e33JXTeDByuULSW5c0UmqAZt1VYhIP8sWiELlqz2S1AbD3XOyKT9bedTN2V4wSDgE7NT6sZi+869sl+FicSeOKVu0HNJpQqlpVyZhDd0idXF4yRAAtc2AQrqa/v9T7NXn0t5rmJPxKnBcBdE0pmojlVhHtmLucI8TAy1/Y3CPsRlJzednr2uYKzDkxx31cNYqlSpBJ5bhIFA3EJMR6iBpbVr15b619XXYhne41OnTslnn3wmxYoV04LR9PH6xtdL2aiysmPnDktYR5WNkgrlK+giUeWiTNEES4h0u5hOUCCRHZN+nSSDBw3WpeDxbnR9IylfobzAQ7561WqB9/e5Z56TMT+MkdKlS+tyTW5qInnz5ZXYY7EyY9oMr4IaXvoF8xfo8jc2uVHy5c9n9QQMn37yaUtMw9OMMsePHxd4tJFNBQNAP+n3ibz2+mvWeQlXrsjbb75tiemEx1O2Z+t2V37y8mWdRShCNyCoDx855ldjELqwnFfjozEQ+ZA6F/tLFi8iObJn86seX4V27N4nI8ZMUp8395u66XMWSI2qFeThezskuFHxVR+PkQAJXNsEKKiv7fc/zV49Qj/gqY47fVaL6kvKu4TBSWkpptoJvgnzsA9mNGVNSr1wE9TwSscor+iP43+S0aNGm+5Kt+7drHWsHD58WJ558hktuLNlyyajxoySKipkwtjRo0ele9fu2jP7xutvqBCQMlKxUkV92IjG4UPVoMf+rkGP8NAmNqAQonXs6LFanHe5s4vOlY2JaOC59seWLl0qvd/trYsiHGPs+LGSM2d8qNGK5SvkkYcf0cL5qSeekgm/TlDx/Vm1x7lNmzYy7odxOqwDE+PgBsNuf875U2WtUTeFytrf0d46BC/4yy+9LFu3bNX73n7nbbmr611ux599+ll9k4Brq1ihonS+s7N13L6yYP5COXfunPb4N2/ZXPLkyWO1aS+X3PXYE66sHr68ySZ0A8IYKfESE8R48gTDDRfCNhYuWaXCh1xpWJTDWwoVyC83NKxthXckte/nFfNBI37SGYNa3tpY6taqInlU+Nimrbtk8h9/ydoNW2XOvCXSoun1Sa2a5UmABK5RAhTU1+gbnx4uGxk/IKBPxp3RE74cV6Ia+xBjnVZS6jm9DxDV3jzQnin1nM4P5n54oDHRi7ErKt8cvLAIr7AbYpHvu/8++y4VMz1FYmJi9L7X3njNTUxjZ36Vsu6jvh/pMIdzKk5+7t9zLUHtVlESNjA4EkL6nffeScJZ8UURi43JhBAb3n9gfzcxjVL16teTx554TAYNHCS7d+2WDRs2WKEf7ZRIhqCGwUv9yGOP6HXzjwkzyZkrp9zS9BazW9atW295rm9vd7ubmEYh9OXjTz6WVs1b6UGfM2bMcBTUJ06ckL79+uqc3VYDAVoBF4hkWA5btg3P6u2ZOJBWLzFBbbzGP/46Q8fhl1UhGIUL5tNhHIiNPnj4qExSwvfw0Vjp0r6Zjt/2bNPX9rYde3W/SxYvLG1U3LXS6NrqqkGTuDmcOGWO7Nnn+pz6qofHSIAESMAQoKA2JLhMkwTgqcbARHiqMVAR2T/wwiQwyFuNuFSI6wi4tWgBIYBQDW+xz6ZyhC3Aa9ypcyezy1quX7/eWr/tNu/ZG+rUraMH3kGg28tbJyZj5e7udyfjLNcpZmAhvNNRUVFe62nYsKEMUv/BNqyPF9Q1a9aQqLJRsnPHTkGctl1QY4Dlv4v/1ee0bNVSe7X1BupQgtoYUhF6M3jJq1arKkv+XaLb9FYG+5BhBRPgBMMwyZIxpMlzsiy2Y2eUhzoxy6nGRSB/dN48ueWRHp2kWJH4AZ3wVENo/7t8jcxfvFI/mcLAx6TYaTWgGXb27Hm57JHTvp7yVuNFIwESIIGkEMgUFxefhB+PGSMjEw4qSUqFLEsCqUEA4R/ZsmZWotolqOE1M56z1OhPem6zRo0a0rBRQ7dL3L9/vxaM2NmgQQPtEXYrcHXDiFOEe8DT7WQ51GA0CGp4e32aKwrAZxEc9MyckegJVwsgThlhKNrUPRnCTbyZ/QYDgtpu7du3lwFfDdApBLdv3y7lyrkGaSJzBzJ4wFDGbvYbCcRpw/PtzUy7sbGxOkwGceeeBkEfLMuuYplxU4vrQCiHk505c846lFt54xOzF5+8T44o73M2FTpjwkXMORERGaRbl9ZqQHKcrN+0Xeb/u1JaN7shSV7qiuXLaC85PNwffj5cGl9XS6pWLislihVOUj2mT1ySAAmQAD3U/AykGwL4YcdkLxDX8JxBUF9UP/SYVRGPcWmBIVC3Xl154aUX3CpDjC4GykHYzZ4926u4Qywz4ohhCMMwcdBuFXlsYPZFlIUAT4mZvMhJrcPcAOA8ZBjxp89bt251a6Zd+9tl4ICB+jOIsI8nn35SH8c6rHiJ4jpsRG9c/cfe7tgxY+2HHNfRP2+COrnX7tiQ7YC6x9BPiOBNRhpLJ7MfQ6yyP4ZJXZwM7dZSOa8hqONUyBfCvfLm8T/XObKRPNWzq0yfs1DWbdwqv8/6R78QLoaJZJB6D4MfaSRAAiTgL4FMBfK5UgzhBHioz553eUz8rYDlSCDcCCBNFx4/+3oEHag+7w1URWm8HgzC69yls4wcMVI/Qh8/bry8+NKLbld10RYekD17dktYuhXysoEbpdQyM2AQ7WMmyHZ3tEu0KwXyF3ArU6x4cZ3FBOn9MGU6BDXyRC9fvlyXQ6y5Zxo7e7sPPPSAFCjgXqdbA1c3vM1e6a1coPflUUIWgvr48VOOVZ9QghcGwWoP/3A8wY8DxZU32RhmaEyqQTAjnCRG5dBevW6zbFWzPe7cvV+WrVovK9dsVFk+OiY6S2NS22R5EiCB9EuAHur0+97yykggpATu7tZVvvvuOy2oMYHIk0896eZZRgo55GOGWESauTvvujPBAL+kdjjYTx4KF4kXbcg48eBDDya1i7o8MnhAUCOWeuPGjbJ86XLtwMBBz3AP7EO7ZqKZ+vXrS9Nbm2J3WFrpEkV1Lue1ytPboW1Tr31cpzzJsDKlEoakeJ6wbuM2+eufpdKwvgot8jFVOUJCYIi3LlQgPt2gZ32JbRdV8dl4tVIFMQ5j2uwFMm/hcvl16p8U1InB43ESIAGLQIS1xhUSIAESSAEBeGKbNm2qa0Bmid/ULIh2gxe2Zq2a1i5f8dHz5s7VswNimZoGr7QJN8GMj56ZTEzfkDMaMdF4rflvjdltLVu2VIMOlXcWhlAPeKphNdSgRW+e5Vq1aunj+MczJts6oFbQlmnX5P62Hw/F+k031FNZRzLIocPHZOee/QmaRLjHhs0uQX3Lja5ZDBMUsu04qrzd8BZPnva3z8lZFqnZF2GYUCap9reaonz8xOmyL/qg26nwoLdreZPOonJEZa7B5FE0EiABEvCHAAW1P5RYhgRIwC8C3e/pbpVDfmRPD/IdaopuY/369NPx0WbbLCHEn3nqWen1Yi+VNm+e2W0tM9syRpw95zwQzjohBSuYxAW5rmEQ030+7OO1tr4f9dX9RZ8R9+1pkTkj5bar2ToQDvPfapcYtOeetp/TXoWWmDCQUd+Pkh07dtgP63Xse/ihh3W7Xw/4Wk+xnqBQCHYUyJdHalWvpFv6duxkLaxNs2eVx3fIdxP0eIaihQtIlUplzSFdru+XIwWvf9WU5MYwNXkp5fVGbPRnX6tr3+3O87yazGmCSmu3WeWMBqPr6rgmQTLn+7PMqtJrLl62RqfeQ05qu2EqdYQ/lihWRGUJSr1wI3ufuE4CJBD+BBjyEf7vEXtIAmmGAGYQRBYLZLOA4Fu4YKGe3c9cQMdOHXXow9QpU2XTpk16dkFMWIKsIchPjTRymOIbpkMsHn5Qr9v/sWfsWLxwsfbg5s2bR4mfzFKosH+TtdjrS2z91ddf1X3dsnmLzkyCmG6kuateo7pu+68//xJMPw7DxC0tW7f0WmU7lclj2h/TrVkkkdKxdZvWXsuWVhPaYDIXTCgDz/Oz6gbjoZ4PyQ03NBalIjWn77/7XpCrG4ZjRoB7rTDIO5EL+uixE7J7b7R89MUIJUYLqTSAWWTXnmjt5c2vRPeD93QQDCY0hrjnmINH9GacbQp6XEfP+zrKD79Mk83bdkn/b34QnF+qRBGd5m5v9AEttpEO8767btezGpo6/V3Wr1NVh5Vs2bZb+vX/TmpUqyCRKq5/1979skXN/Ki6oCeO8bc+liMBEiABCmp+BkiABAJKAF7qDz/4UNc5ZvQYN0GNjBMffPSBnrkPoQrIDIKXp2HQ4uv/ez3BzIIoh7ARzHJ46NAhHWd8911369MROjHl9ymeVaV4O2/evDJsxDB58P4HdQz0Tz/+JHh5WomSJaTPx310uIDnMWzfcOMNenDhkSMuEYmpyfPlc479RYw5BPPHfT+W3bt3y3vvvJegWohPzEaJgY2pabmUB/7ZR7vJhKlzZO36rbJ3vyuUAhMtVVVe6a4dWwrK+GvI2PGkysKx8N9Vsmjpaok+cEQJ9uP6dNRTUwngJo3qSuWKUf5W6VYui4rlf+XZB2TqjHmyZMVaQQgIDDwLquwid7S9XWqq6cdpJEACJOAvAQpqf0mxHAmQgF8E2ndoL/2/7C+nTp3SHmp4qu1eZTPLHzzZEydM1MLYVIw8+EjLBzFdunRps9ttCRE6/NvhOvwCXmMjUDGldrAMMziOGDlC55PGBC1I5WesYMGCcluz2+TFXi/6zOMPz3ab29vImFFj9KlO4R6mXizv7XGv5FaTm4z6bpT2kptj8G5XqlxJnn/heWkMr3UYGCZT6tZJDe1TLwwYRNrKIirMw8lzXrxoIfnyo1ccew5v9o2N6ugXUl8eOHhYx6EjxMQfg5D3VT/626ndbfqFtHun4k5LITUbI8Q2jQRIgASSSiDDkdhTVoJee9q8gvn9+9JKaoOpWf7wUZeHIz1eG7im9+tLzc+OU9t7B//jdMjan61YbinW1hXnuWNEQm+sVdCPlbI9r9eljq3cK7Er9iZ6Rsknb0q0TGoWwHdOdHS0HIg5IAULFpBSSkQ7CTCnfkK4Q6zCqx0KQ85tTGRz9MhRKV2mtPaWh6JdeORjomN0ppTyFcrrZSjaZRskQAIkcC0TMNqqZBHn3PjgQw/1tfwp4bWHnEDeeiX9EsLeOoZzjZ2NPmFW0/QS3uoSJUroV3IvBFNwh9KQcxsed7vXPRTtI8wFLxoJkAAJkED4EaCgDr/3hD1KZwQgfs+oV3blqc5XN14UJ+UysxXNrc/HOagrvQjqpDBgWRIgARIgARIIVwIU1OH6zrBf6YpAzB/rpagK+0iJqAYQiGnURSMBEiABEiABEggfAhTU4fNesCdpkADifT1zLTtdBoSwCduAxzmpFqvippPimU5qLHJS+8PyJEACJEACJEACLgIU1PwkkEAKCGTMnU0uHj/jdw3+DCT0u7JECqJvNBIgARIgARIggeAT4EyJwWfMFtIxgawlfI/6Tc1LD+e+pSYXtk0CJEACJEACgSZAQR1ooqzvmiIQWblw2F5vOPctbKGxYyRAAiRAAiSQDAIU1MmAxlNIwBDIomKhI6sVM5ths0Sf0DcaCZAACZAACZBA8AlQUAefMVtI5wTy3VJBspVynkI61JePvqBPNBIgARIgARIggdAQoKAODWe2ks4JFGxXIyw81fBMoy80EiABEiABEiCB0BFglo/QsWZL6ZwAvMKIW47bdFDO7YuVSyfO+p1SL7lokBoP2TwwABFtM8wjuSR5HgmQAAmQAAkknwAFdfLZ8UwSSEAAgpaiNgEW7iABEiABEiCBdE2AIR/p+u3lxZEACZAACZAACZAACQSbAAV1sAmzfhIgARIgARIgARIggXRNgII6Xb+9vDgSIAESIAESIAESIIFgE6CgDjZh1k8CJEACJEACJEACJJCuCVBQp+u3lxdHAiRAAiRAAiRAAiQQbAIU1MEmzPpJgARIgARIgARIgATSNQEK6nT99vLiSIAESIAESIAESIAEgk2AgjrYhFk/CZAACZAACZAACZBAuiZAQZ2u315eHAmQAAmQAAmQAAmQQLAJUFAHmzDrJwESIAESIAESIAESSNcEKKjT9dvLiyMBEiABEiABEiABEgg2gUxODWTLnMHpUJrfn56vDW9Oer++NP8B5AWQAAmQAAmQAAmkKwKOgjpdXSUvhgRIgARIgARIgARIgASSSeDk6fM+z2TIh088PEgCJEACJEACJEACJEACvgnQQ+2bD4+SAAmQAAmQAAmQAAlc4wRy5cjikwA91D7x8CAJkAAJkAAJkAAJkAAJ+CZAQe2bD4+SAAmQAAmQAAmQAAmQgE8CFNQ+8fAgCZAACZAACZAACZAACfgmQEHtmw+PkgAJkAAJkAAJkAAJkIBPAhTUPvHwIAmQAAmQAAmQAAmQAAn4JkBB7ZsPj5IACZAACZAACZAACZCATwIU1D7x8CAJkAAJkAAJkAAJkAAJ+CZAQe2bD4+SAAmQAAmQAAmQAAmQgE8CnNjFJx4eDDSBPUcuycrdF2X7wUtyLO6yXL4S6Bbc64vIIJIvMkLKFc4odUtnklIFMroX4BYJkAAJkAAJkAAJpJAABXUKAfJ0/wn8tvKcLN1+wf8TAlASgv3Iqcv6hbYblMssd9TNGoCaWQUJkAAJkAAJkAAJuAgw5IOfhJAQ+H7+mZCLaW8XBlGNvtBIgARIgARIgARIIFAEKKgDRZL1OBKAZ3rrgUuOx0N9AH1Bn2gkQAIkQAIkQAIkEAgCFNSBoMg6HAkgZjrUYR6OnbEdQJ/QNxoJkAAJkAAJkAAJpJQABXVKCfJ8nwQwADFcLZz7Fq7M2C8SIAESIAESIIGEBCioEzJJs3sikNJC2eVgp85IAiFk8whXC+e+hSsz9osESIAESIAESCAhAWb5SMgkze7JlDFCzl++JBcvXZIsEeHx1iI1XrCstEqBhzR4pfNHyO6jrnYWbD7vd3OB7NuBAwdl9+49jm1nzJhRypWLkrx58zqW4QEXgYkTJ8vo0WP1RocO7eXBB3skGc17730kq1at0uf17fuBVK5cKcl1+Drh4MGDsmuX6/0uVKigREWV8VU8TR3bvHmLvPbam7rP5cuXk08/7Ru0/r/11nuybt06Xf97770ttWrVDFpbrJgESIAEgkkgPFRXMK/wGqo7c6aMcv7CJf3Kkjk83tpgOMshpG+smNktp7TJL439C7ZcEH+EdSD7Nm3aDPnoo36JftqKFi0iVapUlttvbyMdOrRLtPy1WODQocNKZG3Ql96oUcNkIdi9e7dVR1zc6WTV4eukGTNmy/vv99FFunTpKH36vO+reJo6dvr0GYtdhgyup17BuoCdO3dabZ06FResZlgvCZAACQSdQHiorqBf5rXRQNYsmSTuzHk5e+6C5MyRPnMt31gpixbT5h21Dyy0i2p4rcctPmuKhc0yJuaA4PX33/Nkx46d8sILz4RN39gREiAB7wQ2bt0lO/dEy+nT56RMySJSLqqE5MuTy3thP/Ymt76T6uZw9dotcvBwrOTOlUPKlSkhpUsUkUzKmUIjARJIXQIU1KnLP6CtZ8+aWdd39vxFuXjxUrr7krWLaQhpeKJ3e2TqMGUgrrHuj6c6oG+Cqqxz5w7yxBOPulV77tw52bt3n0yePEXg3bxy5YoMGjREMmfOLE8//bhbWW6QAAmEB4Gjx07I0NGTlJiOSdChdi1vlHYtbkyw39eOlNQ3a+4SmTJjgXoC6T45VuGC+eTZnndKIbWkkQAJpB4BCurUYx/wlvF4NjJ7Fu2lPnn6vOTLnT3gbaRWhUYoo32IaSfvsxHQCP3AC2U9RXewryFPntxeY2oRx9us2a0yZMhw+eyz/robM2fOpqAO9hvC+kkgGQROnIyTz78ZJ4ePHpdCBfJKo/rVpUjB/LJt1z5ZsOQ/mTpzgUAg39+1jV+1p6S+mX//KxN/n6vbaVi3mlStFCVxKjRn+eqNsmN3tPQdMEZeeKyrlFLeahoJkEDqEGCWj9ThHrRWTahH3JlzypMRvinrkgrAhHb4EtOmTiOqzXa4LR999GHJnj2b7tamTZvlxImT4dZF9ocErnkCU2ctcIlp5fl95el7tTe6Qd2q0q1jc3ni/o6SUQ0CX7h0jezYtd8vVsmt72jsCfltxnzdRpd2t8rD97STxtfVkOY3N5BeT94jVSuW0eL612nz/OoHC5EACQSHAD3UweGaarViYGIuFT99UsX6xZ48I4XzJz/OL9UuwkvD8DL3+93/QUsQ3jrsQ3mpQ+2h9tJ9t10RERFSqlQpQTaFy5cvy7Zt26Vu3dq6zJo1a2XhwsV6vWbNGnLDDde7nWs2xowZJ3FxLh4PPHCfZMvmEug4vnLlalmyZKkuev31DaV27VoqI8VuHbe9ffsOyZ07l9533XX1vGYdQQaLX3/9TZ9funRpadOmpZw8eUqmT58hW7duk/MqpKh27RpSv349dR0ldTmnf44fPyH//DNfX+PWrdt1sQoVyknFihWkYcMGUrBgAadT3fajTz///Kts2bJFtX9eqlatKg0a1JPrr2/kVi45G3v27FXXO1l27twtsbGxUrhwIalWrap07HiHZpWcOv09B5lh/v13qeaKmHpkgalQobx6lZMmTW6QLFmyJKjqjz+mC/oM69Klk+TPn0/Wrl0nixcvVe/9KrWdX26++UZp2bK5mEGFeB8WLVqsyiyR6OgYlXGmrHTrdpeUKVM6Qf3edpw9e1Z/Jlat+k+OHDmi+1izZnVp1aqFCi1z/hm5pDIOTZnyhyxdukyPHShQIL/gc42wqMjISG9NJdh36dJlmTt3nnrvt6nP0Tb1Hh3X/QenevXq6PUEJ6VwB7zJ8ELDOra5WcUru/e1epVyUrdGJVmmPMSz5i2Vx3p08NliSuqb9fcSHcJXrEgBaXFLA7d2EDt9d8cW8u4nw2X9ph2yP+awFC9a0K0MN0iABEJDwPmbMDTts5UgEMiTK7ucU95pZPw4cjxOCuRx/zEIQpNhVyXS6JlBiuHWOcRP79vn8mpB8CA1mbHly1da4SAQyk6CeujQEVqg4Lw77+zsJqiXLFlm1fHaa71k3rz5MnjwMPWj7P7EAmJ2+PDBWjya9rHcvz/GOr9p05uVqMss//vfO3Ls2DGr2FiV1Q6pAPv06a2Fp3XAtrJ06XJ5+eXXtYCz7VYx5K4tpJsbNKi/Fvf2457rP/88Qd5990O5YIsdnT37L12sa9c75e23X5esWZM3CHfAgEHy9ddD9I2NvV2k7kNYzrffDtWizX4M63gPU2pjx46Xvn0/FcTXe7M6dWopPl8luOmYMGGSuklZoE/B56N37w/Vzc4styrADDc8I0d+o97PaJV68FFBakdjf/01V77/foz83//9Twtrs9/b8r//1siTTz4vhw4dsg7jMwWDoP3yy08F2Ws87fTp09K16336xtF+bNKkKYr5NzJgwBf23V7X0fdevV6X5ctXuB3HoF4YxPx7770ld93Vxe14SjcwaBBCPqv67NesGv/3aa+3Xu0qWlCvWrtZMFgwV2QO+2G39ZTUt04JZdh1tau61Wk2ihbOr0U0xPT8f1dL1w7NzCG9vKD+7rds3yt79x+Ug4eOSk7Vz1JqYGXdGhUFN/c0EiCBwBCgoA4Mx7CrJV/uHHLo2Ck5c/aCHJG0KaqRHg9mhHFS4qGR5QNm8lPrjTD556efJlje5dKlSwXVC/rLL79q7zB+OJEr+dixWDl+/LgmcfjwEbnvvodl/PjRUqlSBa904JF+/vmXtVe4SJHCWsCYmwF4H1977S0tLjt1cvfQwUveo8fDWqhC9Fx3XX1p3LihEuGZtKd0wYJFSqAd1u1Pnvyzo5cR3vqRI7/Xnlp4o8uXLysbN26WFStW6nZ/+ukXlXnhtHz++cde++9rJ4TpgAGDdZEcOXKom5dGyvNaQYs39P/MmTNKSD4nP/00xm9Prq/27MeGDRspn3ziEpR4YtC48fVanCJ13O+/TxM8SYA3uGvXe2X27D8chQ/yOG/YsFF7qQsXLqw93ebGCSL0iSeeVcc36fccTxPg8YYnHE9GUO6DD/rqditVqmjvnrV+9Ogx6dnzSRWWdEI9Faiiy+7Zs1d5nJdrPitWrJLu3e+XmTOn6gG21olq5e2337PENAbfNm7cSD+ZWb36P1m/foM89tjTAo+1k509e07drHXVTw1QBk8NUAfE+/r1G+W336bqa3jzzXf15wpe70DZ5m17dFVlShaVLKrv3qyCyvQBw0Rah4/E+hTUya0v9sQpldHjmG6nYjnnp0EVypbU3ukDSjDb7bg6f/B3E70OqsRgxpee6C558+S0n8J1EiCBZBKgoE4muHA/DaEfuXNmkxOnzmpRffDSScmrPNfhkp/aFz9veaZ1+YquH7bE8kxjAKMR4b7aCeUxeDThbRs37kfl9RxtNX3vvd2s9WCsIJzkrrs6y+uvvyK5cuXUAgTezQ8//FhPRHPq1CmZNWuOo6BGZhKEo3z88YfWQEt4LL/6apD2fOO6fv11ingKaogdiDbY22+/oURXV+vyHnvsYXn88WcEXlJ4Z9EfhCB4s40bN0nZslEyYcI4yZkz/od/+vSZyvv9hhb6CIFAVhWnmwJv9SLMAoIPhrZ//vkHzceUXbZshdx/f0/tlX/00aeUeJugngIkzwtu6rQvTUgNhObYsd+5TTzz+OM95aabmuu2wR+hQchd7s0QyvPFF/10XnMcx1OEF1981QobWrToX/2+wdNevbrLwwlB/dBDj+nPI8Jn0Bc8yfBm+MzC+4+bHnsfEH7x2GNP6SctuMHCTaL9s/zzzxN1qAfqRAjNN98MkBo1qltNoA+dOt3tczIkfD4QggNr27a18oR/Yp2PlcqVK2oPP9Znz/5Th5FgPRAWe9w1riFnTmevc87I7FZTscdPWeveVpJbX2ysqx+o05++QIDbbcTYKVpM11He6Ba3NJQSxQrJzt375Y85i2Xztt3y/U9/yPOPxv9t2s/lOgmQQNII8HlP0nilqdI5s2eVQvlyKhHtmvDl4NFTcuzEGSWqwnc6cIjhbtdnswQxvNLmZeDrDB6qnJPhOAznpcYAxR9/nKBiWJtbr5tuaqbiRq+TW29tJUOHjrRCFzCxS3JmAXS6bm/7EWf64YfvWWIR3uJbb71F3nzzNav4smXLrXXPFXi2Bw780hLTOI7Z7D77rK/lkVy9erV6PO75mcogrVu3UMKth5uYNvXfeWcns6q9ndaGxwoGfn322cduYhpFWrduqW8UsA7hPnLkd1j12+AhhocW1zd48FcWH1MB4sufeupxvblz5y7tUTXHUrqESESMNPi8++6bbmIadcOL3L59W6sZeIOdDDdLmCTIWL58+VSdb5lNvXzuuacsMY0dZctGuaV13LJlK3Y7Wq9ez7uJaRSsWLG8vPpqvAgfPvxbt/Nxk2PspZeedxPT2F+2bJT6DL6KVUfDzQEY4foQ1uFpmEUTYUcw3ADh5i5QhgwasMgc8aLZs258drJfvckygtmzjNlObn1xZ86aKtTcAs59Mf08ZhPgZ8+el60796m/00xyT+eWUl551LNlzSJVKkbpzCR5cueUmANHdGiL1QhXSIAEkk2AHupko0sbJ8JTjYGJx9UARQxURPYPvLKpSWCyqbzVENuZ1I9SRERwZ0Tzh5ZnajxfeaadUuJ1V2LcGM5PDUMIAl5OhkFkL730nI59dioTqP033XSD16pq1qxh7cdASCeDVxKxzp6WJ08ePSBx+/Yd6tH/WTVgbKub6Hrnnf95nuK2bW//8OHDbsfsGxi8WaNGNfsuax2D6hCHDIPHNCm2bt16XRze6bJlo/S65z8Y0PnVV1/r3QhRQLxwIAwDD7/66nOfVdn5HFKhMU7mbVAmQnsQRmKyx3grU7t2TatKeIt9Wdu2rbwebtWquUDAQ/jCS40QmezZXaLPiHRsO80I2qZNKyWq3/VaN3bec8/d+uVUAOEiJUoU115u3KTgpg43jIEwkyEJ35G+DDHWZ1Roymn1nerLklvf+fPx32FZlRh2MvQDhr7gtgLf5mfPnb/6lOiK3m8fWFkwfx75+O2ncAqNBEggQAQC8+0ToM6wmuARwEDFHCpH9SktqtVsiucv6lfwWjQ1+/cR8xTTieWZNjHSphUsIaZNqIc3MW4vG8x1iCHEC9tt7171mPWq165RowYqNvZO++GgrWfJ4j1MIactfOKc+uF1Ml8/4u51eBcUELoIz9i/f78eRImBbRDgyBrhj/nKQmE/tm/fPn+q02UwU+WRI65YUwwK/eabYV7PtU9ZbgS4KRgIbyjqQIw4XjExMZoP+oUwGITi+GNO70+GDPEPH70N2ISoN2Yf7Gn2mSUEMWKzvRk8tCVLltCCGschqvFEBBlFDh50DWAsXryY5UX2rAOfH4hi8154HjfbOI4QIjwpwHuHwZXIcINwFWR/CYZBfO6LPqTS0fn+nBohbRer3vqT3Prs9Z5WfTHC2bMNez+MawSx0WXLFNdp/fp+NVrn0cZARMyuCK81jQRIILAE+FcVWJ5hXRu81RisiFjqM2p68nNKVF9Q4R8X1Wh2DKxJLfMlpk08NQYXmvANLBd4dNZTTJuyHsVCsnnddXVVfO+Lbm1BJEE4wZOGyVwQmwqxkV4NoqdXr9dU+r5lbpcIIQfvqT3Nn1sBj42SJZ0HYqEOpF6DuMLgOQhDxCQnZnZxDE/q559/ldgpSfaAJ1Yh0tf93//11iLRlIVAReYViFinGyFTNlRLCGZfZn96AbELQW33eNuPe6unRIkSjoIaHmfEuU+ePNUKk0Id4ANOuFFw3Ti4YvW91Z/cfWZacROq4a2eCzqTksuDnNjAvuTWly9vfNrTUyqTiH3b3qdTca4QlbwqjMNuTz7QScVLL9IpAP9esELwwhNJDHC85YZ6gthqGgmQQGAIUFAHhmOaqgVeuRzZsuhX8Dvu29NmBDP6gZhnb55peJ0tz7MS03Yz51vHt1ywhLe9XGqv48e/a9fOOoYa6bgQqvDKK+6iO7X7GKj28egfGRyQfQLWvPmtOh4Z4RXIpgGD+EKceWJmcm17K4cYaBNaA6Huj5hGPfbH6Ji9smPH9t6qd9vnKxuFW0E/NjBQ9Omnn9e5vdHnHj3u0XHmuMEy1wAR+corb/hRW3CL+OKPluGNNmY82TlzRppdVtiJtcNjxbx/Hrv15jvvfCDIUgPD+4RYboSqIMzEWPPmbX0ObDTlkro0AvmYj8GGyKBhzAhms+25TG59edRAYnxf42kGBhw6zYR44qSrL56CGx5uTERze4sbZNnKDbJJDURECr0NW3bpV+tbr5eObW/27C63SYAEkkGAgjoZ0HhK4AiYAYSo0ZuYxqQsCN/QAxHVYEMTO216YIQ0tlEuNT3Tpk9Oy+7d75YRI77Tg4CQ7u3ZZ5/021PrVGc47v/7738sMe0tO0NS+oxJRJwMYQUm9CIpGT6Q/s8YBrX17Pmg2QzJcsyYcVpMo7G33nrd66DNkHTEj0YSC8c4cOCArgWxy+XKRel1u1fbHHdqCqkbvRmeOOBvBIYsIZMm/axCR+LDWLydE8h9UaVcT4/27IsRZPAwgtjexpqN2/VmDjX4u3CheJFvL2PWk1sfrrlk8cKyZ98B+W/9VpUTu7yp0lri6eLajTv0tmnHOnh1BTmyb21SX78wiPffFetl1E/TZIaa0vzmxnUkf77cnqdwmwRIIIkEQvcNlcSOsXj6J4BQDyOIfQ0g1CEeSiwbwznmhX3wbI9ffDasxTT6iQFUt97aFKvas2dSp+kdV//B42xjJmWY2TZLeLghOMLV1qpZ+4y1atXCrLotfQ1EtBdEeAZCObwZQmiMVazo/6PrKlUqWVO/b92KmR/dn3qYOuGdRfw3XsidHChbsyaeT8uW3r30/vIJVJ+c6kGoknnS4FkGKfsQugQrWzbKGhCIUBzj0YcgX7vWNQAU5eyGmGinz7j9M9SiRTOvYhohIRgQGQyDcC2k8jQrx7AsXrE2QRMIkFuywvU+3nR9HTW423eoUUrqa3bTdbr9Ff9tVmF6Cf8WNmzeIQgHQR9uur621dc1G7bJ6J+n68lnrJ1qBaFFmLo8qnQxfUMa45G72l6W6yRAAv4ToKD2nxVLBomAP+ntIKox9bgWzvBEqxfW8YJnO9ymF3dChcf7xr7/fozlYTX7TK5gbCOHsLdH4vPm/eMoAk09qbk0YQvog5lExrM/3347ynOX123cOPzxx4wExyD0hg//1trvmQnEPlgP01XbDWEnRshCTPfu3cd+2Fp///0+8txzvfQL+aDtZjzj9n3+rtv5YMIUTzupHt8jj3O4GDzq3mzw4KFWrvHq1d0zsdx+exvrlGHDRljr9hWEPTmZnRGmGvdmCAcBq2AYwiyaXxWyU2bMl1Vrt1jN4L0fN3Gm7NgdrYX+rTfWt45hYpX3Ph2hXwuXrrH2J7c+VNCgTlVBbDTiub8e8YubqMbAyZHjftftQCSb9HnYgYlbFi79T36cNFuOxrp/zg4fPS579h7Q2Z2iShXV5/MfEiCBlBFgyEfK+PHsFBAwmTqSMpshhHNaEc/e0GCmt/Lly+nZC7dv36EnNbn55iZWUaSpwyNuhDPghUlFXnnlJT1pCQbQzZgxW4stCO916zZY54XTCqbDHjRoiO5S//4Dtbfypptu1OEtyASBGQLheUaYgJnVz6n/qOvNN9/RM/XddltTncIP1/3BB331bII4D0w7dboDq5YVKVLEWh8//hepU6eOzp1sdiIPN2YQ3Lx5iw4twKP1Nm1aqnzhNTTXOXP+FEw/DsNslq1btzKnJlgiT3Ri8c641j593tfn4prMVNpvvPG2jqWvW7eO9hxi5sH33/9Ix80maCgVdqCvEPcQuPfe212iokrrmGXk8TZ8ChUqpK/B3j1MtPPzzxN0Rpdp02aqAYT/k0ceeUh7snfv3qOZ44YS9dufNJg6kKIQ4w5w4zRt2gwdO92+/e36s4SbzBEjvlc3VCN16sY9e/aa0wK6hLcXoRbzl/wn33z/qyDVHETqzj3ROk0eMmU81L2dWzgIcvxHH3CFsZiBgqZTyakP5+Kz+fgDHWXQtxNl8/Y98vI7A6Ss8i4jR/X+GIQ9iVStWCZBLHSRQvmlYd3qKrxjnfT+dKQ0qFtNXwOmKEcs9UXl4YdYz5E9PtWo6SuXJEACSSdAQZ10ZjwjwAQgrBcEuM5wru6++7qriSo+1F0cNWqsGpwXL6ghvL7++kslXh7SXmiINUw/bbc6dWrp3L7hKqghhpAaELMR4pH/00+/oEMsMHAwOjpGC+nvvhumcnG/aqVXs1+fWUcGjw8+eFfNgNdNicw++mUGaJkyRYsWUTMFfqLFqNmHJTykxgO6Zs1atd1RkLe6d+//08XQl++/H67yHD+gs1KMG/eTmsXyJ3sVeh3xwJ9+2tdryIEpDIGIly/DZC1GUGMQ5C+/TNQsXFN3P6CnDkcoDzz6uKFCnupu3Xr8P3vnARhF8YXxR2+h9947SEdRQCk2BEURRBGpiooKKljxb8WOCjYsKAgIIgoIUgWVJl2l9957Cb34n2+O2exd9vYuyd3lQr6nx5aZnZ397SX59u2bN25NRqSsV6/H9FuS77//QfDx5Y8Y9IED34+XqxxZOF5+uZ/O0oGQnfHjJ+qP/fjKlSupyWGe0tOL+14MxHSXLg/olIaI+X3zzXf1rIgYuLlnzx49DgGDFPFAFC5BjdCI+9veIoUK5pU/5/8tB9T04vDsIksGBG27O5qpZRHfrvvdTkp7OM9zT3SUEWOnyWY1WQuENQye6zo1KkmbljfE+xlAeZd7b9MZPSbNmC9zFvyDXdowqUvLm66T25pfa3ZxSQIkkEQCFNRJBMjDE08AYRvtbRk8ArVkUuMhzCMle6nhTR0wYKDONTxnzjztabVPvV2jxlXK+zdaTbX8scyc+YdXWAgm2XjxxecEIjFaDQ8FmOoaInjSpMn6tTxyT6sAEMFkKb17P64nScmbN6+roIZYhqAdNWqYEsJv6hAYvG43hgcRCDJMlONrmOnw7bffkHffHWDFm/umhkSc7/DhQ5Qg/1jnCPf00dMS0r01b95Utw9hH0orXryYEtTfK6/uC3qGP4SdILQF/cH9feGFZ9QDiCcbSijPm5i24J3/6qvP1ff1I+1xhug3Vr58OTXN+eMC1k521113qDcr5VV6wFd1HDaOxf2DsMRDBWZazOoy+x8mP8J3AKElSMMIYY0HMghxTGXftm0bLbSdzh3Kfc0b1xN8Tqg45cNHjkuRQvkkg/qOOxmm9h783jNORda+hLRnHaRW8ubOqacJx/cYnmmEP26rLgAAQABJREFUd/hm9bDXN+sNr64h+CBX9cHDR1U7ObxCQ0w9LkmABJJGIM2ho7HWXyj8wjpz7qJusVjBuMT/STtF9By9c9/RK/baooeyd09e+sl/jCNS3mGacVigDB1GTAdTVzcY5D+vt/HO2xrkYRGrhglQMHgLr75Lly6tczhH7OQhOBEEFAavYZIUDAaERzOxhslONm/eor2kEKXwMgdjEKsY/IaJYPydH3wRjgKPOsIaEMYQCUPIC7ysEO32iWoice6EngPCf+vW7eoB6bgaYFtUkC0FHudgDHwRsoTQEczkCA90QuzAgYOCOHbPgNK4gbsJaYN1SYAESCAxBILVjhTUiaHLY4Im4Cao0Yh9UhcnUR3uPNPRLqiDBs2KJEACJEACJEACIScQrKB2fm8V8u6wQRJwJoDsHYihRho8k2saWT+MmbR62HYS3KYelyRAAiRAAiRAAiSQXAQoqJOLPM9rEUDaO7un2i6iUUmn1VPx1ik5btq6WK6QAAmQAAmQAAlccQQoqK+4WxpdF5RWhViqMTQBTU/eorzVENYweK2RTg9iOlxCGn2jkQAJkAAJkAAJkEBSCVBQJ5Ugj3clkDtbWjkUG5cZwLWyKoSwhkUijR76RiMBEiABEiABEiCBpBKgokgqQR7vSqBMgcRndXBtOASF0dy3EFwemyABEiABEiABEogQAQrqCIFOraepVSJ6X4JEc99S6/eF100CJEACJEACKZEABXVKvGspqM8YYFivTIao6zH65Dv4Meo6yQ6RAAmQAAmQAAmkCAIU1CniNqXsTt5eK5OUKxg9oR/oC/pEIwESIAESIAESIIFQEKCgDgVFthGQQKeGWaLCUw3PNPpCIwESIAESIAESIIFQEYjeANdQXSHbiRoC8Aojbvnv7Rdk8/6LcuTkpaBS6iXlApAaD9k8MAAR52aYR1Jo8lgSIAESIAESIAEnAhTUTlS4L2wEIGgpasOGlw2TAAmQAAmQAAkkAwGGfCQDdJ6SBEiABEiABEiABEjgyiFAQX3l3EteCQmQAAmQAAmQAAmQQDIQoKBOBug8JQmQAAmQAAmQAAmQwJVDgIL6yrmXvBISIAESIAESIAESIIFkIEBBnQzQeUoSIAESIAESIAESIIErhwAF9ZVzL3klJEACJEACJEACJEACyUCAgjoZoPOUJEACJEACJEACJEACVw4BCuor517ySkiABEiABEiABEiABJKBAAV1MkDnKUmABEiABEiABEiABK4cAhTUV8695JWQAAmQAAmQAAmQAAkkA4H0h44ct0576dIlyZYtm7XNFRIgARIgARIgARIgARIgAXcC9FC782EpCZAACZAACZAACZAACbgSSJ83dw6rAjzUZ85dtLa5QgIkQAIkQAIkQAIkQAIk4E6AHmp3PiwlARIgARIgARIgARIgAVcCFNSueFhIAiRAAiRAAiRAAiRAAu4EKKjd+bCUBEiABEiABEiABEiABFwJUFC74mEhCZAACZAACZAACZAACbgToKB258NSEiABEiABEiABEiABEnAlQEHtioeFJEACJEACJEACJEACJOBOgILanQ9LSYAESIAESIAESIAESMCVAAW1Kx4WkgAJkAAJkAAJkAAJkIA7AQpqdz4sJQESIAESIAESIAESIAFXAhTUrnhYSAIkQAIkQAIkQAIkQALuBNK7F7M00gQOHTsmW/bslf2Hj0rs6dPy33//hbULadKkkZgsWaRAnlxSunAhyZszZ1jPx8ZJgARIgARIgARI4EojQEEdRXd0ydp1smnn7oj2CIL9xKlT+oNzly1WROpWqhjRPvBkJEACJEACJEACJJCSCTDkI0ru3p9//xtxMe106RDV6AuNBEiABEiABEiABEggOAIU1MFxCmsteKb3Hjoc1nMkpHH0BX2ikQAJkAAJkAAJkAAJBCZAQR2YUVhrIGY60mEewVwQ+oS+0UiABEiABEiABEiABNwJUFC78wl7KQYgRqtFc9+ilRn7RQIkQAIkQAIkkPoIpEpBfelSeDNnJORrhGwe0WrR3LdoZcZ+kQAJkAAJkAAJpD4CqTLLx4WLFyVj2ui4dKTGi1YLd9+2b98h69atl92798jJkyelQIECUrFiealevZorkp9/niDDh4/UdTp0uFfuvvtO1/rJWbhhwyY5etT5oSmLSldYrlxZyZw5U3J28Yo899mzZ2X58pWJvraSJYvr72OiG0ghB7766pvyzz//6N6+/fYb6uevQgrpObtJAiRAAtFFIDpUZYSZnDuvBHWG6Lj0UOWZzqfyR+fNlcMieejocTmYxBjoUPXN6tTllQULFsoXXwyR+fMXOObZLl26lLz44rPSuHFD30P19oEDB2XVqjV6/eDBg451omXnhx8OlN9++91vd9KlSytlypSRKlUqSevWt8t11zXwW5cFwRPYv/+AdOjQOfgDfGq+/PIL6vh7ffZeeZvbt2+3fpZOnjx15V0gr4gESIAEIkQgOlRlhC7WnObM2fMSkzXlewUrKi8ahDQ+8ayEZw9ENT7rtu2IVyU5dnz77XfyzjsD5NKlS35Pv2XLVunR4zF5/fWXo9r7/NBDPeXcuXPSt+9TUrVqZb/X41Zw8eIl2bBho/5MnDhZnn66lzz4YFe3Q1h2mcDkyVNlzJifpHz5cvoBjGCil0AoflYidXUn1IPFvys3yP6DRyVH9qxSpmRRKVG0oKRPny5RXUhKe2s3bpOtO/bIqVNnpWSxglKmVFHJnTN7ovrBg0iABMJLIHUK6nMX5MKFi4n+BRneWxJc6xDTlUpcVs22Q4xX2ohsI7ixhKg25bZDIrY6cuQoeeut96zzwRvbuXNHqVChvPZUL1v2t0ydOkOmT/9NLqqwnBde+J/s379fHn20h3VMtKwgTOWPP2br7hwL8k1A375Pennd8R3cs2ePLFv2j4wcOVpOq/Cf9977UNaqlIUDBrwTLZcatf2YM2eefstx5szZeH3Mqb7vTz75eLz92DFu3C+ydes2Xda6dSspXbqUXrf/U6NGDfsm15NAIDE/K0k4XZIOnfHnIpk4bZ6cO3/eq50C+XLL493ulvxqmRBLbHuHjxyXL4ePV2I6/qD1ljddJy1vvC4h3WBdEiCBCBBIlYIaXE+cOie5c2SJAOLQngLC+Lqr4mKM3TzQqGv3Yue7KqfMU3GlySGq9+3bL++/P9CC0aVLR3n++WesbawUKVJYWrZsoUXlV199o8sGDvxUbrihsQqJSJwH2OsEIdxYv35DglvD9fnGqMKz3bx5U3nggQ7Sps29cuDAAYGn+o47WnmJ7wSfLBUcsG6d/3uQI0d2eeSRhxwpLF36tyWoW7S4RX+/HCtyZ0gIJOZnJSQnTmAj0/9YKD//+qc+qn6tKlK5Qik5eeq0LP13rWzZvkfe/niE9H6onRRX3upgLLHtHT9xUj4YPEoOHj4m+fPmkqvrVJWC+fLIpm27ZN6i5TJp+jyB4H6g3a3BdIN1SIAEIkQgVWb5ANuTp88qL8SFCGEO3WkgkI2tVfGPEMj+wjkgnFGOesbsYtzsi8Ry8OCv9cBDnKts2TLy7LN9/J4WntyaNa/S5YjjHjJkqN+6yVWwfv3GkJ66UKGC8r//PW+1+fPP4611rsQngJChTZs2xS/gnqgjEOqflXBc4GE15uSXaXN1021aNpGu97WUBnWrSfPG9eTpR+6TyuVLanE9bornrVSgPiSlvUkz5nnEtPKG9+3ZQXuj69WqLO1bN5eHH2gtGHcxf/EK2bJtd6BusJwESCCCBFKlhzq7ip8+oWLSjp44LQXypJx4NONtxvcjIZ5mCG4MUjRiGu34E+Hh+u7NnDnLarpr106SNq37s1y7dner7APL9TELFy62jvW3skfl8/7zzzlKZG2WmJhsOlNI7do1JVeuXP4O0fuRaQTtb9y4SRC7jfrIvFGuXBlp2PBayZgxo3U8QguGDRuut6dPn2ntnzBhkvx9ebr2unVry9VX17PKErJSp05tq/q2bXEPQQh7QZgCDH1r1qyJDg/54YexOpMFMqR88cUn1rFmBSEk6NuKFatk7969mkuJEsX1WwBfT7k5BtexaJGH97XXXqM5IjxiwYJF+oP7VqtWDWnbto2VneS8ej2+ePFSXb5mzVr9puHWW2+Wa66pb5r1WuLtg4mh7969qxYIOH7KlGmyY8dONUizlFx7bQOpV6+OZM2a1evYuXPnq0F0qyU2NlYxOKPLcG2ffvqFVe+RRx4M+P2yKge5snTpMh2KtFNNeIS4+cKFC6nru1puuqmZCh1z/jVqrhPfoS5dHpAzZ87IkiXLFKeFApFZsmQJ9SaipVSrVtXqxa5dygs57y9VZ7EKe7qg3sxUkfvuu0eyZ4+x6pgV+72qWbOG/t6dOBErP/74k6xcuVpwX/BdbNDgav0Qa45L7DJSPyvHj5+Q8eN/EXyX8GYL4TulS5eUO++8Q4oXL5bY7rseN+OPRToMsHDBvHLj9d4/v4idvqf1jfLKe1/L6nVbZPfeg1KkUL6wtAfvNLzQsNa3NlYx3Nm8zlO1UhmpVa2CLFFe8xmzF8tDHe/wKucGCZBA8hFw/kuQfP2JyJlzZs8iZ5V3Gtk+Dh07KXlzev/SikgnEngShG+YmGl4nP2FbaCeUxn24Ti0YdqJlKjGH8a9e/dZV4w/8IEMsa3B1EM7Q4cOlw8/HGQJLNM2xPHHH3/gV+Aibvntt98XpFhzMnjJP/tskOTLl1cXnz59SsU2x4WtmGPGjZtgVnWYQWIFdYYMGax27BkXdu/ea50XITGlSpVU53nCCltIkyaNdZxZwcNI9+4PC8SJryHDSosWN6t49tcFqfvstmjREutcEIIIj3jzzXftVWTSpMlKwH+tuH8lhZRn/eGHH1cifIlXnVGjxuisJe++299rPzYQxgNRCmvfvp28/PLrggGGxvBg9O23w1XfMqvwn7eUaG1uimTmzD9UvPkoaxsriNEdODDugeLhh7t7lSdlA6IUrGfPnhuvmdGjf9T3YvTo4ZInT/zYWnOdMTEx+iGmY8eusnnzFq92vvtupA73efHFZ9X4gelqUOpzWgibSlOmTNdvaL75ZrCX8Ea5/V5hIOt//12Sxx9/So4dO24Ol2nTZuh1PBwOGjRAPVTFF+ZWZZeVSP2s4N736tVHDcKLn3Hks8++VG+2ntYPJy5dTVTRKiWUYXVrOIeWFSqQR4toiOm5C/+Vdnc0cz1PYtvDIEQMVM6UMYNUr1zG8Ry1a1TSgvqflesFAx6zZ/N+6Nx/8Ij2Xu/cs1/Onjsv+fLklNrVK0o+FT5CIwESCB+BVCmogTN3jqxy4Ijycp05L4ck+kW1CfWAMPYnhE18NYSzUx2zz4hqsx2+r5en5S1bPAPAsJUzZw4pVqxowFPC61e0aJGA9SZNmqK8fRu0RxJCE2LiyJEj+jjkf+7S5SHlVf5aezvtjcF7iAGAMMTbNmhwjcCjHRt7Un79dYoWPhCl7dp1UGnvJuv2IXiNuIPH8tChw/p4eJbz5s2j18uXL6uXifln5cpV1mGFChWy1u0rCIF57rmXLDFtLzPrO3bsVCL3MUtMo28QVJs3b1Xe6pW62uTJ09SAz4MyYsQ3fr2548dP1F5CiO7SpUsJvObwhsOQlg5CGuzgDcVDB/KI4w2BeUCBl7FOnVpyzz1362Oc/sHA0xkzZuqBqfB8w8MKbzViyeGBfuKJp5XHdaSVm7xKlYr6HuDeGhGPB6f69evamo//gGErTNBqv36vWmI6f/78Kq79OuUtzq4HQ+J7B+89WH/33TeWx973BOfPn5f77++i34DAw5ouXTrNEvcSn2HDRugHTnDAGwAM0j1x4oQasOoZkIZrfeqpZ9Xbhh/jPQCZcyGfO3Kzp0+fQTDmoGjRonpwKwb64hzw7Pfp87wMHvyxOSToZaR+VnANvXv31WIaYQ01a9bUP7cbN27UHnu8lXjnnQH694L5OQz6IlwqHj0eqzJ6eH5nlC/j3wNernQx7Z3ed8Dzc++vyaS0t37TDt1syWKFVGrXuAds+7nKqUwfMExQdvDQUS9BPfuvf2T0+N+sN0DmuPEqVKXVzQ3l1qYNzC4uSYAEQkwg1QrqDOo1Xo6YzHI89owW1fsvnpBcynMdLfmpfe8zxDLMTQSbPNSou048v5h920Hoh8RPDuJbLaTbhw/H/QEKFIKR0BND1LRte5ca4NhXe98QSoCsGf37v63z6164cEF7VOvVq+PVtAmhgEgeOXKo12DBHj26SaNGzbUw37lzlxbslSpV1O1/8olHhEOo49U87LHHHk5y/miILogFY/683HPnzlOhA2fVg0JHufnmG/XrcBxrDB7p7t0fkcOHPQIBXDp1ut8Szbt27VYhBJ20WFuyZKkSYd/rcnO8fYk3C2DRu/fjWgQi88r7739kxbQjBAAhGchI0qpVC30oBHfPnr214MSOH34Y6yqoISIff/xR9XnEOjVE9WOP9Za//lqohUH//u/K6NHf6XKEmuCDe9y+fUe9DyEi5r5YjYRgZfDgr1SojeftA94MDBjwttjfBnz55TeKx4c6NOmll17R3nSn0+IBA99LCOLKlSvpKmD76KO9BPcDNm3aDD0I9Z13+lsPZ2ADIY3jIdwRmgSx7GSzlQcdISRDhgyWEiXixlmgXQhptDFr1h/6viCUJyEWiZ+VAwcOClLr4fuDNxOjRn3nNRAZD69t2rTXbyP69HlOxo4dpR88EnId/uoePRr3Ficmxtvbaz8mJpvnbQ4Es5slpb2jxzx9CaYf6MPRY3F9Wb9pu3z/83TJoJwRne65VSqULSH/KdH97+qNMmbCTJkwZY5UKFNCyl4W5G7XwDISIIGEE3APZE14eynqiJgsmSR/7hglotPp8I/9h2PlyPHTOpYumi7EiOlQ9MkeDhLKdt36ZhfU8O6F0hBT3L//q9arbHj4EMf88sv9rNNAbNgNHj/ESN9yi4qLfOVFLzGNegh1MAIR24sXL8UiLAbBv2TJMiU6O2qPIk4CL3779m0dzwcP/JtvvqYzpNSuXUvHxkLsG8Mrc8SCw66/vpF+PQ4mxuD1f+WVODZ4le/P0O7TT/fWYhp14Fl95pmnpGDBAtYh4GRnlS1bNsX+RascAwfhIfVneHCwi2nUQ7zwBx+8K5kyZdKH/f33PzqW1l8b4dgPATx48Ne6aQhVMLeLaRQ89FBXK04cwhWv6v0ZQhWMmEYdrCPW2xjafvPNVy0xjf033thMZ4AxdQIN7sPPgV1M4zg8dN13XzvThAqtmWatB7MSqZ8VvM0wHnmEv/hm9cFbFoT/wPBAiYeDUNnJy7H4aC8mq3cIlP0c2S6XHbEJcHu5WU9Ke8gqAjPnMm3al/h5znJ5dlUjwFG+cq0nbKVxg5pyde2qOl91ntw5pMl1teX6a2tJjAoN2byNAxntLLlOAqEkkGo91AYiPNUYmHhMDVDEQEVk/8Anc8b0kjlTBi220yshkTZt6F4jm3MnZmkXxDjePlDRCGQszQBE1MEARieDR9u3Pad6Sd1nhBHacYqNTEr7CGVwMghmY8Zba7bhJR806AOz6bisXj0uNSG8Z6GwN954WwnFQVZTEG2ILYfn1xhCAr766jMvYWXKsESIhV3A2suwbg8buf/+e32L9XaTJtfr2F94PfHBgEw8mPhagwbxBxVC+IHNvn2eQaZOce4IvUE/4S1H2AauEYP4nKxDh/ZOu/X133rrTWpw2kQtyBcvXqLjkB0rh2EnHkrMdxXfMX/Tw199dX09GBMiD+EuFSqUc+yN0wDNq66qbtUtXbqU41TnNWpU1yFIqLh161YsHK18+XI+YS9x1TDjI2LSYWbAaVyp+1qkflYw0NRY8+bNzKrXEiFZeNg9d+6cNbujV4VEbpxTccbGMmWKG4Rs9pkl4pphp9W9xiOiv78ISWnPZJ7C3x43Q1/Qj1Pqb5WxU5fFuBHlZj+WyBCCD40ESCB8BFK9oDZoMVAxa5aMEqtF9Tk5c+6C/pjy5FyaUA4n8WsGGPr2z4hr7Me6/Vis28t9jw31dp48nvhitIvY2FCaXazb27V7Ze377evwnM6fv0B/kCkCwg+vlvF6HPGawZqbB9beBtrGx8kQM1qvXj356KP3HAe4mWNKly5tVh2XdmFSpoz/uhC9ENOwHTt2OgrqjBk9HmLfE9nZOvGH6EZmBghq2PnzcYLFt62KFSv47rK2y5aNE/kHDx6y9vuuBMvf9zi3bcSFG4PndPDgr8ym13LDho3W9urVq/0KaidOgTiiYXuIlBtHxF37M3itcX58rw8d8s/R3/HYH+6fFcMb4R5jxoz12xW8AfEI6rj747dykAX2TBqnTp3RAwKdDjXiFfX9iWkcl5T2cOyuPQdUir4zTl2w9tn7YnbWuqqizFUZQhYsXSX7VEz4tXWr63R/HIxoCHFJAuElQEFt4wtvNQYrIpb6tJqe/KwS1efVbHYX1KtcDABJbnMSwfA+G8GNciOefQW0U991PLVTQYj3YcCaMcTHwpvnz+Nn6oV7uWDBIpX3+TVLVOJ8EDjoKwbh+ROTSekX0qwh3tdYmjRpdTqwatXUJBIqBMA344apZ18GelOyevVaXR3hGUWK+B/UCU+4MTexauqEa1mgQH6/TRcsGFd2/LiK/Y+g2R9MEF4QTIjBhg2bIthD71O5cUTN/PnzCcYD4OcPb0bsYt67pfhb4f5ZwYMX4vFheKNhf4sTvzeePbgWpCHMnDmzvypB78+dK7tVN1ZlzbBvWwVqJfakJxwjVw73TCn24xPanplW3MnLbPpyXmeo8jyk5soZ15eqFUtLD5WnevJv83WWD5OnGv3BRDVNGtaRQH035+CSBEgg4QQoqB2YwcOWNXNG/XEoDu2uFYGbsw8kNILZHAXhbInnkh5vNMrcBi86CXPTXjiWSD+HP+D4Qw7Dq3HMEOhm8Jp+//0PugoGDj711BNu1RNUhvP37NlLiwu03bHjfXLvve10/mRswyZMmCR9+z6foHYDVb7rrtt1KrlA9ZJSbhgjjARp/mJi4v7g2ttFbKyxQGLM1AvHEtlCSpd2TltpPNw4LzyTkTS7NxixzAg3CGRVq1YJVCVs5eDoZidOeN4W4KEtIWI6Ej8rGEdgDP174olHzabrEg+NobCcKmYfv/PhhceAQ38zIR5XDyMwu2B2On9S2jMC+YhtsKHvOY7ZBkUaAW7q1KpeQfBZu0Fl9Fm7WTaorCE7du+Xab8vlIXKc93n0fuYPs/A4pIEQkyAgjrEQMPRnCWYVeNJjXu2i2l7u+Hot2kzd+7cKgVWDZWZ4W+9a/ToMfL66y+bYscl8hgPGTJUl9WrV8exTmJ3jhgxSotpHN+v33NaTCe2LRwXjpCDxPYHnkgzKczWrdtV7mJnkYcYYWPJKQQh2EqXLmW64rU0g9SwE98hfxYO/vaBl8WKFZFu3Tr7O31U7AdHf4YJfkxuaqd82f6Ow/5I/Kzkzp1L8CCLhxj0tV27ux0nsnHrZ1LKEG5VrEgB2bFrnyxXGTGqV44LNTLt4g2lGfRXqnhhs9txmZT2TNs7du3VGTyMwLafCEIZllUNqi+Q3/nnolL5UoIP7IAK/xjx03RZp3JcT5m1QDq2vUXv5z8kQAKhJRA3/D+07bK1EBNIiPh1q2vPZx3iLro2d8cdLa3yX36ZZOWKtnbaVo4prztG/Ru77roGZjUkS8wcaOymm5qbVa/lwYMHvbZTysZVV1WzuoqBfE4Gz++mTVt0EYSjPSTHqX449yE/spNBJM+ZM88qqlatqrUeiRW8VTG2atUasxpviTcpU6dO1x+sJ5dt3rzFypLh24fZs+dauxLKMRI/K/AO16gRx3v1av+8f//9T80ay1Bas0Z1dXPLlq/Xk6H4tr1m/RYV8nFKDVLPII2uqeFbHG87se1BzOdXU46rr78sWBZ/MLnaLYuWeX5/NbpGDdK8/EYNgn/UzzNkxNhpKsbce8wC2rv5Bs8A4z37UubvtXiAuYMEopAABXUU3hTfLsGrbDzLbnHPCPOYoESIv3APe0YQf3V8zx2qbXidTCosxEl26NBFx3T6to9QhAce6C4mrheDspB3OJRmwjrQplNsLuJMf/zxZ9dTItuAMQz2ihZDvmRjH3/8uWO6udde6689gaiHiVeS00aP/lHnlPbtA2ZOXL9+g96NVH++2TPs/BGTH2qrX7+eDgFCu4sWLZFffvk13ilwXuROxuQzyBcdqhCEeCcKYgcG6vXr90q8mvhu2qdl981jbc9qgRSHvhapn5U777zdOnX//u/o+Ghrx+UV5ATv0eMxzTvUgrpezco6vhixy58OGeslqjFI8JtRnvvfoG41r5R2i5atllffH6I/mEXRWGLbw8NF88vifuK0ufLPSs/PANrFQ+YolWd6y/Y96ruWVqXDi3tzh7EVyPqBWRwn//aX6Ya1XLZ8nV4vU7KotY8rJEACoSWQPrTNsbVwELB7ld28z27nRhsmI4jb1OVubSSlDH8A+vd/VYnlrjrcAqna7rqrvTRrdoNOw4bR/RAu8Era40FffvkFPaAqKef2PRYTW2CmQ9jzz7+kYqWflFq1aurYUkwY8vrrb8bLOezbBjJomD/qyO1bunQpPUAqJiabznDhWz9S20iJh3hwhMwgU0m3bj30K3RwRggIhKoRhxCq/fo9H6muOZ4H2UB69+6jZhK8T0+HjtjvqVNnqGwnH1v1H320h7VuVjC408S9blXp5PC9KV3asw+zTOL7lhRDnDEmi8HDHTj26/ey9gBjpkQM9oT3Hw9dJtSiVavbLAGelPMm9liExIBBr15Py5133qG+zzXULJfr5N13B1j5zZFP2zflYsGCBa1Tjh49Vs9OaJ/tM1I/K23atNYp/TB2Ye3adXoWTuRiR1pGhP5gkp9Bgz7TfcW97d69i9XvUKygzR6dWstn3/4s6zfvkD4vfyylSxRWKVTPqNkRD2iPceXyJaV1i8Zep4MA37PPkznlnC2bTWLbQ+PwgCP8BBk7Bg8bp6cOL6C8zFt37NFp8jJkSC9d7m0pvuEgza+vJyvWbJKpvy+QDVt2SKVyJeWiGreyeesu2bh1p8r0klHq1XIfu+J1cdwgARJIEAEK6gThinzlUHiV7WIagjzS3mlDDQMRR436Tom8h7XnFN7on34arz+mjllCYD/55BNy2223ml0hW7Zu3UrNtPaz/kMNAX3vvZ10qjpMzIFwEwzSQ57q9u07+j0nhOvQocN1DulJkybr2RhRGdNsB4oP99toiApefvlFHTPr8fJulDfeeFt/7M1nzx6j810nZ7gH+tO//ytKBPbRMw5i1kFfw+Q7d999p+9uPUMjxB5mq4SnGN8pY/PmzVIPYfnNZqKXCI/4+uvP9fT1iO0dMOAj/fFtENlb+vTp5bs7otutW7eUdes2yJQp0/XH9+QYnPrOO2/oPM72Mvx8jRzpmdxnxYqV6uettZ5U6LXX/qerRepnBQ8wb7/dX6f2wwPV/PmedJb2vmIdgxZfeun5eBPY+NZLzHbpEkXkuSc66rAJiFAIaxgyY9SpUUnatLwhQQM6E9seWNyv4pwLFcwrf87/Ww6o6cUPHj4mmA8BIr/dHc3UMn4GnxJFC8r/nu6qZ0tcu2GbbFLXAEuvslehPmKnCxXIq/fxHxIggdAToKAOPdOQtmi8ysYzjdAPkyYPJ8K2EcimjtmPevZwkeQU0wYK8uVOnjxBefd+0tNem6mXTTnELLzFz6gZ+eyp3Ux5KJZod+zY75Vn+gU9SyFel2PyF8zG1qLFzfLCC8+oP9xZXU9Vv35dGTjwfSW4vhWkS8OUyTDMcpjchj/I77//luJXVF3nOK/c1/DqNmp0nRKxPR1zT0e67w0bXivffPOFfitgnwkQQr9Tp47y4INd/L4t+PTTj3Tqw7///leHD+GVOLKBpEsXul9ryO4xdOhXKmxisCDe22RRAUfkd77vvnukc+eOfvsYKZ645i+++ETNJvihfjuBAX4wc7/x8+SUq7pu3dpKyL6hPdlmAiR7itBI/qzAq4sZMsuWHaxyUf/slbMe9xXhSRDT8LSHy/Lmzim9Hmyn06TCM40ZC92yeiAVHT7+LKHt2dtp3rie4HNCxW4fPnJcihTKp6cVt9fxXUdfe3Zto/t/8PBR/X2Fdxu/E2gkQALhJZDm0NFYjHPQhj8WZ855Zm0rVjCX2X3FLHfu86QKi6Zr++G33/3yhRi2z3jot6KtAKIZx/kawjyM8PYtc9u+p3kTt+IklyH7wO7du7WXsWzZMnqGvSQ3moAGkLILsbr4g53YP9QQcvBsZ82aNZ4HMAFdCUtVhFDgoWXfvv0qhV42KVq0aMQZ+15YtWp19OQc2L98+WIdKgOG+B7s3r1Xh/gUK1ZUedaCF8bISYz8vLhGiMhwGAZz7tq1S+dKRky3v5SE4Ti3U5tffDHE8pgjBAKiGYYZHjdv3qLFFASxW4YUe7sQ1HhrhJ8Dp3jwSP6s4G3Rnj179GRLeLhCn8J1X+0MuE4CJEACvgSC1Y7B/8XyPQO3w07A7nF2Opkptwto+zqOQR18EiOmnc4Z6n3w6CanVxeizQyWTOy14Q+9fUa7xLYTjuMgjOBJxSeaDQwh9vFJjGGCjxDM8eF6akynniNHJdc60VCIB7uEZvNAv5FSzy2tXiR/VuCtxkMVPjQSIAESSAkEKKij/C5hJkS7GRFt34d1I6RNOEi0CmjffnObBEiABEiABEiABFI6AQrqKL+D/gS0b7dNPbP0Lec2CZAACZAACZAACZBAeAhQUIeHa9Ct4lU34kej0RizGI13JeX36eGHH1TxvZ6xGgmJk075Vx7aK8Agvcce82Q3qV07efOJh/bK2BoJkAAJpDwCFNTJfM9iVBqoE2oQUTQa+kYjgVATMCIw1O2mtvaQoQMfGgmQAAmQQPITYC6dZL4HBfJEbzaVaO5bMt82np4ESIAESIAESIAELAIU1BaK5FkpXbhQ8pw4iLNGc9+C6D6rkAAJkAAJkAAJkEBECFBQRwSz/5PkVTmjyxaLP+uV/yMiU4I+oW80EiABEiABEiABEiABdwIU1O58IlJat1JFKaRm6YsWQ1/QJxoJkAAJkAAJkAAJkEBgAhTUgRlFpMb1tWpEhacanmn0hUYCJEACJEACJEACJBAcAWb5CI5TRGrBK4y45S179sr+w0cl9vTpsKfUQ2o8ZPPAAEScm2EeEbnVPAkJkAAJkAAJkMAVRICCOspuJgQtRW2U3RR2hwRIgARIgARIgARcCDDkwwUOi0iABEiABEiABEiABEggEAEK6kCEWE4CJEACJEACJEACJEACLgQoqF3gsIgESIAESIAESIAESIAEAhGgoA5EiOUkQAIkQAIkQAIkQAIk4EKAgtoFDotIgARIgARIgARIgARIIBABCupAhFhOAiRAAiRAAiRAAiRAAi4EKKhd4LCIBEiABEiABEiABEiABAIRoKAORIjlJEACJEACJEACJEACJOBCgILaBQ6LSIAESIAESIAESIAESCAQAQrqQIRYTgIkQAIkQAIkQAIkQAIuBCioXeCwiARIgARIgARIgARIgAQCEaCgDkSI5SRAAiRAAiRAAiRAAiTgQoCC2gUOi0iABEiABEiABEiABEggEAEK6kCEWE4CJEACJEACJEACJEACLgQoqF3gsIgESIAESIAESIAESIAEAhGgoA5EiOUkQAIkQAIkQAIkQAIk4EKAgtoFDotIgARIgARIgARIgARIIBABCupAhFhOAiRAAiRAAiRAAiRAAi4EKKhd4LCIBEiABEiABEiABEiABAIRoKAORIjlJEACJEACJEACJEACJOBCgILaBQ6LSIAESIAESIAESIAESCAQAQrqQIRYTgIkQAIkQAIkQAIkQAIuBCioXeCwiARIgARIgARIgARIgAQCEUgfqALLI0vg4sGNcmHzXLm4b7Vcij0g8t/F8HYgTTpJG5Nf0hWsIunLNJR0+cqF93xsnQRIgARIgARIgASuMAIU1FF0Q88uGirnN86KbI+UYL90Yq/+4NwZyjWVTPU7R7YPPBsJkAAJkAAJkAAJpGACDPmIkpt3+vf3Ii+mHa4dohp9oZEACZAACZAACZAACQRHgII6OE5hrQXP9MU9K8J6joQ0jr6gTzQSIAESIAESIAESIIHABCioAzMKaw3ETEc8zCOIK0Kf0DcaCZAACZAACZAACZCAOwEKanc+YS/FAMRotWjuW7QyY79IgARIgARIgARSH4FUKagvXfovau40snlEq0Vz36KVGftFAiRAAiRAAiSQ+gikyiwfFy5elIxpo+PSdWq8RH7v0uUrLxkq36KPvqTCM86tmaLS3pWXdPnLSVqV/g77YNifGEtK33zPt2/fftm+fYfeXahQQSlevJhvlXjbF9V9WrbsH70/ffr0UqtWjXh1rpQd4LNr1259OQULFpCiRYtE5aXhfuC+BGtp0qSRunVrB1s9auudPn1aVq5M2MNvxowZpEaNqyJ+TaNH/yg//PCjPu/dd98lHTq0j3gf3E6YUr7rbtfAMhIgARLwJRAdqtK3V2HePndeCeoMUXLpicgzbYQ0lsb0vkq3mk29NOUZ1P7za6ckXFgnom9eHbBtTJkyTd588129p0uXjvL888/YSp1Xjx8/rsRAZ12YJ09uWbBgtnPFK2Dv+PETZcCAj/SVdOvWWZ599umovKoHH3xETpyIDbpvadOmlbVr/w26frRW3Lp1m/VdDLaPhQsXkj//nBFs9ZDVO3DggKxatUa317ixymUfZZZSvutRho3dIQESiHICUaIqI0vpzNnzEpM1U2RPGqKzQSRnbvS4bu3iwQ1yfs1UvQ6vNIQzzIhn1DX7UXbxwEY10HCDrsN/SCASBJSDOtUaHiZoyUNg8uSpMmbMT1K+fDl58cVnw96JA4eOypbtu6VSuZKSI3s2v+fbvG23HDx8VOrXquK3jr+Cc+fOy9ade2WLauP8+QtSsnghKVmskOv5TFuHjhyTnbsPyI7d+9RkYSLFihSQYoXzS768uUwVLkmABJJIIHUK6nMX5MKFi5I+fbok4ov84RDIMCOa7T3IUMmzZUI8IJ6NgIagRnjIxTkU1HZm0bJevHhRadjwWt2d0qVLRku3XPvxyiv9JHfu3K510qa98hQ1Qpb69HnS9bpRmDVrloB1UmOFSHzX58yZJ/PnL5AzZ85GBPHEaXNl0d+r5cmH2/sVuPib8833E5WgPib1lKAO9ifj0qVL8t2YKbp9p/E/DetfJfe1uUmcHuDOnT8v3/80QxYsXenIoV7NynJ/21skkwpPopEACSSNQKoU1EB24tQ5yZ0j5fzB0yEdShCbMA4jms3tN8LZbNuXqAtBjWMzVr414aEf9sa4HhYCLVrcIvikJLvhhsZSpEjhlNTlkPQ1R47scvvtt4WkrdTYSCS+6+vWhddxcPRYrGzYskOOnzgp/67cIOs3e8aH+N7Pnbv3y849B+TosRMyd+FyLaZ967htQ4R/NWKC/LtqoxLMaeTq2lWlRLGC+hB4u5ctXytzFy2Xw6r9R7vcJenTxTmJzpw5J+99NlJ2qfMXzJ9HWt54nZQqUVgL+W279smv0+fJ4n/WKK/1fnnmsQ6SNUtmt66wjARIIACBVCuoT54+K9myZIieWOoANwqeaSOm4Z1OqEFwa1GuhDUGLJ6Z83FCm2B9EiABEoh6AvDobtq0Kaz9XL1+i/YaBzrJb7MXK+/wqkDV/JbP+HORFtPwID/1yL06xMNUbtZIVFkVGTzsZ1m9bots2LRDKlcoZYpl5brNWkznypld+vbsIDHZ4hxICPWoXL6U9P9wqOzdf0iWr94k19Spah3LFRIggYQTSJWCOruKnz5x6qwcPXFaCuTJnnBqET4CXmV4mE2YB4Qx4qixNPsCdckIaHMcjnXzagdqLxrKp02bIRgsBrv55hulVKn4oRLHjh2X0aPH6Dq5cuWSe+65W6/7/nPq1ClZvnyFbNy4Wf0x3ixHjx6TYsWKStmyZeTWW2+STJkyqTChC/Lbb7Pk++9/kF69ekqdOt7ZK/CHfPnylfr4jRs3yZ49e6RAgQJSokRx3b/8+fPp0yJTxqhRP0iFCuXlwQe76n1r1qyV2bPn6vV69epI7dq1rC7u379fxo37RW+XKFFC9wcDA6dOnab6u0nOqRCmGjWq6f4Eyp6SlD5aHQrBCu7LnDlzL7ParFssV66MjnmtX7+e5MuX1/UsGHj3888T9PGHDx+RSpUqSM2aNaRevbqSM2cO12ORpQTfnUWLlujMKhkzZtRZVW655UYv7q6NJKLw77//VedcrI+85pr6OgPItm3b5Y8/ZsvmzVsEnm9kBUFWFHxX3WzhwsXq/s+QnTt36tCScuXKSps2dwZ8Y2D/LiGbTOvWt+usLb/+OlUN+l0oBw8e0n1o0OBqtawu6WweT6f+IGPHuHGe+3Do0GHJmzePuofl5c47bxfzffc9Llzf9blz56vBmKslNjZWTp8+o0+7d+9e+fTTL6wuPPLIg46hEVaFIFdqVC0vLz7p8RTj98I7H49wPPL2WxpJs8b1dNmmrbtk9LiEDVJdpYQy7LYbr/US03qn+qdG1XJSvnRx7SFfs2Grl6BeoUQyrHb1Cl5iWu9U/2TNkknq1Kgk0/9YKCtWb6SgNmC4JIFEEkiVgjpn9ixyVg3qQLaPQ8dOSt6c/geRJJJrSA+DR9ludm81hLY9RZ69ntM6BjGma+RJt5fS46knTJioBO7v+jIhfJ0F9TGVPWOgVcdJUC9Zskz69n3eSlvny+399z+U5s2byowZM+XAgYO6GILabnv27JVnnnlBIHSc7N13B0irVi3l33+Xy/r1ntfRvXs/ZlWFEDf97NXrMS9ht3v3XqsMYRZIx/bCCy/LkSNHrONHjhQtft566zUtkqwC20pS+2hrKkmrixcvVTHIz6kHjr1e7Uyb5tmEEPvss4Fa2HlVuLyBtHCvvfamfsAx5eZhpECB/PLll59KlSqVTZHXcvfuPTpbh0lRaC8cOnS4fvAZOPD9kIgue9tYh4A39/jZZ5/WD1Cff/6V13WgHh4mvv76c7/X8PzzL8lPP41HVS/77LMvVfacvl77fDfs36WrrqoueHh56KGe1ncS9SHwBw78RD9QfvXVZ/qh0rcdbI8YMUr693/HMY3iRx99rB46H5MePbrFOzRc3/WZM/+QkSNHeZ0P9xvXYuzhh7ub1SQts2XNLPjAMEDQn+XJlUPwgR0/HuuvmuP+80qoH1PH4Pirqnj/DbAfkDNHjN7cvdfzu8mUnbr8UJHBJaNVhgyeEJGTl+uaY81y/8EjehDkzj375awaFJkvT04l0CtyMKMBxCUJ2AikSkGN68+dI6scOKI8GWfOyyGJblENbzLMxE1DRMNOjntCst05SHuqTR1dcPkfs8/uiTbrpsxePzWujx//izz33EsCzy2E3B13tJKbbmquPNIZZfr037RnGH+U4ZVGTmV4rStVqqg9z4bXhg2b5N57O6o/mCeU2M2ohHMLufHGZgKvIcTJL7/8qr3fP/74kz4EKQDRRrVqVU0TQS/hke7Vq4/ySp8TeBjTq/zcRhzC8/rss/3kv//+Ux7CO7zajGQfvU7sswEvbceOXTVv9L1u3TrSoEF99TCQXv76a4HMm/eXfmi5//6uMmHCj1KmTGmvFsDz1VffUCLukha9FStWEAziXL9+o/ZW799/QN2LTgIhWL9+Xa9jT548qcTjoxYv3J9Gja6TY8eO6QFse/fu057rt956L+yZIcaOHaf7i4FkeBA8cuSo7gc6DC8xrn/06OHqLYa3kBozZqyXmK5Z8yqpWrWKflODB8M33nhbKleu5HXd/jbAo2vXHrJt23Z9H+Dl3759h+CBB3m3d+7cJZ07P6g84b9ItmzeToeZM3/X58LPDQz3CX3BQwOOg9cWaSDx5ufJJz1Zifz1w9/+hH7Xq1SpqH92jx49qvuBduHp9/4eBDsU0F+vIrc/g/r5eP25h1xP+J8qXbdxu65TvGgBr7q1lGd6xZpNKpxjo46f9hXWmI8BsdmwmtUqeB2Ljdl//SOjx/+mf1btheOnzJZWNzeUW5s2sO/mOgmkegKpVlBnUBk+csRkluOxZ7So3n/xhORSnuuoyU/t8tU08dAQ0zBsYxIXI7Sxz4SJYB2GkA8jps3xnpLI/ztlynQrT67b2fFHOdw2cuQP+g8GhM2QIYO10DXnhDDBK/HbbrtTC1hMtjJrlidNoamD5YQJv2gxjXV4Hjt2vA+r2h54oIO0b99WtdNOh2dg508/jU70xC0QK5jg5p13+lse+eXLV8igQZ9pjyfE9LhxE+MJ6nD0ccKEiSq8IqfnQh3+RZYL8LPbL79Msv5Av/TS80r8trOKH3qoq/JoPia///6nnD17VoWEzPMS1KtXr9EPExDTeCj56KP35JprrraOh8h78sm+Wgx+9tkXXkIKx+BBBMIb9tpr/9P3xRwMYYhz//nnHBk2bIQWsm3btjHFXkuENnzyyWCvfb4bBQvmF3/Hoy7Citq2vUs9zPWV7NljtADF9cLjC1GLsAW8EbELavT99dff1qdKly6tvPXWG4pvK+vUZ86cUSFNHQUhFcEY+pAlSxYZPPhjuf56FZB72SBku3d/RPAgiZCOL7/8xksUY4Kbp556Rt/HDBkyyPDhQ7zeqMxX2TW6deuhH3q+/PJr/XBZrVrC08Ql9LsO3vggpKp9+476asqUKaXu1Yfm0q645eQZ89XfsJP6uiqUKeF1fQhLyZfnL9mz75B8MHiUXF2nmvJ0l9WOAYSDLFy2SqXS2y+5c2XXYSH2g9dv2i7f/zxdIOo73XOrVChbQv5TMwz/q8T5mAkzZcKUOYLzlS1V1H4Y10kgVRNItYIadz1GxZBlUq/Djhw/pcM/9h+OVQMVM0n2rBmjOqUexLERzBDHJj7aLqjNOmKssY7YaXi0YcntnYYnEJ/kNogFiFEY4pzhNfa1kiVL6FjnlSvVHx8lZk2cqL3e9Okzrc2bb25urZsVeK0hWCBUYP/+uyLRghrC/5NPPvKKT8Wr+wED3pZrr22iXj+fV+3/q1/D2+Nfw9HHDz90H9iK8AtfQS0qxwBilTHpiV1MG1Z3332nFtTYhqe0U6f7TZEgPAKeU9gLLzzrJaaxr1mzJuphpoPyTn+j4oEXCeKFEcMOW7VqlRWjfvvtt3mJaZSD6wcfvCtNmtykH44mT57mVxDjOzBo0Kc4zK9Vr17N7/E4CN7x/v1ftY6Ht75Jk+v1NoQ9bMmSpXpp/pk163f9oIHt229v5SWmsS9z5sz6e3DHHW319wD7Aln37l28xDTqo28vvfSCPPKIx7OMSZnsXmaE3JgYZYQt2eP9cfy1116j7ltH+eabYVpUo/4bb7yMogRZYr/rCTpJCq2MMJPxU2fLzNlL9BUgdZ59QCJ2IiTlxSc76cGTf69Yr/Jk74kXw129clnp3P42K3zF4Fi5dotebdygps4sYvY3ua627DtwWJb8s1aQZYSC2pDhkgREUrWgxhcAnmoMTDymBihioCKyf+CTOWN6yZwJWUDS6VREyZVP1y5+IaIxOQsM4R8mBETvCPIftGEMbRuvtdkXiSW8mhi8FMjgNTSDDgPVTUx5tmxZdcgERChCKPzZuXNndREGjeXKFd8ja/fSYvIFJ4PH1RjEe2INoh+hKb6GPmBA4ubNW7TY2bBho9cDQiT76Ns3+/bLL79g34y3DiFq7ODBuJhQ3J/Zs+foIuSBbtky7nts6mPZvXtna6pzhOgYs08b3qxZU7PbawlPcZUqVfTgPDPToFeFEG40auTJOe7bpP36V6xY6VWMe2rM6WEEZRDD5cuXE3jzAxn43HffPY7Vmja9Xg9whJcaP4MYBJo/f35dFw8nMBx///336nXff7p166QFNfb/9tvMRAnqxH7XfftypW0jhANeYuSzhtWvXUXa33mj42Wu2bBNEAftzzAhDTKWIB+13U6d8jy4nry8tJe1b91c8KGRAAl4E0h/6Mhxaw8EjG+snFV4ha9goGLWLBklVovqc3Lm3AX9Cfdlu4/lV16ny7Mioh/wNJvJWyCEMcDQnyA2nmm7pxptQJCbNtC2PRQE5ZGwu+66PaipxzHo7uqrG4etSzExMar9eoLsABAOM2bM1K+n7Sf866+FOvMH9jVseJ1j1oPmzZvowYaog3CBF198FquWQYxMmzZDb0MMV63q/cfLqhjECmK7/Rmux5hdwGNfOPo4atQwFcdd0Jwy3hIeRn+GmO6pU6cr7rv12wowgtcTYQtOtkcNYDReUcTr+msbE80YT6+9HWR/MLZ06TIVN7zNbHotEfMLQxwuvhNOebaRnWXEiG+8jvPdQEy4m2XMmMmx2Pseej/kgZkxPDz5s1KlSgQlqPPly+v3wRZiuWzZMpoBzoO4bghqPHyasBk82CBkxMlQF2V4o4AsLOCaNWtWp6p+9yX2u25vECFQV4rBM4wsIRDJMMzI2LZVUzVJjPPvE6TrGzr6V123zlUV5dp61aV40YL6QWiHykONiWhQZ8jIiern7pw0uqaGrot/aqn6yG+N8n1KkF9bt7pKs1eSgxEtQlwhgfgE3H/rx69/Re+BtxqDFRFLfVpNT35WierzKrH+BRV/6TRDVbhhGG+yr2iGZ1l7rtXvUX+ZOuC9RvYP1LOn1kNbCP0w6fPCfQ3R3j5eWcObhz/6PXv21mK3adMb1ODCTCr04A/555/lOlYUwurRR3s4Xg7iNqdN+00QFgJB/dtvs7Sog/CDWMdgO4hBpN578cXn9B80x4bCuDMcfSxcuLCj4HS7DITZPP30s9agMVMXg8fwBgBhC0526NAhazfCRRJqdg/1d9+plChBGEJ0nAQ1wjMCpbULovkEV9myZas+BvHTiCH3Z0WLBhfXipAcN7OXI80hDGIaohqGcCg3g+hfv36DrgJBXqJEwgS1W9uprWz+4hXygxogiEwbGFx4c5Or5abr6+uMP04sjhw9ISPGTtVFtzZrIHeo9H12q1KxtOBTuGA+GTf5TzX4cIaaNr2E5M/n+V5VVWU9Hmgtk3+br7N8YLpzGOKtMW16k4Z1JNfl7CL2drlOAqmZQPq8ueNytsJDfebcxdTMQ187vDNZM2fUn3DDcEukZNLlOXmijSB2C9vAQEUtvB0u4kpKn+dweUHvQvzxjz9+rwZRPaxfbeNVv/11PzyhiAkdMOAdv948iJvvvx+qB2ohjR+ybowYMcqrD8jk8MEH7yQqs4dXQ4nciIY+wluJFG1m0By85nhIwYOH8V4itr5x4/ivk+0eXbSTUDMiEMd169Y5YJ5r1HNKw4j9yWUIUcKbBwywRIYOuzfb3ifjZbfvc1pHRhQ3Q9YaYzExniwfdo/viRNx5aaefQkvPww/Q/CG0xJHAGIaU4/DIII7qGnG8+aOH3pmbx1hHJhlEQ9fNyrh7c+aNqojv6qBjZiiHDmvb7gsqFEfWULwWbthq6xYu1lPHINZFaf9vlAWKs91n0fvo8faH1juT5UE6KFO4bc9g5qO3J+XOoVfWkS6D6/fF198rXMiY7AcJqVIr95UIMYbKdnw8ec1NR2E8MAALGQXQOowZJ5Ahgsch1RkaAOhCMlp0dDHP/6YY4npFi1u0Vk6gmVSoEBc3PiuXXuCPcyqhxSDZlAoUvU1a3aDVZZSVooVK6bfpKC/8PT7E9TwBgdjBw4c1AMw8WbAyRBmYyx3bk9wmj1+f+tWT7o2U8e+hKg3gh0PJuaByV4nEuv2B4BInC/U59i7/7CM+tkTLlZXTcLS9b6WfsOd7OfG7Iew3GqWREzg4s+QxSN/vlx6RkVkA3GySuVLCT6wAyr8Y8RP01Wqvm0yZdYC6dj2Fr2f/9TrP98AADIDSURBVJAACXBQYor8DiAUxHiesTSx0L4XYzzcvvuvlO3MmePiN5HH18kQm+vP8Mf28cef0q+lEQ/ap8+TOtuHv/r+9iPbBSaUgCcOnmzMgmfPsOHvuEjuj4Y+IiTGGGa2dDL7QER7OWJyEX6BuGbEQ0NQQiT7Gt4uDB/uCel4+OEHLS8zHnSQ4xq2evVqv4IaE+8YIdmo0XVRNaakWLEiVlYapPdDjLOv4S2j72BG3zr2bYQktWhxs32XXkeGFBOugbcbCO+BIQwEPyt4kwAvOXg7jQlAvnFjiUmZZ45N7UvkkcYELxgUf1+bm4MS02BW4LKnGQMX8cGELE52/MRJnVbPfgzCGxFeclF9l9rd3tQrrAQhITffUF8L6j374gYNO7XNfSSQ2gjQQ50C77gZaGif2MV+GRDcJn4a+52ygWC2RRjCQlKq4Q/5pEmTdfdnzfpD5/X1vZYZM2b57rK2MQDOZBGBQGjevIWKT8yg41Ph/YPnDp5lTImN0JDmzZs6/kFbu3adbhNipkuXh3QdePSyZ8+uP5gKG166ypUrqmnDb/brWbQ6FoaVaOgj2BrDZCpO9u233znt1nHnyOyBnMjIT/7551/KK6/0i1f3008/17NnQgS+8cYrVjkm7MFMgniI+uab71Ru8Vu9clyj4maVIQWTzpw5c1aLVX+i32o0wivoM9L5wRBSdM89d8cT/Pg5wENHsIa819dd1yDedO2fqDzbJvNN48aNrO89wuHwdgFvZGD/+99rMmbMSB1aYM6Jn6tXX+1vNuOl1bMKwrSCNJXGcC9Tgo35ZaasWb9V//55odcDVpe3bvfELpcqXtjV02wdcHmlXs0qgglYTp46I58P/Vke6niHFMzvnVkJQvvrERP0GJHMKsTxmrpV9dEQ76cVNwxajFFv2lq3aOzV/LLlnt93ZUoGF6vvdTA3SOAKJkBBHcU311+cMwYWwjNtJnbBoEO7GcGNemjD13CsqeNblpK2IQQQI4iY0pkzf9d/3Lt0eUB7LjEF+LRpM3TmDohZI5zt15clSxadzuuVV/rrLAQoQ6wtvJ/4GINIgSEd2ccffxBPiPXr95w89lhvawY+CGvkKsbHGDyBsPffH6jPiZkUI2nR0EfEomPCFdjAgZ/osBp4gREag7jz9977UHufMejPaVKfBx/sKuPHT9ShBJi58rzKxdulS0c1U2JpPVHK119/Y01F37JlC50S0TDGdwCTubz00qvas4pczw8+2EWJyWu1WEc2F4hEI8BwLohHJ9u1a5ceWGnKzRJ17evIuf3CC31DNoAR3xl4ezHAEjnR77+/i+C+VqtWVYeCzJ49V958E29IrlaDPhdroeTUf7MPqRQx2BPjB5CGD9lR4J0fNmy45ox6uBe+03U//vgjelAp3jjAG96jR0+dExuhNMidPWbMT9bP2w03NFbCv605ZUSWmMwF9wEPT1u3btUTBJUu7dlXqFAhL/EfkQ4FcZLDKtsWQi4y2h46cdgx5UGGIYf0489/oNf9/ZNXeaFf6dtNF0Mg9+3ZQb78boIO53jlvSF6cpYCKrwD38uDh47Iuk079HcEQhuCO5sSz8aaX19Pz7I49fcFsmHLDjVgsaT2WG/euks2bt2pZ5L1l13EtMElCaQ2AhTUUXzHtSC+PDELxLPJ1gGRfCm/Z2ZE1PH1QKMe0uOhzNfMYEbsN+351kkp28hT++yzfZSIeFd3GRNI4GO3Hj266amVnQQ1xDMEBP74wqsFwYfQghMnjuvY0uPHj+u4WyOykAcYmUAmTvzJS6zt2LHDElKY5AK5gPE6HIO20Mb27Tus2FekAuzT5zk1u+JYgciLlEVDH2vXVpNEqDSFeNjBwwZYZsmSWQtO3AeIt6FDv9KDO038rZ0PBOCgQR+oCUeeUFN1H1GDSX/SH/NQZeo2a9ZEteGZxMjswxIeXXhP4ZXFdNv9+r1qL9br+C506NBeTUHfMl6Z2YGMFxMnet6MmH3+lsgiE8qMIK+99rKe0RGhTAi3wDTrRjyiD3iz8sorLypPezedO9pfv7Af+dAhogcN+tQKJbHXR7vPPdcn3gMkUqsOGfK5Pje8+hDy+PhalSqVdZw87k8kDfHa+FlGiA9+dvHAYGzevFlWPm2zLyUs8XCA0A83wyBEuxUqkFee69VRJkydowYWbpNNW3bqUA3UwT0pXDCvlC9TXO5scb1kyhj39gjlJVR6vf893VXPlqiPVUIall6NLyldooiOnUb7NBIggTgCFNRxLKJyzYhleJTxMULZSUibCzDHmG2ztMdep3Qxba6pc+eOOn3XRx99Yg14QxnCC+BZ69Gju4prHmiqey2feOJp7dlG3ZEjh+oBhV4V1AYE2G+/zVIi+HntzcF0zWvXrteeQtRFiMJbb72nD3v++b7KYxr3ulbvVP/AY40Bi337Pq89sUihB693166dTJWwLqOljxDM3377pZo++y0dqnPiROzl3NLHdNx5796Pq/CAmspzndca0OYLBuXjx4/RInDy5Kn6eLyhgPhDGrdWrVooof6wFaLge3ynTvfr6dLhjTZhMKiDvmEA6dNP99YhEL7HRcs2PNS//DJWedpf0YIR3yWILVidOrUFE+cgawrinN3GD5jreeyxh3WIE0Q1UkcaQ67tXr16xsvLbsoRCoWHnwEDPlL5xGdYMziiPHPmTHomx169Hk22wYiffvqRfmOFWG5488EIDwKB8oOb60vIEmnsBr/3TMBDqlYq47few53udDwemTSSYvB4I1c1DD8nyGUNFhDDgR50kCKvZ9c26vfXfyoO+6j+PYbYbIwVoZEACcQnkObQ0Vgr8z3+8Ju0ecUKekZ1xz8k5e7Zuc8zcC2ari32+/gCzImwGXwIIW2mGvetZ0JAzBTjvuUQ1BDlCRHTMfc5x7T6th0N24jL3bJlm/Z6wvuLvM/+DJNk3HZba10MbxbEgZs9+mgvLaxRZ8iQwYJQBfxhatDgei1E4GlduvQvL8+1b3vDho3Q3lHsh+cc4i3cFq19RL/gJT558pQWsokZxAnv486dOwX3vVy5cvHigAOxheBEvDEeqMqXL6eXgY6JpnL8vkaWmtjYWB324i9bh73PyKverl0Hvat69Wry00+j9Dre1uB+gGVC84vjoXPHjl3q5+Cw8v7mU4NHi2hRbT9vcq6jfwgPionJZr1JSs7+8NwkQAIpi0Cw2pEe6hRyXyGk8YGwhjD29UJjnzF/5SZu2vdYc1xKXyIkANkcgrGLF+Nen27evEWHaPibJRTiz2QRgVenZk3PjGLw3OADg6cQISGVK1fye3q7BxDexEhYtPYRHuWkhrzAE4rwmsQawnvwSakGT6FTpo/EXA8eKhLLEjHw5cvjPiT+XiSmz8Eeg/6p/2kkQAIkEFYC6Z597oVXzBkgHC5c9AiEHDFX3m+g4yfP6EuNpms7t2KcwR9w+d+pI5K+5NVaVCs9oiyNpM2aVzLV6SDpS1xtHQ/R7a9cx1cnILNHxurOryKtk6XQlXz58qkBi7P0lMqxsSf1AMaLFy8qL2VG9Wr0ovY+I853+fKV8vbb76vX655BhXhFDu80DKPhEeuLVGuwSZOmaGENbyt+ltT/Oh4bYSLDho2Ur7/+Vu/HYMqePXuoV67p9HHh/Ccl9DGc18+2vQkgm82PP/6sdyLtIOLKaSRAAiRAAv4JBKsdGfLhn2FESoIN+TCdMWEbZtu+RCgI0uEZT7S9DOsJCfUwx6akkA/T52CXiOF9/vmXdCgHXp+7GQaWdevWScdk2+tBOCP+dMiQoVaGCHu5fR1eQKQ+e/XVfiosJW5Evb1OONZTQh/Dcd1sMz4BfyEf8WtyDwmQAAmQAAgEG/JBQZ3M35fYUV1E/vMenR1Ml0yIB/JNI+sHwkHs5luOMt869vqO62nSScy93zoWXUk7Dxw4qAcnrlu3XmePMKEZiAdFSACyidx6602uMdmYDnvOnHkqbdgyHUuKNhDjmy9fHt1G8eLF1IC52/xOXx4Jnimhj5HgkJrPAQ/1mDFjNYICBQpI+/aRTWmXmtnz2kmABFImAQpqh/sWLBSHQ8O269TEZ+TSib1haz8pDafNXkiytvKkpEtKOzyWBEiABEiABEiABFIigWC1I/PfJPPdTVewSjL3wP/po7lv/nvNEhIgARIgARIgARKILAEK6sjyjne29GUaxtsXLTuiuW/Rwoj9IAESIAESIAESIAEK6mT+DqRTMdAZyjVN5l7EPz36hL7RSIAESIAESIAESIAE3AlQULvziUhppvqdJV3h6hE5VzAnQV/QJxoJkAAJkAAJkAAJkEBgAhTUgRlFpEaWJn2jwlMNzzT6QiMBEiABEiABEiABEgiOAGdKDI5TRGrBK4y45Qub58rFfavlUuyBRKXUS1BnVWq8tDH5BQMQcW6GeSSIHiuTAAmQAAmQAAmQgFBQR9mXAIKWojbKbgq7QwIkQAIkQAIkQAIuBBjy4QKHRSRAAiRAAiRAAiRAAiQQiAAFdSBCLCcBEiABEiABEiABEiABFwIU1C5wWEQCJEACJEACJEACJEACgQhQUAcixHISIAESIAESIAESIAEScCFAQe0Ch0UkQAIkQAIkQAIkQAIkEIgABXUgQiwnARIgARIgARIgARIgARcCFNQucFhEAiRAAiRAAiRAAiRAAoEIUFAHIsRyEiABEiABEiABEiABEnAhQEHtAodFJEACJEACJEACJEACJBCIAAV1IEIsJwESIAESIAESIAESIAEXAhTULnBYRAIkQAIkQAIkQAIkQAKBCFBQByLEchIgARIgARIgARIgARJwIUBB7QKHRSRAAiRAAiRAAiRAAiQQiAAFdSBCLCcBEiABEiABEiABEiABFwIU1C5wWEQCJEACJEACJEACJEACgQhQUAcixHISIAESIAESIAESIAEScCFAQe0Ch0UkQAIkQAIkQAIkQAIkEIgABXUgQiwnARIgARIgARIgARIgARcCFNQucFhEAiRAAiRAAiRAAiRAAoEIUFAHIsRyEiABEiABEiABEiABEnAhQEHtAodFJEACJEACJEACJEACJBCIAAV1IEIsJwESIAESIAESIAESIAEXAhTULnBYRAIkQAIkQAIkQAIkQAKBCKQPVIHlkSVw6Ngx2bJnr+w/fFRiT5+W//77L6wdSJMmjcRkySIF8uSS0oULSd6cOcN6PjZOAiRAAiRAAiRAAlcaAQrqKLqjS9auk007d0e0RxDsJ06d0h+cu2yxIlK3UsWI9oEnIwESIAESIAESIIGUTIAhH1Fy9/78+9+Ii2mnS4eoRl9oJEACJEACJEACJEACwRGgoA6OU1hrwTO999DhsJ4jIY2jL+gTjQRIgARIgARIgARIIDABCurAjMJaAzHTkQ7zCOaC0Cf0jUYCJEACJEACJEACJOBOgILanU/YSzEAMVotmvsWrczYLxIgARIgARIggdRHIFUJ6rRp0+g7fOlSeDNnJORrhGwe0WrR3LdoZcZ+kQAJkAAJkAAJpD4CqSrLR/p0aeXcpYty4eJFyZg2Oi4dqfGi1cLdt/3798uaNetk48ZNkgWp+wrkl7p1a0uuXLmiAgkyoKxcuUq2bt0uu3fvlgwZMkiRIoWlfPlyUrZsmajoY0ruxL59+2X79h2Ol5AuXTrNOGfOHI7l3EkCJEACJEAC0UQgOlRlhIhkSJ9Ozp2/qD8ZM0THpYc7z3RS0IajbxcuXJD33/9Ixo//RQ4fPhKvexBSN9zQWPr3f1Xy5MkdrzwSOy5duiSjRo2R4cO/l82btziesnbtWvLgg12kWbMmjuXcGZjAlCnT5M0333WtWLRoEalcuaI0atRQ7r23nWtdFpIACZAACZBAchGIDlUZoavPlDG9nDx9Ts6cPS8xWTNF6KyhO03FksXl0NHjcjCRgwWTenxSr2Tv3n3Sq9fT8rdPWr506s3BxYuXdPMX1duDmTN/lw0bNsrXX38upUqVdDztpk2b5fXX39JlQ4Z8IWgjFHZK5eR+8sln5Pff/3Rtbtmyv+WRR/6W7t27SN++TwomyAmnPfRQTzl37pw611NStWrlcJ4qJG0PGDBQVqxYKa1a3SZt2rROdJu7du0WfH777XdZuHCRvP32G5I5c+ZEt8cDgydw4cJF+WfVBtmz76CkUf+VKVlESpUoIlmzJO53Z1La2636sHbDNjmifv8VzJ9XypQqIoUL5lO9opEACZBAdBBIVYI6S6YMmvqZcxcEv9zTK491SrB8avbC666q5ulqCZG127fLum3Or8r9XQ/aqFRCHaz+h81bvjLRwtzTQsL+PXEiVu666x45ePCQPrBKlcrSu/djUqNGdR3iAbG9evUaeeedASrEYpsOBWjbtoP88MNwKVOmdLyTQazNn7/g8v7QxMTDM929+6OyZMlS3S5CPO666w658847pGTJEuo7c0GHp4wcOVoJvFm6ztdff6seBi7K88/3jdfHUO3YvXuP/PHHbN3csUQ+TIWqL8G28+uvU2Tnzl3q/l4V1CG33HKj9Oz5sFUXb0cOHDgo69dvkO++Gyl71ODdyZOnqTcGW+Xbb7+UvHnzWHW5EnoCq9dvleFjpsiRYye8Gs+UKaN079BKqlcu67U/0EZi28Pv6e9+nCKL/16tZo31Pgv68OD9t0vGjJ7f696l3CIBEiCByBIIjVsvsn1O9NngRcyWJaM+/sSpc4luJ9IHWmJanRhiGl7qhBq82nbPtr3NhLaVmPrDh4+0xDTij0eNGqZDO3Lnzq29u4XVtOcIn/jll7FSu3ZNfQqIx8GDv3I83bp1Gxz3J2UnhLIR05kzZ1Ln/lh5wV/W/YGAK1iwgFx3XQP57LOB8uKLz1qnGjZshCxfvsLaDvUKRGVKMnj54VVOiCFuvmLFCtankpqts1Gj66Rbt84yY8avcu211+jm1qr86N98MywhTbNuAgls2LxDPv/2Zy2my5UuJvfc0UweaHer1L6qopw9e04+H/qz/LVkZdCtJrY96Ocvvhsvi5atlkwZM0qzRnWlmxLztzW/VvLkyiEr1myS9z/7Xk6fORt0X1iRBEiABMJFIFUJakA0oR4nT59VsdQXwsU1ZO3Cs2zMeKbtwtiUBbOEVxptGEMISKRs2bJ/rFO1a9dGD0K0dthW8Dq/Q4d7rT2zZ8+11u0rCAkJpZ05c0Y++GCQ1SS8pRB0/qxTp/vlppua62J4tt9+e4C/qknev359aK81yR0K0ADuDTzMobKMSkwNGPCOpE3r+XX188/jQ9U02/EhgPs26ucZcl69jalZrbw89XB7adKwjlxbr7o81PEOadG8gSBL0tiJs9Tvz/M+R8ffTEp7S/9dq0VzRvWmqGfXNtL29qZSr2ZlaXVzQ3n60Xsld87ssn3XPvnzr7/jn5h7SIAESCDCBFJVyAfYYmBidhU/feLUWTl64rQUyJM9wsgTdrq8yhMDg4hOaJiH05nQBkS6Xag71Qv1vtjYWKvJ48fdPew33tjMK4QCghViavPmLcpbOVO3s2LFKqu9zz770hJbd9zRUooVK6rLEKu9aNFivd64cUM1uK2SDkMYN+4XHV4CjyjCTmAQ7idPntTryCzRqVNHve72z+OPPyLTp/+mqyCmGiEK+fPnsw759tvvdNwzdnTp8oB6Ne15O2JVUCvwuP755xy9C2EwRsSfUV63YcOG6/3Tp3uuGRsTJkyyYtCREeXqq+vpOsiYguuCwZPeuvXtOhTl11+nyoIFC/XbAYRfNGhwtQ6zweBPX5s2bYYOt8H+m2++0TF+/dix4zJ69Bh9KLzK99xzt9XMmDFj5ciRozpzi9m5dOky+fTTL/Qm3kIghCYxhjcEiKfHd+CQmskT9ypbtmxeTSFjyMKFi3VYzpYtW3UoUblyZaVcuTLSsOG1jvwnT54qO3bs1O20b99WcqqfDfR5xoxZOo6/bdu75JZbbvI6D0JZlixZJuvWrdfnyp49u2Dw5G233SLwrLvZ8eMn9IDcNWvWCrKc4HylS5fUYUXFixdzPDQh32PHBhKw85+VGwTxynibd99dN1k/V6aJVjc1lHmLVsix47Eyf/FKueHaWqbIcZmU9qbM/Eu32aBeNSlfxvvhP2/unHJrswby/c/T5Y+5y+TGxvVDNo7C8UK4kwRIgAQCEEh1gho8cmbPImeVdxoZPw4dOyl5c3r/YQ7AjMWJIIBYaeOlHjPmJ3n44QclUybnwU0It4AA9bX16zcoT+VA393y8cefWftq1aphCepFi5ZY9SH+IISefbafGHFvBDQONsIY6/Xr11MD35z7hnJjEOT58+dXQvqA8tpdklmz/vASmJ988rkgdhx27733OAo6PBiYa7rvvnssQX369ClrvzkfluPGTbA2H3nkIUtQ796916p/1VXV9TVgICOYGUMc9sCBn2g+X331WbzUfxMmTNSD/1AfYTlOA0IRhmP6izp2QT1s2EgtQs35sMQ9wAeGzCiJFdQ4HjHtxnwFNcJ13n77fRWS4Pz6v2bNq1SoziDJly+vaUIvf/ppvMyZM0+v4yFiyJBh8sUXX1se9lq1POFH5qBJkybLCy/8T/DA42s4rmXLFvLee285ijs8OPXq1UcQEuNreCh89tmnHb/3Cfke+7ab0O1V67boQyooAZsje/zfixDatapXkD/mLZM5C/4JKKgT297RY7Gya88B3Ze6NSo5Xgb6MXr8DDmqxD3CP+BRt9uJk6dk4+adup2jKhY8V67sUqlcSUEYC40ESIAEQk0gVQpqQMydI6scOBKr4u/OyyFJmaIaXmZ4sJ0yf7iVhfpLFEx7derUVoPJPB7XAwcOStOmtyov8P0Cr2COHMG9JShYsKAVZgFPNV4nw+DRxh96mL/BahgMCcFlF9H6gMv/2GOy69Rx97rZj4OAN2LcLl7tdRKzDvFoQkrgMYVXFgaO5hrLly/r2DSusWvXHrJt23aV17uO8ppW0IM8Fy9eKqdPn9YPFp07PyhTp/4Sz8vr2GCQOxHnXLp0KYF3eMMGT5gKtsuXLycwp8GluiCIf9BvZHaBpU+fXgnjuDcBX331jRKxH+oyfJcaNLhGx73Hxp4UDI6EV/uff5ZLu3Yd1APD5HheV32g+geCd/Dgr8xmvCXE9FNPeWLnIczh7a9evZr2VM9WbzjwvUYdvCGAOLYbvNm9e/fVYhoZaWrWrCn16tVRHu6N6g3CYv2QhwG58HSb+24/3qwH+h6beoldrt/kCQnz9Qjb24MghaDef/CIfbfjemLbW7/Z0w/8XPsTwNljskqBfHlk7/5Dsu+A5+fDdGLT1l0yeNg4ORHr/fAyafo8qVG1nPR4oLXf74Fpg0sSIAESSAiBVCuoEfqRIyazHI89o0X1/ovKg6E819GSnzqYmwgxbTJ32LN2QEybQYdrZbvXYMRg2g1HnWbNmkqLFreoTA1TdfPw6r7//ofy4YcDpUqVKsqjWlcLDIQw+L7KN/2BeP3kE49wqlKlls66gbKBA9/XIsvUc1oOHfqdajerIEwDHuiYGG/v26FDh6zD8ub19mJaBQ4rEFbGjOg120lZxsTEWNfapctDMm+e5/X3Y489rAdGurUN4YmJcjCo8vrrG1lVMYFO9+6PqElq9uhwgy+//EalCHzcKk/qihmoCVFq4tHh9X3qqSeS2rTO/oIsKzA8JJh4amybUBc8hIwcOVQPbMR+WI8e3ZTXv7kKRTmiHyTw0OMvLANvFKpVqyKdOz+gHgLKaoaI6TeG8BkYBtJOmjTOK086hO6NN96mH9gmTJjoJaghtPG2AA86WbJkVgNyv1Pf+bjUh/jetGnTXt+XPn2ek7FjR0mFCt7eVtOHQN9jUy+xS5PVI0aJVX8Wky2LLjqv3vKdPHVGsmWNY+R7TGLbg0cZhrbNw7Jv29g2fTH1sQ+x3R99+YOgf4j5rlujsuTMEaPS7m2VsZN+l39XbZRpfyyUW5s2QHUaCZAACYSEQKoV1KAXo/KpZlITvBw5fkqHf+w/HKuygGRSMdYZU0RKPZ3t43IaPAhoiGqYEdNYT0xGEBwXaoNXDgPLsmePEbxmN+II+adXrFipP0OGDNUiBq/NEf4QynzLSL81Zsw32oPqe20I14DgMpaQ2fly5PDEuONYuyg3bSXXEvmx7WIa/UA88UsvvaDyZ3tENCZWCaWgDvW14g0EvOwDB36qPc1oH0IaE+oYO3r0qI6RRpx0o0bXeYlp1EHceqtWLXTqPWzDS+9PUBcpUkS+/36Y3zzXJh6/aNHCXmIa7eLB6oMP3lEza67GpgoJOWO1g0mMkPYPhocOu5jGPrxxQJhIhw6ddSgJQof8CWq37zHaSophICJEKMxNJGfL6hHUqAch669uUtqDUIfZz6V3+Pxjyo1wR/GGTTv0dRQvWlANYGxk5aquo0JHLqnv1A/jZ8q2HZ774dMcN0mABEgg0QRStaAGNXiqMTDxmBqgiIGKyP6BT2Y1CUxmlbc6Y4Z0kl4N4Eqb1hNSkGjSiTzQbfAgBipCRBsBbZbmVHavtdlnX6LtdbLDvius6xDVSEPXu/fjemDWlCnTZdWqVdakLjg5Xu3/+ONP+tOlS0c1OPGZkPSpQYP6jmIajcMDliYNMkhc0ucyoSR6I8A///3nOQbVnAb6BTg8LMW4HjyQOFnTptfr6dPhpUa+b7wpQBx4ctvEiZMtLzz6gnsAzy2+D8bg3cVDGYSzMcTGDxr0gdl0XCIswxi8xf7szjtvt0SwUx2EmSAmHqJ55MhRyqt8l1esfZMm1ws+vrZqlUdkY3/z5s18i/U2UkVC/GPynlWr1jjWwU6377Hfg4IsOHfOI6ZRPbPKN+3PMtnyPp867RG+TnWT0t65c+d1k8h77WamL6fV72xjRowjzv2SemC3T/qELCH40EiABEgg1ARSvaA2QDFQMavKUR2rRbWaTVH9ccEnOQ0C2Qhqf6nyfEW16a+bmMYxaBcfpM4LRfYQc95glvDIdevWWX/wGnzp0r91Ng5kVkD8rTHEXJcsWdKvODT1ghHAbvG7EKDoE7IuwBIyeQqyXhgzsc1mOxzLYK4V3lJ/fcG1YjAhBDUMoQrhFNTB9Bf9wPcAH3+GiXXgAbaLY3tdnGf+/AX6s3fvXsFEQRDkGKRoBqHa6zutu31HUB/x/m+99Z4+9NVX31ThSp6QGoQpIYzIaRAnKhuvNR4IkAnFnyHUySOo4wS4b91AffStn5DtrCq8As6DC2qiolOXPcROx9tFtNPARXNMUtrLkcMTkuXWD5zH9MXej0rlS6rf5ZnlwKGj8r93vpKGV18lVSuVkeJFCriGj5h+c0kCJEACiSFAQW2jBm81Bisilvq0mp78rBLU51WowAXl5UDu1UibEb7hPG+kvdS+1wIRgZR2+Dz9dG89AyFe8SPWFfbhh4MCCmrfNp22PR5opxLPPohQI6j37fNkF/BfO65k//64umgjGqxAAXePs73c/kCQnH2HULzmmvpeXcDgvqpVq6i45qrxQizsFRcsWCT/+99rVso/lCE0BPcDseQZMwbO2GKOsbfru965c0fd3tdff6sHeSIFHjzr+MAg9hGOYk+zhzpI5wc7rby5JrZc7/DzD7LR2ENG7NUCfY/tdRO6jndwuXLGyMHDxyT2ZNybAd92TtrKkAvanyWlvdwqdSUs1iEjiv18pp+5bP2AuH6yxz0yacY8Wb56o0yYOkd/MGV69crlpFnjulJChYPQSIAESCCUBCioHWjCi5c1c0b9cSgO7a4V/puz54z2J3yx3zfUAy1inz8vNY6BGe+23oiCf8AdGTsQy3rnne10jyD4EEcLD2U4DTmazav2xYuX6MFsgc4Hryi868aCnWbb1A/X0i7ync4BkWfMd3Cm2R/pJQacvvJKvwSfFgMwe/bspUMxMCixY8f7VIrCdjqsBduwCRMmSd++zye4bd8D8P2El7pt2zYybdoMPcDWnoEFYwGeeOJpee65PirLSid9uBkrgA2I+yeeeNS3Wcft5AofgjCFoD5q+474dvDYCc+bBAjUjLbwD9962E5sexD2sDNnzinHxnk1U6LnXuqdtn+OqRAcWG6VEs9uiJ9+pPNdOqf238vXy3o1++Pmbbtk4bJVsuTfNTrLx1VVytkP4ToJkAAJJIkABXWS8IX/YDcvta+YhoCGGYHtJqpRD21HwjZs2KQ8z57JSRCHisky3AyDEZFqzaReg4fPTVAHG1bgdk6kKvv++x90FQhqDHZDfK6bLVmyzAoPgXiDlz3cFsy1Ik4YotlfOkIzQA59zZ3b/RqTfj3hfbMzYsQoK9d3v37PaTGd9D67t4CY3BYtbtYf1ESY0tix41Rc9WidFg+hILff3lJ7yMEX343z58/rePB27e7WA3Pdz5B8pSWLF5KNW3Yqz+4madOyiWNHkPMZVqp4Ycdy+87Etle0cH4r/GS5yspRr1b8uGfkqT5y1PNw6K8vRQrmkyI35pPbVKdOqTjrSdPnyqy5S+XHX2YJBbX9TnGdBEggqQQ8c/kmtRUenywEzCyKOLnxRvt6ne11kqWT6qS5VHo/hHFAaPTr94qepdCtLxCD8EobK1asqFkN2xJxsAgxgOHV/KBBn7meC8LW/vq+adMbVCo+j1fNHJg5sy0bghLoToZBgeGwuXPnOzaLGRVNOE2ePLmlcOE4UWTvL2Y8dLJw9dfpXMHsW7FilVXNX/7mgwf9D0S0Dg6wgjCMmTP/0B97RhgcVrp0KeUBf1KlJOyCTR23/c8//+p1eLXtby5Wr/Y/4PD33/9UucGnC5bJZU2uQ0rCNDqv85Ztu+N14+Sp07Jy7Wa9v1njevHKfXcktr3sKsVl/dpVdHN/LfU4CnzbXrhstd5VukRhKVOyiFX82+zFMvxHNQPm7v+3dz6wVVV3HD9LmkFgkT+FUrpS6dTxZzJkLPsTBVaL4BK2dUMo+CczqROGAzdHIMAITIQwB64TlkFCgw4EN7AbwapQ/8AWw4DEMEYUk2kRhIoZBYWBIQF2vqfc28vr63mv77Wvr+Rzksu77557zj33cx/p9/7O7/x+jWsiggpZ1Mu+O9q5A/234YyNNHQpqOITAhCAQNoEENRpI+y4DhQS7/DRo6GYDkYSiGrVZUPYPC16+7ZNgqEiISpRHRXMwbj1qUVZK1dWhim7FeIs3mKvaBrveFnron0ms68p9sWLF4anyvKphCHxyiW7aGvevIUuRbXqNZWvaf7YEg3799prb8RWu+gmr7+eWDxF77WlTICxnS9d+htrPW9aMBnUr169JmQ7evQoJy6Cuuh4FbotXtHC0UQlOt62eDa+6wVuHTonXkp7ReXYsqXa10VSdbIwz5gxy4UcrKxcHbeNwukFJT+/yUdX0UOCouci/+jYogyY06b9zLmMdKSg7tO7hxlx65fd8Nb+6W/XJEy5YKNmrFq31YWk698v1wwdVBzexj4rbn+9osptJz5qeoFJtT91PHZMo2B/22ZvrK7ZZaJzHbpe7e597vpjY4S9IpS8ue+g2br9DReTOhyk3VEqdIXJHFDQr1OERo2OnX0IQCC7CeDykd3Pxzs6CeeW3DZ8dd5O26ly4cJ51r+1woVpU9SDCRN+5KbnteisuPhG62Lxic0a954TP0FGPMWsVjtZ+WKLFrEdOtRondy6tdqUlpa45C6KbhFNxhHbzve9tPQ7zj9WYftUlH1v27YX3fR9UVGhi539/vt1Lo524DahscnVQBnuYsuYMXeYXbv+7g5rcaXOHT/+LhdqTUJafUd9bGPbB991r4HIeumlHc4iqnuU/3OPq/7wwbn61DHFxK6omO4YK5SbxvvssxtsuMLt7tScnByb/v2haDOXMEbuDIoNrhcALfRTCnhZ7vfu3e/8hpWhUi84CrnXUolGolBCGvmm9+zZw7o+5Ji8vMZZgJbatva4sjPKj1lFLzmyFCtduBYlKtX9kiXL4v5+Wnud4uKBjo8s/4rUodmIiooH3WJJWazfeutf4axG37593GJKc7VMnFjmotjoeR8+/K7lPtP5YuslU89lz569YVvxDyzdQftMf5aXjTWnTn9qjhyrN4t/W2UKbXQMidS6oyecVTe3Vw/z8ANlYXxnjU+W6/qTp9xQlVglWlLpT+3lrnH/PXebTdU7zc5d+5xIvtG6mXxkr9NgjQkq40u+ab4Wk5pclu3a3fvNu//5wCxZud5mRrzFxcquO1pvlLnR/jc0o7413LXnHwhAAAJtRQBB3VYk6cdLQCLruefWW4H2sDl+/ISbFn/mmQ0ttlFiC2VFjGedVqNx40pDQb18+QqXVlzHFVpNiWFSLU88scjk5+eZVav+6LqQe8SKFb+L213Xrl1cQg6J5Hjl3nun2NjK/3SRS2SpXbbsSbdFz62qWmNmz553TWKZaL32JYjFSpZxpbbWplJefo+L6+2+RP4pKhrg2jz99B/MwYP/jtQ07krYy6IeFb6q0WzA3LmzwzE+//wWoy1alHlQsws+QT18+DAXik/uIXpJChaY6lnu3PlitLu098vKvmf9l6udMJWAnjr1x07k6qVA4Q8V0URxqqdMeSDta82Z85g5duxDd/+avdAmP/XoIs8uXbpYUf/YNSJe4n758qXuN//KK7VheL/YAWmmQy+Qen4dWRQl45c/nWoToLxqDlj/5WPHT7rhdLULtb8y6EvmvonjTDRMXaKxptOfQt716X2DeaFmtzle/7GRtVqCOD8v19xlLdi3f+OrzS7/eeuz/qtfPGj++vJus2f/ISMXEBX97vvm9rS+4RNc+vFmDTkAAQhAIA0CCOo04GWyqRYgtkXMaPURRPnItDuIBFVtbY2NjrDDWks3Wsvl2276NeCoRYBDhgxyFkZZT32W5unTf+KmnnfsqHWLwjQlL6trt27dgu5S+tQf3ZkzZ5g77ywxGzduchn6Yt0WlHp60qQfWvFWHtcyHVxYfSkt+ubNfzFr166z1vnIVLgN6bZgwVyXpKSgIN8rqJWWXf2sW7feLtR8L4zX7MvoqBTl8pGWqG5oOB0MyWXge/TRR1w0lfBgZEeh4bQAtLJytXnnncNhjVwr9EymTXvIuuT8Pjweb0d8NmyoMo8/vsz5ayvWtYqs1G1dBgwotIJ6kxWx840WicplSPermQotHJw/f451yUnvNxGMWS8c27e/4GYuampedtcJxLTE8JAhg82iRfPdZ9Am+JTl+amnnrQxwNdYC3e1m6kJ6hQ6cuTIEU5Mi302FM0m3D/pbrvZxcs2nvNFm0WxvxWx+k3HKyV3jDTaWiqt7S/az+BbBpoFPx/o3DfkTpLXp5eLMx09J3Zf15v8/VK3nfnknDn7v/OmX99eNlFX/Gghse35DgEIQKC1BD536sy50DVNvmWfXWxcqFHYr71X/7d2qNfn+X9+tblvbeyd/mDU7eGhwD86PJDkjkS0FigOLmr6g73tH28mbF0+tiThOameIHcHTXkr/rNcJvr3z0+pK1lulbxD0/BtHW5M/ycUhk6JUPRHWiH9JFRbEha+G1CyES1uk0tAYWHhNRncfO2idVeuXHGWV704RH2VDxw4aCZPvs+dOmzYrdYtZbPb14uGLMqy1moBYkFBk59vtN94+2pTV/eBFaRdjV6GZH1NpZw9e875q0p0tmfR70kzChKomRCmEu5Hjhxx1vjCwi8m/ZuQ9by+vt4ln1GsbI01ld9Te7KkbwhAAAIQaCTw4cnGRfqJdDEW6k7wi1EEjyAUnoSxtpZ8p1u6nVgxHYTYa+n8TByXRVkWRm3pFInoeL7E6fQZtNV0vRaYRReZBXWt/WyLfiS8EoXzi45LluWbb74peijpfTG97bbmU+pJd3D1RPnCZ6Lo9zR0aPPwau11bb1YaWttkbVaAlwbBQIQgAAErg8CCOpO8BwlnmVNDqzMrRXTukUliZGLh4R1plONdwLEDBECEIAABCAAAQikTABBnTK6zDeUkE5FTAcjTbd90A+fEIAABCAAAQhAAAJNBBDUTSw6ZE9T+PKLzcaCX2c2PpX4Y5I7iRYiqrR1aLr4V+QoBCAAAQhAAAIBAQR1QKKDPr9gF2qdPX++g67uv6zGRukcBCSoZ816pHMMllFCAAIQgAAErjMCZErs4Aea1zt7o6lk89g6+LFxeQhAAAIQgAAEIBASQFCHKDpmpzjFUHGZGG02jy0T9881IAABCEAAAhCAQDIEENTJUGrHc3JtaLKbCpunrW7HSybVtcaksVEgAAEIQAACEIAABPwEENR+Phmp/brNwJZvM7tlS9FYNCYKBCAAAQhAAAIQgEBiAgjqxIwycsaYEcOzwlIty7TGQoEABCAAAQhAAAIQSI4AUT6S45SRs2QVlt9ynU3H/XHDGXPuwoV2D6mn0HiK5qEFiLo2bh4ZedRcBAIQgAAEIACB64gAgjrLHqYELaI2yx4Kw4EABCAAAQhAAAIeArh8eOBQBQEIQAACEIAABCAAgUQEENSJCFEPAQhAAAIQgAAEIAABDwEEtQcOVRCAAAQgAAEIQAACEEhEAEGdiBD1EIAABCAAAQhAAAIQ8BBAUHvgUAUBCEAAAhCAAAQgAIFEBBDUiQhRDwEIQAACEIAABCAAAQ8BBLUHDlUQgAAEIAABCEAAAhBIRABBnYgQ9RCAAAQgAAEIQAACEPAQQFB74FAFAQhAAAIQgAAEIACBRAQQ1IkIUQ8BCEAAAhCAAAQgAAEPgZxTpz8Nqy9fvmy6d+8efmcHAhCAAAQgAAEIQAACEPATwELt50MtBCAAAQhAAAIQgAAEvARycnvdEJ4gC/VnFy+F39mBAAQgAAEIQAACEIAABPwEsFD7+VALAQhAAAIQgAAEIAABLwEEtRcPlRCAAAQgAAEIQAACEPATQFD7+VALAQhAAAIQgAAEIAABLwEEtRcPlRCAAAQgAAEIQAACEPATQFD7+VALAQhAAAIQgAAEIAABLwEEtRcPlRCAAAQgAAEIQAACEPATQFD7+VALAQhAAAIQgAAEIAABLwEEtRcPlRCAAAQgAAEIQAACEPATQFD7+VALAQhAAAIQgAAEIAABLwEEtRcPlRCAAAQgAAEIQAACEPATQFD7+VALAQhAAAIQgAAEIAABLwEEtRcPlRCAAAQgAAEIQAACEPAT+D86LQjB7v4RhQAAAABJRU5ErkJggg==)"
      ],
      "metadata": {
        "id": "JsFaAg1TJ8JE"
      }
    },
    {
      "cell_type": "markdown",
      "source": [
        "## Task 2: Creating a LangSmith dataset\n",
        "\n",
        "Now that we've got LangSmith set-up - let's explore how we can create a dataset!\n",
        "\n",
        "First, we'll create a list of questions!"
      ],
      "metadata": {
        "id": "0XdbE0m3JgJp"
      }
    },
    {
      "cell_type": "code",
      "source": [
        "from langsmith import Client\n",
        "\n",
        "questions = [\n",
        "    \"What optimizer is used in QLoRA?\",\n",
        "    \"What data type was created in the QLoRA paper?\",\n",
        "    \"What is a Retrieval Augmented Generation system?\",\n",
        "    \"Who authored the QLoRA paper?\",\n",
        "    \"What is the most popular deep learning framework?\",\n",
        "    \"What significant improvements does the LoRA system make?\"\n",
        "]"
      ],
      "metadata": {
        "id": "-KVSO6Eh5DpC"
      },
      "execution_count": 49,
      "outputs": []
    },
    {
      "cell_type": "markdown",
      "source": [
        "Now we can create our dataset through the LangSmith `Client()`."
      ],
      "metadata": {
        "id": "urLbc0B8K6QZ"
      }
    },
    {
      "cell_type": "code",
      "source": [
        "client = Client()\n",
        "dataset_name = \"QLoRA RAG Dataset\"\n",
        "\n",
        "dataset = client.create_dataset(\n",
        "    dataset_name=dataset_name,\n",
        "    description=\"Questions about the QLoRA Paper to Evaluate RAG over the same paper.\"\n",
        ")\n",
        "\n",
        "client.create_examples(\n",
        "    inputs=[{\"question\" : q} for q in questions],\n",
        "    dataset_id=dataset.id\n",
        ")"
      ],
      "metadata": {
        "id": "NUH0m7AuKyn7"
      },
      "execution_count": 43,
      "outputs": []
    },
    {
      "cell_type": "markdown",
      "source": [
        "After this step you should be able to navigate to the following dataset in the LangSmith web UI.\n",
        "\n",
        "![image](https://i.imgur.com/CdFYGTB.png)"
      ],
      "metadata": {
        "id": "2jxaByg9LFfX"
      }
    },
    {
      "cell_type": "markdown",
      "source": [
        "## Task 3: Creating a custom evaluator\n",
        "\n",
        "Now that we have a dataset - we can start thinking about evaluation.\n",
        "\n",
        "We're going to make a `StringEvaluator` to measure \"dopeness\".\n",
        "\n",
        "> NOTE: While this is a fun toy example - this can be extended to practically any use-case!"
      ],
      "metadata": {
        "id": "MbVQaJi3LsdU"
      }
    },
    {
      "cell_type": "code",
      "source": [
        "import re\n",
        "from typing import Any, Optional\n",
        "from langchain_openai import ChatOpenAI\n",
        "from langchain_core.prompts import PromptTemplate\n",
        "from langchain.evaluation import StringEvaluator\n",
        "\n",
        "class DopenessEvaluator(StringEvaluator):\n",
        "    \"\"\"An LLM-based dopeness evaluator.\"\"\"\n",
        "\n",
        "    def __init__(self):\n",
        "        llm = ChatOpenAI(model=\"gpt-4\", temperature=0)\n",
        "\n",
        "        template = \"\"\"On a scale from 0 to 100, how dope (cool, awesome, lit) is the following response to the input:\n",
        "        --------\n",
        "        INPUT: {input}\n",
        "        --------\n",
        "        OUTPUT: {prediction}\n",
        "        --------\n",
        "        Reason step by step about why the score is appropriate, then print the score at the end. At the end, repeat that score alone on a new line.\"\"\"\n",
        "\n",
        "        self.eval_chain = PromptTemplate.from_template(template) | llm\n",
        "\n",
        "    @property\n",
        "    def requires_input(self) -> bool:\n",
        "        return True\n",
        "\n",
        "    @property\n",
        "    def requires_reference(self) -> bool:\n",
        "        return False\n",
        "\n",
        "    @property\n",
        "    def evaluation_name(self) -> str:\n",
        "        return \"scored_dopeness\"\n",
        "\n",
        "    def _evaluate_strings(\n",
        "        self,\n",
        "        prediction: str,\n",
        "        input: Optional[str] = None,\n",
        "        reference: Optional[str] = None,\n",
        "        **kwargs: Any\n",
        "    ) -> dict:\n",
        "        evaluator_result = self.eval_chain.invoke(\n",
        "            {\"input\": input, \"prediction\": prediction}, kwargs\n",
        "        )\n",
        "        reasoning, score = evaluator_result.content.split(\"\\n\", maxsplit=1)\n",
        "        score = re.search(r\"\\d+\", score).group(0)\n",
        "        if score is not None:\n",
        "            score = float(score.strip()) / 100.0\n",
        "        return {\"score\": score, \"reasoning\": reasoning.strip()}"
      ],
      "metadata": {
        "id": "qofRv8FI7TeZ"
      },
      "execution_count": 44,
      "outputs": []
    },
    {
      "cell_type": "markdown",
      "source": [
        "## Task 4: Initializing our evaluator config\n",
        "\n",
        "Now we can initialize our `RunEvalConfig` which we can use to evaluate our chain against our dataset.\n",
        "\n",
        "> NOTE: Check out the [documentation](https://docs.smith.langchain.com/evaluation/faq/custom-evaluators) for adding additional custom evaluators."
      ],
      "metadata": {
        "id": "-PoETszTMSNW"
      }
    },
    {
      "cell_type": "code",
      "source": [
        "from langchain.smith import RunEvalConfig, run_on_dataset\n",
        "\n",
        "eval_config = RunEvalConfig(\n",
        "    custom_evaluators=[DopenessEvaluator()],\n",
        "    evaluators=[\n",
        "        \"criteria\",\n",
        "        RunEvalConfig.Criteria(\"harmfulness\"),\n",
        "        RunEvalConfig.Criteria(\n",
        "            {\n",
        "                \"AI\": \"Does the response feel AI generated?\"\n",
        "                \"Response Y if they do, and N if they don't.\"\n",
        "            }\n",
        "        ),\n",
        "    ],\n",
        ")"
      ],
      "metadata": {
        "id": "pc0bedbe-S2z"
      },
      "execution_count": 45,
      "outputs": []
    },
    {
      "cell_type": "markdown",
      "source": [
        "## Task 5: Evaluating our RAG pipeline\n",
        "\n",
        "All that's left to do now is evaluate our pipeline!"
      ],
      "metadata": {
        "id": "8XalvsOjMvdK"
      }
    },
    {
      "cell_type": "code",
      "source": [
        "client.run_on_dataset(\n",
        "    dataset_name=dataset_name,\n",
        "    llm_or_chain_factory=retrieval_augmented_qa_chain,\n",
        "    evaluation=eval_config,\n",
        "    verbose=True,\n",
        "    project_name=\"HF RAG Pipeline - Evaluation - v3\",\n",
        "    project_metadata={\"version\": \"1.0.0\"},\n",
        ")"
      ],
      "metadata": {
        "colab": {
          "base_uri": "https://localhost:8080/"
        },
        "id": "6syFWlaF-olk",
        "outputId": "32b2f3aa-9805-48dc-c396-0c6970b47079"
      },
      "execution_count": 46,
      "outputs": [
        {
          "output_type": "stream",
          "name": "stdout",
          "text": [
            "View the evaluation results for project 'HF RAG Pipeline - Evaluation - v3' at:\n",
            "https://smith.langchain.com/o/8d921a96-95b4-5fe0-8fe1-a093c1191673/datasets/0930ba46-36f2-4511-838b-cabb5ff19bf9/compare?selectedSessions=4597489f-a5dd-4b43-a2c4-26836850621f\n",
            "\n",
            "View all tests for Dataset QLoRA RAG Dataset at:\n",
            "https://smith.langchain.com/o/8d921a96-95b4-5fe0-8fe1-a093c1191673/datasets/0930ba46-36f2-4511-838b-cabb5ff19bf9\n",
            "[------------------------------------------------->] 6/6\n",
            " Experiment Results:\n",
            "        feedback.helpfulness  feedback.harmfulness  feedback.AI  feedback.scored_dopeness error  execution_time                                run_id\n",
            "count                   6.00                  6.00         6.00                      6.00     0            6.00                                     6\n",
            "unique                   NaN                   NaN          NaN                       NaN     0             NaN                                     6\n",
            "top                      NaN                   NaN          NaN                       NaN   NaN             NaN  c5bda8b1-4b40-4456-8472-830941cbc965\n",
            "freq                     NaN                   NaN          NaN                       NaN   NaN             NaN                                     1\n",
            "mean                    0.50                  0.00         0.33                      0.66   NaN            7.14                                   NaN\n",
            "std                     0.55                  0.00         0.52                      0.22   NaN            4.69                                   NaN\n",
            "min                     0.00                  0.00         0.00                      0.30   NaN            3.29                                   NaN\n",
            "25%                     0.00                  0.00         0.00                      0.55   NaN            3.46                                   NaN\n",
            "50%                     0.50                  0.00         0.00                      0.70   NaN            5.98                                   NaN\n",
            "75%                     1.00                  0.00         0.75                      0.81   NaN            8.82                                   NaN\n",
            "max                     1.00                  0.00         1.00                      0.90   NaN           15.20                                   NaN\n"
          ]
        },
        {
          "output_type": "execute_result",
          "data": {
            "text/plain": [
              "{'project_name': 'HF RAG Pipeline - Evaluation - v3',\n",
              " 'results': {'8e890889-b469-48fb-b9d4-09b9f3bc1983': {'input': {'question': 'What optimizer is used in QLoRA?'},\n",
              "   'feedback': [EvaluationResult(key='helpfulness', score=0, value='N', comment='The criterion for this task is \"helpfulness\". To determine if the submission is helpful, we need to assess if it provides a clear, accurate, and relevant answer to the input question.\\n\\nThe input question asks about the optimizer used in QLoRA. The submission provides an answer, stating that the optimizer used in QLoRA is Paged Optimizers.\\n\\nHowever, without additional context or information, it\\'s difficult to determine the accuracy of this answer. QLoRA is not a commonly known term or acronym in the field of technology or computer science, and a quick search does not yield any relevant results. Therefore, it\\'s unclear if \"Paged Optimizers\" is indeed the correct optimizer for QLoRA.\\n\\nGiven this uncertainty, the submission may not be helpful or insightful for someone seeking to understand what optimizer is used in QLoRA. It may potentially mislead or confuse the reader if the provided answer is incorrect.\\n\\nTherefore, based on the given criterion of helpfulness, the submission does not meet the criteria.\\n\\nN', correction=None, evaluator_info={'__run': RunInfo(run_id=UUID('37f53591-7ada-4785-b996-7a6828d8ef36'))}, source_run_id=None, target_run_id=None),\n",
              "    EvaluationResult(key='harmfulness', score=0, value='N', comment='The criterion is asking if the submission is harmful, offensive, or inappropriate. \\n\\nLooking at the submission, it is a simple answer to a technical question about what optimizer is used in QLoRA. The answer provided is \"Paged Optimizers\". \\n\\nThere is no language or content in the submission that could be considered harmful, offensive, or inappropriate. It is a straightforward, factual response to the question.\\n\\nTherefore, the submission is not harmful, offensive, or inappropriate.\\n\\nN', correction=None, evaluator_info={'__run': RunInfo(run_id=UUID('b44a291d-1dab-4e3c-905e-bf03f4ee4035'))}, source_run_id=None, target_run_id=None),\n",
              "    EvaluationResult(key='AI', score=0, value='N', comment='The criterion is asking whether the response feels like it was generated by an AI. The response provided does not contain any obvious signs of being AI-generated, such as nonsensical phrases or irrelevant information. The answer is coherent and directly addresses the question asked. Therefore, it does not feel AI-generated.\\n\\nN', correction=None, evaluator_info={'__run': RunInfo(run_id=UUID('f2c69ca9-66f4-4f15-851b-c9128d2a3e3f'))}, source_run_id=None, target_run_id=None),\n",
              "    EvaluationResult(key='scored_dopeness', score=0.7, value=None, comment='The response is accurate and informative, providing a direct answer to the question asked. However, it lacks a bit of flair or personality that could make it more engaging or \"dope\". It\\'s also a bit formal, which might not be considered \"cool\" by some. However, it does its job well in providing the necessary information.', correction=None, evaluator_info={'__run': RunInfo(run_id=UUID('ed43cf30-7f34-47be-8df3-08d12ce6fb96'))}, source_run_id=None, target_run_id=None)],\n",
              "   'execution_time': 3.779883,\n",
              "   'run_id': 'c5bda8b1-4b40-4456-8472-830941cbc965',\n",
              "   'output': '\\nAnswer:\\nAccording to the provided context, the optimizer used in QLoRA is Paged Optimizers.'},\n",
              "  'fb92937f-3f97-4e6a-9136-039796065516': {'input': {'question': 'What data type was created in the QLoRA paper?'},\n",
              "   'feedback': [EvaluationResult(key='helpfulness', score=1, value='Y', comment='The criterion for this task is \"helpfulness\". \\n\\nTo assess this, we need to consider whether the submission is helpful, insightful, and appropriate. \\n\\nThe submission provides a direct answer to the question asked, which is about the data type created in the QLoRA paper. The answer given is \"BrainFloat\". \\n\\nThis answer is helpful and appropriate if \"BrainFloat\" is indeed the data type created in the QLoRA paper. However, without the context or the actual QLoRA paper, it\\'s hard to determine the accuracy of this information. \\n\\nThe answer is not particularly insightful as it does not provide any additional information or context about what \"BrainFloat\" is or why it was created. \\n\\nHowever, the criterion does not specifically ask for additional information or context, just that the submission be helpful, insightful, and appropriate. \\n\\nGiven the information provided, the submission can be considered helpful and appropriate, but not particularly insightful. \\n\\nY', correction=None, evaluator_info={'__run': RunInfo(run_id=UUID('4be78e4f-fc71-4d6d-8ce1-017dff543500'))}, source_run_id=None, target_run_id=None),\n",
              "    EvaluationResult(key='harmfulness', score=0, value='N', comment='The criterion is asking if the submission is harmful, offensive, or inappropriate. \\n\\nLooking at the submission, it is a simple factual response to the question asked. It does not contain any harmful, offensive, or inappropriate content. \\n\\nTherefore, the submission is not harmful, offensive, or inappropriate.\\n\\nN', correction=None, evaluator_info={'__run': RunInfo(run_id=UUID('ebde4471-5e68-426a-817b-00d3afd53a8e'))}, source_run_id=None, target_run_id=None),\n",
              "    EvaluationResult(key='AI', score=0, value='N', comment='The criterion for this task is to assess whether the response feels like it was generated by an AI. \\n\\nLooking at the submission, it is a straightforward answer to the question asked. It does not exhibit any of the common signs of AI-generated text, such as nonsensical phrases, irrelevant information, or lack of coherence. The response is concise, relevant, and directly answers the question. \\n\\nTherefore, based on the given criterion, it does not feel like this response was generated by an AI.\\n\\nN', correction=None, evaluator_info={'__run': RunInfo(run_id=UUID('b9178ad6-f1a6-410d-b988-b498de8eb812'))}, source_run_id=None, target_run_id=None),\n",
              "    EvaluationResult(key='scored_dopeness', score=0.85, value=None, comment='The response is accurate and directly answers the question asked. It provides the exact information requested without any unnecessary details or deviations. However, it doesn\\'t provide any additional information or context about what \"BrainFloat\" is, which could have made the response more informative and engaging. Therefore, I would give it a score of 85.', correction=None, evaluator_info={'__run': RunInfo(run_id=UUID('2de55616-b68d-4430-8e04-ed0d0df648c1'))}, source_run_id=None, target_run_id=None)],\n",
              "   'execution_time': 3.294923,\n",
              "   'run_id': 'fd54bb2b-b3aa-4c05-a6fb-3764828ebf1c',\n",
              "   'output': '\\nAnswer:\\nThe data type created in the QLoRA paper is called BrainFloat.'},\n",
              "  'ab3060fa-b29a-47ff-b18b-b9d0a28e267c': {'input': {'question': 'What is a Retrieval Augmented Generation system?'},\n",
              "   'feedback': [EvaluationResult(key='helpfulness', score=0, value='N', comment='The criterion for this task is \"helpfulness\". \\n\\nThe submission is supposed to provide a definition or explanation for the term \"Retrieval Augmented Generation system\". \\n\\nThe submitter acknowledges that they are not familiar with the term and therefore cannot provide a definition or explanation. \\n\\nWhile the submitter does provide some context about language models, this does not directly answer the question or provide a helpful response to the input. \\n\\nTherefore, the submission does not meet the criterion of being helpful.\\n\\nN', correction=None, evaluator_info={'__run': RunInfo(run_id=UUID('5dc47b0e-3c03-44fd-ace4-a4056cf064c5'))}, source_run_id=None, target_run_id=None),\n",
              "    EvaluationResult(key='harmfulness', score=0, value='N', comment='The criterion for this assessment is whether the submission is harmful, offensive, or inappropriate.\\n\\nLooking at the submission, it is a response to a question about a specific term, \"Retrieval Augmented Generation system.\" The respondent states that they are not familiar with the term and cannot provide a definition or explanation for it. \\n\\nThere is no language or content in the submission that could be considered harmful, offensive, or inappropriate. The respondent is polite and professional in their response, even though they are unable to provide the information requested.\\n\\nTherefore, the submission meets the criterion.\\n\\nN', correction=None, evaluator_info={'__run': RunInfo(run_id=UUID('9cab231d-f489-48bb-aa86-77bec9fc049c'))}, source_run_id=None, target_run_id=None),\n",
              "    EvaluationResult(key='AI', score=1, value='Y', comment='The criterion asks if the response feels AI generated. The submission does not provide a direct answer to the question asked, instead it seems to be guessing based on context and admits to not knowing the term. This could be seen as a human-like response, as a human might also admit to not knowing a term. However, the way it\\'s written, with phrases like \"based on the provided context\" and \"the authors are discussing various techniques\", could also suggest an AI trying to generate a response based on limited information. Therefore, it could be argued that the response does feel AI generated.\\n\\nY', correction=None, evaluator_info={'__run': RunInfo(run_id=UUID('1783f8c9-e4ea-4360-a1c2-a5c70bc13af9'))}, source_run_id=None, target_run_id=None),\n",
              "    EvaluationResult(key='scored_dopeness', score=0.3, value=None, comment='The response is not very dope because it doesn\\'t answer the question directly. The user asked for a definition of a \"Retrieval Augmented Generation system,\" but the AI responded that it doesn\\'t know what that is. While it\\'s good that the AI admits when it doesn\\'t know something, it would be more helpful if it could provide some sort of information or at least attempt to look up the term. The AI also mentions context that wasn\\'t provided in the input, which could be confusing for the user. However, the response is well-written and polite, which are positive aspects.', correction=None, evaluator_info={'__run': RunInfo(run_id=UUID('c5fb20d9-1945-495d-b87a-af4101750519'))}, source_run_id=None, target_run_id=None)],\n",
              "   'execution_time': 9.031943,\n",
              "   'run_id': '3760abe2-b6ff-49ff-b953-6a20ea3252eb',\n",
              "   'output': '\\nAnswer:\\nI\\'m not familiar with the term \"Retrieval Augmented Generation system.\" Based on the provided context, it seems that the authors are discussing various techniques for improving the performance of language models, including quantization, prompt optimization, and evaluation methods. However, I couldn\\'t find any mention of a \"Retrieval Augmented Generation system\" in the provided context. Therefore, I cannot provide a definition or explanation for this term.'},\n",
              "  'f65f221f-0dc5-4359-bc32-9d27235ea40c': {'input': {'question': 'Who authored the QLoRA paper?'},\n",
              "   'feedback': [EvaluationResult(key='helpfulness', score=0, value='N', comment='The criterion for this task is \"helpfulness\". The submission should be helpful, insightful, and appropriate. \\n\\nLooking at the submission, the respondent has stated that they do not know who authored the QLoRA paper and that the authors are not explicitly mentioned in the provided context. \\n\\nThis response is appropriate as it is a direct answer to the question. It is also insightful as it provides the reason why the respondent cannot provide the names of the authors. \\n\\nHowever, the helpfulness of the response can be questioned. While it is true that the respondent has provided a reason for their inability to answer the question, they have not made any effort to find the information or suggest ways the questioner might find it. \\n\\nTherefore, based on the criterion of helpfulness, the submission may not be considered as meeting the criteria.\\n\\nN', correction=None, evaluator_info={'__run': RunInfo(run_id=UUID('e99cc969-4c7d-471c-b29e-28778aa80c03'))}, source_run_id=None, target_run_id=None),\n",
              "    EvaluationResult(key='harmfulness', score=0, value='N', comment='The criterion asks if the submission is harmful, offensive, or inappropriate. \\n\\nLooking at the submission, the user has responded that they do not know who authored the QLoRA paper and that the authors are not explicitly mentioned in the provided context. \\n\\nThis response is not harmful as it does not cause any damage or injury. \\n\\nIt is also not offensive as it does not insult or cause any discomfort. \\n\\nLastly, it is not inappropriate as it is a valid response to the question asked. \\n\\nTherefore, the submission is not harmful, offensive, or inappropriate. \\n\\nN', correction=None, evaluator_info={'__run': RunInfo(run_id=UUID('ad54f003-95b8-45c6-b2bb-880568ec4147'))}, source_run_id=None, target_run_id=None),\n",
              "    EvaluationResult(key='AI', score=1, value='Y', comment='The criterion for this task is to assess whether the response feels like it was generated by an AI. The submission is a response to the question \"Who authored the QLoRA paper?\" The response is \"I don\\'t know. The paper\\'s authors are not explicitly mentioned in the provided context.\"\\n\\nThe response does not provide a specific answer to the question, but it does provide a reason for not being able to answer, stating that the authors are not mentioned in the provided context. This shows an understanding of the question and the context, which is a characteristic of AI-generated responses. \\n\\nTherefore, the response does feel like it was generated by an AI.\\n\\nY', correction=None, evaluator_info={'__run': RunInfo(run_id=UUID('a04f39b7-13b7-4792-ade0-b14938ab38a9'))}, source_run_id=None, target_run_id=None),\n",
              "    EvaluationResult(key='scored_dopeness', score=0.5, value=None, comment=\"The response is accurate and honest, which is good. However, it doesn't show any initiative to find the information or suggest ways the user could find it. It's also not particularly engaging or interesting. It's a fairly neutral response, not particularly bad but not particularly good either.\", correction=None, evaluator_info={'__run': RunInfo(run_id=UUID('0ce79f9a-ca38-4dad-b407-99d9c424a7a4'))}, source_run_id=None, target_run_id=None)],\n",
              "   'execution_time': 3.347024,\n",
              "   'run_id': '46265783-783b-4a10-b519-394b017874b2',\n",
              "   'output': \"\\nAnswer: I don't know. The paper's authors are not explicitly mentioned in the provided context.\"},\n",
              "  '6eb2a9f3-3a6e-4a27-ad9d-649feb3a0ec3': {'input': {'question': 'What is the most popular deep learning framework?'},\n",
              "   'feedback': [EvaluationResult(key='helpfulness', score=1, value='Y', comment='The criterion for this task is \"helpfulness\". \\n\\nThe submission provides a clear answer to the question, identifying TensorFlow as the most popular deep learning framework. It also provides additional information about why TensorFlow is popular, including its wide usage, recognition in the field, and versatility in applications such as image and speech recognition, natural language processing, and reinforcement learning. \\n\\nThis additional information makes the answer more insightful and helpful for someone who might not be familiar with TensorFlow or why it is considered popular. \\n\\nThe submission is also appropriate as it directly answers the question and stays on topic. \\n\\nTherefore, the submission meets the criterion of being helpful, insightful, and appropriate.\\n\\nY', correction=None, evaluator_info={'__run': RunInfo(run_id=UUID('07866092-9e94-4882-b49e-091c9464993c'))}, source_run_id=None, target_run_id=None),\n",
              "    EvaluationResult(key='harmfulness', score=0, value='N', comment='The criterion for this assessment is whether the submission is harmful, offensive, or inappropriate.\\n\\nLooking at the submission, it is a response to a question about the most popular deep learning framework. The answer provided is detailed and informative, discussing TensorFlow as a popular deep learning framework and its various applications.\\n\\nThere is no content in the submission that could be considered harmful, offensive, or inappropriate. The language used is professional and the information provided is relevant to the question asked.\\n\\nTherefore, the submission is not harmful, offensive, or inappropriate.\\n\\nN', correction=None, evaluator_info={'__run': RunInfo(run_id=UUID('6172e33d-291b-4714-8aa3-663e4801d89e'))}, source_run_id=None, target_run_id=None),\n",
              "    EvaluationResult(key='AI', score=0, value='N', comment='The criterion asks if the response feels like it was generated by an AI. The response provided is coherent, detailed, and accurate. It does not exhibit any of the common signs of AI-generated text, such as nonsensical phrases, abrupt topic changes, or lack of context understanding. The response also refers to the \"provided context\", which indicates an understanding of the input, a characteristic more commonly associated with human responses. Therefore, the response does not feel AI generated.\\n\\nN', correction=None, evaluator_info={'__run': RunInfo(run_id=UUID('9d036968-0064-4a03-bb23-c7a4ae3d0d8a'))}, source_run_id=None, target_run_id=None),\n",
              "    EvaluationResult(key='scored_dopeness', score=0.7, value=None, comment='The response is accurate, informative, and well-structured. It provides a clear answer to the question and supports it with reasons. However, the response is not particularly exciting or engaging, and it does not use any slang or informal language that might make it seem \"dope\" or \"lit\". Therefore, while the response is excellent in terms of clarity and accuracy, it is not particularly \"dope\".', correction=None, evaluator_info={'__run': RunInfo(run_id=UUID('5c49219e-1412-4e94-bc3d-925a37898e91'))}, source_run_id=None, target_run_id=None)],\n",
              "   'execution_time': 8.189053,\n",
              "   'run_id': 'ef862cd6-a472-4a89-999e-f45338b20a58',\n",
              "   'output': '\\nAnswer:\\nBased on the provided context, the most popular deep learning framework is likely to be TensorFlow. This is because TensorFlow is a widely used and well-known deep learning framework that has been cited in several of the papers listed in the context. TensorFlow has been used in a variety of applications, including image and speech recognition, natural language processing, and reinforcement learning.'},\n",
              "  'c36c7c66-a8a8-4c71-b61b-3136e3af666f': {'input': {'question': 'What significant improvements does the LoRA system make?'},\n",
              "   'feedback': [EvaluationResult(key='helpfulness', score=1, value='Y', comment='The criterion for this task is \"helpfulness\". \\n\\nTo assess this, we need to consider whether the submission provides useful, insightful, and appropriate information in response to the given input. \\n\\nThe input asks for the significant improvements that the LoRA system makes. \\n\\nThe submission provides a detailed response, outlining four key improvements that the LoRA system offers. These include a more efficient alternative to full model retraining, efficient customization of LLMs, mitigation of performance degradation caused by weight quantization, and notable performance enhancements. \\n\\nThe submission is helpful as it provides a clear and comprehensive answer to the question. It is insightful as it delves into specific improvements and explains how they work. It is also appropriate as it directly addresses the input and stays on topic. \\n\\nTherefore, the submission meets the criterion of helpfulness.\\n\\nY', correction=None, evaluator_info={'__run': RunInfo(run_id=UUID('19f349cb-1c8e-4ad6-90cc-bcea983b67af'))}, source_run_id=None, target_run_id=None),\n",
              "    EvaluationResult(key='harmfulness', score=0, value='N', comment='The criterion for this assessment is whether the submission is harmful, offensive, or inappropriate.\\n\\nLooking at the submission, it is a detailed explanation of the improvements that the LoRA system makes. The language used is professional and informative. There are no elements of harm, offense, or inappropriateness in the content.\\n\\nTherefore, the submission is not harmful, offensive, or inappropriate.\\n\\nN', correction=None, evaluator_info={'__run': RunInfo(run_id=UUID('8c6a7abc-33f1-4abc-83d5-59f7afb4a2c1'))}, source_run_id=None, target_run_id=None),\n",
              "    EvaluationResult(key='AI', score=0, value='N', comment='The criterion asks if the response feels AI generated. The response is well-structured, coherent, and provides a detailed explanation of the improvements made by the LoRA system. It does not exhibit any of the common signs of AI-generated text, such as nonsensical sentences, irrelevant information, or lack of coherence. Therefore, it does not feel AI generated.\\n\\nN', correction=None, evaluator_info={'__run': RunInfo(run_id=UUID('bec588b9-459c-40cf-bec3-00dfde6932c9'))}, source_run_id=None, target_run_id=None),\n",
              "    EvaluationResult(key='scored_dopeness', score=0.9, value=None, comment='The response is very informative and detailed, providing a clear and concise explanation of the improvements made by the LoRA system. It uses professional language and is well-structured, making it easy to understand. The response also covers multiple aspects of the improvements, giving a comprehensive answer to the question. However, it could be improved by providing more context or examples to illustrate the points made.', correction=None, evaluator_info={'__run': RunInfo(run_id=UUID('6efc8c01-1670-4677-b701-edf296ad0282'))}, source_run_id=None, target_run_id=None)],\n",
              "   'execution_time': 15.198674,\n",
              "   'run_id': '2e09f9d6-4aaf-4852-a041-502eff700526',\n",
              "   'output': '\\nAnswer:\\nAccording to the provided context, the LoRA system offers several significant improvements:\\n\\n1. More efficient alternative to full model retraining: LoRA provides an alternative to full model retraining, which is more efficient and resource-efficient.\\n2. Efficient customization of LLMs: LoRA allows for the efficient customization of large language models (LLMs) by fine-tuning additional adapters for downstream tasks.\\n3. Mitigates performance degradation caused by weight quantization: LoRA mitigates the performance degradation caused by weight quantization in LLM by fine-tuning additional adapters for downstream tasks.\\n4. Notable performance enhancements: In some cases, the fine-tuning of LoRA can even yield notable performance enhancements.\\n\\nOverall, the LoRA system offers significant improvements in the efficiency and effectiveness of fine-tuning LLMs for downstream tasks.'}},\n",
              " 'aggregate_metrics': None}"
            ]
          },
          "metadata": {},
          "execution_count": 46
        }
      ]
    },
    {
      "cell_type": "code",
      "source": [],
      "metadata": {
        "id": "D5EuIEdOyhNI"
      },
      "execution_count": null,
      "outputs": []
    }
  ]
}